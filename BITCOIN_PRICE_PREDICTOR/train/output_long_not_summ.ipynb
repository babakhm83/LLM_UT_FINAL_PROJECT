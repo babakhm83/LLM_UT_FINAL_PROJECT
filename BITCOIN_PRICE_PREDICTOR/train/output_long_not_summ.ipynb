{
 "cells": [
  {
   "cell_type": "markdown",
   "id": "3c211683",
   "metadata": {
    "tags": [
     "papermill-error-cell-tag"
    ]
   },
   "source": [
    "<span style=\"color:red; font-family:Helvetica Neue, Helvetica, Arial, sans-serif; font-size:2em;\">An Exception was encountered at '<a href=\"#papermill-error-cell\">In [11]</a>'.</span>"
   ]
  },
  {
   "cell_type": "markdown",
   "id": "0fa96f77",
   "metadata": {
    "id": "feg_ZhJUFVmw",
    "papermill": {
     "duration": 0.005657,
     "end_time": "2025-09-05T21:58:55.886466",
     "exception": false,
     "start_time": "2025-09-05T21:58:55.880809",
     "status": "completed"
    },
    "tags": []
   },
   "source": [
    "## install libraries"
   ]
  },
  {
   "cell_type": "code",
   "execution_count": 1,
   "id": "eed65ffd",
   "metadata": {
    "colab": {
     "base_uri": "https://localhost:8080/"
    },
    "execution": {
     "iopub.execute_input": "2025-09-05T21:58:55.897569Z",
     "iopub.status.busy": "2025-09-05T21:58:55.896928Z",
     "iopub.status.idle": "2025-09-05T21:59:00.825235Z",
     "shell.execute_reply": "2025-09-05T21:59:00.823156Z"
    },
    "id": "uYp0UXsJ-Cbn",
    "outputId": "6d9f3c49-1f2c-4702-ad9f-05f7e5246973",
    "papermill": {
     "duration": 4.938021,
     "end_time": "2025-09-05T21:59:00.828470",
     "exception": false,
     "start_time": "2025-09-05T21:58:55.890449",
     "status": "completed"
    },
    "tags": []
   },
   "outputs": [
    {
     "name": "stdout",
     "output_type": "stream",
     "text": [
      "Requirement already satisfied: unsloth in /home/moein_salimi/users/babak/IdeaGeneration/venv/lib/python3.10/site-packages (2025.9.1)\r\n"
     ]
    },
    {
     "name": "stdout",
     "output_type": "stream",
     "text": [
      "Requirement already satisfied: unsloth_zoo>=2025.9.1 in /home/moein_salimi/users/babak/IdeaGeneration/venv/lib/python3.10/site-packages (from unsloth) (2025.9.1)\r\n",
      "Requirement already satisfied: torch>=2.4.0 in /home/moein_salimi/users/babak/IdeaGeneration/venv/lib/python3.10/site-packages (from unsloth) (2.7.1)\r\n",
      "Requirement already satisfied: xformers>=0.0.27.post2 in /home/moein_salimi/users/babak/IdeaGeneration/venv/lib/python3.10/site-packages (from unsloth) (0.0.31)\r\n",
      "Requirement already satisfied: bitsandbytes in /home/moein_salimi/users/babak/IdeaGeneration/venv/lib/python3.10/site-packages (from unsloth) (0.46.1)\r\n",
      "Requirement already satisfied: triton>=3.0.0 in /home/moein_salimi/users/babak/IdeaGeneration/venv/lib/python3.10/site-packages (from unsloth) (3.3.1)\r\n",
      "Requirement already satisfied: packaging in /home/moein_salimi/users/babak/IdeaGeneration/venv/lib/python3.10/site-packages (from unsloth) (25.0)\r\n",
      "Requirement already satisfied: tyro in /home/moein_salimi/users/babak/IdeaGeneration/venv/lib/python3.10/site-packages (from unsloth) (0.9.26)\r\n",
      "Requirement already satisfied: transformers!=4.47.0,!=4.52.0,!=4.52.1,!=4.52.2,!=4.52.3,!=4.53.0,!=4.54.0,!=4.55.0,!=4.55.1,>=4.51.3 in /home/moein_salimi/users/babak/IdeaGeneration/venv/lib/python3.10/site-packages (from unsloth) (4.53.3)\r\n",
      "Requirement already satisfied: datasets<4.0.0,>=3.4.1 in /home/moein_salimi/users/babak/IdeaGeneration/venv/lib/python3.10/site-packages (from unsloth) (3.6.0)\r\n",
      "Requirement already satisfied: sentencepiece>=0.2.0 in /home/moein_salimi/users/babak/IdeaGeneration/venv/lib/python3.10/site-packages (from unsloth) (0.2.0)\r\n",
      "Requirement already satisfied: tqdm in /home/moein_salimi/users/babak/IdeaGeneration/venv/lib/python3.10/site-packages (from unsloth) (4.67.1)\r\n",
      "Requirement already satisfied: psutil in /home/moein_salimi/users/babak/IdeaGeneration/venv/lib/python3.10/site-packages (from unsloth) (7.0.0)\r\n",
      "Requirement already satisfied: wheel>=0.42.0 in /home/moein_salimi/users/babak/IdeaGeneration/venv/lib/python3.10/site-packages (from unsloth) (0.45.1)\r\n",
      "Requirement already satisfied: numpy in /home/moein_salimi/users/babak/IdeaGeneration/venv/lib/python3.10/site-packages (from unsloth) (2.2.6)\r\n",
      "Requirement already satisfied: accelerate>=0.34.1 in /home/moein_salimi/users/babak/IdeaGeneration/venv/lib/python3.10/site-packages (from unsloth) (1.9.0)\r\n",
      "Requirement already satisfied: trl!=0.15.0,!=0.19.0,!=0.9.0,!=0.9.1,!=0.9.2,!=0.9.3,>=0.7.9 in /home/moein_salimi/users/babak/IdeaGeneration/venv/lib/python3.10/site-packages (from unsloth) (0.19.1)\r\n",
      "Requirement already satisfied: peft!=0.11.0,>=0.7.1 in /home/moein_salimi/users/babak/IdeaGeneration/venv/lib/python3.10/site-packages (from unsloth) (0.16.0)\r\n",
      "Requirement already satisfied: protobuf in /home/moein_salimi/users/babak/IdeaGeneration/venv/lib/python3.10/site-packages (from unsloth) (6.31.1)\r\n",
      "Requirement already satisfied: huggingface_hub>=0.34.0 in /home/moein_salimi/users/babak/IdeaGeneration/venv/lib/python3.10/site-packages (from unsloth) (0.34.0)\r\n",
      "Requirement already satisfied: hf_transfer in /home/moein_salimi/users/babak/IdeaGeneration/venv/lib/python3.10/site-packages (from unsloth) (0.1.9)\r\n",
      "Requirement already satisfied: diffusers in /home/moein_salimi/users/babak/IdeaGeneration/venv/lib/python3.10/site-packages (from unsloth) (0.34.0)\r\n",
      "Requirement already satisfied: torchvision in /home/moein_salimi/users/babak/IdeaGeneration/venv/lib/python3.10/site-packages (from unsloth) (0.22.1)\r\n"
     ]
    },
    {
     "name": "stdout",
     "output_type": "stream",
     "text": [
      "Requirement already satisfied: filelock in /home/moein_salimi/users/babak/IdeaGeneration/venv/lib/python3.10/site-packages (from datasets<4.0.0,>=3.4.1->unsloth) (3.18.0)\r\n",
      "Requirement already satisfied: pyarrow>=15.0.0 in /home/moein_salimi/users/babak/IdeaGeneration/venv/lib/python3.10/site-packages (from datasets<4.0.0,>=3.4.1->unsloth) (21.0.0)\r\n",
      "Requirement already satisfied: dill<0.3.9,>=0.3.0 in /home/moein_salimi/users/babak/IdeaGeneration/venv/lib/python3.10/site-packages (from datasets<4.0.0,>=3.4.1->unsloth) (0.3.8)\r\n",
      "Requirement already satisfied: pandas in /home/moein_salimi/users/babak/IdeaGeneration/venv/lib/python3.10/site-packages (from datasets<4.0.0,>=3.4.1->unsloth) (2.3.1)\r\n",
      "Requirement already satisfied: requests>=2.32.2 in /home/moein_salimi/users/babak/IdeaGeneration/venv/lib/python3.10/site-packages (from datasets<4.0.0,>=3.4.1->unsloth) (2.32.4)\r\n",
      "Requirement already satisfied: xxhash in /home/moein_salimi/users/babak/IdeaGeneration/venv/lib/python3.10/site-packages (from datasets<4.0.0,>=3.4.1->unsloth) (3.5.0)\r\n",
      "Requirement already satisfied: multiprocess<0.70.17 in /home/moein_salimi/users/babak/IdeaGeneration/venv/lib/python3.10/site-packages (from datasets<4.0.0,>=3.4.1->unsloth) (0.70.16)\r\n",
      "Requirement already satisfied: fsspec<=2025.3.0,>=2023.1.0 in /home/moein_salimi/users/babak/IdeaGeneration/venv/lib/python3.10/site-packages (from fsspec[http]<=2025.3.0,>=2023.1.0->datasets<4.0.0,>=3.4.1->unsloth) (2025.3.0)\r\n",
      "Requirement already satisfied: pyyaml>=5.1 in /home/moein_salimi/users/babak/IdeaGeneration/venv/lib/python3.10/site-packages (from datasets<4.0.0,>=3.4.1->unsloth) (6.0.2)\r\n"
     ]
    },
    {
     "name": "stdout",
     "output_type": "stream",
     "text": [
      "Requirement already satisfied: aiohttp!=4.0.0a0,!=4.0.0a1 in /home/moein_salimi/users/babak/IdeaGeneration/venv/lib/python3.10/site-packages (from fsspec[http]<=2025.3.0,>=2023.1.0->datasets<4.0.0,>=3.4.1->unsloth) (3.12.14)\r\n",
      "Requirement already satisfied: safetensors>=0.4.3 in /home/moein_salimi/users/babak/IdeaGeneration/venv/lib/python3.10/site-packages (from accelerate>=0.34.1->unsloth) (0.5.3)\r\n"
     ]
    },
    {
     "name": "stdout",
     "output_type": "stream",
     "text": [
      "Requirement already satisfied: aiohappyeyeballs>=2.5.0 in /home/moein_salimi/users/babak/IdeaGeneration/venv/lib/python3.10/site-packages (from aiohttp!=4.0.0a0,!=4.0.0a1->fsspec[http]<=2025.3.0,>=2023.1.0->datasets<4.0.0,>=3.4.1->unsloth) (2.6.1)\r\n",
      "Requirement already satisfied: aiosignal>=1.4.0 in /home/moein_salimi/users/babak/IdeaGeneration/venv/lib/python3.10/site-packages (from aiohttp!=4.0.0a0,!=4.0.0a1->fsspec[http]<=2025.3.0,>=2023.1.0->datasets<4.0.0,>=3.4.1->unsloth) (1.4.0)\r\n",
      "Requirement already satisfied: async-timeout<6.0,>=4.0 in /home/moein_salimi/users/babak/IdeaGeneration/venv/lib/python3.10/site-packages (from aiohttp!=4.0.0a0,!=4.0.0a1->fsspec[http]<=2025.3.0,>=2023.1.0->datasets<4.0.0,>=3.4.1->unsloth) (5.0.1)\r\n",
      "Requirement already satisfied: attrs>=17.3.0 in /home/moein_salimi/users/babak/IdeaGeneration/venv/lib/python3.10/site-packages (from aiohttp!=4.0.0a0,!=4.0.0a1->fsspec[http]<=2025.3.0,>=2023.1.0->datasets<4.0.0,>=3.4.1->unsloth) (25.3.0)\r\n",
      "Requirement already satisfied: frozenlist>=1.1.1 in /home/moein_salimi/users/babak/IdeaGeneration/venv/lib/python3.10/site-packages (from aiohttp!=4.0.0a0,!=4.0.0a1->fsspec[http]<=2025.3.0,>=2023.1.0->datasets<4.0.0,>=3.4.1->unsloth) (1.7.0)\r\n",
      "Requirement already satisfied: multidict<7.0,>=4.5 in /home/moein_salimi/users/babak/IdeaGeneration/venv/lib/python3.10/site-packages (from aiohttp!=4.0.0a0,!=4.0.0a1->fsspec[http]<=2025.3.0,>=2023.1.0->datasets<4.0.0,>=3.4.1->unsloth) (6.6.3)\r\n",
      "Requirement already satisfied: propcache>=0.2.0 in /home/moein_salimi/users/babak/IdeaGeneration/venv/lib/python3.10/site-packages (from aiohttp!=4.0.0a0,!=4.0.0a1->fsspec[http]<=2025.3.0,>=2023.1.0->datasets<4.0.0,>=3.4.1->unsloth) (0.3.2)\r\n",
      "Requirement already satisfied: yarl<2.0,>=1.17.0 in /home/moein_salimi/users/babak/IdeaGeneration/venv/lib/python3.10/site-packages (from aiohttp!=4.0.0a0,!=4.0.0a1->fsspec[http]<=2025.3.0,>=2023.1.0->datasets<4.0.0,>=3.4.1->unsloth) (1.20.1)\r\n",
      "Requirement already satisfied: typing-extensions>=4.1.0 in /home/moein_salimi/users/babak/IdeaGeneration/venv/lib/python3.10/site-packages (from multidict<7.0,>=4.5->aiohttp!=4.0.0a0,!=4.0.0a1->fsspec[http]<=2025.3.0,>=2023.1.0->datasets<4.0.0,>=3.4.1->unsloth) (4.14.1)\r\n",
      "Requirement already satisfied: idna>=2.0 in /home/moein_salimi/users/babak/IdeaGeneration/venv/lib/python3.10/site-packages (from yarl<2.0,>=1.17.0->aiohttp!=4.0.0a0,!=4.0.0a1->fsspec[http]<=2025.3.0,>=2023.1.0->datasets<4.0.0,>=3.4.1->unsloth) (3.10)\r\n"
     ]
    },
    {
     "name": "stdout",
     "output_type": "stream",
     "text": [
      "Requirement already satisfied: hf-xet<2.0.0,>=1.1.3 in /home/moein_salimi/users/babak/IdeaGeneration/venv/lib/python3.10/site-packages (from huggingface_hub>=0.34.0->unsloth) (1.1.5)\r\n",
      "Requirement already satisfied: charset_normalizer<4,>=2 in /home/moein_salimi/users/babak/IdeaGeneration/venv/lib/python3.10/site-packages (from requests>=2.32.2->datasets<4.0.0,>=3.4.1->unsloth) (3.4.2)\r\n",
      "Requirement already satisfied: urllib3<3,>=1.21.1 in /home/moein_salimi/users/babak/IdeaGeneration/venv/lib/python3.10/site-packages (from requests>=2.32.2->datasets<4.0.0,>=3.4.1->unsloth) (2.5.0)\r\n",
      "Requirement already satisfied: certifi>=2017.4.17 in /home/moein_salimi/users/babak/IdeaGeneration/venv/lib/python3.10/site-packages (from requests>=2.32.2->datasets<4.0.0,>=3.4.1->unsloth) (2025.7.14)\r\n"
     ]
    },
    {
     "name": "stdout",
     "output_type": "stream",
     "text": [
      "Requirement already satisfied: sympy>=1.13.3 in /home/moein_salimi/users/babak/IdeaGeneration/venv/lib/python3.10/site-packages (from torch>=2.4.0->unsloth) (1.14.0)\r\n",
      "Requirement already satisfied: networkx in /home/moein_salimi/users/babak/IdeaGeneration/venv/lib/python3.10/site-packages (from torch>=2.4.0->unsloth) (3.4.2)\r\n",
      "Requirement already satisfied: jinja2 in /home/moein_salimi/users/babak/IdeaGeneration/venv/lib/python3.10/site-packages (from torch>=2.4.0->unsloth) (3.1.6)\r\n",
      "Requirement already satisfied: nvidia-cuda-nvrtc-cu12==12.6.77 in /home/moein_salimi/users/babak/IdeaGeneration/venv/lib/python3.10/site-packages (from torch>=2.4.0->unsloth) (12.6.77)\r\n",
      "Requirement already satisfied: nvidia-cuda-runtime-cu12==12.6.77 in /home/moein_salimi/users/babak/IdeaGeneration/venv/lib/python3.10/site-packages (from torch>=2.4.0->unsloth) (12.6.77)\r\n",
      "Requirement already satisfied: nvidia-cuda-cupti-cu12==12.6.80 in /home/moein_salimi/users/babak/IdeaGeneration/venv/lib/python3.10/site-packages (from torch>=2.4.0->unsloth) (12.6.80)\r\n",
      "Requirement already satisfied: nvidia-cudnn-cu12==9.5.1.17 in /home/moein_salimi/users/babak/IdeaGeneration/venv/lib/python3.10/site-packages (from torch>=2.4.0->unsloth) (9.5.1.17)\r\n",
      "Requirement already satisfied: nvidia-cublas-cu12==12.6.4.1 in /home/moein_salimi/users/babak/IdeaGeneration/venv/lib/python3.10/site-packages (from torch>=2.4.0->unsloth) (12.6.4.1)\r\n",
      "Requirement already satisfied: nvidia-cufft-cu12==11.3.0.4 in /home/moein_salimi/users/babak/IdeaGeneration/venv/lib/python3.10/site-packages (from torch>=2.4.0->unsloth) (11.3.0.4)\r\n",
      "Requirement already satisfied: nvidia-curand-cu12==10.3.7.77 in /home/moein_salimi/users/babak/IdeaGeneration/venv/lib/python3.10/site-packages (from torch>=2.4.0->unsloth) (10.3.7.77)\r\n",
      "Requirement already satisfied: nvidia-cusolver-cu12==11.7.1.2 in /home/moein_salimi/users/babak/IdeaGeneration/venv/lib/python3.10/site-packages (from torch>=2.4.0->unsloth) (11.7.1.2)\r\n",
      "Requirement already satisfied: nvidia-cusparse-cu12==12.5.4.2 in /home/moein_salimi/users/babak/IdeaGeneration/venv/lib/python3.10/site-packages (from torch>=2.4.0->unsloth) (12.5.4.2)\r\n",
      "Requirement already satisfied: nvidia-cusparselt-cu12==0.6.3 in /home/moein_salimi/users/babak/IdeaGeneration/venv/lib/python3.10/site-packages (from torch>=2.4.0->unsloth) (0.6.3)\r\n",
      "Requirement already satisfied: nvidia-nccl-cu12==2.26.2 in /home/moein_salimi/users/babak/IdeaGeneration/venv/lib/python3.10/site-packages (from torch>=2.4.0->unsloth) (2.26.2)\r\n",
      "Requirement already satisfied: nvidia-nvtx-cu12==12.6.77 in /home/moein_salimi/users/babak/IdeaGeneration/venv/lib/python3.10/site-packages (from torch>=2.4.0->unsloth) (12.6.77)\r\n",
      "Requirement already satisfied: nvidia-nvjitlink-cu12==12.6.85 in /home/moein_salimi/users/babak/IdeaGeneration/venv/lib/python3.10/site-packages (from torch>=2.4.0->unsloth) (12.6.85)\r\n",
      "Requirement already satisfied: nvidia-cufile-cu12==1.11.1.6 in /home/moein_salimi/users/babak/IdeaGeneration/venv/lib/python3.10/site-packages (from torch>=2.4.0->unsloth) (1.11.1.6)\r\n"
     ]
    },
    {
     "name": "stdout",
     "output_type": "stream",
     "text": [
      "Requirement already satisfied: setuptools>=40.8.0 in /home/moein_salimi/users/babak/IdeaGeneration/venv/lib/python3.10/site-packages (from triton>=3.0.0->unsloth) (59.6.0)\r\n",
      "Requirement already satisfied: mpmath<1.4,>=1.1.0 in /home/moein_salimi/users/babak/IdeaGeneration/venv/lib/python3.10/site-packages (from sympy>=1.13.3->torch>=2.4.0->unsloth) (1.3.0)\r\n"
     ]
    },
    {
     "name": "stdout",
     "output_type": "stream",
     "text": [
      "Requirement already satisfied: regex!=2019.12.17 in /home/moein_salimi/users/babak/IdeaGeneration/venv/lib/python3.10/site-packages (from transformers!=4.47.0,!=4.52.0,!=4.52.1,!=4.52.2,!=4.52.3,!=4.53.0,!=4.54.0,!=4.55.0,!=4.55.1,>=4.51.3->unsloth) (2024.11.6)\r\n",
      "Requirement already satisfied: tokenizers<0.22,>=0.21 in /home/moein_salimi/users/babak/IdeaGeneration/venv/lib/python3.10/site-packages (from transformers!=4.47.0,!=4.52.0,!=4.52.1,!=4.52.2,!=4.52.3,!=4.53.0,!=4.54.0,!=4.55.0,!=4.55.1,>=4.51.3->unsloth) (0.21.2)\r\n"
     ]
    },
    {
     "name": "stdout",
     "output_type": "stream",
     "text": [
      "Requirement already satisfied: torchao in /home/moein_salimi/users/babak/IdeaGeneration/venv/lib/python3.10/site-packages (from unsloth_zoo>=2025.9.1->unsloth) (0.13.0)\r\n",
      "Requirement already satisfied: cut_cross_entropy in /home/moein_salimi/users/babak/IdeaGeneration/venv/lib/python3.10/site-packages (from unsloth_zoo>=2025.9.1->unsloth) (25.1.1)\r\n",
      "Requirement already satisfied: pillow in /home/moein_salimi/users/babak/IdeaGeneration/venv/lib/python3.10/site-packages (from unsloth_zoo>=2025.9.1->unsloth) (11.3.0)\r\n",
      "Requirement already satisfied: msgspec in /home/moein_salimi/users/babak/IdeaGeneration/venv/lib/python3.10/site-packages (from unsloth_zoo>=2025.9.1->unsloth) (0.19.0)\r\n"
     ]
    },
    {
     "name": "stdout",
     "output_type": "stream",
     "text": [
      "Requirement already satisfied: importlib_metadata in /home/moein_salimi/users/babak/IdeaGeneration/venv/lib/python3.10/site-packages (from diffusers->unsloth) (8.7.0)\r\n",
      "Requirement already satisfied: zipp>=3.20 in /home/moein_salimi/users/babak/IdeaGeneration/venv/lib/python3.10/site-packages (from importlib_metadata->diffusers->unsloth) (3.23.0)\r\n",
      "Requirement already satisfied: MarkupSafe>=2.0 in /home/moein_salimi/users/babak/IdeaGeneration/venv/lib/python3.10/site-packages (from jinja2->torch>=2.4.0->unsloth) (3.0.2)\r\n"
     ]
    },
    {
     "name": "stdout",
     "output_type": "stream",
     "text": [
      "Requirement already satisfied: python-dateutil>=2.8.2 in /home/moein_salimi/users/babak/IdeaGeneration/venv/lib/python3.10/site-packages (from pandas->datasets<4.0.0,>=3.4.1->unsloth) (2.9.0.post0)\r\n",
      "Requirement already satisfied: pytz>=2020.1 in /home/moein_salimi/users/babak/IdeaGeneration/venv/lib/python3.10/site-packages (from pandas->datasets<4.0.0,>=3.4.1->unsloth) (2025.2)\r\n",
      "Requirement already satisfied: tzdata>=2022.7 in /home/moein_salimi/users/babak/IdeaGeneration/venv/lib/python3.10/site-packages (from pandas->datasets<4.0.0,>=3.4.1->unsloth) (2025.2)\r\n",
      "Requirement already satisfied: six>=1.5 in /home/moein_salimi/users/babak/IdeaGeneration/venv/lib/python3.10/site-packages (from python-dateutil>=2.8.2->pandas->datasets<4.0.0,>=3.4.1->unsloth) (1.17.0)\r\n",
      "Requirement already satisfied: docstring-parser>=0.15 in /home/moein_salimi/users/babak/IdeaGeneration/venv/lib/python3.10/site-packages (from tyro->unsloth) (0.17.0)\r\n",
      "Requirement already satisfied: rich>=11.1.0 in /home/moein_salimi/users/babak/IdeaGeneration/venv/lib/python3.10/site-packages (from tyro->unsloth) (14.1.0)\r\n",
      "Requirement already satisfied: shtab>=1.5.6 in /home/moein_salimi/users/babak/IdeaGeneration/venv/lib/python3.10/site-packages (from tyro->unsloth) (1.7.2)\r\n",
      "Requirement already satisfied: typeguard>=4.0.0 in /home/moein_salimi/users/babak/IdeaGeneration/venv/lib/python3.10/site-packages (from tyro->unsloth) (4.4.4)\r\n"
     ]
    },
    {
     "name": "stdout",
     "output_type": "stream",
     "text": [
      "Requirement already satisfied: markdown-it-py>=2.2.0 in /home/moein_salimi/users/babak/IdeaGeneration/venv/lib/python3.10/site-packages (from rich>=11.1.0->tyro->unsloth) (3.0.0)\r\n",
      "Requirement already satisfied: pygments<3.0.0,>=2.13.0 in /home/moein_salimi/users/babak/IdeaGeneration/venv/lib/python3.10/site-packages (from rich>=11.1.0->tyro->unsloth) (2.19.2)\r\n",
      "Requirement already satisfied: mdurl~=0.1 in /home/moein_salimi/users/babak/IdeaGeneration/venv/lib/python3.10/site-packages (from markdown-it-py>=2.2.0->rich>=11.1.0->tyro->unsloth) (0.1.2)\r\n"
     ]
    }
   ],
   "source": [
    "!pip install -U unsloth\n"
   ]
  },
  {
   "cell_type": "markdown",
   "id": "b0a750e7",
   "metadata": {
    "id": "cyhKi1m7FAVQ",
    "papermill": {
     "duration": 0.006231,
     "end_time": "2025-09-05T21:59:00.843331",
     "exception": false,
     "start_time": "2025-09-05T21:59:00.837100",
     "status": "completed"
    },
    "tags": []
   },
   "source": [
    "## Imports"
   ]
  },
  {
   "cell_type": "code",
   "execution_count": 2,
   "id": "3530958a",
   "metadata": {
    "colab": {
     "base_uri": "https://localhost:8080/"
    },
    "execution": {
     "iopub.execute_input": "2025-09-05T21:59:00.857200Z",
     "iopub.status.busy": "2025-09-05T21:59:00.856388Z",
     "iopub.status.idle": "2025-09-05T21:59:16.734791Z",
     "shell.execute_reply": "2025-09-05T21:59:16.733769Z"
    },
    "id": "YmQRlrGJE_r-",
    "outputId": "d4ebcd89-154b-4e34-f0d2-fa84d47ace3e",
    "papermill": {
     "duration": 15.887903,
     "end_time": "2025-09-05T21:59:16.736901",
     "exception": false,
     "start_time": "2025-09-05T21:59:00.848998",
     "status": "completed"
    },
    "tags": []
   },
   "outputs": [
    {
     "name": "stderr",
     "output_type": "stream",
     "text": [
      "/home/moein_salimi/users/babak/IdeaGeneration/venv/lib/python3.10/site-packages/tqdm/auto.py:21: TqdmWarning: IProgress not found. Please update jupyter and ipywidgets. See https://ipywidgets.readthedocs.io/en/stable/user_install.html\n",
      "  from .autonotebook import tqdm as notebook_tqdm\n"
     ]
    },
    {
     "name": "stdout",
     "output_type": "stream",
     "text": [
      "🦥 Unsloth: Will patch your computer to enable 2x faster free finetuning.\n"
     ]
    },
    {
     "name": "stdout",
     "output_type": "stream",
     "text": [
      "INFO 09-06 01:29:10 [__init__.py:235] Automatically detected platform cuda.\n"
     ]
    },
    {
     "name": "stdout",
     "output_type": "stream",
     "text": [
      "🦥 Unsloth Zoo will now patch everything to make training faster!\n"
     ]
    }
   ],
   "source": [
    "from unsloth import FastLanguageModel\n",
    "from transformers import Trainer, TrainingArguments\n",
    "from datasets import load_dataset\n",
    "import torch, random, os\n",
    "from typing import Dict, List, Any\n",
    "from transformers.data.data_collator import DefaultDataCollator\n",
    "SEED = 42\n"
   ]
  },
  {
   "cell_type": "markdown",
   "id": "552b55e3",
   "metadata": {
    "id": "VqMFiO91FG0W",
    "papermill": {
     "duration": 0.005778,
     "end_time": "2025-09-05T21:59:16.749891",
     "exception": false,
     "start_time": "2025-09-05T21:59:16.744113",
     "status": "completed"
    },
    "tags": []
   },
   "source": [
    "## Load model and Tokenizer"
   ]
  },
  {
   "cell_type": "code",
   "execution_count": 3,
   "id": "5062e8c6",
   "metadata": {
    "colab": {
     "base_uri": "https://localhost:8080/"
    },
    "execution": {
     "iopub.execute_input": "2025-09-05T21:59:16.764032Z",
     "iopub.status.busy": "2025-09-05T21:59:16.763438Z",
     "iopub.status.idle": "2025-09-05T21:59:47.558041Z",
     "shell.execute_reply": "2025-09-05T21:59:47.556394Z"
    },
    "id": "pfzz_j0jFKbp",
    "outputId": "fba468cf-0da0-48a3-ae6f-b69ed8d5399b",
    "papermill": {
     "duration": 30.804212,
     "end_time": "2025-09-05T21:59:47.560199",
     "exception": false,
     "start_time": "2025-09-05T21:59:16.755987",
     "status": "completed"
    },
    "tags": []
   },
   "outputs": [
    {
     "name": "stdout",
     "output_type": "stream",
     "text": [
      "==((====))==  Unsloth 2025.9.1: Fast Qwen3 patching. Transformers: 4.53.3. vLLM: 0.10.0.\n",
      "   \\\\   /|    NVIDIA GeForce RTX 3090. Num GPUs = 4. Max memory: 23.559 GB. Platform: Linux.\n",
      "O^O/ \\_/ \\    Torch: 2.7.1+cu126. CUDA: 8.6. CUDA Toolkit: 12.6. Triton: 3.3.1\n",
      "\\        /    Bfloat16 = TRUE. FA [Xformers = 0.0.31. FA2 = False]\n",
      " \"-____-\"     Free license: http://github.com/unslothai/unsloth\n",
      "Unsloth: Fast downloading is enabled - ignore downloading bars which are red colored!\n"
     ]
    },
    {
     "name": "stderr",
     "output_type": "stream",
     "text": [
      "\r",
      "Loading checkpoint shards:   0%|                                                                                                                                  | 0/3 [00:00<?, ?it/s]"
     ]
    },
    {
     "name": "stderr",
     "output_type": "stream",
     "text": [
      "\r",
      "Loading checkpoint shards:  33%|████████████████████████████████████████▋                                                                                 | 1/3 [00:05<00:11,  5.62s/it]"
     ]
    },
    {
     "name": "stderr",
     "output_type": "stream",
     "text": [
      "\r",
      "Loading checkpoint shards:  67%|█████████████████████████████████████████████████████████████████████████████████▎                                        | 2/3 [00:12<00:06,  6.42s/it]"
     ]
    },
    {
     "name": "stderr",
     "output_type": "stream",
     "text": [
      "\r",
      "Loading checkpoint shards: 100%|██████████████████████████████████████████████████████████████████████████████████████████████████████████████████████████| 3/3 [00:12<00:00,  3.54s/it]"
     ]
    },
    {
     "name": "stderr",
     "output_type": "stream",
     "text": [
      "\r",
      "Loading checkpoint shards: 100%|██████████████████████████████████████████████████████████████████████████████████████████████████████████████████████████| 3/3 [00:12<00:00,  4.24s/it]"
     ]
    },
    {
     "name": "stderr",
     "output_type": "stream",
     "text": [
      "\n"
     ]
    },
    {
     "name": "stderr",
     "output_type": "stream",
     "text": [
      "Unsloth 2025.9.1 patched 36 layers with 36 QKV layers, 36 O layers and 36 MLP layers.\n"
     ]
    }
   ],
   "source": [
    "model, tokenizer = FastLanguageModel.from_pretrained(\n",
    "    \"./Qwen3-4B-Instruct-2507\",\n",
    "    max_seq_length = 8192,\n",
    "    dtype = torch.float16,\n",
    "    load_in_4bit = True,\n",
    ")\n",
    "\n",
    "FastLanguageModel.for_training(model)\n",
    "model = FastLanguageModel.get_peft_model(\n",
    "    model,\n",
    "    r=32,\n",
    "    target_modules=[\"q_proj\",\"k_proj\",\"v_proj\",\"o_proj\",\"gate_proj\",\"up_proj\",\"down_proj\"],\n",
    "    lora_alpha=32,\n",
    "    lora_dropout=0.0,\n",
    "    use_rslora=True,\n",
    ")\n"
   ]
  },
  {
   "cell_type": "code",
   "execution_count": 4,
   "id": "904e61f6",
   "metadata": {
    "execution": {
     "iopub.execute_input": "2025-09-05T21:59:47.577828Z",
     "iopub.status.busy": "2025-09-05T21:59:47.577510Z",
     "iopub.status.idle": "2025-09-05T21:59:47.690581Z",
     "shell.execute_reply": "2025-09-05T21:59:47.689163Z"
    },
    "id": "FCDsSNSf9RFD",
    "papermill": {
     "duration": 0.123955,
     "end_time": "2025-09-05T21:59:47.693221",
     "exception": false,
     "start_time": "2025-09-05T21:59:47.569266",
     "status": "completed"
    },
    "tags": []
   },
   "outputs": [],
   "source": [
    "\n",
    "RESPONSE_TAG = \"<|response|>\"\n",
    "tokenizer.add_special_tokens({\"additional_special_tokens\": [RESPONSE_TAG]})\n",
    "model.resize_token_embeddings(len(tokenizer))\n",
    "response_token_id = tokenizer.convert_tokens_to_ids(RESPONSE_TAG)"
   ]
  },
  {
   "cell_type": "markdown",
   "id": "676405fd",
   "metadata": {
    "id": "0An-dV9iFcST",
    "papermill": {
     "duration": 0.007488,
     "end_time": "2025-09-05T21:59:47.713683",
     "exception": false,
     "start_time": "2025-09-05T21:59:47.706195",
     "status": "completed"
    },
    "tags": []
   },
   "source": [
    "## Format function"
   ]
  },
  {
   "cell_type": "code",
   "execution_count": 5,
   "id": "f08d0937",
   "metadata": {
    "colab": {
     "base_uri": "https://localhost:8080/"
    },
    "execution": {
     "iopub.execute_input": "2025-09-05T21:59:47.730878Z",
     "iopub.status.busy": "2025-09-05T21:59:47.730135Z",
     "iopub.status.idle": "2025-09-05T21:59:48.190623Z",
     "shell.execute_reply": "2025-09-05T21:59:48.189116Z"
    },
    "id": "zZwrWe0CZFYb",
    "outputId": "e08fd0d8-642d-479f-a713-22a4d210cf52",
    "papermill": {
     "duration": 0.472718,
     "end_time": "2025-09-05T21:59:48.193773",
     "exception": false,
     "start_time": "2025-09-05T21:59:47.721055",
     "status": "completed"
    },
    "tags": []
   },
   "outputs": [
    {
     "name": "stderr",
     "output_type": "stream",
     "text": [
      "The new embeddings will be initialized from a multivariate normal distribution that has old embeddings' mean and covariance. As described in this article: https://nlp.stanford.edu/~johnhew/vocab-expansion.html. To disable this, use `mean_resizing=False`\n"
     ]
    }
   ],
   "source": [
    "SPECIAL_TOKENS = [\"<|response|>\", \"<|analysis|>\", \"<|forecast|>\"]\n",
    "num_added = tokenizer.add_special_tokens({\"additional_special_tokens\": SPECIAL_TOKENS})\n",
    "if num_added > 0:\n",
    "    model.resize_token_embeddings(len(tokenizer))\n",
    "\n",
    "RESPONSE_TAG = \"<|response|>\"\n",
    "ANALYSIS_TAG = \"<|analysis|>\"\n",
    "FORECAST_TAG = \"<|forecast|>\"\n",
    "\n",
    "response_token_id = tokenizer.convert_tokens_to_ids(RESPONSE_TAG)\n",
    "\n",
    "if tokenizer.pad_token is None:\n",
    "    tokenizer.pad_token = tokenizer.eos_token\n",
    "tokenizer.truncation_side = \"left\"\n",
    "tokenizer.padding_side     = \"right\"\n"
   ]
  },
  {
   "cell_type": "code",
   "execution_count": 6,
   "id": "6bde0724",
   "metadata": {
    "execution": {
     "iopub.execute_input": "2025-09-05T21:59:48.230383Z",
     "iopub.status.busy": "2025-09-05T21:59:48.229689Z",
     "iopub.status.idle": "2025-09-05T21:59:56.420277Z",
     "shell.execute_reply": "2025-09-05T21:59:56.419311Z"
    },
    "id": "2eQUv4yQFgqh",
    "papermill": {
     "duration": 8.211416,
     "end_time": "2025-09-05T21:59:56.422885",
     "exception": false,
     "start_time": "2025-09-05T21:59:48.211469",
     "status": "completed"
    },
    "tags": []
   },
   "outputs": [
    {
     "name": "stderr",
     "output_type": "stream",
     "text": [
      "Repo card metadata block was not found. Setting CardData to empty.\n"
     ]
    }
   ],
   "source": [
    "import json\n",
    "\n",
    "\n",
    "def normalize_output_to_commas(output: str) -> str:\n",
    "    txt = str(output).strip()\n",
    "    if txt.startswith(\"[\") and txt.endswith(\"]\"):\n",
    "        try:\n",
    "            arr = json.loads(txt)\n",
    "            return \",\".join(str(x).strip() for x in arr)\n",
    "        except Exception:\n",
    "            pass\n",
    "    return \",\".join([t.strip() for t in txt.split(\",\")])\n",
    "\n",
    "def make_brief_analysis(thinking: str, limit_chars: int = 200) -> str:\n",
    "    t = (thinking or \"\").strip()\n",
    "    if not t:\n",
    "        return \"brief outlook based on the provided data\"\n",
    "    return t[:limit_chars].replace(\"\\n\", \" \")\n",
    "\n",
    "def format_chat(ex):\n",
    "    instruction = ex.get(\"instruction\", \"\") or \"\"\n",
    "    user_input  = ex.get(\"input\", \"\") or \"\"\n",
    "    # thinking    = ex.get(\"custom_bitcoin_dataset\", \"\") or \"\"\n",
    "    output      = ex.get(\"output\", \"\") or \"\"\n",
    "\n",
    "    post_input_directive = (\n",
    "        \"Please analyze it first and then give me 10 next day prices separated by comma.\"\n",
    "    )\n",
    "    user_block = f\"{user_input}\\n\\n{post_input_directive}\"\n",
    "\n",
    "    # brief_note = make_brief_analysis(thinking, limit_chars=20000)\n",
    "    normalized_output = normalize_output_to_commas(output)\n",
    "\n",
    "    assistant_payload = (\n",
    "        f\"{RESPONSE_TAG}\\n\"\n",
    "        # f\"{ANALYSIS_TAG} \"\n",
    "        f\"{FORECAST_TAG}\\n{normalized_output}\"\n",
    "    )\n",
    "\n",
    "    messages = [\n",
    "        {\"role\": \"system\", \"content\": instruction},\n",
    "        {\"role\": \"user\", \"content\": user_block},\n",
    "        {\"role\": \"assistant\", \"content\": assistant_payload},\n",
    "    ]\n",
    "    return {\"text\": tokenizer.apply_chat_template(messages, tokenize=False)}\n",
    "\n",
    "raw = load_dataset(\"tahamajs/Bitcoin-Long-Term-Trend-and-Price-Prediction-Dataset\")\n",
    "train_data = raw[\"train\"].map(format_chat, remove_columns=raw[\"train\"].column_names)\n",
    "\n",
    "def tokenize_fn(ex):\n",
    "    return tokenizer(ex[\"text\"], truncation=True, max_length=4096, padding=False)\n",
    "\n",
    "train_tok = train_data.map(tokenize_fn, batched=True, remove_columns=[\"text\"])\n",
    "train_tok = train_tok.shuffle(seed=SEED)\n",
    "\n"
   ]
  },
  {
   "cell_type": "code",
   "execution_count": 7,
   "id": "846e4d4d",
   "metadata": {
    "execution": {
     "iopub.execute_input": "2025-09-05T21:59:56.440910Z",
     "iopub.status.busy": "2025-09-05T21:59:56.440240Z",
     "iopub.status.idle": "2025-09-05T21:59:56.454068Z",
     "shell.execute_reply": "2025-09-05T21:59:56.453069Z"
    },
    "papermill": {
     "duration": 0.024365,
     "end_time": "2025-09-05T21:59:56.455646",
     "exception": false,
     "start_time": "2025-09-05T21:59:56.431281",
     "status": "completed"
    },
    "tags": []
   },
   "outputs": [],
   "source": [
    "import random\n",
    "from transformers import TrainerCallback, TrainingArguments, TrainerState, TrainerControl\n",
    "\n",
    "# --- Make sure these are defined in your main script ---\n",
    "# You need the 'normalize_output_to_commas' function and the FORECAST_TAG constant\n",
    "# def normalize_output_to_commas(output: str) -> str: ...\n",
    "# FORECAST_TAG = \"## Forecast\"\n",
    "\n",
    "class PrintRandomSampleCallback(TrainerCallback):\n",
    "    def __init__(self, raw_dataset, tokenizer, num_steps=10):\n",
    "        self.raw_dataset = raw_dataset\n",
    "        self.tokenizer = tokenizer\n",
    "        self.num_steps = num_steps\n",
    "\n",
    "    def on_step_end(self, args: TrainingArguments, state: TrainerState, control: TrainerControl, **kwargs):\n",
    "        # Check if the current step is a multiple of `num_steps`\n",
    "        if state.global_step > 0 and state.global_step % self.num_steps == 0:\n",
    "            model = kwargs[\"model\"]\n",
    "            \n",
    "            # 1. Pick a random sample from the raw dataset\n",
    "            random_index = random.randint(0, len(self.raw_dataset) - 1)\n",
    "            sample = self.raw_dataset[random_index]\n",
    "            \n",
    "            # 2. Reconstruct the user prompt based on the NEW dataset structure\n",
    "            instruction = sample.get(\"instruction\", \"\") or \"\"\n",
    "            user_input  = sample.get(\"input\", \"\") or \"\"\n",
    "            post_input_directive = (\n",
    "                \"Please analyze it first and then give me 10 next day prices separated by comma.\"\n",
    "            )\n",
    "            user_block = f\"{user_input}\\n\\n{post_input_directive}\"\n",
    "\n",
    "            prompt_messages = [\n",
    "                {\"role\": \"system\", \"content\": instruction},\n",
    "                {\"role\": \"user\", \"content\": user_block},\n",
    "            ]\n",
    "            prompt_for_model = self.tokenizer.apply_chat_template(\n",
    "                prompt_messages, tokenize=False, add_generation_prompt=True\n",
    "            )\n",
    "\n",
    "            # 3. Reconstruct the ground truth answer for comparison\n",
    "            output_prices = sample.get(\"output\", \"\") or \"\"\n",
    "            normalized_prices = normalize_output_to_commas(output_prices)\n",
    "            ground_truth_response = f\"{FORECAST_TAG}\\n{normalized_prices}\"\n",
    "            \n",
    "            # 4. Generate a response from the model\n",
    "            inputs = self.tokenizer(prompt_for_model, return_tensors=\"pt\").to(model.device)\n",
    "            # Since the output is just prices, we don't need many new tokens\n",
    "            outputs = model.generate(**inputs, max_new_tokens=2048, do_sample=True, top_p=0.9, temperature=0.7)\n",
    "            \n",
    "            full_response = self.tokenizer.decode(outputs[0], skip_special_tokens=True)\n",
    "            # Extract only the part generated by the assistant\n",
    "            model_response = full_response.split(user_block)[-1].strip()\n",
    "            \n",
    "            # 5. Print a clear comparison\n",
    "            print(f\"\\n\" + \"=\"*80)\n",
    "            print(f\"✅ CHECKPOINT AT STEP {state.global_step}\")\n",
    "            print(f\" (Random Sample Index: {random_index})\")\n",
    "            print(\"-\" * 80)\n",
    "            print(f\"▶️ PROMPT (Input part):\\n{user_input[:600]}...\\n\")\n",
    "            print(f\"🤖 MODEL RESPONSE:\\n{model_response}\\n\")\n",
    "            print(f\"🎯 GROUND TRUTH:\\n{ground_truth_response}\\n\")\n",
    "            print(\"=\"*80 + \"\\n\")\n",
    "collator_ = PrintRandomSampleCallback(raw[\"train\"], tokenizer)"
   ]
  },
  {
   "cell_type": "markdown",
   "id": "ba8eff06",
   "metadata": {
    "id": "vQrh3ia3FpR2",
    "papermill": {
     "duration": 0.020463,
     "end_time": "2025-09-05T21:59:56.484929",
     "exception": false,
     "start_time": "2025-09-05T21:59:56.464466",
     "status": "completed"
    },
    "tags": []
   },
   "source": [
    "## Data callector"
   ]
  },
  {
   "cell_type": "code",
   "execution_count": 8,
   "id": "bc3e828b",
   "metadata": {
    "execution": {
     "iopub.execute_input": "2025-09-05T21:59:56.506865Z",
     "iopub.status.busy": "2025-09-05T21:59:56.506153Z",
     "iopub.status.idle": "2025-09-05T21:59:56.524450Z",
     "shell.execute_reply": "2025-09-05T21:59:56.523577Z"
    },
    "id": "lOPQgx9lFozp",
    "papermill": {
     "duration": 0.029817,
     "end_time": "2025-09-05T21:59:56.526546",
     "exception": false,
     "start_time": "2025-09-05T21:59:56.496729",
     "status": "completed"
    },
    "tags": []
   },
   "outputs": [],
   "source": [
    "from transformers.tokenization_utils_base import PreTrainedTokenizerBase\n",
    "from torch.nn.utils.rnn import pad_sequence\n",
    "if tokenizer.pad_token is None:\n",
    "    tokenizer.pad_token = tokenizer.eos_token\n",
    "\n",
    "tokenizer.truncation_side = \"left\"\n",
    "tokenizer.padding_side     = \"right\"\n",
    "\n",
    "from transformers.tokenization_utils_base import PreTrainedTokenizerBase\n",
    "from torch.nn.utils.rnn import pad_sequence\n",
    "import torch\n",
    "from typing import Dict, List, Any\n",
    "\n",
    "def _find_subsequence(haystack: torch.Tensor, needle: torch.Tensor) -> int:\n",
    "    if needle.numel() == 0 or haystack.numel() < needle.numel():\n",
    "        return -1\n",
    "    for i in range(haystack.numel() - needle.numel() + 1):\n",
    "        if torch.equal(haystack[i:i+needle.numel()], needle):\n",
    "            return i\n",
    "    return -1\n",
    "\n",
    "class DataCollatorMaskResponse:\n",
    "    def __init__(self, tokenizer: PreTrainedTokenizerBase, response_token_id: int):\n",
    "        self.tokenizer = tokenizer\n",
    "        self.response_token_id = response_token_id\n",
    "\n",
    "        assistant_start_str = tokenizer.apply_chat_template(\n",
    "            [{\"role\":\"assistant\",\"content\":\"\"}],\n",
    "            tokenize=False, add_generation_prompt=True\n",
    "        )\n",
    "\n",
    "        self.assistant_start_ids = torch.tensor(\n",
    "            tokenizer(assistant_start_str, add_special_tokens=False)[\"input_ids\"],\n",
    "            dtype=torch.long\n",
    "        )\n",
    "\n",
    "    def __call__(self, features: List[Dict[str, Any]]) -> Dict[str, torch.Tensor]:\n",
    "        input_ids_list      = [torch.tensor(f[\"input_ids\"], dtype=torch.long) for f in features]\n",
    "        attention_mask_list = [torch.tensor(f[\"attention_mask\"], dtype=torch.long) for f in features]\n",
    "\n",
    "        input_ids = pad_sequence(input_ids_list, batch_first=True,\n",
    "                                 padding_value=self.tokenizer.pad_token_id)\n",
    "        attention_mask = pad_sequence(attention_mask_list, batch_first=True, padding_value=0)\n",
    "\n",
    "        labels = input_ids.clone()\n",
    "\n",
    "        for i in range(labels.size(0)):\n",
    "            row = input_ids[i]\n",
    "\n",
    "            pos = (row == self.response_token_id).nonzero(as_tuple=True)\n",
    "            start_idx = -1\n",
    "            if len(pos[0]) > 0:\n",
    "                start_idx = int(pos[0][0].item())\n",
    "\n",
    "            if start_idx < 0 and self.assistant_start_ids.numel() > 0:\n",
    "                j = _find_subsequence(row, self.assistant_start_ids)\n",
    "                if j >= 0:\n",
    "                    start_idx = j + self.assistant_start_ids.numel() - 1\n",
    "\n",
    "            if start_idx >= 0 and start_idx + 1 < row.numel():\n",
    "                labels[i, : start_idx + 1] = -100\n",
    "            else:\n",
    "                keep = min(64, row.numel())\n",
    "                labels[i, : row.numel() - keep] = -100\n",
    "\n",
    "        return {\n",
    "            \"input_ids\": input_ids,\n",
    "            \"attention_mask\": attention_mask,\n",
    "            \"labels\": labels,\n",
    "        }\n",
    "collator = DataCollatorMaskResponse(tokenizer, response_token_id)\n",
    "\n"
   ]
  },
  {
   "cell_type": "markdown",
   "id": "02764ef0",
   "metadata": {
    "id": "o6hDWX14FyJR",
    "papermill": {
     "duration": 0.007495,
     "end_time": "2025-09-05T21:59:56.545273",
     "exception": false,
     "start_time": "2025-09-05T21:59:56.537778",
     "status": "completed"
    },
    "tags": []
   },
   "source": [
    "## Training Argumenst"
   ]
  },
  {
   "cell_type": "code",
   "execution_count": 9,
   "id": "825615cb",
   "metadata": {
    "colab": {
     "base_uri": "https://localhost:8080/"
    },
    "execution": {
     "iopub.execute_input": "2025-09-05T21:59:56.563171Z",
     "iopub.status.busy": "2025-09-05T21:59:56.562493Z",
     "iopub.status.idle": "2025-09-05T21:59:56.656310Z",
     "shell.execute_reply": "2025-09-05T21:59:56.655373Z"
    },
    "id": "zUKAWODIFxzS",
    "outputId": "493c5a03-57c1-446a-815c-dc81e73f044d",
    "papermill": {
     "duration": 0.106483,
     "end_time": "2025-09-05T21:59:56.659443",
     "exception": false,
     "start_time": "2025-09-05T21:59:56.552960",
     "status": "completed"
    },
    "tags": []
   },
   "outputs": [
    {
     "name": "stderr",
     "output_type": "stream",
     "text": [
      "/tmp/ipykernel_54415/2060009534.py:18: FutureWarning: `tokenizer` is deprecated and will be removed in version 5.0.0 for `Trainer.__init__`. Use `processing_class` instead.\n",
      "  trainer = Trainer(\n"
     ]
    }
   ],
   "source": [
    "args = TrainingArguments(\n",
    "    output_dir=\"qwen_bitcoin_chat_fast_not_summerized_ttttt_\",\n",
    "    num_train_epochs=4,\n",
    "    per_device_train_batch_size=4,\n",
    "    gradient_accumulation_steps=1,\n",
    "    learning_rate=2e-4,\n",
    "    logging_steps=20,\n",
    "    save_steps=200,\n",
    "    bf16=False,\n",
    "    fp16=True,\n",
    "    optim=\"adamw_torch\",\n",
    "    lr_scheduler_type=\"cosine\",\n",
    "    warmup_ratio=0.05,\n",
    "    gradient_checkpointing=True,\n",
    "    report_to=\"none\",\n",
    ")\n",
    "\n",
    "trainer = Trainer(\n",
    "    model=model,\n",
    "    args=args,\n",
    "    train_dataset=train_tok,\n",
    "\n",
    "    tokenizer=tokenizer,\n",
    "    data_collator=collator,\n",
    "    callbacks=[collator_], # Pass the callback in a list\n",
    "\n",
    ")"
   ]
  },
  {
   "cell_type": "code",
   "execution_count": 10,
   "id": "c90c09ab",
   "metadata": {
    "colab": {
     "base_uri": "https://localhost:8080/",
     "height": 1000
    },
    "execution": {
     "iopub.execute_input": "2025-09-05T21:59:56.682495Z",
     "iopub.status.busy": "2025-09-05T21:59:56.681789Z",
     "iopub.status.idle": "2025-09-06T05:31:01.424306Z",
     "shell.execute_reply": "2025-09-06T05:31:01.423519Z"
    },
    "id": "iS48fBviDUdH",
    "outputId": "5f60b589-90d6-4a39-ec6e-5afca19909e0",
    "papermill": {
     "duration": 27064.75521,
     "end_time": "2025-09-06T05:31:01.427536",
     "exception": false,
     "start_time": "2025-09-05T21:59:56.672326",
     "status": "completed"
    },
    "tags": []
   },
   "outputs": [
    {
     "name": "stderr",
     "output_type": "stream",
     "text": [
      "==((====))==  Unsloth - 2x faster free finetuning | Num GPUs used = 1\n",
      "   \\\\   /|    Num examples = 2,565 | Num Epochs = 4 | Total steps = 644\n",
      "O^O/ \\_/ \\    Batch size per device = 16 | Gradient accumulation steps = 1\n",
      "\\        /    Data Parallel GPUs = 1 | Total batch size (16 x 1 x 1) = 16\n",
      " \"-____-\"     Trainable parameters = 66,060,288 of 4,087,852,544 (1.62% trained)\n"
     ]
    },
    {
     "data": {
      "text/html": [
       "\n",
       "    <div>\n",
       "      \n",
       "      <progress value='644' max='644' style='width:300px; height:20px; vertical-align: middle;'></progress>\n",
       "      [644/644 7:30:29, Epoch 4/4]\n",
       "    </div>\n",
       "    <table border=\"1\" class=\"dataframe\">\n",
       "  <thead>\n",
       " <tr style=\"text-align: left;\">\n",
       "      <th>Step</th>\n",
       "      <th>Training Loss</th>\n",
       "    </tr>\n",
       "  </thead>\n",
       "  <tbody>\n",
       "    <tr>\n",
       "      <td>20</td>\n",
       "      <td>1.737400</td>\n",
       "    </tr>\n",
       "    <tr>\n",
       "      <td>40</td>\n",
       "      <td>1.366500</td>\n",
       "    </tr>\n",
       "    <tr>\n",
       "      <td>60</td>\n",
       "      <td>1.369300</td>\n",
       "    </tr>\n",
       "    <tr>\n",
       "      <td>80</td>\n",
       "      <td>1.361800</td>\n",
       "    </tr>\n",
       "    <tr>\n",
       "      <td>100</td>\n",
       "      <td>1.374500</td>\n",
       "    </tr>\n",
       "    <tr>\n",
       "      <td>120</td>\n",
       "      <td>1.381200</td>\n",
       "    </tr>\n",
       "    <tr>\n",
       "      <td>140</td>\n",
       "      <td>1.380800</td>\n",
       "    </tr>\n",
       "    <tr>\n",
       "      <td>160</td>\n",
       "      <td>1.731200</td>\n",
       "    </tr>\n",
       "    <tr>\n",
       "      <td>180</td>\n",
       "      <td>1.429700</td>\n",
       "    </tr>\n",
       "    <tr>\n",
       "      <td>200</td>\n",
       "      <td>1.374900</td>\n",
       "    </tr>\n",
       "    <tr>\n",
       "      <td>220</td>\n",
       "      <td>1.417100</td>\n",
       "    </tr>\n",
       "    <tr>\n",
       "      <td>240</td>\n",
       "      <td>1.519900</td>\n",
       "    </tr>\n",
       "    <tr>\n",
       "      <td>260</td>\n",
       "      <td>1.682200</td>\n",
       "    </tr>\n",
       "    <tr>\n",
       "      <td>280</td>\n",
       "      <td>1.731800</td>\n",
       "    </tr>\n",
       "    <tr>\n",
       "      <td>300</td>\n",
       "      <td>1.750000</td>\n",
       "    </tr>\n",
       "    <tr>\n",
       "      <td>320</td>\n",
       "      <td>1.773200</td>\n",
       "    </tr>\n",
       "    <tr>\n",
       "      <td>340</td>\n",
       "      <td>1.838800</td>\n",
       "    </tr>\n",
       "    <tr>\n",
       "      <td>360</td>\n",
       "      <td>2.099600</td>\n",
       "    </tr>\n",
       "    <tr>\n",
       "      <td>380</td>\n",
       "      <td>1.967100</td>\n",
       "    </tr>\n",
       "    <tr>\n",
       "      <td>400</td>\n",
       "      <td>1.912300</td>\n",
       "    </tr>\n",
       "    <tr>\n",
       "      <td>420</td>\n",
       "      <td>1.894300</td>\n",
       "    </tr>\n",
       "    <tr>\n",
       "      <td>440</td>\n",
       "      <td>1.884200</td>\n",
       "    </tr>\n",
       "    <tr>\n",
       "      <td>460</td>\n",
       "      <td>1.873600</td>\n",
       "    </tr>\n",
       "    <tr>\n",
       "      <td>480</td>\n",
       "      <td>1.925300</td>\n",
       "    </tr>\n",
       "    <tr>\n",
       "      <td>500</td>\n",
       "      <td>1.919800</td>\n",
       "    </tr>\n",
       "    <tr>\n",
       "      <td>520</td>\n",
       "      <td>1.900700</td>\n",
       "    </tr>\n",
       "    <tr>\n",
       "      <td>540</td>\n",
       "      <td>1.894700</td>\n",
       "    </tr>\n",
       "    <tr>\n",
       "      <td>560</td>\n",
       "      <td>1.901000</td>\n",
       "    </tr>\n",
       "    <tr>\n",
       "      <td>580</td>\n",
       "      <td>1.896700</td>\n",
       "    </tr>\n",
       "    <tr>\n",
       "      <td>600</td>\n",
       "      <td>1.894500</td>\n",
       "    </tr>\n",
       "    <tr>\n",
       "      <td>620</td>\n",
       "      <td>1.893900</td>\n",
       "    </tr>\n",
       "    <tr>\n",
       "      <td>640</td>\n",
       "      <td>1.895300</td>\n",
       "    </tr>\n",
       "  </tbody>\n",
       "</table><p>"
      ],
      "text/plain": [
       "<IPython.core.display.HTML object>"
      ]
     },
     "metadata": {},
     "output_type": "display_data"
    },
    {
     "name": "stdout",
     "output_type": "stream",
     "text": [
      "Unsloth: Will smartly offload gradients to save VRAM!\n"
     ]
    },
    {
     "name": "stderr",
     "output_type": "stream",
     "text": [
      "Unsloth: Input IDs of shape torch.Size([1, 9230]) with length 9230 > the model's max sequence length of 8192.\n",
      "We shall truncate it ourselves. It's imperative if you correct this issue first.\n"
     ]
    },
    {
     "name": "stdout",
     "output_type": "stream",
     "text": [
      "\n",
      "================================================================================\n",
      "✅ CHECKPOINT AT STEP 10\n",
      " (Random Sample Index: 456)\n",
      "--------------------------------------------------------------------------------\n",
      "▶️ PROMPT (Input part):\n",
      "[Technical Analysis]\n",
      "Not fully available.\n",
      "\n",
      "[Random Sample of News (last 60 days)]\n",
      "DeFi Summer; Bitcoin Fall: The attention may have been with DeFi when it was warm, but as the cold winds of COVID-19 return fears and election volatility blow, bitcoin is resuming narrative dominance. For more episodes and free early access before our regular 3 p.m. Eastern time releases, subscribe with Apple Podcasts , Spotify , Pocketcasts , Google Podcasts , Castbox , Stitcher , RadioPublica , iHeartRadio or RSS . This episode is sponsored by Crypto.com , Bitstamp and Nexo.io . Today on the Brief: Coinbase off...\n",
      "\n",
      "🤖 MODEL RESPONSE:\n",
      "assistant\n",
      " best practices in financial services and compliance, and the financial infrastructure that supports them.\n",
      "The U.S. has seen the most aggressive move in the past 10 years, with a new wave of regulation and enforcement. The SEC has taken a more aggressive stance, with a number of enforcement actions against crypto exchanges and projects. This is a major shift from the previous 2-3 years, where the SEC was more passive in its approach.\n",
      "• The U.S. has seen the most aggressive move in the past 10 years, with a new wave of regulation and enforcement. The SEC has taken a more aggressive stance, with a number of enforcement actions against crypto exchanges and projects. This is a major shift from the previous 2-3 years, where the SEC was more passive in its approach.\n",
      "• The U.S. has seen the most aggressive move in the past 10 years, with a new wave of regulation and enforcement. The SEC has taken a more aggressive stance, with a number of enforcement actions against crypto exchanges and projects. This is a major shift from the previous 2-3 years, where the SEC was more passive in its approach.\n",
      "• The U.S. has seen the most aggressive move in the past 10 years, with a new wave of regulation and enforcement. The SEC has taken a more aggressive stance, with a number of enforcement actions against crypto exchanges and projects. This is a major shift from the previous 2-3 years, where the SEC was more passive in its approach.\n",
      "• The U.S. has seen the most aggressive move in the past 10 years, with a new wave of regulation and enforcement. The SEC has taken a more aggressive stance, with a number of enforcement actions against crypto exchanges and projects. This is a major shift from the previous 2-3 years, where the SEC was more passive in its approach.\n",
      "• The U.S. has seen the most aggressive move in the past 10 years, with a new wave of regulation and enforcement. The SEC has taken a more aggressive stance, with a number of enforcement actions against crypto exchanges and projects. This is a major shift from the previous 2-3 years, where the SEC was more passive in its approach.\n",
      "• The U.S. has seen the most aggressive move in the past 10 years, with a new wave of regulation and enforcement. The SEC has taken a more aggressive stance, with a number of enforcement actions against crypto exchanges and projects. This is a major shift from the previous 2-3 years, where the SEC was more passive in its approach.\n",
      "• The U.S. has seen the most aggressive move in the past 10 years, with a new wave of regulation and enforcement. The SEC has taken a more aggressive stance, with a number of enforcement actions against crypto exchanges and projects. This is a major shift from the previous 2-3 years, where the SEC was more passive in its approach.\n",
      "• The U.S. has seen the most aggressive move in the past 10 years, with a new wave of regulation and enforcement. The SEC has taken a more aggressive stance, with a number of enforcement actions against crypto exchanges and projects. This is a major shift from the previous 2-3 years, where the SEC was more passive in its approach.\n",
      "• The U.S. has seen the most aggressive move in the past 10 years, with a new wave of regulation and enforcement. The SEC has taken a more aggressive stance, with a number of enforcement actions against crypto exchanges and projects. This is a major shift from the previous 2-3 years, where the SEC was more passive in its approach.\n",
      "• The U.S. has seen the most aggressive move in the past 10 years, with a new wave of regulation and enforcement. The SEC has taken a more aggressive stance, with a number of enforcement actions against crypto exchanges and projects. This is a major shift from the previous 2-3 years, where the SEC was more passive in its approach.\n",
      "• The U.S. has seen the most aggressive move in the past 10 years, with a new wave of regulation and enforcement. The SEC has taken a more aggressive stance, with a number of enforcement actions against crypto exchanges and projects. This is a major shift from the previous 2-3 years, where the SEC was more passive in its approach.\n",
      "• The U.S. has seen the most aggressive move in the past 10 years, with a new wave of regulation and enforcement. The SEC has taken a more aggressive stance, with a number of enforcement actions against crypto exchanges and projects. This is a major shift from the previous 2-3 years, where the SEC was more passive in its approach.\n",
      "• The U.S. has seen the most aggressive move in the past 10 years, with a new wave of regulation and enforcement. The SEC has taken a more aggressive stance, with a number of enforcement actions against crypto exchanges and projects. This is a major shift from the previous 2-3 years, where the SEC was more passive in its approach.\n",
      "• The U.S. has seen the most aggressive move in the past 10 years, with a new wave of regulation and enforcement. The SEC has taken a more aggressive stance, with a number of enforcement actions against crypto exchanges and projects. This is a major shift from the previous 2-3 years, where the SEC was more passive in its approach.\n",
      "• The U.S. has seen the most aggressive move in the past 10 years, with a new wave of regulation and enforcement. The SEC has taken a more aggressive stance, with a number of enforcement actions against crypto exchanges and projects. This is a major shift from the previous 2-3 years, where the SEC was more passive in its approach.\n",
      "• The U.S. has seen the most aggressive move in the past 10 years, with a new wave of regulation and enforcement. The SEC has taken a more aggressive stance, with a number of enforcement actions against crypto exchanges and projects. This is a major shift from the previous 2-3 years, where the SEC was more passive in its approach.\n",
      "• The U.S. has seen the most aggressive move in the past 10 years, with a new wave of regulation and enforcement. The SEC has taken a more aggressive stance, with a number of enforcement actions against crypto exchanges and projects. This is a major shift from the previous 2-3 years, where the SEC was more passive in its approach.\n",
      "• The U.S. has seen the most aggressive move in the past 10 years, with a new wave of regulation and enforcement. The SEC has taken a more aggressive stance, with a number of enforcement actions against crypto exchanges and projects. This is a major shift from the previous 2-3 years, where the SEC was more passive in its approach.\n",
      "• The U.S. has seen the most aggressive move in the past 10 years, with a new wave of regulation and enforcement. The SEC has taken a more aggressive stance, with a number of enforcement actions against crypto exchanges and projects. This is a major shift from the previous 2-3 years, where the SEC was more passive in its approach.\n",
      "• The U.S. has seen the most aggressive move in the past 10 years, with a new wave of regulation and enforcement. The SEC has taken a more aggressive stance, with a number of enforcement actions against crypto exchanges and projects. This is a major shift from the previous 2-3 years, where the SEC was more passive in its approach.\n",
      "• The U.S. has seen the most aggressive move in the past 10 years, with a new wave of regulation and enforcement. The SEC has taken a more aggressive stance, with a number of enforcement actions against crypto exchanges and projects. This is a major shift from the previous 2-3 years, where the SEC was more passive in its approach.\n",
      "• The U.S. has seen the most aggressive move in the past 10 years, with a new wave of regulation and enforcement. The SEC has taken a more aggressive stance, with a number of enforcement actions against crypto exchanges and projects. This is a major shift from the previous 2-3 years, where the SEC was more passive in its approach.\n",
      "• The U.S. has seen the most aggressive move in the past 10 years, with a new wave of regulation and enforcement. The SEC has taken a more aggressive stance, with a number of enforcement actions against crypto exchanges and projects. This is a major shift from the previous 2-3 years, where the SEC was more passive in its approach.\n",
      "• The U.S. has seen the most aggressive move in the past 10 years, with a new wave of regulation and enforcement. The SEC has taken a more aggressive stance, with a number of enforcement actions against crypto exchanges and projects. This is a major shift from the previous 2-3 years, where the SEC was more passive in its approach.\n",
      "• The U.S. has seen the most aggressive move in the past 10 years, with a new wave of regulation and enforcement. The SEC has taken a more aggressive stance, with a number of enforcement actions against crypto exchanges and projects. This is a major shift from the previous 2-3 years, where the SEC was more passive in its approach.\n",
      "• The U.S. has seen the most aggressive move in the past 10 years, with a new wave of regulation and enforcement. The SEC has taken a more aggressive stance, with a number of enforcement actions against crypto exchanges and projects. This is a major shift from the previous 2-3 years, where the SEC was more passive in its approach.\n",
      "• The U.S. has seen the most aggressive move in the past 10 years, with a new wave of regulation and enforcement. The SEC has taken a more aggressive stance, with a number of enforcement actions against crypto exchanges and projects. This is a major shift from the previous 2-3 years\n",
      "\n",
      "🎯 GROUND TRUTH:\n",
      "<|forecast|>\n",
      "Trend: up || Prices: 10793.34,10604.41,10668.97,10915.69,11064.46,11296.36,11384.18,11555.36,11425.90,11429.51\n",
      "\n",
      "================================================================================\n",
      "\n"
     ]
    },
    {
     "name": "stderr",
     "output_type": "stream",
     "text": [
      "Unsloth: Input IDs of shape torch.Size([1, 11869]) with length 11869 > the model's max sequence length of 8192.\n",
      "We shall truncate it ourselves. It's imperative if you correct this issue first.\n"
     ]
    },
    {
     "name": "stdout",
     "output_type": "stream",
     "text": [
      "\n",
      "================================================================================\n",
      "✅ CHECKPOINT AT STEP 20\n",
      " (Random Sample Index: 102)\n",
      "--------------------------------------------------------------------------------\n",
      "▶️ PROMPT (Input part):\n",
      "[Technical Analysis for 2017-04-27]\n",
      "BTC Price: 1317.73, BTC RSI: 72.35\n",
      "Gold Price: 1263.70, Gold RSI: 51.39\n",
      "Oil Price: 48.97, Oil RSI: 37.70\n",
      "\n",
      "[Random Sample of News (last 60 days)]\n",
      "SEC Rejects Winklevoss Bitcoin ETF: It’s official. The Securities and Exchange Commission did not approve the Winklevoss Bitcoin ETF (COIN).\n",
      "After sitting in the regulatory pipeline for more than three years, it’s back to the drawing board with the idea of putting the peer-to-peer digital currency in an ETF wrapper.\n",
      "\"We remain optimistic and committed to bringing COIN to market, and look forward to continuing to wor...\n",
      "\n",
      "🤖 MODEL RESPONSE:\n",
      "assistant\n",
      " is not a bad thing.\n",
      "|| Bitcoin Prices Drop After SEC Rejects Winklevoss Bitcoin ETF: After the news that the SEC rejected the Winklevoss Bitcoin ETF, the price of Bitcoin dropped from $1319.52 to $1003.52. || Bitcoin Prices Drop After SEC Rejects Winklevoss Bitcoin ETF: After the news that the SEC rejected the Winklevoss Bitcoin ETF, the price of Bitcoin dropped from $1319.52 to $1003.52. || Bitcoin Prices Drop After SEC Rejects Winklevoss Bitcoin ETF: After the news that the SEC rejected the Winklevoss Bitcoin ETF, the price of Bitcoin dropped from $1319.52 to $1003.52. || Bitcoin Prices Drop After SEC Rejects Winklevoss Bitcoin ETF: After the news that the SEC rejected the Winklevoss Bitcoin ETF, the price of Bitcoin dropped from $1319.52 to $1003.52. || Bitcoin Prices Drop After SEC Rejects Winklevoss Bitcoin ETF: After the news that the SEC rejected the Winklevoss Bitcoin ETF, the price of Bitcoin dropped from $1319.52 to $1003.52. || Bitcoin Prices Drop After SEC Rejects Winklevoss Bitcoin ETF: After the news that the SEC rejected the Winklevoss Bitcoin ETF, the price of Bitcoin dropped from $1319.52 to $1003.52. || Bitcoin Prices Drop After SEC Rejects Winklevoss Bitcoin ETF: After the news that the SEC rejected the Winklevoss Bitcoin ETF, the price of Bitcoin dropped from $1319.52 to $1003.52. || Bitcoin Prices Drop After SEC Rejects Winklevoss Bitcoin ETF: After the news that the SEC rejected the Winklevoss Bitcoin ETF, the price of Bitcoin dropped from $1319.52 to $1003.52. || Bitcoin Prices Drop After SEC Rejects Winklevoss Bitcoin ETF: After the news that the SEC rejected the Winklevoss Bitcoin ETF, the price of Bitcoin dropped from $1319.52 to $1003.52. || Bitcoin Prices Drop After SEC Rejects Winklevoss Bitcoin ETF: After the news that the SEC rejected the Winklevoss Bitcoin ETF, the price of Bitcoin dropped from $1319.52 to $1003.52. || Bitcoin Prices Drop After SEC Rejects Winklevoss Bitcoin ETF: After the news that the SEC rejected the Winklevoss Bitcoin ETF, the price of Bitcoin dropped from $1319.52 to $1003.52. || Bitcoin Prices Drop After SEC Rejects Winklevoss Bitcoin ETF: After the news that the SEC rejected the Winklevoss Bitcoin ETF, the price of Bitcoin dropped from $1319.52 to $1003.52. || Bitcoin Prices Drop After SEC Rejects Winklevoss Bitcoin ETF: After the news that the SEC rejected the Winklevoss Bitcoin ETF, the price of Bitcoin dropped from $1319.52 to $1003.52. || Bitcoin Prices Drop After SEC Rejects Winklevoss Bitcoin ETF: After the news that the SEC rejected the Winklevoss Bitcoin ETF, the price of Bitcoin dropped from $1319.52 to $1003.52. || Bitcoin Prices Drop After SEC Rejects Winklevoss Bitcoin ETF: After the news that the SEC rejected the Winklevoss Bitcoin ETF, the price of Bitcoin dropped from $1319.52 to $1003.52. || Bitcoin Prices Drop After SEC Rejects Winklevoss Bitcoin ETF: After the news that the SEC rejected the Winklevoss Bitcoin ETF, the price of Bitcoin dropped from $1319.52 to $1003.52. || Bitcoin Prices Drop After SEC Rejects Winklevoss Bitcoin ETF: After the news that the SEC rejected the Winklevoss Bitcoin ETF, the price of Bitcoin dropped from $1319.52 to $1003.52. || Bitcoin Prices Drop After SEC Rejects Winklevoss Bitcoin ETF: After the news that the SEC rejected the Winklevoss Bitcoin ETF, the price of Bitcoin dropped from $1319.52 to $1003.52. || Bitcoin Prices Drop After SEC Rejects Winklevoss Bitcoin ETF: After the news that the SEC rejected the Winklevoss Bitcoin ETF, the price of Bitcoin dropped from $1319.52 to $1003.52. || Bitcoin Prices Drop After SEC Rejects Winklevoss Bitcoin ETF: After the news that the SEC rejected the Winklevoss Bitcoin ETF, the price of Bitcoin dropped from $1319.52 to $1003.52. || Bitcoin Prices Drop After SEC Rejects Winklevoss Bitcoin ETF: After the news that the SEC rejected the Winklevoss Bitcoin ETF, the price of Bitcoin dropped from $1319.52 to $1003.52. || Bitcoin Prices Drop After SEC Rejects Winklevoss Bitcoin ETF: After the news that the SEC rejected the Winklevoss Bitcoin ETF, the price of Bitcoin dropped from $1319.52 to $1003.52. || Bitcoin Prices Drop After SEC Rejects Winklevoss Bitcoin ETF: After the news that the SEC rejected the Winklevoss Bitcoin ETF, the price of Bitcoin dropped from $1319.52 to $1003.52. || Bitcoin Prices Drop After SEC Rejects Winklevoss Bitcoin ETF: After the news that the SEC rejected the Winklevoss Bitcoin ETF, the price of Bitcoin dropped from $1319.52 to $1003.52. || Bitcoin Prices Drop After SEC Rejects Winklevoss Bitcoin ETF: After the news that the SEC rejected the Winklevoss Bitcoin ETF, the price of Bitcoin dropped from $1319.52 to $1003.52. || Bitcoin Prices Drop After SEC Rejects Winklevoss Bitcoin ETF: After the news that the SEC rejected the Winklevoss Bitcoin ETF, the price of Bitcoin dropped from $1319.52 to $1003.52. || Bitcoin Prices Drop After SEC Rejects Winklevoss Bitcoin ETF: After the news that the SEC rejected the Winklevoss Bitcoin ETF, the price of Bitcoin dropped from $1319.52 to $1003.52. || Bitcoin Prices Drop After SEC Rejects Winklevoss Bitcoin ETF: After the news that the SEC rejected the Winklevoss Bitcoin ETF, the price of Bitcoin dropped from $1319.52 to $1003.52. || Bitcoin Prices Drop After SEC Rejects Winklevoss Bitcoin ETF: After the news that the SEC rejected the Winklevoss Bitcoin ETF, the price of Bitcoin dropped from $1319.52 to $1003.52. || Bitcoin Prices Drop After SEC Rejects Winklevoss Bitcoin ETF: After the news that the SEC rejected the Winklevoss Bitcoin ETF, the price of Bitcoin dropped from $1319.52 to $1003.52. || Bitcoin Prices Drop After SEC Rejects Winklevoss Bitcoin ETF: After the news that the SEC rejected the Winklevoss Bitcoin ETF, the price of Bitcoin dropped from $1319.52 to $1003.52. || Bitcoin Prices Drop After SEC Rejects Winklevoss Bitcoin ETF: After the news that the SEC rejected the Winklevoss Bitcoin ETF, the price of Bitcoin dropped from $1319.52 to $1003.52. || Bitcoin Prices Drop After SEC Rejects Winklevoss Bitcoin ETF: After the news that the SEC rejected the Winklevoss Bitcoin ETF, the price of Bitcoin dropped from $1319.52 to $1003.52. || Bitcoin Prices Drop After SEC Rejects Winklevoss Bitcoin ETF: After the news that the SEC rejected the Winklevoss Bitcoin ETF, the price of Bitcoin dropped from $1319.52 to $1003.52. || Bitcoin Prices Drop After SEC Rejects Winklevoss Bitcoin ETF: After the news that the SEC rejected the Winklevoss Bitcoin ETF, the price of Bitcoin dropped from $1319.52 to $1003.52. || Bitcoin Prices Drop After SEC Rejects Winklevoss Bitcoin ETF: After the news that the SEC rejected the Winklevoss Bitcoin ETF, the price of Bitcoin dropped from $1319.52 to $1003.52. || Bitcoin Prices Drop After SEC Rejects Winklevoss Bitcoin ETF: After the news that the SEC rejected the Winklevoss Bitcoin ETF, the price of Bitcoin dropped from $1319.52 to $1003.52. || Bitcoin Prices Drop After SEC Rejects Winklevoss Bitcoin ETF: After the news that the SEC rejected the Winklevoss Bitcoin ETF, the price of Bitcoin dropped from $1319.52\n",
      "\n",
      "🎯 GROUND TRUTH:\n",
      "<|forecast|>\n",
      "Trend: up || Prices: 1316.48,1321.79,1347.89,1421.60,1452.82,1490.09,1537.67,1555.45,1578.80,1596.71\n",
      "\n",
      "================================================================================\n",
      "\n"
     ]
    },
    {
     "name": "stderr",
     "output_type": "stream",
     "text": [
      "Unsloth: Input IDs of shape torch.Size([1, 11760]) with length 11760 > the model's max sequence length of 8192.\n",
      "We shall truncate it ourselves. It's imperative if you correct this issue first.\n"
     ]
    },
    {
     "name": "stdout",
     "output_type": "stream",
     "text": [
      "\n",
      "================================================================================\n",
      "✅ CHECKPOINT AT STEP 30\n",
      " (Random Sample Index: 1126)\n",
      "--------------------------------------------------------------------------------\n",
      "▶️ PROMPT (Input part):\n",
      "[Technical Analysis for 2021-07-02]\n",
      "BTC Price: 33897.05, BTC RSI: 44.84\n",
      "Gold Price: 1782.60, Gold RSI: 39.28\n",
      "Oil Price: 75.16, Oil RSI: 71.26\n",
      "\n",
      "[Random Sample of News (last 60 days)]\n",
      "Co-creator of Dogecoin lashes out at ‘self-absorbed grifter’ Elon Musk over bitcoin stand: SpaceX owner and Tesla CEO Elon Musk arrives on the red carpet for the Axel Springer Award 2020 on December 01, 2020 in Berlin, Germany (Photo by Britta Pedersen-Pool/Getty Images) One of Dogecoin ’s co-creators labelled Elon Musk a “self-absorbed grifter” after Tesla stopped taking bitcoin for its electric cars. Jackson Palm...\n",
      "\n",
      "🤖 MODEL RESPONSE:\n",
      "assistant\n",
      " and the future of Bitcoin || Prices for the last 7 days || Prices for the last 7 days || Prices for the last 7 days || Prices for the last 7 days || Prices for the last 7 days || Prices for the last 7 days || Prices for the last 7 days || Prices for the last 7 days || Prices for the last 7 days || Prices for the last 7 days || Prices for the last 7 days || Prices for the last 7 days || Prices for the last 7 days || Prices for the last 7 days || Prices for the last 7 days || Prices for the last 7 days || Prices for the last 7 days || Prices for the last 7 days || Prices for the last 7 days || Prices for the last 7 days || Prices for the last 7 days || Prices for the last 7 days || Prices for the last 7 days || Prices for the last 7 days || Prices for the last 7 days || Prices for the last 7 days || Prices for the last 7 days || Prices for the last 7 days || Prices for the last 7 days || Prices for the last 7 days || Prices for the last 7 days || Prices for the last 7 days || Prices for the last 7 days || Prices for the last 7 days || Prices for the last 7 days || Prices for the last 7 days || Prices for the last 7 days || Prices for the last 7 days || Prices for the last 7 days || Prices for the last 7 days || Prices for the last 7 days || Prices for the last 7 days || Prices for the last 7 days || Prices for the last 7 days || Prices for the last 7 days || Prices for the last 7 days || Prices for the last 7 days || Prices for the last 7 days || Prices for the last 7 days || Prices for the last 7 days || Prices for the last 7 days || Prices for the last 7 days || Prices for the last 7 days || Prices for the last 7 days || Prices for the last 7 days || Prices for the last 7 days || Prices for the last 7 days || Prices for the last 7 days || Prices for the last 7 days || Prices for the last 7 days || Prices for the last 7 days || Prices for the last 7 days || Prices for the last 7 days || Prices for the last 7 days || Prices for the last 7 days || Prices for the last 7 days || Prices for the last 7 days || Prices for the last 7 days || Prices for the last 7 days || Prices for the last 7 days || Prices for the last 7 days || Prices for the last 7 days || Prices for the last 7 days || Prices for the last 7 days || Prices for the last 7 days || Prices for the last 7 days || Prices for the last 7 days || Prices for the last 7 days || Prices for the last 7 days || Prices for the last 7 days || Prices for the last 7 days || Prices for the last 7 days || Prices for the last 7 days || Prices for the last 7 days || Prices for the last 7 days || Prices for the last 7 days || Prices for the last 7 days || Prices for the last 7 days || Prices for the last 7 days || Prices for the last 7 days || Prices for the last 7 days || Prices for the last 7 days || Prices for the last 7 days || Prices for the last 7 days || Prices for the last 7 days || Prices for the last 7 days || Prices for the last 7 days || Prices for the last 7 days || Prices for the last 7 days || Prices for the last 7 days || Prices for the last 7 days || Prices for the last 7 days || Prices for the last 7 days || Prices for the last 7 days || Prices for the last 7 days || Prices for the last 7 days || Prices for the last 7 days || Prices for the last 7 days || Prices for the last 7 days || Prices for the last 7 days || Prices for the last 7 days || Prices for the last 7 days || Prices for the last 7 days || Prices for the last 7 days || Prices for the last 7 days || Prices for the last 7 days || Prices for the last 7 days || Prices for the last 7 days || Prices for the last 7 days || Prices for the last 7 days || Prices for the last 7 days || Prices for the last 7 days || Prices for the last 7 days || Prices for the last 7 days || Prices for the last 7 days || Prices for the last 7 days || Prices for the last 7 days || Prices for the last 7 days || Prices for the last 7 days || Prices for the last 7 days || Prices for the last 7 days || Prices for the last 7 days || Prices for the last 7 days || Prices for the last 7 days || Prices for the last 7 days || Prices for the last 7 days || Prices for the last 7 days || Prices for the last 7 days || Prices for the last 7 days || Prices for the last 7 days || Prices for the last 7 days || Prices for the last 7 days || Prices for the last 7 days || Prices for the last 7 days || Prices for the last 7 days || Prices for the last 7 days || Prices for the last 7 days || Prices for the last 7 days || Prices for the last 7 days || Prices for the last 7 days || Prices for the last 7 days || Prices for the last 7 days || Prices for the last 7 days || Prices for the last 7 days || Prices for the last 7 days || Prices for the last 7 days || Prices for the last 7 days || Prices for the last 7 days || Prices for the last 7 days || Prices for the last 7 days || Prices for the last 7 days || Prices for the last 7 days || Prices for the last 7 days || Prices for the last 7 days || Prices for the last 7 days || Prices for the last 7 days || Prices for the last 7 days || Prices for the last 7 days || Prices for the last 7 days || Prices for the last 7 days || Prices for the last 7 days || Prices for the last 7 days || Prices for the last 7 days || Prices for the last 7 days || Prices for the last 7 days || Prices for the last 7 days || Prices for the last 7 days || Prices for the last 7 days || Prices for the last 7 days || Prices for the last 7 days || Prices for the last 7 days || Prices for the last 7 days || Prices for the last 7 days || Prices for the last 7 days || Prices for the last 7 days || Prices for the last 7 days || Prices for the last 7 days || Prices for the last 7 days || Prices for the last 7 days || Prices for the last 7 days || Prices for the last 7 days || Prices for the last 7 days || Prices for the last 7 days || Prices for the last 7 days || Prices for the last 7 days || Prices for the last 7 days || Prices for the last 7 days || Prices for the last 7 days || Prices for the last 7 days || Prices for the last 7 days || Prices for the last 7 days || Prices for the last 7 days || Prices for the last 7 days || Prices for the last 7 days || Prices for the last 7 days || Prices for the last 7 days || Prices for the last 7 days || Prices for the last 7 days || Prices for the last 7 days || Prices for the last 7 days || Prices for the last 7 days || Prices for the last 7 days || Prices for the last 7 days || Prices for the last 7 days || Prices for the last 7 days || Prices for the last 7 days || Prices for the last 7 days || Prices for the last 7 days || Prices for the last 7 days || Prices for the last 7 days || Prices for the last 7 days || Prices for the last 7 days || Prices for the last 7 days || Prices for the last 7 days || Prices for the last 7 days || Prices for the last 7 days || Prices for the last 7 days || Prices for the last 7 days || Prices for the last 7 days || Prices for the last 7 days || Prices for the last 7 days || Prices for the last 7 days || Prices for the last 7 days || Prices for the last 7 days || Prices for the last 7 days || Prices for the last 7 days || Prices for the last 7 days || Prices for the last 7 days || Prices for the last 7 days || Prices for the last 7 days || Prices for the last 7 days || Prices for the last 7 days || Prices for the last 7 days || Prices for the last 7 days || Prices for the last 7 days || Prices for the last 7 days || Prices for the last 7 days || Prices for the last 7 days || Prices for the last 7 days || Prices for the last 7 days || Prices for the last 7 days || Prices for the last 7 days || Prices for the last 7 days || Prices for the last 7 days || Prices for the last 7 days || Prices for\n",
      "\n",
      "🎯 GROUND TRUTH:\n",
      "<|forecast|>\n",
      "Trend: down || Prices: 34668.55,35287.78,33746.00,34235.20,33855.33,32877.37,33798.01,33520.52,34240.19,33155.85\n",
      "\n",
      "================================================================================\n",
      "\n"
     ]
    },
    {
     "name": "stderr",
     "output_type": "stream",
     "text": [
      "Unsloth: Input IDs of shape torch.Size([1, 9585]) with length 9585 > the model's max sequence length of 8192.\n",
      "We shall truncate it ourselves. It's imperative if you correct this issue first.\n"
     ]
    },
    {
     "name": "stdout",
     "output_type": "stream",
     "text": [
      "\n",
      "================================================================================\n",
      "✅ CHECKPOINT AT STEP 40\n",
      " (Random Sample Index: 1003)\n",
      "--------------------------------------------------------------------------------\n",
      "▶️ PROMPT (Input part):\n",
      "[Technical Analysis for 2020-04-29]\n",
      "BTC Price: 8801.04, BTC RSI: 76.20\n",
      "Gold Price: 1703.40, Gold RSI: 54.68\n",
      "Oil Price: 15.06, Oil RSI: 47.92\n",
      "\n",
      "[Random Sample of News (last 60 days)]\n",
      "Latest Bitcoin Cash price and analysis (BCH to USD): Bitcoin Cash has finally found a level of support after suffering one of the worst weeks in its history with a shocking sell-off. With it now trading at around $163 Bitcoin Cash is at its lowest point since March 2019, which has erased all of the 185% gains that were printed earlier this year. Failure to break above $196 in the short term will most likely see Bitc...\n",
      "\n",
      "🤖 MODEL RESPONSE:\n",
      "assistant\n",
      " issues || Prices: Bitcoin: 7327.53 || Prices: Bitcoin: 7331.63 || Prices: Bitcoin: 7224.32 || Prices: Bitcoin: 7234.47 || Prices: Bitcoin: 7249.21 || Prices: Bitcoin: 7323.84 || Prices: Bitcoin: 7298.14 || Prices: Bitcoin: 7288.49 || Prices: Bitcoin: 7248.92 || Prices: Bitcoin: 7225.02\n",
      "\n",
      "🎯 GROUND TRUTH:\n",
      "<|forecast|>\n",
      "Trend: up || Prices: 8658.55,8864.77,8988.60,8897.47,8912.65,9003.07,9268.76,9951.52,9842.67,9593.90\n",
      "\n",
      "================================================================================\n",
      "\n"
     ]
    },
    {
     "name": "stderr",
     "output_type": "stream",
     "text": [
      "Unsloth: Input IDs of shape torch.Size([1, 15613]) with length 15613 > the model's max sequence length of 8192.\n",
      "We shall truncate it ourselves. It's imperative if you correct this issue first.\n"
     ]
    },
    {
     "name": "stdout",
     "output_type": "stream",
     "text": [
      "\n",
      "================================================================================\n",
      "✅ CHECKPOINT AT STEP 50\n",
      " (Random Sample Index: 914)\n",
      "--------------------------------------------------------------------------------\n",
      "▶️ PROMPT (Input part):\n",
      "[Technical Analysis for 2018-08-03]\n",
      "BTC Price: 7434.39, BTC RSI: 49.17\n",
      "Gold Price: 1214.20, Gold RSI: 32.30\n",
      "Oil Price: 68.49, Oil RSI: 46.64\n",
      "\n",
      "[Random Sample of News (last 60 days)]\n",
      "Top Stocks Set to Disrupt the Diabetes Market: More than 84 million Americans have prediabetes, and as a result, the number of them with diabetes isexpected to soarto over 55 million by 2030 from about 30 million today, according to the Institute for Alternative Futures (IAF). This suggests Americans are at a greater risk of developing life-threatening diabetic complications than ever before. Preventing deaths from ...\n",
      "\n",
      "🤖 MODEL RESPONSE:\n",
      "assistant\n",
      " addition advanced agriculture after after all against against agriculture against agriculture agriculture agriculture agriculture agriculture agriculture agriculture agriculture agriculture agriculture agriculture agriculture agriculture agriculture agriculture agriculture agriculture agriculture agriculture agriculture agriculture agriculture agriculture agriculture agriculture agriculture agriculture agriculture agriculture agriculture agriculture agriculture agriculture agriculture agriculture agriculture agriculture agriculture agriculture agriculture agriculture agriculture agriculture agriculture agriculture agriculture agriculture agriculture agriculture agriculture agriculture agriculture agriculture agriculture agriculture agriculture agriculture agriculture agriculture agriculture agriculture agriculture agriculture agriculture agriculture agriculture agriculture agriculture agriculture agriculture agriculture agriculture agriculture agriculture agriculture agriculture agriculture agriculture agriculture agriculture agriculture agriculture agriculture agriculture agriculture agriculture agriculture agriculture agriculture agriculture agriculture agriculture agriculture agriculture agriculture agriculture agriculture agriculture agriculture agriculture agriculture agriculture agriculture agriculture agriculture agriculture agriculture agriculture agriculture agriculture agriculture agriculture agriculture agriculture agriculture agriculture agriculture agriculture agriculture agriculture agriculture agriculture agriculture agriculture agriculture agriculture agriculture agriculture agriculture agriculture agriculture agriculture agriculture agriculture agriculture agriculture agriculture agriculture agriculture agriculture agriculture agriculture agriculture agriculture agriculture agriculture agriculture agriculture agriculture agriculture agriculture agriculture agriculture agriculture agriculture agriculture agriculture agriculture agriculture agriculture agriculture agriculture agriculture agriculture agriculture agriculture agriculture agriculture agriculture agriculture agriculture agriculture agriculture agriculture agriculture agriculture agriculture agriculture agriculture agriculture agriculture agriculture agriculture agriculture agriculture agriculture agriculture agriculture agriculture agriculture agriculture agriculture agriculture agriculture agriculture agriculture agriculture agriculture agriculture agriculture agriculture agriculture agriculture agriculture agriculture agriculture agriculture agriculture agriculture agriculture agriculture agriculture agriculture agriculture agriculture agriculture agriculture agriculture agriculture agriculture agriculture agriculture agriculture agriculture agriculture agriculture agriculture agriculture agriculture agriculture agriculture agriculture agriculture agriculture agriculture agriculture agriculture agriculture agriculture agriculture agriculture agriculture agriculture agriculture agriculture agriculture agriculture agriculture agriculture agriculture agriculture agriculture agriculture agriculture agriculture agriculture agriculture agriculture agriculture agriculture agriculture agriculture agriculture agriculture agriculture agriculture agriculture agriculture agriculture agriculture agriculture agriculture agriculture agriculture agriculture agriculture agriculture agriculture agriculture agriculture agriculture agriculture agriculture agriculture agriculture agriculture agriculture agriculture agriculture agriculture agriculture agriculture agriculture agriculture agriculture agriculture agriculture agriculture agriculture agriculture agriculture agriculture agriculture agriculture agriculture agriculture agriculture agriculture agriculture agriculture agriculture agriculture agriculture agriculture agriculture agriculture agriculture agriculture agriculture agriculture agriculture agriculture agriculture agriculture agriculture agriculture agriculture agriculture agriculture agriculture agriculture agriculture agriculture agriculture agriculture agriculture agriculture agriculture agriculture agriculture agriculture agriculture agriculture agriculture agriculture agriculture agriculture agriculture agriculture agriculture agriculture agriculture agriculture agriculture agriculture agriculture agriculture agriculture agriculture agriculture agriculture agriculture agriculture agriculture agriculture agriculture agriculture agriculture agriculture agriculture agriculture agriculture agriculture agriculture agriculture agriculture agriculture agriculture agriculture agriculture agriculture agriculture agriculture agriculture agriculture agriculture agriculture agriculture agriculture agriculture agriculture agriculture agriculture agriculture agriculture agriculture agriculture agriculture agriculture agriculture agriculture agriculture agriculture agriculture agriculture agriculture agriculture agriculture agriculture agriculture agriculture agriculture agriculture agriculture agriculture agriculture agriculture agriculture agriculture agriculture agriculture agriculture agriculture agriculture agriculture agriculture agriculture agriculture agriculture agriculture agriculture agriculture agriculture agriculture agriculture agriculture agriculture agriculture agriculture agriculture agriculture agriculture agriculture agriculture agriculture agriculture agriculture agriculture agriculture agriculture agriculture agriculture agriculture agriculture agriculture agriculture agriculture agriculture agriculture agriculture agriculture agriculture agriculture agriculture agriculture agriculture agriculture agriculture agriculture agriculture agriculture agriculture agriculture agriculture agriculture agriculture agriculture agriculture agriculture agriculture agriculture agriculture agriculture agriculture agriculture agriculture agriculture agriculture agriculture agriculture agriculture agriculture agriculture agriculture agriculture agriculture agriculture agriculture agriculture agriculture agriculture agriculture agriculture agriculture agriculture agriculture agriculture agriculture agriculture agriculture agriculture agriculture agriculture agriculture agriculture agriculture agriculture agriculture agriculture agriculture agriculture agriculture agriculture agriculture agriculture agriculture agriculture agriculture agriculture agriculture agriculture agriculture agriculture agriculture agriculture agriculture agriculture agriculture agriculture agriculture agriculture agriculture agriculture agriculture agriculture agriculture agriculture agriculture agriculture agriculture agriculture agriculture agriculture agriculture agriculture agriculture agriculture agriculture agriculture agriculture agriculture agriculture agriculture agriculture agriculture agriculture agriculture agriculture agriculture agriculture agriculture agriculture agriculture agriculture agriculture agriculture agriculture agriculture agriculture agriculture agriculture agriculture agriculture agriculture agriculture agriculture agriculture agriculture agriculture agriculture agriculture agriculture agriculture agriculture agriculture agriculture agriculture agriculture agriculture agriculture agriculture agriculture agriculture agriculture agriculture agriculture agriculture agriculture agriculture agriculture agriculture agriculture agriculture agriculture agriculture agriculture agriculture agriculture agriculture agriculture agriculture agriculture agriculture agriculture agriculture agriculture agriculture agriculture agriculture agriculture agriculture agriculture agriculture agriculture agriculture agriculture agriculture agriculture agriculture agriculture agriculture agriculture agriculture agriculture agriculture agriculture agriculture agriculture agriculture agriculture agriculture agriculture agriculture agriculture agriculture agriculture agriculture agriculture agriculture agriculture agriculture agriculture agriculture agriculture agriculture agriculture agriculture agriculture agriculture agriculture agriculture agriculture agriculture agriculture agriculture agriculture agriculture agriculture agriculture agriculture agriculture agriculture agriculture agriculture agriculture agriculture agriculture agriculture agriculture agriculture agriculture agriculture agriculture agriculture agriculture agriculture agriculture agriculture agriculture agriculture agriculture agriculture agriculture agriculture agriculture agriculture agriculture agriculture agriculture agriculture agriculture agriculture agriculture agriculture agriculture agriculture agriculture agriculture agriculture agriculture agriculture agriculture agriculture agriculture agriculture agriculture agriculture agriculture agriculture agriculture agriculture agriculture agriculture agriculture agriculture agriculture agriculture agriculture agriculture agriculture agriculture agriculture agriculture agriculture agriculture agriculture agriculture agriculture agriculture agriculture agriculture agriculture agriculture agriculture agriculture agriculture agriculture agriculture agriculture agriculture agriculture agriculture agriculture agriculture agriculture agriculture agriculture agriculture agriculture agriculture agriculture agriculture agriculture agriculture agriculture agriculture agriculture agriculture agriculture agriculture agriculture agriculture agriculture agriculture agriculture agriculture agriculture agriculture agriculture agriculture agriculture agriculture agriculture agriculture agriculture agriculture agriculture agriculture agriculture agriculture agriculture agriculture agriculture agriculture agriculture agriculture agriculture agriculture agriculture agriculture agriculture agriculture agriculture agriculture agriculture agriculture agriculture agriculture agriculture agriculture agriculture agriculture agriculture agriculture agriculture agriculture agriculture agriculture agriculture agriculture agriculture agriculture agriculture agriculture agriculture agriculture agriculture agriculture agriculture agriculture agriculture agriculture agriculture agriculture agriculture agriculture agriculture agriculture agriculture agriculture agriculture agriculture agriculture agriculture agriculture agriculture agriculture agriculture agriculture agriculture agriculture agriculture agriculture agriculture agriculture agriculture agriculture agriculture agriculture agriculture agriculture agriculture agriculture agriculture agriculture agriculture agriculture agriculture agriculture agriculture agriculture agriculture agriculture agriculture agriculture agriculture agriculture agriculture agriculture agriculture agriculture agriculture agriculture agriculture agriculture agriculture agriculture agriculture agriculture agriculture agriculture agriculture agriculture agriculture agriculture agriculture agriculture agriculture agriculture agriculture agriculture agriculture agriculture agriculture agriculture agriculture agriculture agriculture agriculture agriculture agriculture agriculture agriculture agriculture agriculture agriculture agriculture agriculture agriculture agriculture agriculture agriculture agriculture agriculture agriculture agriculture agriculture agriculture agriculture agriculture agriculture agriculture agriculture agriculture agriculture agriculture agriculture agriculture agriculture agriculture agriculture agriculture agriculture agriculture agriculture agriculture agriculture agriculture agriculture agriculture agriculture agriculture agriculture agriculture agriculture agriculture agriculture agriculture agriculture agriculture agriculture agriculture agriculture agriculture agriculture agriculture agriculture agriculture agriculture agriculture agriculture agriculture agriculture agriculture agriculture agriculture agriculture agriculture agriculture agriculture agriculture agriculture agriculture agriculture agriculture agriculture agriculture agriculture agriculture agriculture agriculture agriculture agriculture agriculture agriculture agriculture agriculture agriculture agriculture agriculture agriculture agriculture agriculture agriculture agriculture agriculture agriculture agriculture agriculture agriculture agriculture agriculture agriculture agriculture agriculture agriculture agriculture agriculture agriculture agriculture agriculture agriculture agriculture agriculture agriculture agriculture agriculture agriculture agriculture agriculture agriculture agriculture agriculture agriculture agriculture agriculture agriculture agriculture agriculture agriculture agriculture agriculture agriculture agriculture agriculture agriculture agriculture agriculture agriculture agriculture agriculture agriculture agriculture agriculture agriculture agriculture agriculture agriculture agriculture agriculture agriculture agriculture agriculture agriculture agriculture agriculture agriculture agriculture agriculture agriculture agriculture agriculture agriculture agriculture agriculture agriculture agriculture agriculture agriculture agriculture agriculture agriculture agriculture agriculture agriculture agriculture agriculture agriculture agriculture agriculture agriculture agriculture agriculture agriculture agriculture agriculture agriculture agriculture agriculture agriculture agriculture agriculture agriculture agriculture agriculture agriculture agriculture agriculture agriculture agriculture agriculture agriculture agriculture agriculture agriculture agriculture agriculture agriculture agriculture agriculture agriculture agriculture agriculture agriculture agriculture agriculture agriculture agriculture agriculture agriculture agriculture agriculture agriculture agriculture agriculture agriculture agriculture agriculture agriculture agriculture agriculture agriculture agriculture agriculture agriculture agriculture agriculture agriculture agriculture agriculture agriculture agriculture agriculture agriculture agriculture agriculture agriculture agriculture agriculture agriculture agriculture agriculture agriculture agriculture agriculture agriculture agriculture agriculture agriculture agriculture agriculture agriculture agriculture agriculture agriculture agriculture agriculture agriculture agriculture agriculture agriculture agriculture agriculture agriculture agriculture agriculture agriculture agriculture agriculture agriculture agriculture agriculture agriculture agriculture agriculture agriculture agriculture agriculture agriculture agriculture agriculture agriculture agriculture agriculture agriculture agriculture agriculture agriculture agriculture agriculture agriculture agriculture agriculture agriculture agriculture agriculture agriculture agriculture agriculture agriculture agriculture agriculture agriculture agriculture agriculture agriculture agriculture agriculture agriculture agriculture agriculture agriculture agriculture agriculture agriculture agriculture agriculture agriculture agriculture agriculture agriculture agriculture agriculture agriculture agriculture agriculture agriculture agriculture agriculture agriculture agriculture agriculture agriculture agriculture agriculture agriculture agriculture agriculture agriculture agriculture agriculture agriculture agriculture agriculture agriculture agriculture agriculture agriculture agriculture agriculture agriculture agriculture agriculture agriculture agriculture agriculture agriculture agriculture agriculture agriculture agriculture agriculture agriculture agriculture agriculture agriculture agriculture agriculture agriculture agriculture agriculture agriculture agriculture agriculture agriculture agriculture agriculture agriculture agriculture agriculture agriculture agriculture agriculture agriculture agriculture agriculture agriculture agriculture agriculture agriculture agriculture agriculture agriculture agriculture agriculture agriculture agriculture agriculture agriculture agriculture agriculture agriculture agriculture agriculture agriculture agriculture agriculture agriculture agriculture agriculture agriculture agriculture agriculture agriculture agriculture agriculture agriculture agriculture agriculture agriculture agriculture agriculture agriculture agriculture agriculture agriculture agriculture agriculture agriculture agriculture agriculture agriculture agriculture agriculture agriculture agriculture agriculture agriculture agriculture agriculture agriculture agriculture agriculture agriculture agriculture agriculture agriculture agriculture agriculture agriculture agriculture agriculture agriculture agriculture agriculture agriculture agriculture agriculture agriculture agriculture agriculture agriculture agriculture agriculture agriculture agriculture agriculture agriculture agriculture agriculture agriculture agriculture agriculture agriculture agriculture agriculture agriculture agriculture agriculture agriculture agriculture agriculture agriculture agriculture agriculture agriculture agriculture agriculture agriculture agriculture agriculture agriculture agriculture agriculture agriculture agriculture agriculture agriculture agriculture agriculture agriculture agriculture agriculture agriculture agriculture agriculture agriculture agriculture agriculture agriculture agriculture agriculture agriculture agriculture agriculture agriculture agriculture agriculture agriculture agriculture agriculture agriculture agriculture agriculture agriculture agriculture agriculture agriculture agriculture agriculture agriculture agriculture agriculture agriculture agriculture agriculture agriculture agriculture agriculture agriculture agriculture agriculture agriculture agriculture agriculture agriculture agriculture agriculture agriculture agriculture agriculture agriculture agriculture agriculture agriculture agriculture agriculture agriculture agriculture agriculture agriculture agriculture agriculture agriculture agriculture agriculture agriculture agriculture agriculture agriculture agriculture agriculture agriculture agriculture agriculture agriculture agriculture agriculture agriculture agriculture agriculture agriculture agriculture agriculture agriculture agriculture agriculture agriculture agriculture agriculture agriculture agriculture agriculture agriculture agriculture agriculture agriculture agriculture agriculture agriculture agriculture agriculture agriculture agriculture agriculture agriculture agriculture agriculture agriculture agriculture agriculture agriculture agriculture agriculture agriculture agriculture agriculture agriculture agriculture agriculture agriculture agriculture agriculture agriculture agriculture agriculture agriculture agriculture agriculture agriculture agriculture agriculture agriculture agriculture agriculture agriculture agriculture agriculture agriculture agriculture agriculture agriculture agriculture agriculture agriculture agriculture agriculture agriculture agriculture agriculture agriculture agriculture agriculture agriculture agriculture agriculture agriculture agriculture agriculture agriculture agriculture agriculture agriculture agriculture agriculture agriculture agriculture agriculture agriculture agriculture agriculture agriculture agriculture agriculture agriculture agriculture agriculture agriculture agriculture agriculture agriculture agriculture agriculture agriculture agriculture agriculture agriculture agriculture agriculture agriculture agriculture agriculture agriculture agriculture agriculture agriculture agriculture agriculture agriculture agriculture agriculture agriculture agriculture agriculture agriculture agriculture agriculture agriculture agriculture agriculture agriculture agriculture agriculture agriculture agriculture agriculture agriculture agriculture agriculture agriculture agriculture agriculture agriculture agriculture agriculture agriculture agriculture agriculture agriculture agriculture agriculture agriculture agriculture agriculture agriculture agriculture agriculture agriculture agriculture agriculture agriculture agriculture agriculture agriculture agriculture agriculture agriculture agriculture agriculture agriculture agriculture agriculture agriculture agriculture agriculture agriculture agriculture agriculture agriculture agriculture agriculture agriculture agriculture agriculture agriculture agriculture agriculture agriculture agriculture agriculture agriculture agriculture agriculture agriculture agriculture agriculture agriculture agriculture agriculture agriculture agriculture agriculture agriculture agriculture agriculture agriculture agriculture agriculture agriculture agriculture agriculture agriculture agriculture agriculture agriculture agriculture agriculture agriculture agriculture agriculture agriculture agriculture agriculture agriculture agriculture agriculture agriculture agriculture agriculture agriculture agriculture agriculture agriculture agriculture agriculture agriculture agriculture agriculture agriculture agriculture agriculture agriculture agriculture agriculture agriculture agriculture agriculture agriculture agriculture agriculture agriculture agriculture agriculture agriculture agriculture agriculture agriculture agriculture agriculture agriculture agriculture agriculture agriculture agriculture agriculture agriculture agriculture agriculture agriculture agriculture agriculture agriculture agriculture agriculture agriculture agriculture agriculture agriculture agriculture agriculture agriculture agriculture agriculture agriculture agriculture agriculture agriculture agriculture agriculture agriculture agriculture agriculture agriculture agriculture agriculture agriculture agriculture agriculture agriculture agriculture agriculture agriculture agriculture agriculture agriculture agriculture agriculture agriculture agriculture agriculture agriculture agriculture agriculture agriculture agriculture agriculture agriculture agriculture agriculture agriculture agriculture agriculture agriculture agriculture agriculture agriculture agriculture agriculture agriculture agriculture agriculture agriculture agriculture agriculture agriculture agriculture agriculture agriculture agriculture agriculture agriculture agriculture agriculture agriculture agriculture agriculture agriculture agriculture agriculture agriculture agriculture agriculture agriculture agriculture agriculture agriculture agriculture agriculture agriculture agriculture agriculture agriculture agriculture agriculture agriculture agriculture agriculture agriculture agriculture agriculture agriculture agriculture agriculture agriculture agriculture agriculture agriculture agriculture agriculture agriculture agriculture agriculture agriculture agriculture agriculture agriculture agriculture agriculture agriculture agriculture agriculture agriculture agriculture agriculture agriculture agriculture agriculture agriculture agriculture agriculture agriculture agriculture agriculture agriculture agriculture agriculture agriculture agriculture agriculture agriculture agriculture agriculture agriculture agriculture agriculture agriculture agriculture agriculture agriculture agriculture agriculture agriculture agriculture agriculture agriculture agriculture agriculture agriculture agriculture agriculture agriculture agriculture agriculture agriculture agriculture agriculture agriculture agriculture agriculture agriculture agriculture agriculture agriculture agriculture agriculture agriculture agriculture agriculture agriculture agriculture agriculture agriculture agriculture agriculture agriculture agriculture agriculture agriculture agriculture agriculture agriculture agriculture agriculture agriculture agriculture agriculture agriculture agriculture agriculture agriculture agriculture agriculture agriculture agriculture agriculture agriculture agriculture agriculture agriculture agriculture agriculture agriculture agriculture agriculture agriculture agriculture agriculture agriculture agriculture agriculture agriculture agriculture agriculture agriculture agriculture agriculture agriculture agriculture agriculture agriculture agriculture agriculture agriculture agriculture agriculture agriculture agriculture agriculture agriculture agriculture agriculture agriculture agriculture agriculture agriculture agriculture agriculture agriculture agriculture agriculture agriculture agriculture agriculture agriculture agriculture agriculture agriculture agriculture\n",
      "\n",
      "🎯 GROUND TRUTH:\n",
      "<|forecast|>\n",
      "Trend: down || Prices: 7032.85,7068.48,6951.80,6753.12,6305.80,6568.23,6184.71,6295.73,6322.69,6297.57\n",
      "\n",
      "================================================================================\n",
      "\n"
     ]
    },
    {
     "name": "stdout",
     "output_type": "stream",
     "text": [
      "\n",
      "================================================================================\n",
      "✅ CHECKPOINT AT STEP 60\n",
      " (Random Sample Index: 571)\n",
      "--------------------------------------------------------------------------------\n",
      "▶️ PROMPT (Input part):\n",
      "[Technical Analysis]\n",
      "Not fully available.\n",
      "\n",
      "[Random Sample of News (last 60 days)]\n",
      "Chainalysis Says Bitcoin Scammed From Twitter Users Is On the Move: The defrauded bitcoin amassed during Wednesdays monumental Twitter hack is already on the move, according to cryptocurrency tracing firm Chainalysis. Chainalysis told CoinDesk it is monitoring four wallets associated with the attack. The most prevalent address received $120,000 in bitcoin from 375 transactions. Secondary addresses received $6,700 in bitcoin from 100 transactions. An XRP wallet netted nothing. So far, a wallet whose associati...\n",
      "\n",
      "🤖 MODEL RESPONSE:\n",
      "assistant\n",
      "Prices: 9739.04,9736.59,9712.59,9748.91,9749.27,9774.95,9739.83,9670.34,9672.24,9718.81\n",
      "\n",
      "🎯 GROUND TRUTH:\n",
      "<|forecast|>\n",
      "Trend: up || Prices: 11675.74,11878.11,11410.53,11584.93,11784.14,11768.87,11865.70,11892.80,12254.40,11991.23\n",
      "\n",
      "================================================================================\n",
      "\n"
     ]
    },
    {
     "name": "stdout",
     "output_type": "stream",
     "text": [
      "\n",
      "================================================================================\n",
      "✅ CHECKPOINT AT STEP 70\n",
      " (Random Sample Index: 419)\n",
      "--------------------------------------------------------------------------------\n",
      "▶️ PROMPT (Input part):\n",
      "[Technical Analysis for 2019-06-05]\n",
      "BTC Price: 7824.23, BTC RSI: 50.53\n",
      "Gold Price: 1328.30, Gold RSI: 70.65\n",
      "Oil Price: 51.68, Oil RSI: 21.15\n",
      "\n",
      "[Random Sample of News (last 60 days)]\n",
      "How to buy Bitcoin Cash: If you disagree with Bitcoin’s (BTC) scaling solution then there is an alternative option. Buying Bitcoin Cash. Bitcoin Cash ( BCH ) is a fork of Bitcoin that has increased the block size to 8 megabytes and doesn’t incorporate Segwit on to the technology. The differences can be confusing and frustrating for some, but the battle between the two different versions of Bitcoin is likely to rumbl...\n",
      "\n",
      "🤖 MODEL RESPONSE:\n",
      "assistant\n",
      "Prices || Prices || Prices || Prices || Prices || Prices || Prices || Prices || Prices || Prices\n",
      "\n",
      "🎯 GROUND TRUTH:\n",
      "<|forecast|>\n",
      "Trend: up || Prices: 7822.02,8043.95,7954.13,7688.08,8000.33,7927.71,8145.86,8230.92,8693.83,8838.38\n",
      "\n",
      "================================================================================\n",
      "\n"
     ]
    },
    {
     "name": "stdout",
     "output_type": "stream",
     "text": [
      "\n",
      "================================================================================\n",
      "✅ CHECKPOINT AT STEP 80\n",
      " (Random Sample Index: 2233)\n",
      "--------------------------------------------------------------------------------\n",
      "▶️ PROMPT (Input part):\n",
      "[Technical Analysis for 2015-07-06]\n",
      "BTC Price: 269.03, BTC RSI: 68.95\n",
      "Gold Price: 1172.90, Gold RSI: 45.63\n",
      "Oil Price: 52.53, Oil RSI: 29.75\n",
      "\n",
      "[Random Sample of News (last 60 days)]\n",
      "Want to think like a VC? Read these books: In this installment of CNBC's summer reading series , we caught up with Bill Tai, a venture capitalist, entrepreneur and avid kiteboarder. He co-founded MaiTaiGlobal.org with Susi Mai, where they hold networking events all over the world for entrepreneurs, innovators, investors and athletes, centered around kiteboarding. So, what's he reading? This summer, I have several boo...\n",
      "\n",
      "🤖 MODEL RESPONSE:\n",
      "assistant\n",
      "Prices: 235.67,234.59,232.82,230.18,225.98,225.53,225.92,224.63,225.85,226.48\n",
      "\n",
      "🎯 GROUND TRUTH:\n",
      "<|forecast|>\n",
      "Trend: up || Prices: 266.21,270.79,269.23,284.89,293.11,310.87,292.05,287.46,285.83,278.09\n",
      "\n",
      "================================================================================\n",
      "\n"
     ]
    },
    {
     "name": "stdout",
     "output_type": "stream",
     "text": [
      "\n",
      "================================================================================\n",
      "✅ CHECKPOINT AT STEP 90\n",
      " (Random Sample Index: 356)\n",
      "--------------------------------------------------------------------------------\n",
      "▶️ PROMPT (Input part):\n",
      "[Technical Analysis for 2015-11-19]\n",
      "BTC Price: 326.15, BTC RSI: 49.26\n",
      "Gold Price: 1078.00, Gold RSI: 31.46\n",
      "Oil Price: 40.54, Oil RSI: 35.09\n",
      "\n",
      "[Random Sample of News (last 60 days)]\n",
      "Bitcoin is back, JPMorgan and Wells Fargo restrict data: U.S. stocks ( ^GSPC , ^DJI , ^IXIC ) are lower for the second straight day. Is the autumn rally at risk here?  Either way the next big catalyst for the market could come as early as 8:30am ET Friday when the October jobs report is released. Get the Latest Market Data and News with the Yahoo Finance App In the meantime, here are some other stories Yahoo Finance ...\n",
      "\n",
      "🤖 MODEL RESPONSE:\n",
      "assistant\n",
      "Prices are in USD || prices: 356.49,356.72,359.70,362.76,365.84,365.86,366.17,367.43,367.39,366.34\n",
      "\n",
      "🎯 GROUND TRUTH:\n",
      "<|forecast|>\n",
      "Trend: up || Prices: 322.02,326.93,324.54,323.05,320.05,328.21,352.68,358.04,357.38,371.29\n",
      "\n",
      "================================================================================\n",
      "\n"
     ]
    },
    {
     "name": "stderr",
     "output_type": "stream",
     "text": [
      "Unsloth: Input IDs of shape torch.Size([1, 14594]) with length 14594 > the model's max sequence length of 8192.\n",
      "We shall truncate it ourselves. It's imperative if you correct this issue first.\n"
     ]
    },
    {
     "name": "stdout",
     "output_type": "stream",
     "text": [
      "\n",
      "================================================================================\n",
      "✅ CHECKPOINT AT STEP 100\n",
      " (Random Sample Index: 2418)\n",
      "--------------------------------------------------------------------------------\n",
      "▶️ PROMPT (Input part):\n",
      "[Technical Analysis]\n",
      "Not fully available.\n",
      "\n",
      "[Random Sample of News (last 60 days)]\n",
      "South Korean Presidential Committee Wants to Bring Crypto Into Mainstream Finance: Financial institutions should be allowed to offer cryptocurrency products such as derivatives, according to a government advisory body in South Korea. In a new report, the Presidential Committee on the Fourth Industrial Revolution (PCFIR) proposed the government could move to bring cryptocurrencies into the mainstream of finance through a number of measures, including derivatives. With cryptocurrency trading surging worldwide, it ...\n",
      "\n",
      "🤖 MODEL RESPONSE:\n",
      "assistant\n",
      " you you you you || Prices: up || Prices: up || Prices: up || Prices: up || Prices: up || Prices: up || Prices: up || Prices: up || Prices: up || Prices: up\n",
      "\n",
      "🎯 GROUND TRUTH:\n",
      "<|forecast|>\n",
      "Trend: down || Prices: 9924.52,9650.17,9341.71,8820.52,8784.49,8672.46,8599.51,8562.45,8869.67,8787.79\n",
      "\n",
      "================================================================================\n",
      "\n"
     ]
    },
    {
     "name": "stderr",
     "output_type": "stream",
     "text": [
      "Unsloth: Input IDs of shape torch.Size([1, 13838]) with length 13838 > the model's max sequence length of 8192.\n",
      "We shall truncate it ourselves. It's imperative if you correct this issue first.\n"
     ]
    },
    {
     "name": "stdout",
     "output_type": "stream",
     "text": [
      "\n",
      "================================================================================\n",
      "✅ CHECKPOINT AT STEP 110\n",
      " (Random Sample Index: 1728)\n",
      "--------------------------------------------------------------------------------\n",
      "▶️ PROMPT (Input part):\n",
      "[Technical Analysis]\n",
      "Not fully available.\n",
      "\n",
      "[Random Sample of News (last 60 days)]\n",
      "Another Bitcoin Mining Firm Warns COVID-19 Pandemic May Harm Its Business: Hut 8 Mining Group, a publicly traded cryptocurrency mining firm, is concerned about coronavirus-related delays of new machine deliveries from potential suppliers such as Bitmain and MicroBT.\n",
      "During an earnings call last week, CEO Andrew Kiguel said his firm was grappling with a vague timeline for the delivery of crypto mining machines to support its farms, saying that while in February, “you thought” machines could be delivered between Ma...\n",
      "\n",
      "🤖 MODEL RESPONSE:\n",
      "assistant\n",
      " cutting prices || Prices down || Prices up\n",
      "\n",
      "🎯 GROUND TRUTH:\n",
      "<|forecast|>\n",
      "Trend: up || Prices: 9461.06,10167.27,9529.80,9656.72,9800.64,9665.53,9653.68,9758.85,9771.49,9795.70\n",
      "\n",
      "================================================================================\n",
      "\n"
     ]
    },
    {
     "name": "stderr",
     "output_type": "stream",
     "text": [
      "Unsloth: Input IDs of shape torch.Size([1, 8369]) with length 8369 > the model's max sequence length of 8192.\n",
      "We shall truncate it ourselves. It's imperative if you correct this issue first.\n"
     ]
    },
    {
     "name": "stdout",
     "output_type": "stream",
     "text": [
      "\n",
      "================================================================================\n",
      "✅ CHECKPOINT AT STEP 120\n",
      " (Random Sample Index: 130)\n",
      "--------------------------------------------------------------------------------\n",
      "▶️ PROMPT (Input part):\n",
      "[Technical Analysis for 2021-03-04]\n",
      "BTC Price: 48561.17, BTC RSI: 53.08\n",
      "Gold Price: 1700.20, Gold RSI: 28.25\n",
      "Oil Price: 63.83, Oil RSI: 68.54\n",
      "\n",
      "[Random Sample of News (last 60 days)]\n",
      "JPMorgan Sees Bitcoin Crossing $40K Again In Coming Weeks, If This Key Condition Is Met: JPMorgan analysts see Bitcoin (BTC) continuing on its rally above the $40,000 mark, if the Grayscale Bitcoin Trust (OTC: GBTC ) continues to sustain inflow above the $100 million mark every day in the coming weeks. What Happened: If the institutional investors fail to take Bitcoin past the breakout mark, the subdued cryptocurre...\n",
      "\n",
      "🤖 MODEL RESPONSE:\n",
      "assistant\n",
      " the platform's smart contract code.”\n",
      "• Sovryn’s mission is to build decentralized finance applications that use Bitcoin as their underlying asset. Its goal is to provide users with financial services such as lending and borrowing without relying on traditional financial institutions.\n",
      "• The company is currently in development phase with the funds raised being used to build out its core product suite offerings || Prices: Prices up || Prices: Prices up || Prices: Prices up || Prices: Prices up || Prices: Prices up || Prices: Prices up || Prices: Prices up || Prices: Prices up || Prices: Prices up || Prices: Prices up\n",
      "\n",
      "🎯 GROUND TRUTH:\n",
      "<|forecast|>\n",
      "Trend: up || Prices: 48927.30,48912.38,51206.69,52246.52,54824.12,56008.55,57805.12,57332.09,61243.09,59302.32\n",
      "\n",
      "================================================================================\n",
      "\n"
     ]
    },
    {
     "name": "stdout",
     "output_type": "stream",
     "text": [
      "\n",
      "================================================================================\n",
      "✅ CHECKPOINT AT STEP 130\n",
      " (Random Sample Index: 122)\n",
      "--------------------------------------------------------------------------------\n",
      "▶️ PROMPT (Input part):\n",
      "[Technical Analysis for 2017-08-28]\n",
      "BTC Price: 4382.66, BTC RSI: 70.00\n",
      "Gold Price: 1309.70, Gold RSI: 71.35\n",
      "Oil Price: 46.57, Oil RSI: 43.64\n",
      "\n",
      "[Random Sample of News (last 60 days)]\n",
      "Bitcoin is exploding in Venezuela  but not for the reason you think: As Venezuela suffers its worst meltdown in history, with inflation skyrocketing and basic necessities running in short supply, many have taken to bitcoin mining in a bid to survive, according to a report in the current issue of the Atlantic. The reason? Electricity is now cheaper and more affordable in the crisis-hit country than most basic goods....\n",
      "\n",
      "🤖 MODEL RESPONSE:\n",
      "assistant\n",
      "Prices: 4214.70,4194.61,4318.87,4417.82,4417.76,4473.18,4547.36,4429.30,4313.89,4302.26\n",
      "\n",
      "🎯 GROUND TRUTH:\n",
      "<|forecast|>\n",
      "Trend: no change || Prices: 4579.02,4565.30,4703.39,4892.01,4578.77,4582.96,4236.31,4376.53,4597.12,4599.88\n",
      "\n",
      "================================================================================\n",
      "\n"
     ]
    },
    {
     "name": "stderr",
     "output_type": "stream",
     "text": [
      "Unsloth: Input IDs of shape torch.Size([1, 9752]) with length 9752 > the model's max sequence length of 8192.\n",
      "We shall truncate it ourselves. It's imperative if you correct this issue first.\n"
     ]
    },
    {
     "name": "stdout",
     "output_type": "stream",
     "text": [
      "\n",
      "================================================================================\n",
      "✅ CHECKPOINT AT STEP 140\n",
      " (Random Sample Index: 383)\n",
      "--------------------------------------------------------------------------------\n",
      "▶️ PROMPT (Input part):\n",
      "[Technical Analysis]\n",
      "Not fully available.\n",
      "\n",
      "[Random Sample of News (last 60 days)]\n",
      "Coincheck hackers trying to move stolen cryptocurrency after major Japanese heist: A chart of the NEM virtual currency against Japanese yen is seen on Coincheck's cryptocurrency wallet app - Getty Images AsiaPac Hackers who stole around $530 million worth of cryptocurrency from the Coincheck exchange last week - one of the biggest such heists ever - are trying to move the stolen \"XEM\" coins, the foundation behind the digital currency said on Tuesday. NEM Foundation, creators of the XEM cryptocurrency , have trace...\n",
      "\n",
      "🤖 MODEL RESPONSE:\n",
      "assistant\n",
      " ahead of the new year || Prices are up || Prices are up\n",
      "\n",
      "🎯 GROUND TRUTH:\n",
      "<|forecast|>\n",
      "Trend: up || Prices: 6955.27,7754.00,7621.30,8265.59,8736.98,8621.90,8129.97,8926.57,8598.31,9494.63\n",
      "\n",
      "================================================================================\n",
      "\n"
     ]
    },
    {
     "name": "stderr",
     "output_type": "stream",
     "text": [
      "Unsloth: Input IDs of shape torch.Size([1, 11808]) with length 11808 > the model's max sequence length of 8192.\n",
      "We shall truncate it ourselves. It's imperative if you correct this issue first.\n"
     ]
    },
    {
     "name": "stdout",
     "output_type": "stream",
     "text": [
      "\n",
      "================================================================================\n",
      "✅ CHECKPOINT AT STEP 150\n",
      " (Random Sample Index: 895)\n",
      "--------------------------------------------------------------------------------\n",
      "▶️ PROMPT (Input part):\n",
      "[Technical Analysis]\n",
      "Not fully available.\n",
      "\n",
      "[Random Sample of News (last 60 days)]\n",
      "YELLEN: Bitcoin is a highly speculative asset: It happened — Federal Reserve Chair Janet Yellen talked about bitcoin (BTC-USD).\n",
      "During a press conference following the Fed’s latest monetary policy decision, Yellen was asked about recent gains in the stock market and bitcoin and whether the central bank has factored in these rises in its assessment of the economy.\n",
      "“I would simply say that bitcoin at this time plays a very small role in the payments system,” Yellen said. “[Bitcoin] is not a stable store of value, i...\n",
      "\n",
      "🤖 MODEL RESPONSE:\n",
      "assistant\n",
      "OK || Prices: $17497.93 || Prices: $16800.95 || Prices: $16915.97 || Prices: $16836.86 || Prices: $16837.08 || Prices: $17774.56 || Prices: $17909.90 || Prices: $18803.43 || Prices: $17986.48 || Prices: $19736.69\n",
      "\n",
      "🎯 GROUND TRUTH:\n",
      "<|forecast|>\n",
      "Trend: down || Prices: 13819.80,11490.50,11188.60,11474.90,11607.40,12899.20,11600.10,10931.40,10868.40,11359.40\n",
      "\n",
      "================================================================================\n",
      "\n"
     ]
    },
    {
     "name": "stderr",
     "output_type": "stream",
     "text": [
      "Unsloth: Input IDs of shape torch.Size([1, 23153]) with length 23153 > the model's max sequence length of 8192.\n",
      "We shall truncate it ourselves. It's imperative if you correct this issue first.\n"
     ]
    },
    {
     "name": "stdout",
     "output_type": "stream",
     "text": [
      "\n",
      "================================================================================\n",
      "✅ CHECKPOINT AT STEP 160\n",
      " (Random Sample Index: 952)\n",
      "--------------------------------------------------------------------------------\n",
      "▶️ PROMPT (Input part):\n",
      "[Technical Analysis]\n",
      "Not fully available.\n",
      "\n",
      "[Random Sample of News (last 60 days)]\n",
      "Why Do Some NFL Players Prefer To Get Paid In Crypto?: There is no official data about how popular it is to get paid in crypto instead of fiat currencies as your salary. It mostly depends on the person’s individual circumstances. Some people may find that getting paid in crypto is more popular than fiat, while others may find the opposite to be true. So some people may find it more comfortable to receive their salary in cryptocurrency because they are more familiar with the technology and how it works. Others may...\n",
      "\n",
      "🤖 MODEL RESPONSE:\n",
      "assistant\n",
      " 2022.01.11 13.15.30 4.80.45.34.82.17.42.51.27.23.33.50.04.12.41.12.04.29.42.00.15.20.20.40.13.12.37.21.41.21.35.29.24.27.43.24.13.01.27.34.42.11.24.24.21.41.23.43.24.03.01.45.13.43.43.13.01.41.27.23.32.10.22.39.12.38.12.03.12.14.23.15.29.21.23.33.20.18.17.34.15.23.20.11.12.12.22.21.23.30.38.22.23.36.42.31.23.22.30.34.39.29.24.23.22.24.24.12.34.24.13.38.22.38.34.23.22.39.42.39.21.38.42.38.11.38.22.34.25.23.28.34.30.31.33.30.32.25.31.33.10.23.21.23.20.25.21.30.22.11.01.22.22.24.24.23.31.32.44.20.30.23.32.11.23.28.34.27.31.31.24.23.11.03.10.21.31.20.12.32.29.19.19.11.18.32.12.21.28.21.15.21.31.34.20.32.21.31.29.30.11.01.22.34.32.12.23.12.30.22.20.33.21.32.30.32.33.22.30.34.22.13.03.23.33.24.33.32.21.14.21.29.31.12.14.12.02.22.11.31.30.11.29.31.24.30.23.20.25.13.20.23.08.32.32.21.28.33.23.32.24.20.34.21.21.02.22.13.20.23.32.32.20.11.13.20.33.22.20.23.10.13.07.31.02.21.32.24.31.23.22.25.34.24.32.22.23.33.11.32.14.21.34.03.23.08.25.34.11.34.22.28.32.32.32.32.22.21.23.34.31.11.02.13.12.31.05.04.10.20.09.24.32.13.14.02.24.02.11.22.14.15.25.34.11.10.31.12.28.24.32.12.24.31.21.33.24.24.13.33.07.32.13.13.20.34.20.33.22.23.21.32.21.20.10.20.21.24.21.30.21.33.11.21.30.30.13.02.11.31.33.02.22.14.12.19.13.30.22.22.12.12.04.21.24.33.24.34.31.20.15.24.30.32.30.28.20.14.23.31.30.14.14.10.13.01.25.20.10.23.04.24.32.29.29.02.13.20.31.24.34.23.11.34.20.33.20.13.03.01.33.20.21.12.15.23.12.33.32.30.22.08.32.24.13.23.02.11.29.31.33.22.29.32.32.13.23.14.21.23.14.21.10.22.10.30.21.03.04.14.03.01.12.04.20.21.13.32.20.30.24.12.23.30.04.21.21.31.15.31.21.23.12.32.23.30.14.34.31.23.22.23.32.25.12.29.20.12.23.30.04.20.20.02.23.33.11.15.21.01.02.23.29.25.04.14.02.25.24.32.21.22.21.32.33.04.04.11.33.32.22.21.32.12.22.13.33.03.23.03.20.21.33.21.03.12.34.23.34.23.22.24.31.32.31.21.21.12.02.22.34.21.14.22.22.20.23.30.03.05.11.03.32.24.31.23.24.21.29.22.21.32.03.22.33.11.32.34.22.21.21.32.22.14.14.12.21.34.22.25.13.23.30.22.20.08.21.01.12.32.32.12.13.20.22.22.20.24.32.12.14.03.25.12.21.24.04.13.21.31.20.33.30.04.21.03.24.10.10.21.12.20.23.32.24.12.\n",
      "\n",
      "🎯 GROUND TRUTH:\n",
      "<|forecast|>\n",
      "Trend: up || Prices: 16217.32,16444.98,17168.57,16967.13,17088.66,16908.24,17130.49,16974.83,17089.50,16848.13\n",
      "\n",
      "================================================================================\n",
      "\n"
     ]
    },
    {
     "name": "stderr",
     "output_type": "stream",
     "text": [
      "Unsloth: Input IDs of shape torch.Size([1, 11284]) with length 11284 > the model's max sequence length of 8192.\n",
      "We shall truncate it ourselves. It's imperative if you correct this issue first.\n"
     ]
    },
    {
     "name": "stdout",
     "output_type": "stream",
     "text": [
      "\n",
      "================================================================================\n",
      "✅ CHECKPOINT AT STEP 170\n",
      " (Random Sample Index: 2069)\n",
      "--------------------------------------------------------------------------------\n",
      "▶️ PROMPT (Input part):\n",
      "[Technical Analysis]\n",
      "Not fully available.\n",
      "\n",
      "[Random Sample of News (last 60 days)]\n",
      "Bitcoin – Moving in Stealth Mode, $6,500 the next Target: Bitcoin gained 0.59% on Thursday, following a 0.61% rise on Wednesday, to end the day at $6,406.1, its first hold onto $6,400 levels since 28thOctober.\n",
      "Another range bound morning saw Bitcoin move from a start to the day morning low $6,352.9 to a morning high $6,392.8 before easing back. The early moves left the day’s major support and resistance levels untested, with Bitcoin moving in sync with the broader market through the morning.\n",
      "Finding support from ...\n",
      "\n",
      "🤖 MODEL RESPONSE:\n",
      "assistant\n",
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n",
      "\n",
      "🎯 GROUND TRUTH:\n",
      "<|forecast|>\n",
      "Trend: no change || Prices: 3779.13,3820.72,4257.42,4278.85,4017.27,4214.67,4139.88,3894.13,3956.89,3753.99\n",
      "\n",
      "================================================================================\n",
      "\n"
     ]
    },
    {
     "name": "stderr",
     "output_type": "stream",
     "text": [
      "Unsloth: Input IDs of shape torch.Size([1, 12589]) with length 12589 > the model's max sequence length of 8192.\n",
      "We shall truncate it ourselves. It's imperative if you correct this issue first.\n"
     ]
    },
    {
     "name": "stdout",
     "output_type": "stream",
     "text": [
      "\n",
      "================================================================================\n",
      "✅ CHECKPOINT AT STEP 180\n",
      " (Random Sample Index: 2465)\n",
      "--------------------------------------------------------------------------------\n",
      "▶️ PROMPT (Input part):\n",
      "[Technical Analysis]\n",
      "Not fully available.\n",
      "\n",
      "[Random Sample of News (last 60 days)]\n",
      "First Bitcoin Capital Corp. Signs Evaluation Agreements with Emercoin International Development Group, To Develop and Market Solutions to Provide Distributed Blockchain Services For Business and Personal Use: VANCOUVER, BC / ACCESSWIRE / January, 28, 2016 /First BITCoin Capital Corp. (BITCF) announced today that it has signed an evaluation agreement with Emercoin International Development Group, a leader in solutions to provide distributed blockchain services for business and personal use. First BITCoin has signe...\n",
      "\n",
      "🤖 MODEL RESPONSE:\n",
      "assistant\n",
      ",\n",
      "\n",
      "🎯 GROUND TRUTH:\n",
      "<|forecast|>\n",
      "Trend: no change || Prices: 426.77,424.23,416.52,414.82,416.73,417.96,420.87,420.90,421.44,424.03\n",
      "\n",
      "================================================================================\n",
      "\n"
     ]
    },
    {
     "name": "stderr",
     "output_type": "stream",
     "text": [
      "Unsloth: Input IDs of shape torch.Size([1, 12518]) with length 12518 > the model's max sequence length of 8192.\n",
      "We shall truncate it ourselves. It's imperative if you correct this issue first.\n"
     ]
    },
    {
     "name": "stdout",
     "output_type": "stream",
     "text": [
      "\n",
      "================================================================================\n",
      "✅ CHECKPOINT AT STEP 190\n",
      " (Random Sample Index: 108)\n",
      "--------------------------------------------------------------------------------\n",
      "▶️ PROMPT (Input part):\n",
      "[Technical Analysis for 2016-02-29]\n",
      "BTC Price: 437.70, BTC RSI: 64.50\n",
      "Gold Price: 1233.90, Gold RSI: 64.30\n",
      "Oil Price: 33.75, Oil RSI: 58.10\n",
      "\n",
      "[Random Sample of News (last 60 days)]\n",
      "BTCS Announces Letter to Shareholders From CEO: ARLINGTON, VA--(Marketwired - Feb 23, 2016) - BTCS Inc. ( OTCQB : BTCS ) (\"BTCS\" or the \"Company\"), a blockchain technology focused company which secures the blockchain through its transaction verification services business, released a Letter to Shareholders updating current activities and outlining its corporate strategy for 2016, as follows: Dear Shareholders, Over th...\n",
      "\n",
      "🤖 MODEL RESPONSE:\n",
      "assistant\n",
      " (1.7.1.2.3.2.3.1.0.0.0.0.1.3.2.1.1.1.1.0.0.1.3.3.1.0.0.1.3.3.1.1.1.0.0.1.3.3.1.0.0.0.3.3.1.0.0.3.2.2.2.2.3.3.2.2.2.3.2.3.3.2.2.2.3.3.3.2.2.2.3.3.2.3.2.2.2.2.2.2.2.2.2.2.2.2.3.2.3.3.3.3.3.3.2.3.3.3.3.3.3.3.3.3.3.3.3.3.3.3.3.3.3.3.3.3.3.3.3.3.3.3.3.3.3.3.3.3.3.3.3.3.3.3.3.3.3.3.3.3.3.3.3.3.3.3.3.3.3.3.3.3.3.3.3.3.3.3.3.3.3.3.3.3.3.3.3.3.3.3.3.3.3.3.3.3.3.3.3.3.3.3.3.3.3.3.3.3.3.3.3.3.3.3.3.3.3.3.3.3.3.3.3.3.3.3.3.3.3.3.3.3.3.3.3.3.3.3.3.3.3.3.3.3.3.3.3.3.3.3.3.3.3.3.3.3.3.3.3.3.3.3.3.3.3.3.3.3.3.3.3.3.3.3.3.3.3.3.3.3.3.3.3.3.3.3.3.3.3.3.3.3.3.3.3.3.3.3.3.3.3.3.3.3.3.3.3.3.3.3.3.3.3.3.3.3.3.3.3.3.3.3.3.3.3.3.3.3.3.3.3.3.3.3.3.3.3.3.3.3.3.3.3.3.3.3.3.3.3.3.3.3.3.3.3.3.3.3.3.3.3.3.3.3.3.3.3.3.3.3.3.3.3.3.3.3.3.3.3.3.3.3.3.3.3.3.3.3.3.3.3.3.3.3.3.3.3.3.3.3.3.3.3.3.3.3.3.3.3.3.3.3.3.3.3.3.3.3.3.3.3.3.3.3.3.3.3.3.3.3.3.3.3.3.3.3.3.3.3.3.3.3.3.3.3.3.3.3.3.3.3.3.3.3.3.3.3.3.3.3.3.3.3.3.3.3.3.3.3.3.3.3.3.3.3.3.3.3.3.3.3.3.3.3.3.3.3.3.3.3.3.3.3.3.3.3.3.3.3.3.3.3.3.3.3.3.3.3.3.3.3.3.3.3.3.3.3.3.3.3.3.3.3.3.3.3.3.3.3.3.3.3.3.3.3.3.3.3.3.3.3.3.3.3.3.3.3.3.3.3.3.3.3.3.3.3.3.3.3.3.3.3.3.3.3.3.3.3.3.3.3.3.3.3.3.3.3.3.3.3.3.3.3.3.3.3.3.3.3.3.3.3.3.3.3.3.3.3.3.3.3.3.3.3.3.3.3.3.3.3.3.3.3.3.3.3.3.3.3.3.3.3.3.3.3.3.3.3.3.3.3.3.3.3.3.3.3.3.3.3.3.3.3.3.3.3.3.3.3.3.3.3.3.3.3.3.3.3.3.3.3.3.3.3.3.3.3.3.3.3.3.3.3.3.3.3.3.3.3.3.3.3.3.3.3.3.3.3.3.3.3.3.3.3.3.3.3.3.3.3.3.3.3.3.3.3.3.3.3.3.3.3.3.3.3.3.3.3.3.3.3.3.3.3.3.3.3.3.3.3.3.3.3.3.3.3.3.3.3.3.3.3.3.3.3.3.3.3.3.3.3.3.3.3.3.3.3.3.3.3.3.3.3.3.3.3.3.3.3.3.3.3.3.3.3.3.3.3.3.3.3.3.3.3.3.3.3.3.3.3.3.3.3.3.3.3.3.3.3.3.3.3.3.3.3.3.3.3.3.3.3.3.3.3.3.3.3.3.3.3.3.3.3.3.3.3.3.3.3.3.3.3.3.3.3.3.3.3.3.3.3.3.3.3.3.3.3.3.3.3.3.3.3.3.3.3.3.3.3.3.3.3.3.3.3.3.3.3.3.3.3.3.3.3.3.3.3.3.3.3.3.3.3.3.3.3.3.3.3.3.3.3.3.3.3.3.3.3.3.3.3.3.3.3.3.3.3.3.3.3.3.3.3.3.3.3.3.3.3.3.3.3.3.3.3.3.3.3.3.3.3.3.3.3.3.3.3.3.3.3.3.3.3.3.3.3.3.3.3.3.3.3.3.3.3.3.3.3.3.3.3.3.3.3.3.3.3.3.3.3.3.3.3.3.3.3.3.3.3.3.3.3.3.3.3.3.3.3.3.3.3.3.3.3.3.3.3.3.3.3.3.3.3.3.3.3.3.3.3.3.3.3.3.3.3.3.3.3.3.3.3.3.3.3.3.3.3.3.3.3.3.3.3.3.3.3.3.3.3.3.3.3.3.3\n",
      "\n",
      "🎯 GROUND TRUTH:\n",
      "<|forecast|>\n",
      "Trend: down || Prices: 435.12,423.99,421.65,410.94,400.57,407.71,414.32,413.97,414.86,417.13\n",
      "\n",
      "================================================================================\n",
      "\n"
     ]
    },
    {
     "name": "stdout",
     "output_type": "stream",
     "text": [
      "\n",
      "================================================================================\n",
      "✅ CHECKPOINT AT STEP 200\n",
      " (Random Sample Index: 2298)\n",
      "--------------------------------------------------------------------------------\n",
      "▶️ PROMPT (Input part):\n",
      "[Technical Analysis for 2015-06-12]\n",
      "BTC Price: 229.98, BTC RSI: 48.37\n",
      "Gold Price: 1178.80, Gold RSI: 44.29\n",
      "Oil Price: 59.96, Oil RSI: 53.19\n",
      "\n",
      "[Random Sample of News (last 60 days)]\n",
      "Lucrazon Global Helps Merchants by Integrating Cryptocurrency With Bitcoin Payment Acceptance: IRVINE, CA--(Marketwired - May 4, 2015) - California-based Lucrazon Global (http://www.lucrazonglobal.com/), a fully integrated Ecommerce platform and Global Business Network designed specifically for Internet entrepreneurs, Work from Home and Network Marketing professionals, and businesses of any type, reinforces its servi...\n",
      "\n",
      "🤖 MODEL RESPONSE:\n",
      "assistant\n",
      "212.82,212.60,213.59,215.13,216.30,214.70,215.12,214.66,217.42,217.51\n",
      "\n",
      "🎯 GROUND TRUTH:\n",
      "<|forecast|>\n",
      "Trend: up || Prices: 232.40,233.54,236.82,250.90,249.28,249.01,244.61,245.21,243.94,246.99\n",
      "\n",
      "================================================================================\n",
      "\n"
     ]
    },
    {
     "name": "stderr",
     "output_type": "stream",
     "text": [
      "/home/moein_salimi/users/babak/IdeaGeneration/venv/lib/python3.10/site-packages/peft/utils/save_and_load.py:252: UserWarning: Setting `save_embedding_layers` to `True` as the embedding layer has been resized during finetuning.\n",
      "  warnings.warn(\n"
     ]
    },
    {
     "name": "stdout",
     "output_type": "stream",
     "text": [
      "\n",
      "================================================================================\n",
      "✅ CHECKPOINT AT STEP 210\n",
      " (Random Sample Index: 814)\n",
      "--------------------------------------------------------------------------------\n",
      "▶️ PROMPT (Input part):\n",
      "[Technical Analysis for 2016-04-13]\n",
      "BTC Price: 423.73, BTC RSI: 55.90\n",
      "Gold Price: 1246.80, Gold RSI: 54.68\n",
      "Oil Price: 41.76, Oil RSI: 64.01\n",
      "\n",
      "[Random Sample of News (last 60 days)]\n",
      "Your first trade for Tuesday: The \" Fast Money \" traders gave their final trades of the day. Pete Najarian was a buyer of IBM. Brian Kelly was a buyer of GDX. Karen Finerman was a buyer of C. Guy Adami was a buyer of CSCO. Trader disclosure: On Monday, April 11 the following stocks and commodities mentioned or intended to be mentioned on CNBC's \"Fast Money\" were owned by the \"Fast Money\" traders: PETE NAJARIAN is lon...\n",
      "\n",
      "🤖 MODEL RESPONSE:\n",
      "assistant\n",
      "[2016.04.16] prices: 410.63,409.94,410.20,407.83,412.31,413.07,408.29,410.26,413.70,414.12\n",
      "\n",
      "🎯 GROUND TRUTH:\n",
      "<|forecast|>\n",
      "Trend: up || Prices: 424.28,429.71,430.57,427.40,428.59,435.51,441.39,449.42,445.74,450.28\n",
      "\n",
      "================================================================================\n",
      "\n"
     ]
    },
    {
     "name": "stderr",
     "output_type": "stream",
     "text": [
      "Unsloth: Input IDs of shape torch.Size([1, 8458]) with length 8458 > the model's max sequence length of 8192.\n",
      "We shall truncate it ourselves. It's imperative if you correct this issue first.\n"
     ]
    },
    {
     "name": "stdout",
     "output_type": "stream",
     "text": [
      "\n",
      "================================================================================\n",
      "✅ CHECKPOINT AT STEP 220\n",
      " (Random Sample Index: 2232)\n",
      "--------------------------------------------------------------------------------\n",
      "▶️ PROMPT (Input part):\n",
      "[Technical Analysis]\n",
      "Not fully available.\n",
      "\n",
      "[Random Sample of News (last 60 days)]\n",
      "Paxful, Citing Regulations and Its Own ‘Risk Tolerance,’ Exits Venezuela’s P2P Bitcoin Market: Paxful is pulling out of Venezuela’s peer-to-peer (P2P) bitcoin scene.\n",
      "• “Increasingly strict” regulations hampered the P2Pbitcoinexchange’s ability to “provide services to Venezuelans,” according to a video tweeted by Paxful Monday.\n",
      "• A company spokeswoman confirmed the exit with CoinDesk. “Concerns regarding the regulatory landscape around Venezuela and Paxful’s own risk tolerance” prompted the exit, she said.\n",
      "• New V...\n",
      "\n",
      "🤖 MODEL RESPONSE:\n",
      "assistant\n",
      "1.75.74.58.97.66.61.34.65.52.57.77.78.78.80.92.88.93.67.68.78.79.79.83.86.82.82.78.90.89.91.87.87.88.86.85.88.87.84.94.84.88.88.87.92.90.85.84.89.88.91.89.91.87.87.88.87.88.84.88.87.87.86.89.85.90.87.94.88.93.94.94.89.93.92.95.94.94.88.89.90.90.85.87.88.85.88.85.86.85.86.86.88.88.86.86.88.88.89.88.89.86.87.88.92.84.93.92.94.87.89.89.91.89.88.88.87.86.86.85.94.91.94.91.94.91.91.95.92.92.94.93.89.94.89.89.88.87.86.92.96.94.93.92.93.93.92.94.91.93.95.89.89.89.86.89.94.92.87.88.87.86.88.88.93.95.87.88.86.89.89.88.89.88.94.87.86.91.94.90.86.94.85.98.97.97.97.98.97.96.86.97.97.96.95.87.89.88.88.98.97.96.93.97.95.95.86.91.94.90.88.86.92.95.94.93.87.85.87.88.90.90.86.87.86.88.88.87.87.88.87.89.91.89.93.93.92.93.94.87.93.88.92.92.90.87.86.87.95.95.93.94.85.94.90.92.91.94.95.89.85.87.86.87.86.86.86.87.90.98.86.87.85.89.90.89.92.94.92.92.87.89.88.86.89.87.98.97.94.86.87.89.95.85.94.94.87.94.89.87.90.88.85.95.95.86.91.93.87.89.92.94.96.89.94.94.88.95.93.89.89.89.93.90.90.86.88.88.88.96.97.95.94.95.96.95.94.95.91.87.91.91.92.88.86.92.94.94.92.87.87.85.87.89.86.88.98.87.87.86.86.88.88.89.87.87.89.86.87.91.86.88.89.88.90.95.95.93.94.91.87.85.87.90.85.87.87.85.92.94.86.94.95.96.94.96.97.97.96.96.97.88.90.89.88.88.88.86.87.95.96.87.94.94.88.86.96.92.96.88.93.93.89.95.87.96.98.99.98.95.93.92.92.88.92.93.92.88.89.95.97.88.95.95.94.87.88.89.95.87.88.89.85.87.86.88.87.91.92.97.97.85.85.89.94.89.88.88.87.92.95.94.97.98.89.88.93.94.87.87.87.87.87.86.89.87.86.87.95.88.93.94.86.88.88.89.92.96.85.87.88.88.94.96.87.86.87.89.93.89.88.85.88.95.95.88.92.87.91.87.87.92.91.87.93.94.94.97.93.95.98.98.87.89.90.93.91.86.90.88.92.89.92.90.91.90.98.99.96.88.87.87.90.92.89.89.95.85.88.90.93.88.88.88.85.85.85.90.92.86.86.89.91.87.88.88.90.92.93.92.88.91.93.94.97.97.88.96.99.98.86.88.87.87.92.94.88.88.94.89.98.97.86.89.89.88.95.87.91.93.91.88.96.89.90.94.93.94.94.94.94.87.94.94.87.87.94.87.85.86.86.93.95.98.89.88.94.96.95.93.95.94.94.86.95.93.97.89.89.86.88.86.88.88.87.94.97.94.86.86.87.85.85.92.97.85.88.88.88.90.90.87.93.88.95.94.94.89.87.93.89.93.94.\n",
      "\n",
      "🎯 GROUND TRUTH:\n",
      "<|forecast|>\n",
      "Trend: up || Prices: 13075.25,13654.22,13271.29,13437.88,13546.52,13781.00,13737.11,13550.49,13950.30,14133.71\n",
      "\n",
      "================================================================================\n",
      "\n"
     ]
    },
    {
     "name": "stderr",
     "output_type": "stream",
     "text": [
      "Unsloth: Input IDs of shape torch.Size([1, 8427]) with length 8427 > the model's max sequence length of 8192.\n",
      "We shall truncate it ourselves. It's imperative if you correct this issue first.\n"
     ]
    },
    {
     "name": "stdout",
     "output_type": "stream",
     "text": [
      "\n",
      "================================================================================\n",
      "✅ CHECKPOINT AT STEP 230\n",
      " (Random Sample Index: 1718)\n",
      "--------------------------------------------------------------------------------\n",
      "▶️ PROMPT (Input part):\n",
      "[Technical Analysis for 2015-11-16]\n",
      "BTC Price: 330.75, BTC RSI: 50.91\n",
      "Gold Price: 1083.70, Gold RSI: 28.30\n",
      "Oil Price: 41.74, Oil RSI: 38.38\n",
      "\n",
      "[Random Sample of News (last 60 days)]\n",
      "Identabit Challenges Bitcoin and BitShares: SYDNEY, AUSTRALIA / ACCESSWIRE / October 9, 2015 /Australian startup Thinking Active, led by New York software entrepreneur John Underwood, today revealed plans forIDentabit, an identity-based alternative to Bitcoin. Designed to liberate decentralized currencies, IDentabit enables regulatory acceptance and viral adoption by way of user association.\n",
      "IDentabit has been a year...\n",
      "\n",
      "🤖 MODEL RESPONSE:\n",
      "assistant\n",
      "7.29694237176437500.003294497846770830.95866224864762900.003817308163456630.89365902948766300.003033783037378001.97413421271496998.38908792437816597.86570437809233089.04843979004446994.13909690007097997.30998990900308883.32879686019475785.59841888708614583.05999148648096964.79122497464969560.46067994899499953.46744837193409576.49308979388149644.49929714997093844.70986686271909247.69119986440942047.49836616164714237.50897807742193669.99343481239447456.98498490016998363.31793760882098983.92824810236665844.24634701667219298.32694916827292302.47129776270597587.69996793937460567.99410094999309607.99589729787625944.44639226206926747.02488939979020708.23053464296344923.61787078263476975.94521696779732823.06364642794907986.99538800731608406.24903446102612839.54054084767908659.90277949879624999.03122444433369067.43704926147776869.37059976997729456.66976840204006207.94522979623378802.94576836846306473.88098262384794799.34789909048495008.30606938560662438.73493404276507475.85402431649376659.25593905076804920.93048699012692762.67506839212309930.69789280903798279.50698349182904849.66340044276863869.78974929676962403.29934761998855703.96375943669860739.09880545917873657.40909969489682367.67206492779246836.80340619905433959.58623586645764958.79642520666897303.39045929028498977.87937763087985992.79704362390868546.98090276745079666.80739793670886358.77592023829484559.98958800876939357.06076868422664486.00784464396329875.64940466679758977.75041304638759869.32277727644987056.35387677366242327.45298794708644274.67968623570607837.63556782803454699.79448364985894498.98028085963776990.89029487807437406.67060703697806492.83268486799808372.46590509857083058.77097007280236940.95283637649486695.59345749884606492.75738617959993086.24445736929495785.96450596699847442.88798689367668034.67348412005266298.59073036362420396.89530809063486006.73840416349743547.97994866665303302.34244495405302645.90334228704994035.59244993647773997.72340948300294829.04466362996907634.53089509338542666.40477059067489995.54604905796746269.34829880690073669.806334322\n",
      "\n",
      "🎯 GROUND TRUTH:\n",
      "<|forecast|>\n",
      "Trend: up || Prices: 335.09,334.59,326.15,322.02,326.93,324.54,323.05,320.05,328.21,352.68\n",
      "\n",
      "================================================================================\n",
      "\n"
     ]
    },
    {
     "name": "stderr",
     "output_type": "stream",
     "text": [
      "Unsloth: Input IDs of shape torch.Size([1, 9532]) with length 9532 > the model's max sequence length of 8192.\n",
      "We shall truncate it ourselves. It's imperative if you correct this issue first.\n"
     ]
    },
    {
     "name": "stdout",
     "output_type": "stream",
     "text": [
      "\n",
      "================================================================================\n",
      "✅ CHECKPOINT AT STEP 240\n",
      " (Random Sample Index: 902)\n",
      "--------------------------------------------------------------------------------\n",
      "▶️ PROMPT (Input part):\n",
      "[Technical Analysis]\n",
      "Not fully available.\n",
      "\n",
      "[Random Sample of News (last 60 days)]\n",
      "LinkedIn founder and billionaire investor Reid Hoffman: 'I'm optimistic' about the next 100 years: Reid Hoffman Portrait LinkedIn Illustration (Mike Nudelman/Business Insider) Reid Hoffman was one of the first people to have the idea that the internet could be used to connect large numbers of like-minded people together, founding a short-lived social platform called SocialNet in 1997. After an executive stint at online payments innovator PayPal, Hoffman turned that insight into LinkedIn, which launched in 2002 an...\n",
      "\n",
      "🤖 MODEL RESPONSE:\n",
      "assistant\n",
      ".02628866.03312360.00104824.01091112.17321112.00124702.03902010.00807120.09011990.08709603.08999713.04349883.21898044.10801229.14788283.02841838.99397312.00669084.02139906.91912831.00088038.66080140.21888113.13096783.00200934.20919729.82394099.86896222.80186041.80996489.81032803.64621902.49014222.64398384.16778338.81172144.86897192.32908286.03206010.09266213.93201723.06901923.66022383.08188027.86288979.90600036.72733970.67809823.20866899.17829092.30926022.24009171.80207073.32119301.33980094.86068021.33270319.97121184.12010003.31960028.18016008.29184320.11960316.81892468.18384112.80368601.11300930.08808833.80223931.44638790.14973010.62992896.91937416.46896982.39870003.89924829.88131060.29346936.62386372.02970079.39181982.42422213.96908014.13880226.00422978.27932202.80386189.04003047.28127011.08380209.23217709.89960088.83231340.90714399.30826080.29399426.00903014.46849687.29199213.18932143.14738019.94082877.63002400.73621342.90300710.63802390.04940081.07010464.22876908.93784081.13393329.00069976.97188484.30212137.00182966.21012086.78908998.80378446.23999629.90382946.19310179.70381029.72621019.38196081.62091020.32332099.90002020.88928729.92228090.09084022.62483879.42447089.07903171.17669023.83170860.30388764.83200498.31127001.00809601.83730029.64226162.38993426.11716640.00860427.86908123.99918203.97208141.09316491.83669831.88241902.76189998.34914910.20110270.83309382.90719627.13018862.90221192.99792083.66671103.63892138.12222027.28700831.68340290.81236821.91903014.31189498.10802973.26481083.92229013.97419717.19113034.30022610.20138236.97300880.33940660.80188810.32287097.26298242.00741273.49002613.28272008.29020401.23499688.08891900.08749893.86221189.77836007.22149904.38619008.26008882.19743284.81989626.86218970.03303609.83841608.43007070.60298078.30272006.42726092.72201992.96228141.30329080.80012167.01492877.82190876.01824491.33318908.20281120.00690188.04329077.66189116.46842217.64206207.92927019.62728210.32902001.01970341.90191871.10298386.17411820.01008211.90920168.10308073.99208991.88122671.11003717.71122020.1878\n",
      "\n",
      "🎯 GROUND TRUTH:\n",
      "<|forecast|>\n",
      "Trend: down || Prices: 670.63,677.33,640.56,666.52,650.96,649.36,647.66,664.55,654.47,658.08\n",
      "\n",
      "================================================================================\n",
      "\n"
     ]
    },
    {
     "name": "stdout",
     "output_type": "stream",
     "text": [
      "\n",
      "================================================================================\n",
      "✅ CHECKPOINT AT STEP 250\n",
      " (Random Sample Index: 1839)\n",
      "--------------------------------------------------------------------------------\n",
      "▶️ PROMPT (Input part):\n",
      "[Technical Analysis for 2020-03-10]\n",
      "BTC Price: 7909.73, BTC RSI: 30.76\n",
      "Gold Price: 1659.10, Gold RSI: 60.36\n",
      "Oil Price: 34.36, Oil RSI: 24.26\n",
      "\n",
      "[Random Sample of News (last 60 days)]\n",
      "Litecoin Falls 10% In Bearish Trade: Investing.com - Litecoin was trading at $58.567 by 12:16 (17:16 GMT) on the Investing.com Index on Friday, down 10.09% on the day. It was the largest one-day percentage loss since February 26. The move downwards pushed Litecoin's market cap down to $3.793B, or 1.50% of the total cryptocurrency market cap. At its highest, Litecoin's market cap was $14.099B. Litecoin had traded in ...\n",
      "\n",
      "🤖 MODEL RESPONSE:\n",
      "assistant\n",
      "27937.04,39362.07,60891.92,90780.96,96090.74,94913.70,91398.98,160397.13,92938.49,66312.28\n",
      "\n",
      "🎯 GROUND TRUTH:\n",
      "<|forecast|>\n",
      "Trend: down || Prices: 7911.43,4970.79,5563.71,5200.37,5392.31,5014.48,5225.63,5238.44,6191.19,6198.78\n",
      "\n",
      "================================================================================\n",
      "\n"
     ]
    },
    {
     "name": "stderr",
     "output_type": "stream",
     "text": [
      "Unsloth: Input IDs of shape torch.Size([1, 8806]) with length 8806 > the model's max sequence length of 8192.\n",
      "We shall truncate it ourselves. It's imperative if you correct this issue first.\n"
     ]
    },
    {
     "name": "stdout",
     "output_type": "stream",
     "text": [
      "\n",
      "================================================================================\n",
      "✅ CHECKPOINT AT STEP 260\n",
      " (Random Sample Index: 2413)\n",
      "--------------------------------------------------------------------------------\n",
      "▶️ PROMPT (Input part):\n",
      "[Technical Analysis for 2017-05-04]\n",
      "BTC Price: 1537.67, BTC RSI: 86.81\n",
      "Gold Price: 1226.50, Gold RSI: 33.15\n",
      "Oil Price: 45.52, Oil RSI: 25.20\n",
      "\n",
      "[Random Sample of News (last 60 days)]\n",
      "FIRST BITCOIN CAPITAL Corp. Subsidiary COINQX.com is First Exchange to Offer Futures Trading in XBU: VANCOUVER, BC / ACCESSWIRE / March 21, 2017 /FIRST BITCOIN CAPITAL CORP. (OTC PINK: BITCF) - CoinQx Exchange LIMITED, a wholly owned subsidiary of FIRST BITCOIN CAPITAL CORP (BITCF or the \"Company\"), and history's first publicly trading bitcoin business, is pleased to announce the launching of BITCOIN UNLIMITED FUTUR...\n",
      "\n",
      "🤖 MODEL RESPONSE:\n",
      "assistant\n",
      "9.02.06.04.08.07.06.16.09.04.00.06.02.03.08.04.00.20.92.91.80.30.96.72.07.30.93.92.07.36.97.90.29.79.49.70.68.10.40.29.00.29.09.60.10.00.88.10.90.11.70.10.80.07.00.33.19.42.83.99.19.04.08.99.31.91.91.78.90.23.18.20.78.08.80.36.92.00.02.29.80.00.16.90.39.69.90.70.80.00.70.94.72.92.10.80.89.09.30.04.02.31.42.69.34.29.00.00.90.11.20.70.90.08.62.00.29.90.03.69.03.39.04.07.10.39.27.69.09.12.84.00.28.20.09.60.27.07.01.82.67.40.40.10.07.94.67.41.20.94.10.13.09.09.66.00.00.02.06.80.37.69.03.30.00.89.93.07.48.09.91.13.96.03.02.19.11.83.30.84.78.21.60.73.71.99.71.94.61.40.94.11.16.28.97.92.17.96.90.97.42.40.02.71.73.42.00.92.04.13.73.83.09.06.93.78.08.16.74.00.12.87.01.80.67.08.89.92.92.40.00.23.29.77.90.09.23.44.09.03.08.82.72.90.20.36.40.00.02.07.28.13.06.14.00.09.70.40.28.87.90.42.14.90.99.09.64.62.31.00.00.30.93.06.01.03.00.90.08.08.38.73.22.09.13.97.30.00.77.98.94.02.08.09.63.90.20.99.00.13.00.28.02.23.00.94.33.00.71.46.23.09.60.71.80.29.49.04.60.16.00.90.03.08.36.99.03.20.33.07.01.86.66.21.40.79.48.60.09.68.27.01.69.09.91.10.07.34.70.19.72.98.09.67.36.09.00.17.29.00.67.73.49.76.00.90.94.84.34.90.30.71.10.90.00.90.94.00.20.09.99.00.02.10.64.40.99.40.06.70.23.20.60.02.99.20.91.00.79.40.61.10.16.31.08.00.79.24.30.62.10.26.86.78.90.39.03.62.99.29.61.00.87.10.00.70.90.63.69.60.02.90.00.13.06.03.90.20.89.74.90.22.99.90.60.99.96.03.11.06.20.99.01.90.19.03.09.00.88.90.30.92.02.09.39.28.00.70.70.90.60.06.24.40.09.09.60.12.90.91.99.90.17.72.00.66.00.62.99.99.28.04.79.20.09.23.19.20.18.30.27.27.23.02.84.00.91.30.02.90.96.08.93.89.09.99.11.60.04.80.24.32.68.38.26.00.80.03.43.30.69.42.99.80.68.97.19.00.09.40.78.08.69.06.96.07.89.70.97.33.06.40.99.99.07.08.92.90.06.09.19.01.91.09.09.31.39.97.63.13.88.20.79.97.09.04.99.14.90.99.47.09.08.70.16.33.06.14.41.00.09.16.99.09.09.12.90.00.22.02.20.89.97.01.10.44.06.10.90.92.90.99.99.31.07.39.26.26.80.01.90.68.79.03.47.90.69.10.00.08.87.20.27.90.10.11.03.04.84.90.92.42.03.90.09.49.80.73.67.07.01.96.29.49.09.72.11.27.39.32.97.82.70.69.20.67.60.20.06.02.61.97.00.03.93.00.30.46.34.03.30.08.74.\n",
      "\n",
      "🎯 GROUND TRUTH:\n",
      "<|forecast|>\n",
      "Trend: up || Prices: 1555.45,1578.80,1596.71,1723.35,1755.36,1787.13,1848.57,1724.24,1804.91,1808.91\n",
      "\n",
      "================================================================================\n",
      "\n"
     ]
    },
    {
     "name": "stderr",
     "output_type": "stream",
     "text": [
      "Unsloth: Input IDs of shape torch.Size([1, 8454]) with length 8454 > the model's max sequence length of 8192.\n",
      "We shall truncate it ourselves. It's imperative if you correct this issue first.\n"
     ]
    },
    {
     "name": "stdout",
     "output_type": "stream",
     "text": [
      "\n",
      "================================================================================\n",
      "✅ CHECKPOINT AT STEP 270\n",
      " (Random Sample Index: 1139)\n",
      "--------------------------------------------------------------------------------\n",
      "▶️ PROMPT (Input part):\n",
      "[Technical Analysis for 2019-10-14]\n",
      "BTC Price: 8374.69, BTC RSI: 40.29\n",
      "Gold Price: 1491.70, Gold RSI: 47.42\n",
      "Oil Price: 53.59, Oil RSI: 44.55\n",
      "\n",
      "[Random Sample of News (last 60 days)]\n",
      "InstaDApp DeFi Site Raises $2.4 Million From Prominent Crypto Investors: India-based InstaDApp announced Tuesday that it raised $2.4 million to build out its smart wallet. The goal is to help users easily execute advanced transactions through the company’s decentralized finance (DeFi) portal.\n",
      "In the early days of the internet, some of the most valuable properties were portals – websites that gathered information in ...\n",
      "\n",
      "🤖 MODEL RESPONSE:\n",
      "assistant\n",
      "231.7354993099949293903303060467007062999698909060812790306189912021287079802088066390901606899309984902012809791706939194792938909009161969048896919286939306271903919119293108900601129420291842941676904099949990069183028060006203097300282930208603090192971993803722299900900790709320102091197609960301121900911960907338182049740792272900806838030909202102042970112191010696291907031029107007200600090112006011007030321999706332901199720063993114131300009630384129160032918969293392931044206920209070291397908280100909940289922193129920763028892919689199079091080980937092890688008210183721099600907990110801023096196640333030309149293700319793991690489086639039649796090809700998200902270832960199020449901880391704121200769099026069914067920107006126100201170142020076499907610740392910910001929632969142992009894100764209200202492092701003203760806109182814077901900090960001209472990908892104901163248060400930902704390391017430020822070039430996970317291400908888083400986200890210040034071990877229999231949603896994087393049390901176679890140800419600603304940090317100892320091990601411314000098031103832790000907169068264090716906001932990021997090914097031109774394911209016201991863209304824071033998960609873709299228331242003996888270183907189039023930040101913900218096090710109931947281390606912126900997066096971109800300190929939129769006028340009009900019928373402969479166090881999670139819000993692701000012088427609292290826687220990099784299918220474399496711080093227496100911460840129000890407094893989831028494990007909090797096090090240927971609919909996990940099901998092001263629606980804649039269468923829909422429399409921204262940712834004800183399212240063670937909998606704090409320906409033026300900291000319192923672090403403219139009921903090698002102891101841074930707190893890000990229799230102000314090043791949910760620099613881922082909930031030629002006070164992229749890899908901009970064979077029120228020402090702991002993838801000117102893968761976200439883003071937212904201300209822300981199902442829\n",
      "\n",
      "🎯 GROUND TRUTH:\n",
      "<|forecast|>\n",
      "Trend: down || Prices: 8205.37,8047.53,8103.91,7973.21,7988.56,8222.08,8243.72,8078.20,7514.67,7493.49\n",
      "\n",
      "================================================================================\n",
      "\n"
     ]
    },
    {
     "name": "stdout",
     "output_type": "stream",
     "text": [
      "\n",
      "================================================================================\n",
      "✅ CHECKPOINT AT STEP 280\n",
      " (Random Sample Index: 26)\n",
      "--------------------------------------------------------------------------------\n",
      "▶️ PROMPT (Input part):\n",
      "[Technical Analysis for 2019-03-08]\n",
      "BTC Price: 3901.13, BTC RSI: 55.98\n",
      "Gold Price: 1297.00, Gold RSI: 46.39\n",
      "Oil Price: 56.07, Oil RSI: 54.76\n",
      "\n",
      "[Random Sample of News (last 60 days)]\n",
      "Top 3 Price Prediction Bitcoin, Ripple, Ethereum: So Close And Yet So Far From Shining Again: • XRP is in a decisive moment that will mark the way to the rest of cryptocurrencies.\n",
      "• ETH/USD resists consolidating advances and may attempt a bullish escape.\n",
      "• The BTC/USD is lagging further behind and yielding to bearish pressures.\n",
      "Yesterday was a day of consolidation in the crypto sphere. This is good news as a broad s...\n",
      "\n",
      "🤖 MODEL RESPONSE:\n",
      "assistant\n",
      "1990.09,3197.90,3139.90,1280.80,0992.94,0027.01,0077.02,0210.38,0068.64,0339.27\n",
      "\n",
      "🎯 GROUND TRUTH:\n",
      "<|forecast|>\n",
      "Trend: up || Prices: 3963.31,3951.60,3905.23,3909.16,3906.72,3924.37,3960.91,4048.73,4025.23,4032.51\n",
      "\n",
      "================================================================================\n",
      "\n"
     ]
    },
    {
     "name": "stderr",
     "output_type": "stream",
     "text": [
      "Unsloth: Input IDs of shape torch.Size([1, 11133]) with length 11133 > the model's max sequence length of 8192.\n",
      "We shall truncate it ourselves. It's imperative if you correct this issue first.\n"
     ]
    },
    {
     "name": "stdout",
     "output_type": "stream",
     "text": [
      "\n",
      "================================================================================\n",
      "✅ CHECKPOINT AT STEP 290\n",
      " (Random Sample Index: 653)\n",
      "--------------------------------------------------------------------------------\n",
      "▶️ PROMPT (Input part):\n",
      "[Technical Analysis]\n",
      "Not fully available.\n",
      "\n",
      "[Random Sample of News (last 60 days)]\n",
      "Twilio, Inc. Is Putting the Uber Fiasco to Rest: Digital-communications specialist Twilio (NYSE: TWLO) reported fourth-quarter results on Tuesday night. The company crushed its own guidance targets thanks to a diversifying customer list, and the Uber panic is becoming a thing of the past now. Twilio's fourth-quarter results: The raw numbers Metric Q4 2017 Q4 2016 Year-Over-Year Change Total revenue $115.2 million $82.0 million 40% Net income ($18.9 million) ($12.6 million) N/A GAAP earnings per share ($0.20) ($0....\n",
      "\n",
      "🤖 MODEL RESPONSE:\n",
      "assistant\n",
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n",
      "\n",
      "🎯 GROUND TRUTH:\n",
      "<|forecast|>\n",
      "Trend: up || Prices: 6770.73,6834.76,6968.32,7889.25,7895.96,7986.24,8329.11,8058.67,7902.09,8163.42\n",
      "\n",
      "================================================================================\n",
      "\n"
     ]
    },
    {
     "name": "stdout",
     "output_type": "stream",
     "text": [
      "\n",
      "================================================================================\n",
      "✅ CHECKPOINT AT STEP 300\n",
      " (Random Sample Index: 1731)\n",
      "--------------------------------------------------------------------------------\n",
      "▶️ PROMPT (Input part):\n",
      "[Technical Analysis for 2016-01-14]\n",
      "BTC Price: 430.31, BTC RSI: 48.04\n",
      "Gold Price: 1073.90, Gold RSI: 46.87\n",
      "Oil Price: 31.20, Oil RSI: 30.71\n",
      "\n",
      "[Random Sample of News (last 60 days)]\n",
      "How Blockchain Can Reform The Real Estate Industry: Bitcoin has gotten a bad reputation this year after several high profile hacking attacks and scams saw investors lose huge sums of money. The cryptocurrency has also been painted as a tool for criminals after dark web sites like Silk Road revealed illegal transactions using the currency. While the currency itself is unlikely to catch on as a mainstream form of payme...\n",
      "\n",
      "🤖 MODEL RESPONSE:\n",
      "assistant\n",
      "1079.97,900.83,444.40,802.04,901.24,842.06,714.03,711.29,009.77,096.04\n",
      "\n",
      "🎯 GROUND TRUTH:\n",
      "<|forecast|>\n",
      "Trend: up || Prices: 364.33,387.54,382.30,387.17,380.15,420.23,410.26,382.49,387.49,402.97\n",
      "\n",
      "================================================================================\n",
      "\n"
     ]
    },
    {
     "name": "stdout",
     "output_type": "stream",
     "text": [
      "\n",
      "================================================================================\n",
      "✅ CHECKPOINT AT STEP 310\n",
      " (Random Sample Index: 1393)\n",
      "--------------------------------------------------------------------------------\n",
      "▶️ PROMPT (Input part):\n",
      "[Technical Analysis for 2019-08-19]\n",
      "BTC Price: 10916.05, BTC RSI: 52.13\n",
      "Gold Price: 1500.40, Gold RSI: 66.92\n",
      "Oil Price: 56.21, Oil RSI: 51.72\n",
      "\n",
      "[Random Sample of News (last 60 days)]\n",
      "How a company is screening public spaces without exposing sensitive details: The summer vacation season means lots of travel — and long lines at airport security checkpoints and other events.\n",
      "However, people being screened sometimes fear that, in airports and other public spaces, theirintimate body detailsare being exposed by advanced technology.\n",
      "U.K.-based Thruvision, whose screening technology wasrecently contrac...\n",
      "\n",
      "🤖 MODEL RESPONSE:\n",
      "assistant\n",
      "06401.09,08928.71,11410.08,08114.18,07109.92,09090.89,29203.16,89010.60,10303.93,01340.60\n",
      "\n",
      "🎯 GROUND TRUTH:\n",
      "<|forecast|>\n",
      "Trend: down || Prices: 10763.23,10138.05,10131.06,10407.96,10159.96,10138.52,10370.82,10185.50,9754.42,9510.20\n",
      "\n",
      "================================================================================\n",
      "\n"
     ]
    },
    {
     "name": "stdout",
     "output_type": "stream",
     "text": [
      "\n",
      "================================================================================\n",
      "✅ CHECKPOINT AT STEP 320\n",
      " (Random Sample Index: 1138)\n",
      "--------------------------------------------------------------------------------\n",
      "▶️ PROMPT (Input part):\n",
      "[Technical Analysis for 2019-12-04]\n",
      "BTC Price: 7252.03, BTC RSI: 35.52\n",
      "Gold Price: 1474.00, Gold RSI: 50.71\n",
      "Oil Price: 58.43, Oil RSI: 57.04\n",
      "\n",
      "[Random Sample of News (last 60 days)]\n",
      "Bitcoin, Ethereum & Ripple - American Wrap: 11/12/19: Bitcoin technical analysis: BTC/USD some hope as price moves within a bullish flag\n",
      "• Bitcoin price is trading in positive territory, up some 1.30% in the second half of the session.\n",
      "• BTC/USD price action is within consolidation mode, has been since breaching $9000.\n",
      "• Critical near-term support eyed at $8500, failure to hold could be punishing.\n",
      "Ethereum technical...\n",
      "\n",
      "🤖 MODEL RESPONSE:\n",
      "assistant\n",
      "10236.82,9022.72,0242.01,0118.21,10009.10,20987.19,11090.20,0902.98,19033.33,.2914.99\n",
      "\n",
      "🎯 GROUND TRUTH:\n",
      "<|forecast|>\n",
      "Trend: down || Prices: 7448.31,7547.00,7556.24,7564.35,7400.90,7278.12,7217.43,7243.13,7269.68,7124.67\n",
      "\n",
      "================================================================================\n",
      "\n"
     ]
    },
    {
     "name": "stderr",
     "output_type": "stream",
     "text": [
      "Unsloth: Input IDs of shape torch.Size([1, 10914]) with length 10914 > the model's max sequence length of 8192.\n",
      "We shall truncate it ourselves. It's imperative if you correct this issue first.\n"
     ]
    },
    {
     "name": "stdout",
     "output_type": "stream",
     "text": [
      "\n",
      "================================================================================\n",
      "✅ CHECKPOINT AT STEP 330\n",
      " (Random Sample Index: 636)\n",
      "--------------------------------------------------------------------------------\n",
      "▶️ PROMPT (Input part):\n",
      "[Technical Analysis for 2022-09-12]\n",
      "BTC Price: 22370.45, BTC RSI: 61.32\n",
      "Gold Price: 1728.10, Gold RSI: 47.07\n",
      "Oil Price: 87.78, Oil RSI: 45.40\n",
      "\n",
      "[Random Sample of News (last 60 days)]\n",
      "Institutional Investors Are Increasingly Using Crypto Options Trading to Hedge Their Bets in Bear Market: In the current bear market, crypto options trading has been a rare bright spot, building momentum even as crypto prices have plunged. A number of crypto exchanges have noted rising trading volume after reaching lows earlier this year. Options strategies have figured prominently among institutional investors and...\n",
      "\n",
      "🤖 MODEL RESPONSE:\n",
      "assistant\n",
      ".1974434.2245591..26954.943.4.9.614.11999541.6514921.166818.763859.427..4374475.7.964115.9.43598.25.533245.177.3.18195253.8793.55.249.2794.3484.168.8323.853.5..41.1.462.4.25338534.71785.38238...64.3.63372.66518564.9..16446.2661.3..6974.1563.45.17345.3.673636..75378.34..35989.4157.9.54.21956.4.5351746.41169999..9.5274.3539.713.745.644419.88.41448448.5.9.978578.2..69.4.748.862.354986.258.33658.41.7.585....496.71299..7.4.86.2441.776..1434677.84..258541.77945568.697.9744.37598.65.9.6289618.4635..497.8.65773.98.154886.66.21.78.5.53934716..2976199.6656.648687..88.57.8773.3.5..1527.9.53.7896.63789.89.1.2696.2.84114393.279.1.482.675.7.8.68.63678.98.54.27787898.6.3981593.2..398.4354.64.5.86..39739431397.7.3759.916.7.13818.98581..4.21478.35..36.1339.8..191938.95847..6.87.4..3741599.4..56.4167691.588.37835153655458.288..8551417745.4.717.449581671765.77545.859649.3418..84.895.4.5.1185795543.576.579.289161.531.5368.5.88991.648958.55..5..91.481441.668.6.87.7.5..2558.44.655959.474933.997.5.6.47.3849.791518.2713575.64..4.594755.2.188.719.48365.4494.7574361.28655.6.288.45345763.588955..2.7.7.77443.41.79.17.7636983.8.3655768397837.1.611..6657.11735747.55.7.751.684.5559..56733193457..589.8.4.54.1643.9197.857455.55471.1.9.4..539.56138196747..34539.28165.638956.11.37887.3.3.834373.2.8134.48779475.71647.715.654697.934.871468.26.7.8667.577.64.66.6144.5..3568..47.77857.5..892.5.9..557.169.95.784.8457738393753133538563892.574.26751.1171.3751964..215943.461.1.9811.1.645693.45.64.365647.113388546.7954515.568787575..26549148.685334.56148518388345.5147.549.31.19928536.8781693.3.35.4437..1741715558899.74.64..51761.45681.96.4455.841.97.6986.75653.59684846173515.4.5948334848.553..45788.6111928148413.4981.1.374.547.748141.5766799396.35333.8359.5..175.71.8..589765917473.8868.91.5.1.8.846.759161.75347..16.5.6.6985881.8991.5144..531.848..4695999.516369.4.6374458813.669.564.3.7.63.85.5.5.7.971486975.56676.85168.1.5.45464581993.454855677.8.769.55771.5368685.65.367854.159.418343..73644.8135.337559..83574.6175.57757837337336..34.514394595.865836..57.3.\n",
      "\n",
      "🎯 GROUND TRUTH:\n",
      "<|forecast|>\n",
      "Trend: down || Prices: 20296.71,20241.09,19701.21,19772.58,20127.58,19419.51,19544.13,18890.79,18547.40,19413.55\n",
      "\n",
      "================================================================================\n",
      "\n"
     ]
    },
    {
     "name": "stderr",
     "output_type": "stream",
     "text": [
      "Unsloth: Input IDs of shape torch.Size([1, 12761]) with length 12761 > the model's max sequence length of 8192.\n",
      "We shall truncate it ourselves. It's imperative if you correct this issue first.\n"
     ]
    },
    {
     "name": "stdout",
     "output_type": "stream",
     "text": [
      "\n",
      "================================================================================\n",
      "✅ CHECKPOINT AT STEP 340\n",
      " (Random Sample Index: 881)\n",
      "--------------------------------------------------------------------------------\n",
      "▶️ PROMPT (Input part):\n",
      "[Technical Analysis]\n",
      "Not fully available.\n",
      "\n",
      "[Random Sample of News (last 60 days)]\n",
      "7 Best Gold Stocks to Buy for Fighting Inflation: Although precious metals-related investments have been relatively disappointing over the trailing two years, the best gold stocks to buy could make a significant comeback due to myriad factors, most notably inflation.\n",
      "Recently, Treasury Secretary Janet Yellen made astunning admission, declaring that she misread the threat that rising prices would pose to the economy. This is in regards to her comments from March 2021, when Yellen described inflation as a “small ri...\n",
      "\n",
      "🤖 MODEL RESPONSE:\n",
      "assistant\n",
      "5.3.6.7..1...3.......6.1.5.8....6......7.5.......5....7.......6........6.6...6..7.5.5.5..5..........3..5.....5......7...5....4.5.6...6.......4..7......5..5.5..6.5.5.7...5..4..4........5.........6....4......5...3...7.5..5...........8.5.8...........5.8...3.3.4..8.8..7.....3...............5..3...8......5...7.8....5.8......4.4..5..5..7....5...7.4.8.......5.6..5...5...3..5......5...7.7.....8......5...4...4.........7.8.....6......8..3...4......3.4.........7.5.5........3..4....6...8.5.7...3.....4.4..7........8...7....5.....5.5..7......8..5.........5...6....4.7.6.........6..5...6.3....5..4.4.....4.4....5........7..8........8..5...7.4.3...6..3..6..5.7.5.3..4......6.......5.5.5..4.3.4.3...5...7..5....3..5.3.....7.6....8..5.....7.7....4...5.8...4.......6......5...5.8.6.....8..6......5.....4..5.4.5.....7......5......5..3.4..5.........6...7.5..8....3..8.......6..8.7.......5.......5...4.6...3..5...4...6..6...3.4...8.....3.5...6....5....4...6....4..3....8.....6....4..3......7.......6.5...3..5..3..3...3...5..6.3..3....5..7.3..6.3..6.6......3....3....3.7.4..6.6.3...6.3....5....5..5.4.5.8...6.8.....4...7..7..7...4.8.7...6...3.4..7........4......4.3....3..5..8...6.....5.....4...8.5.6........6.4.5.4..5..7.5..3...5.....5..5...3....8.4....5.5..3......5...7...8.6.4.....8...5..4...6.....4.4...5.5...6.7..6.3...4....4...5..5.....4.7...4.4......5..4.5..8...7.5.5..6....6.6..7.6..5.4..3....8.5..7..6....4..6.7.3....5.5..5..5...5...4..5.3..8......5..5.6.....5......7.8.5..7.4.5..4.....4...7...7.8...5.........7.8.4...8..8...7..8.......4....8..5....7.5......5.5..5....5.5..4.....5.6.5...7.....4..4...7.7..4..7..4..3.6..3..5...3.....5.5..3.5....5.4......7..5..5.6..6.7...5........7.3..4...3...8....3.3...3.......5.6....3.4.7.....6.5..4.5..5.4.5....5...3........3.7.......5..6......3......5.......5.6......4......3..5.........3..3..8.6.5.6...6....3.6..3..7...3..4.4..4.5.6..6.6.5.5.6.6....7....4.3.3.5.5.....6..4...5.5...5.4..3.......6.5..8.4...6..6.4..3..3...5..4.8.4.7....5........7.6..4..7.....4...6......4...5....3..5..........7.8.5..3..3......3.4...3.4.\n",
      "\n",
      "🎯 GROUND TRUTH:\n",
      "<|forecast|>\n",
      "Trend: up || Prices: 21361.70,21239.75,22930.55,23843.89,23804.63,23656.21,23336.90,23314.20,22978.12,22846.51\n",
      "\n",
      "================================================================================\n",
      "\n"
     ]
    },
    {
     "name": "stderr",
     "output_type": "stream",
     "text": [
      "Unsloth: Input IDs of shape torch.Size([1, 19022]) with length 19022 > the model's max sequence length of 8192.\n",
      "We shall truncate it ourselves. It's imperative if you correct this issue first.\n"
     ]
    },
    {
     "name": "stdout",
     "output_type": "stream",
     "text": [
      "\n",
      "================================================================================\n",
      "✅ CHECKPOINT AT STEP 350\n",
      " (Random Sample Index: 1378)\n",
      "--------------------------------------------------------------------------------\n",
      "▶️ PROMPT (Input part):\n",
      "[Technical Analysis]\n",
      "Not fully available.\n",
      "\n",
      "[Random Sample of News (last 60 days)]\n",
      "4 buys for retail stocks ahead of earnings: The bar has been reset in the retail space, and Macy's(NYSE: M)is now the stock to buy for the near term, CNBC \"Fast Money\" trader David Seaburg said Friday.\n",
      "\"Macy's is the one to own here for the short term, but long term, I caution you: I think they're going to have some real struggles,\" he said. \"I think right now is the time to buy it for a trade: I think the stock's been beaten up, there are no expectations they're going to make numbers-I think you'll get a trade t...\n",
      "\n",
      "🤖 MODEL RESPONSE:\n",
      "assistant\n",
      ".1.6...5.....5.5.........3.....4..6..........5.5.....5.....4....5.5....5...5....5.....4...3....5..6.....5..3.3........5.5..3.6....................6.4..5..5...5...4...7.......4..5.........5.........4........4.6....4....5.5..4......6......5....5..5............6..7.5...5.5.4....5.......5.5.......7..4...6....7........3..3....7......3...5.5...3.....6..5..7....6.......7.......6...6..........6.....6....4.5...4..5.....5.......5...6..7....5.5...3........6........3...........4.7...........4........6.6..5..5.........5...5.....6..5.......5....4.5.6.5..7....4............7.7..........4.......5..6.4....5...4.....3.5....5.....5....5....5..4.7..5.7...6......5...7.4..5.....5......4..5..7.6.7.5...4....5.............5..5......6.............6..5....7...6........4......5.....5...5..4.....6.6.5.......3..5......3.5....5...5.6.3..5....5.4...3....5.3.4.7.4.5..5.5...5...6..6.5...6..7..6..7.....5..5..5........5........3.......4.3.4...5........7...3.....4.3..4...3...5...7.4.5.......7......5..3.....4.....4..4...3..4.5..5.4.4....5...4.6.3...5.4..7..5..........5.........3..5..5....6.6..4.4......3....6.....3...7.......3.5............4..3....5..5.5..5...6.7....3..........5.....5........5..4........5.6.5.5..5..5...5..7..5.6.6.........4.....4.....5...5....3..3....5..7...5.7..............4.4....3..5..3.......................4.....3..5...4..6......3..4...6..5....5..5..4..7.5....6..6..3..5.4..5..7.4.....7..7........4.3..5.6....7...5.6....5.7.....7..5.5..........6.5....5.7...6....5.......4....6..7..4.4..3.5...5.....3.5........6.5...4..5..6.......5.7..5...5.....5...5................7...6..6.5..5...................5.5....6.....5...4...4.6...5...............5.5..5.......4..5....7.6..5.5.4..5....7..7..5.5..3......4....3....5..5....5.....3.4.4..5........4..5..4....5....5.6...5..5.4..5...7.4......6.......7..5.........6.5.....4..7.....6...5......3..5.3...3.....5.......5.5...6....4...5..5..5...5.....5...3.....5...5.6..4..........5.4.....5....7...7.5.5......5.......5.....4........5....5......4.5.5..7.6......4.....6....5....5..6.4.5....5..3..6...5....3....4..5..\n",
      "\n",
      "🎯 GROUND TRUTH:\n",
      "<|forecast|>\n",
      "Trend: up || Prices: 228.76,230.06,228.12,229.28,227.18,230.30,235.02,239.84,239.85,243.61\n",
      "\n",
      "================================================================================\n",
      "\n"
     ]
    },
    {
     "name": "stderr",
     "output_type": "stream",
     "text": [
      "Unsloth: Input IDs of shape torch.Size([1, 8544]) with length 8544 > the model's max sequence length of 8192.\n",
      "We shall truncate it ourselves. It's imperative if you correct this issue first.\n"
     ]
    },
    {
     "name": "stdout",
     "output_type": "stream",
     "text": [
      "\n",
      "================================================================================\n",
      "✅ CHECKPOINT AT STEP 360\n",
      " (Random Sample Index: 418)\n",
      "--------------------------------------------------------------------------------\n",
      "▶️ PROMPT (Input part):\n",
      "[Technical Analysis]\n",
      "Not fully available.\n",
      "\n",
      "[Random Sample of News (last 60 days)]\n",
      "C&W Business Launches Hosted Collaboration Solution (HCS) on Demand at Cisco Live!: CANCUN, MEXICO--(Marketwired - Nov 7, 2016) - Cisco Live! -- C&W Business , part of C&W Communications (C&W), one of the largest full service communications and entertainment providers in the Caribbean and Latin America region, now owned by Liberty Global (LiLAC Group), is excited to announce the launch of Hosted Collaboration Solution (HCS) on Demand, a managed Unified Collaboration Service, at Cisco Live! . Cisco Live is one of ...\n",
      "\n",
      "🤖 MODEL RESPONSE:\n",
      "assistant\n",
      ".8.6..6.....5.5.5..4...5.4.6..4.4......5.4.5...4..5...7.5.4.5.5.5.5..6...5....6....5..6.4.7..7..7....6..7..4....5.4..5....5...3..5....6.8.8........5.5.....7.6..7.5.8.....9..8.....8..5.4...5.5..6..3.3.4...6....5..6.5..5..7......3.5.....7..7....3..3.4......5....7..........4..7.7.5...8.5..........6.3.4.......3....8..3..3...7..........5...5..4....5.....3..3..3...5..4...6..3.5.5..6.5.4.7..5.5.......5..7......5..5.7.6....7.8....5..6.3...4.3.4....7.5....5....3...4..5.....3.5....5.........5.7..7......3.4.7....5...4...6....7.6....7...8.....7....4.....5...5....6..7.5...3...6.........3.5....5.7.....8.........7.8...........5..6.3..4........6.3.5...5..8....3.5....5...5.5...........8...7.5....6.4.4.5.4...4.....4...5.4..3....8.....3.5.6..5.6.5..5..4..5...7.5.4.3........7..3.6...........5.6.8....3...6.......7..8.5.6.......5....5...4.7...5...3...8........4.7..8......8.7.7...4..5...............7...5...5.......8......5..6..4......8.6....4...5..8..5...8...5.8.6.3.7..3.5....7.5....7..7.6.4.5....6.....5.8.4..3..3......5.3.8.5.........5....4.5...7.5.7.4....7.3.5.5.7.....6.3..7.5..3..8.5...4.7..8..7..5.5.....3..6.4.5.3.....5..4.3..4..4...5..7..5..5.....6...4.5...5....7.....4.8.5..4.7..5....3..5..3....8....8...5.....5..7..5..3.....5..4..3..6.3..3.8..5.....8..7....3..6..7...6...5.7....3.5..4.....7.6.5..5....3..........7.7.4.....5.5.....3.8..3........6....7....6..5..6..6...8.5.4...7..4..4..8..3..7....6.....5........5.6.7.8.5..8.3.3.5....4...5.5..4...6....5..3...5.4........7.3..7.......8...5..7.......3...7..5.....4.4.7..6.8.5......4....7..5.7...6...5.6...5.5..5.....5..6...5...5...4..5.5.....4.6.3.8........8..5..5...7.7..5..3..5.5..5.7...6...8....8..5........8..5......3......3..7...6.7...8..5..5....8..5....6....5..5...5.5..4.5.5....6...8.....5..5.5...3..5.....7.3.8...6....5..7.5....5..........6.6.8...6.3.5.3.5.3..4...5.5..5........8......8......7.5..5.5..3.8...6..3.5..4..5.5..4.4.6.4...4.4....8...7..8.6.6....7.7.....5.5.7...7.7.7..7...7......7.4..5..3....7.6.8...7..6...7.......5.8.5.5.6........5.3.8.3...4...7..7.5.8.6....5.3......5.4.7..7...\n",
      "\n",
      "🎯 GROUND TRUTH:\n",
      "<|forecast|>\n",
      "Trend: no change || Prices: 739.25,751.35,744.59,740.29,741.65,735.38,732.03,735.81,735.60,745.69\n",
      "\n",
      "================================================================================\n",
      "\n"
     ]
    },
    {
     "name": "stderr",
     "output_type": "stream",
     "text": [
      "Unsloth: Input IDs of shape torch.Size([1, 10417]) with length 10417 > the model's max sequence length of 8192.\n",
      "We shall truncate it ourselves. It's imperative if you correct this issue first.\n"
     ]
    },
    {
     "name": "stdout",
     "output_type": "stream",
     "text": [
      "\n",
      "================================================================================\n",
      "✅ CHECKPOINT AT STEP 370\n",
      " (Random Sample Index: 379)\n",
      "--------------------------------------------------------------------------------\n",
      "▶️ PROMPT (Input part):\n",
      "[Technical Analysis]\n",
      "Not fully available.\n",
      "\n",
      "[Random Sample of News (last 60 days)]\n",
      "Security Thought Leaders at Cisco, HP, Identiv, Imageware, Nok Nok and Bosch Security Are Featured on SecuritySolutionsWatch.com: NEW YORK, NY--(Marketwired - May 5, 2015) -ImageWare Systems, Inc.(OTCQB:IWSY); Identiv (NASDAQ:INVE)\n",
      "Cisco\n",
      "Mr. Christian Matthews, Director of Product Management for IoT Software,Cisco, told us, \"Simply monitoring high-value assets provides a general example. Video surveillance combined with other sensor output such as audio, motion, or building contacts is used to increase protection...\n",
      "\n",
      "🤖 MODEL RESPONSE:\n",
      "assistant\n",
      ".23.51.5...5...6...8.5...8..6..7..7.6..6...8.5.....6...6.....1.5..5..7.7.4..5...6...6.3..3.4.......4...4..1..4....6....1..5....7..1.6....1.4....7...6.5...6.2...5..5...........8...6.2.5..6..6..5.2...1.....6...5...5..4.1.2.7....5....1.7.3.5..4.5.5.5..1..4.7..7..1.1.5...5..2.5.6..5.7.1.5..5..4....2.1.6..7...2.5..1....5.3..4....1.3..5.....5.5.4....2...7....5..7.1...5...7.5...5.5..3..4.4..7..1....6.1.4.7..5..4..4..4.1......5.5.3.2.....1..4.6....5.2.4.6.4.2..4..5..5.6.4.4.5.7...2.1.4..7..7...6.2.2...4...4.....4.5.5..2............3.4..1.4.1.2.5.4..5.2.1.6..4..3.5..3..5......4..1.5.3..1.2.2.2.5...6..1.4....4..1..2.........4..3.4.6.3.2..7.5....5....3..5...1.4...5.5..3..5....2.7.1.2..6..4......6..1.2..6..4.....3.....5.3...5....6.4.1.2.6......1....6...5.6..2.7....1...7.......7.6.4.5..5.5.....3..6...3.5.6.5.4.6..2...3....4.1.7....5..7..5......1.7.2........5.5..5.5...7.5...2..5.3...5.4.2..1...6.3.1.3.5..1.4...1...7...2..6.5..5..5...7....2..1.5...4..2.6.4.7.5...3.....2.6..5..5.1.1.7.4....4.4...5.3..6...4.5..7.6.5..4..5..5.2.4.1.6.1.5.2.....4...3....3..3..5.7.1...3..5.2.....5.2....4.6.5..7...1.5.4.....4.7..2..5.......4.4..3.1.2.4....5.....4..7.4..1..4..4..1..5...6..5..7.5...3.4...1.3..2.3..4.1......5...5.....5......1..4..2.5...5..5...7..4.5.2..5.3.5..5.5...5.6..5...6..............2.2...1.1.4...3..3.4.1.5.1....4...3..4.4..6.5.3..5..5..1...7....2..5.7.5..5...7..2...3..2.4.7.1..5.1..7..2..6.5..4........2...5......7....3......6.6...5....5..2.2..2...5...2.1.......5..6....2....5...4..6....4..5...5..5..1.6........5.7.2.6..7...6...5.5...5....5..5..3...4.7..2....5.5.4.6.6.6..3.5...1..3.6.6..3...5.4...5.4.1.......6.1.2...6..7.5.6...3.1.1..5.5..3..5.4.5..4..1.5..5..6.3..4.5.5.3.2.4.....3...1.4.4.1...3.1.4...7.3...5..5.5...5..5...2.5.....3.5....1.....6...5.5.....2.4...2.1....6..5....4......3.6...5..5...3..4.5.3.3..5.5.....7..3..5....5........5..6..5.6.4.5.6..5.7..7.5...4.5.6.5..5..5...5...5..4.1..7.5..5...5..1.7...1.4.....7.1.5.5.2.....5...1.3....6.4.6..4.7.1..3..5..5.2........5...6..6....3..7.1...2..6..3.....6..5.4......5.4..5.6.5.3..2...\n",
      "\n",
      "🎯 GROUND TRUTH:\n",
      "<|forecast|>\n",
      "Trend: down || Prices: 240.30,242.16,241.11,236.38,236.93,237.60,236.15,236.80,233.13,231.95\n",
      "\n",
      "================================================================================\n",
      "\n"
     ]
    },
    {
     "name": "stderr",
     "output_type": "stream",
     "text": [
      "Unsloth: Input IDs of shape torch.Size([1, 9034]) with length 9034 > the model's max sequence length of 8192.\n",
      "We shall truncate it ourselves. It's imperative if you correct this issue first.\n"
     ]
    },
    {
     "name": "stdout",
     "output_type": "stream",
     "text": [
      "\n",
      "================================================================================\n",
      "✅ CHECKPOINT AT STEP 380\n",
      " (Random Sample Index: 1556)\n",
      "--------------------------------------------------------------------------------\n",
      "▶️ PROMPT (Input part):\n",
      "[Technical Analysis]\n",
      "Not fully available.\n",
      "\n",
      "[Random Sample of News (last 60 days)]\n",
      "New York regulator issues final virtual currency rules: By Karen Freifeld and Gertrude Chavez-Dreyfuss NEW YORK (Reuters) - New York state issued on Wednesday extensive new rules for companies that operate in virtual currencies such as bitcoin but did little to accommodate complaints that overly tight regulation could hamper the nascent industry. The new rules, the first by a state, create comprehensive guidelines for regulating digital currency firms, according to the state's Department of Financial Services, wh...\n",
      "\n",
      "🤖 MODEL RESPONSE:\n",
      "assistant\n",
      "..1.1...7...4.5.8.4..7..3..1.4.4..3..3...3..2......7.4.1...7.6...2......1.5.....2....5...4..8.5.3..3.3.3.7.3...7.3...1..1..7.3.6.1....1.8.8.7..1.3.2.7..4.6.1.6..5..3.6.5....2.2.5.3..1..3..1...3..5..5.7.6.....1.5..6.....3.5.5.....7.1.7..5...6..6..4.6.5.5.3...5...2.4.8.1..7..7.8.7..5.1...5.6.5.....3.6..8.8.7.5.6.1.6.5..5.1.6..5.6....4.3..3..4.3.6.4.3..5.5.5.7.5.8.5.6.3..5.2....5.2.2.2....5.8.3...3.5..1.2...6.2.1..5.8.4..8.5.2......6.7..2...6.1.6.6.3.4.8...7.1..5.2.1...5....5..8.5.5.1.4..6.6.4.6.1.3.3.6.7.1.5...6...5.4.4.7..5.2..8..8.2...7...8..6......4.5..2..8.5.5....3...4.3.5....3.5..2.8..2..7.2.5.1....4.....6.5.....7...6.5.4.1...4..5..4..5.2.6.3.1.5.1..4.1....2.2.7..2...5...7.5.2..5.5..4.5...3...4.5....4.1..7......2.5....3..8.1.1..7...6.4.7.8....2.6...1..1.5.3..6.4...6.4.1...7..2.5..5...1....5.2.5.3...3..2..7.5.5.4.6..8.5...5.5.4.1.7.8.6...5....3.2.5..8.5.5.1.8.1.3....7.4..5..4.5..1..5.5.6.4.5....3.4.1.3.3.1...8..8...5...1.3...6..4.3..1.6.6..6.7...5.4.7.6......2.2.5...6.3...6..7.4...8.7.3.8..8..2.1.4.3.6.3..8.4.4.4...8.....3....5.5.1.3...6.4.2...5.5..3.5...8..3..8..6.5..4.3..4....8....4.6.4.1..3.5...6..4..1..8.5.5.5....7..1..4...3.6.......7..7...7..3......4.2.1.5.5..3.5...3..1....8.5.5.4...4.7...8..6.2.4.5.7.3.2.7.1..5.1....1.1..6.1..2..8...3....1.1.8..8.3.2..7..8...1.6.4..5.5.5.3.2..5.2..3.5.5.1..3.5.7.7.2.1.3.3.5.4..8.3.5...8.5..6..4.5.3.6.5..5..5..5.7.8....7.3.5...1..1.1..4.8..8..2.2..6..4.6..8.5...3..4.1.3.7.5.4.2.6.1.4.5..5...2..3..3.5.5.1.1.7.6.5.7.5..7..7..1.3.2.6.7.8.8...8.2.1...6.3..1.7..7..1..7...3.5.3.4.4.8.4..1..7.5..5.....5.7.5.2..6..5..4.3.3.5.5.5.....5.5.5.5.7.4.2..3..5.7...7.4.4..3.5.3.4.1.2...1.3.6..5.5.....3.5.2..7..1.5...4.5...5.1.3.5...1..4...4.5...6.7..5..1..7.1..5..5..2.4.3.1.5.5.3..1..7.2.4...7.3..1.5.2..3.1..5.1.6...4.8.1.5.7.4..4.3.2.5...8.4.1.3....2.4.1.3....5..5.4.2.2......2.5.5.1.....4..6..1.3..1...3..6..7.5...1.7..3.1.6..1....5.4.8.3.4...5..2.3.....3...4.6.6.5..6.5.6......3...2.8...4.8......7.1.6.3.4.7.5.4...2.1..4.3.2..4..4..2.8..5.7..5.5.1.1..4..8.1...7.4.....5.1..8....4.3.5.5.6...7\n",
      "\n",
      "🎯 GROUND TRUTH:\n",
      "<|forecast|>\n",
      "Trend: up || Prices: 278.98,275.83,277.22,276.05,288.28,288.70,292.69,293.62,294.43,289.59\n",
      "\n",
      "================================================================================\n",
      "\n"
     ]
    },
    {
     "name": "stdout",
     "output_type": "stream",
     "text": [
      "\n",
      "================================================================================\n",
      "✅ CHECKPOINT AT STEP 390\n",
      " (Random Sample Index: 396)\n",
      "--------------------------------------------------------------------------------\n",
      "▶️ PROMPT (Input part):\n",
      "[Technical Analysis for 2021-08-02]\n",
      "BTC Price: 39201.95, BTC RSI: 60.45\n",
      "Gold Price: 1818.10, Gold RSI: 53.46\n",
      "Oil Price: 71.26, Oil RSI: 48.14\n",
      "\n",
      "[Random Sample of News (last 60 days)]\n",
      "Market Indexes Stay Mixed, Chipmakers Sell Off: We saw plenty of economic data, heard from Fed Chair Powell again, and got more Q2 earnings reports over the course of this trading day, but not much has changed from closing bell to closing bell: the Nasdaq now has a three-day losing streak, albeit by a grand total of 1.3%; the Dow is up three straight days for a whopping total of +0.3%, while the S&P 500 is still re...\n",
      "\n",
      "🤖 MODEL RESPONSE:\n",
      "assistant\n",
      ".11....41..13...72...55.7.5.47.81.5.......66.7.87.3..14..41..64..13.5.7.64.2..63.12..81..72.54..13..54..58.4.3....77..8..4..64....2.8...1.52.5.7.4.45.7.....87.4.1.1..5.4..45.2...45...5...4....5.8.5..3.2...41...61.3.1..6.5..5.2.5.5.3.7.2....4..64.1.6.1..8.1.5....5.8.6..41..5..3.8...6.8.5.5.5.7.5.4.5.8.5.7..1.1.3.2...5.1....3...1.4....6..7....5.8..5.5...5..7....5.4.4.2.5...6.6...51..2.5.1.1.3.2...6.8.2...1......2.6...4...5..2.1.8.3.7....8...3..4.4..1...6..1..5.1.6...6.8.7.8.4.2.5.4.5.5.6.5.5.7..2.1.6.6...5.6..2.4.7...4...2.7..8.3...5...1.4..2.5.5...2.1.4..1.2.3...8.6..4.5..5......5.6.4.5..8.5..4.1..5..4.7..6.2.8.3.2..4.1.8...5.4..5.2.5..1...5.8...3..7..5.4...1.4.6.5..7..8...5...2.1.6.8.5...1..1.5.4..2.3..6...3.5.4.8.1.5.5..4..3.4.6...8.4..2.5..2...1..2.7.6.2.3.2.4..2.5..8.5.4.3.3..4.1.6.5.1.5..3..5...4.1...4..1.5.5..5..5.5...2.5..6..6.1..4.1.4.3.8.3.3.5.5..4..7..4...5.5.2..8..5.4..7.6.4..3.1..5...5.6.2...1..1.1..5.5.6..3..8..4.7...5.6.1.7.3.3...2.1..1.5.3..2.5......6.5..8.4.1.2.5..3.2..4.7..6....1.5..5..1.4....2.2.....5..6..5.......5.5..1.5.7..5.3..2..5..4..3.2.6...2..5..1.3..3..5.4..8...6..7.3.8..1...4....8.7...3.2.6..1.8.4.7.2.1.2..5.6.8.2.....5.4.5..3..4.2.5.6.1.4.7.8.2.3..7...8.3...7...8..5....6.2.2.5.2..3....5.6.6.7...5.6..4.5.5..3....5.3.1.1..2..1.6..5.1.5..2.1.7..5.4..7...5.3..3.3..6..4.8..5.1.2.7..6.4.8..2...7.6..4..8..7..3.8.6..8.1....8.4.8.2.4.1.8.5.6.7.4...4..5.7.4...7.1.2..2...6.5..8.5.8.1.4.5..1......7.4.4.8..5.1....5..2.5.2.5.5...6.3.6.1.4..4...7..2.2....5...3.5.5.4..1..2..5.2.1..8.5.6..2.8..1.5.7.1.....4...5.3..3.1.6....4.6.5...7...5.2.3.5..3.2..2....8...7.....4..5.6.1.1.2.2.4..5.1....6.4.....3.3.4.8.4.4..2......6..4.2....5..1.8.1..7..2.6.3.1.5.8......5.4...1.4.5.3.6..4..3.2..3.5.1..4.6.3.3.8..1.6...7.3.3....4..5...4.2...4.3.5.4.4..1.7.1.5...2...1.5..4..8.5.4.....4.5..7.5.5.5.5...5..7..7...5.7.4....5.5.5.....7.3.....5.6....3.1..6...1..1....5.7.7.....7.1..8...5.5.4.....2.6.1...5.3.1.8.7.5.2..4.4.4.1...5...8..8.8.1....3.5.4..1.1.1.5.5.....4..1.5.4.4..5...5..5...6.8.7...5.1...4..5.5.3.3.....4.5...7..2.1\n",
      "\n",
      "🎯 GROUND TRUTH:\n",
      "<|forecast|>\n",
      "Trend: up || Prices: 38152.98,39747.50,40869.55,42816.50,44555.80,43798.12,46365.40,45585.03,45593.64,44428.29\n",
      "\n",
      "================================================================================\n",
      "\n"
     ]
    },
    {
     "name": "stderr",
     "output_type": "stream",
     "text": [
      "Unsloth: Input IDs of shape torch.Size([1, 8703]) with length 8703 > the model's max sequence length of 8192.\n",
      "We shall truncate it ourselves. It's imperative if you correct this issue first.\n"
     ]
    },
    {
     "name": "stdout",
     "output_type": "stream",
     "text": [
      "\n",
      "================================================================================\n",
      "✅ CHECKPOINT AT STEP 400\n",
      " (Random Sample Index: 1470)\n",
      "--------------------------------------------------------------------------------\n",
      "▶️ PROMPT (Input part):\n",
      "[Technical Analysis for 2015-08-03]\n",
      "BTC Price: 281.23, BTC RSI: 51.11\n",
      "Gold Price: 1089.40, Gold RSI: 29.29\n",
      "Oil Price: 45.17, Oil RSI: 23.48\n",
      "\n",
      "[Random Sample of News (last 60 days)]\n",
      "Costas Inc. Is Pleased to Present Its Position on the Financial Technology Space: NEW YORK, NY--(Marketwired - Jul 6, 2015) - Costas Inc. ( OTC PINK : CSSI ) Costas Inc. (CSSI) or \"Costas\" has focused over the last year and invested heavily in Distributed Asset Technology; \"DAT\" is the systemic foundation to what is now known as Digital Currency \"DC\". DC has taken the world by storm and created a new class of asset. ...\n",
      "\n",
      "🤖 MODEL RESPONSE:\n",
      "assistant\n",
      ".1121.3.841.7.11.5.55.6..76.1.45...4.6.7.2.7....1.55.6.2.1.3.5.72..2.62.7....5.1.65...1.33...82...6.5..7.2..4..5.4..2..11...2..8...7.5.5.2.3.7..7...7.8...1.8..64.5.8...5.5.1.5.7..8..1.6.....82.2....1.8.8...4.5.8.2..7.4.5.2.1.2..6.7.5..8..3.7.2.1.71.5..1.1.3.1.3..8.3.7.3...6..3.4..2...8..6...5..1.4....1..11.6...1..8..4.6.8.8...5.5....4...5.7......5.7..8...6.5.2.6.1.8..1.85.4.5.6.8.4.7.5..7..2..5.4.6.8..1.8.6.7.6...7.....1..1..2....6.5...4.5.4.1..2..1.5...4.2.2.3...1.8.5.5.5..8..4.5.5.8.5.6.4.3.6..1.2..1.2..7.1.....3.2..3.3...5..1...1.7....8.3.5.1..3.6.5.7..3.5.3.5...7..6.3.5..4.1..8..3.8..5.5.1..7.5..4.5.5..2.4..4..6...2.5.5.2.5.5..4.5.5.5.2.5..1.5..8.6.4..1...2..5.1.3.7..4.4.6.6.1.4.4.2..8.6.4..8..1..5......8.6.5..2.2.5..5.8..5.2.7...5.4..4..1...3.5..8.3....1..6.1..2..1....7.3.3.3.5.1..3..6..5.4..8...2.5.3.4.8..4...8..6.7...4..5..7.7...4.5.6.6...8.6.7.1.3..7.5.2.3.6.8.1.5.4.2.1..5..4.5...5..5..5.4..2.6.8..4.4.5.6..3.5..7.5.....7.5..8.1.1.5...1.5..5.5.8..3...1.4.....2.7.5.4.5.5..4..4.6.5..3.2.4..2.5.8.4...5.2..3.5...5.4.1.5.......6.6..4.8.6.3..5...6...2.8.4..6..1...3.6..7...6.7.5.5...2.1.8.7.2..8.8.2..4..2...5.7.....1.5.3..5.6.5.8..1...5.1.1.3..5.5.7.6..6.6.7.7..1.6.5...7.3.5.7.6.2.7.5.5.1.5.4..4.7.2.8.8.4.6..5.4.5.2.4.6..4.7..5...5..8...1.4...4...1.1..3.5.5..3..8..7..2...2.8.5.1..5..1.8..5.5.1...6..5.1.7..4.5.3..5.7.2...3..4.4.8.4.5.6.....7.1..5..5..4.5.1..1.6.1.2..3..4.2.5.5.5.3.5..5..2..5.1.7..5.5..6.6.4.1.3.8.6..1.5..7.5.5.6.8..8...2..7..4..5.8..2.2.1...7.5.6..4...1.4..8...3...5.3.3..1.6.8.8.7..8.5.7...6.2.5.5.7....4..3.5..6..1.5.8.5.1.3.5.4.1.2..7.7.5..1.....8..5..7.7.4...2.1...4.8.3.1..6..6.....1.5.1..5..4.5.1.5..2.4.5.4.8..1.3.6..5.8.6.2.4...5..1.4..1.8.5.6.5.2...2.1.5.2.1.5..1.5.4.5.5.3.3.3..1.6..4.6..5..1.3..1..3.2.1.4..6.5..5.2.4.6..8.5..1.7..5..2.7.6.4..6.7.7..4.2.5.4.2.5.5.3.6.3.1..3.3...2.2..5...1..5.3..6..5.8.5..7.3.4.1.5....3.1.1.8..7.4.6.8...6.6...4......1....8.6.1....2.6...5...5.3.1..1.6...7.5.1....1..4.8..4..5.3.1...1..6..4.8.2.6.5.3.5.1..1...3.2.7.1.8...7.8.6....6.5.5.1..6...5.6..5.4.3.6...4.3..\n",
      "\n",
      "🎯 GROUND TRUTH:\n",
      "<|forecast|>\n",
      "Trend: down || Prices: 285.22,281.88,278.58,279.58,261.00,265.08,264.47,270.39,266.38,264.08\n",
      "\n",
      "================================================================================\n",
      "\n"
     ]
    },
    {
     "name": "stderr",
     "output_type": "stream",
     "text": [
      "/home/moein_salimi/users/babak/IdeaGeneration/venv/lib/python3.10/site-packages/peft/utils/save_and_load.py:252: UserWarning: Setting `save_embedding_layers` to `True` as the embedding layer has been resized during finetuning.\n",
      "  warnings.warn(\n"
     ]
    },
    {
     "name": "stderr",
     "output_type": "stream",
     "text": [
      "Unsloth: Input IDs of shape torch.Size([1, 10073]) with length 10073 > the model's max sequence length of 8192.\n",
      "We shall truncate it ourselves. It's imperative if you correct this issue first.\n"
     ]
    },
    {
     "name": "stdout",
     "output_type": "stream",
     "text": [
      "\n",
      "================================================================================\n",
      "✅ CHECKPOINT AT STEP 410\n",
      " (Random Sample Index: 1408)\n",
      "--------------------------------------------------------------------------------\n",
      "▶️ PROMPT (Input part):\n",
      "[Technical Analysis for 2018-06-14]\n",
      "BTC Price: 6675.35, BTC RSI: 34.66\n",
      "Gold Price: 1304.00, Gold RSI: 52.05\n",
      "Oil Price: 66.89, Oil RSI: 46.89\n",
      "\n",
      "[Random Sample of News (last 60 days)]\n",
      "3 Reasons Regeneron Stock Could Start Climbing Again: Shares of Regeneron Pharmaceuticals Inc. (NASDAQ: REGN) created a high-water mark around three and a half years ago that's still 51% above recent prices. The drugs it outlicensed to its big pharma partner, Sanofi (NYSE: SNY) , succeeded in the clinic. Unfortunately, commercial launches that take baby steps when investors expect giant leaps can pressure even a bio...\n",
      "\n",
      "🤖 MODEL RESPONSE:\n",
      "assistant\n",
      ".2..5.7.4.3...2.4.6..4.6...1.5.1.3.1.4....4..3.3..5...8.2.2.1.8..1..5.1..3......7.7...5.6.3.2.8.....1.4..8.5.6.5.5.1.5.2..1.8.6.6.1..3.8...1.1.5..7.6....7.4.5..8.2..3.8.1.5.6.2..5..4.7.4..8...5.6....5..1......1.5.7.2.2..4.4.5.2..7..4.4.3.1.7....5.4.6.8.5.1...4.2.....5.4.1.3.6..5.7.4.3..3.7.....3.7....2.1.3.7.7.4..5.5.4...3.7.3.5.2.4.5.2..6..3.6.3.2..1.7...6.5.1.2.1..8.5.2..1.3.3.1.7.2.6.8.2.5.5..6.5.3.8.7..1.4.8...6.8.7.1.1.6.7.6....1.2...6.8.2.3..3.6.3.6..3.2...7.6.7.4..4.4.3...1.....5.1..3.3.....8.4.1.2.2...3..2.7.4..1.3..1.1...8.1.7.2..8.8.4.7.3.5.5.4.8....5....5..5.4....5.3..4.2.1.7.3.....6.....4.4.5.5.4.2.5.2.2.1...7.6.8.4.5..6..1.7.4.5...1.5.3.1...7...7..3.3...4.7.7.1.1...1..7.2..6..7.2..2...4..8....3...7..3.7.4.2.3...4..5.5.5.4.1.4.7..1.1.3..2..5.....5...3.6.5..2.7..8.5.4.2.3.3..1..7.3.3.1.1.1.........3.2..5.4.3..1.1..5..4..7..3.......4.3.8..1.3...7..5.1...8..1.8....5..1...6.5...6..1.4.1.5.5.2....5.5.1.1.8.6.1.2.8.4....3.5..6..7.6..8.3..7.5....3..8.1.5...1......3.4...7.4...5.4.3..4.2.2.6.1.7.4.2.1.5..7..5.5.6.1.7.5.7.8.4.4.4....5..4..3.5...4.7.7.3.2.6..1..2.4..5..8..8.3...5.2.6.7.1.4..4.5..1.7..6.3.1.5..3..8....6..7.7.1.5.4.5.3.1.4...5.3..5.4..8.2.8.5.3...7..7.7.4.5...7.6...7.4..3...8.4.5.5..8.7.3.8.5.7.8.6.5.6...7...7..6...4.1.1.6.5.3.5..6.1.1.1.....3...3.2.1.5.4.8.4.7.4.5..4.3.3.8.3.2..1.8....5.5.7..7.1.5.6..5..5...5.6.7.3.3.5..3..2.1..6..2.1.3.6.2.5.1.2.5.3..3..5..5..2.5.4..5..5..4..2.8.7.1...6.4...4..6..5..2.7.6.4.3..1.5...8.3..1.2.5.1.5..2.1.1.4.8..1.3.2.2...1..5.4..7..7..2.2.3...1..1.4.8.1.3.1.5.5.8.5.4.3.2.5..8.5.5.5...5..5.1.1..1.3.2.4.4.1.2.3.2.1.5..5..1.1.8.2..3.8..1...2..8.2..6.4...5..5....5..5.5..5.2....4.6....3.2.1..8.4..1.1..3.4.5.3.3....8...8.4....4.1.3.5.7.3..1.8..3.2.5.2.5.1.6...6.5..2...4.8.4.1..6..6..4.5.7..6.5.3..5.2..5.3..1.6.3.1.1.2..5.2..5..4.3.7.6..6.6....1.5..5.4.5.6..1.4...3.1..5..5.5.2.6.3.1.4.7.1.1.1...1.2.4...5.5.5.4....2.5.3.8..5.7.3.4.4.3..3..6..1....7..2.8..7.5.5.6..1.4..1..6.6.5.4.7.1.3.1.5..2..2.5..2.5.1..6.4.7..5.6......5..2..5..8..4.4.4...1.5..4.5.4..6.3.3.2.4.1..2.5.5.6\n",
      "\n",
      "🎯 GROUND TRUTH:\n",
      "<|forecast|>\n",
      "Trend: down || Prices: 6456.58,6550.16,6499.27,6734.82,6769.94,6776.55,6729.74,6083.69,6162.48,6173.23\n",
      "\n",
      "================================================================================\n",
      "\n"
     ]
    },
    {
     "name": "stderr",
     "output_type": "stream",
     "text": [
      "Unsloth: Input IDs of shape torch.Size([1, 10662]) with length 10662 > the model's max sequence length of 8192.\n",
      "We shall truncate it ourselves. It's imperative if you correct this issue first.\n"
     ]
    },
    {
     "name": "stdout",
     "output_type": "stream",
     "text": [
      "\n",
      "================================================================================\n",
      "✅ CHECKPOINT AT STEP 420\n",
      " (Random Sample Index: 2472)\n",
      "--------------------------------------------------------------------------------\n",
      "▶️ PROMPT (Input part):\n",
      "[Technical Analysis for 2018-04-26]\n",
      "BTC Price: 9281.51, BTC RSI: 61.14\n",
      "Gold Price: 1316.30, Gold RSI: 41.92\n",
      "Oil Price: 68.19, Oil RSI: 62.03\n",
      "\n",
      "[Random Sample of News (last 60 days)]\n",
      "Bitcoin Price bBounces Back From Dip; Intraday Cap Below $8,200: IMF Chief, Christine Lagarde Says Cryptocurrencies Can Transform Financial Activity: “Before crypto-assets can transform financial activity in a meaningful and lasting way, they must earn the confidence and support of consumers and authorities,” Christine Lagarde.\n",
      "• BTC/USD is testing the short-term resistance level at $8,100, but short-term support is...\n",
      "\n",
      "🤖 MODEL RESPONSE:\n",
      "assistant\n",
      "8.88.91..1.1..3..5.5.3.3..5.7.6.5.4.6..2.2..2.5.6..5..5.8..5..5...6.5.8...5...5.4.1.6.5..5..5.3.2.5.8..2..8.8.6.3.7.5..1.3..5..8.5.4.3.7..5.7.8..6.5.7...5.3.5..1..4.4.5..3..1..3..1.8.7.2.5.2...3.5..3..2..6.2.3...5...7.5.5.8.3.4..6.6.8.7.....5.2...4.1..2.5..5.5.4..6.4.8.5....5..1..2.2.4.7.2...5.1.3.1...1.2..7.5.3...4.1..8.1...5.6.5.5...5.7..5..1.2...8..5.1.1.7.4.8.1.2...4...3.2..4.5..6.2.8.5.5.5.6.5..4..2.3..8...3.4.6.1..5...8..7.1.1..7.2.4.5.4.3...1.6..5.4.3..4.5.7.2...7.7....5.8.6.1.4..5.5.1...5..8.2.7.5.5.5..5.5.3.6.5.5...8.4.8..7.3.5..2..6..4..8.8.5.7.5.2.5.5.1.2.5.3..5.3.5.4.7.3.7.1.4.1.2.1..3.2.5.5.2.4.1.2.5.3.5.7....2.7.2..6.8..3.6.5.1.7..6.2.3.4.5.3...5.2......1..5.7.1.5..2.1.5..7.2.3.5..6.4.3..6..2....5.3.1.2.8.3.3.6.1.1.7.4.7..4...4..2.4..5..6.4.8.1...6.3.4.5.4..1....5.7..1..1.2.3..1.4.6.4.2....2..4..2.8.3...7.3.6..1.5.1..5.4.7.3....2.2.2...5..2...3..2.6.3..5...1.5.2....1...3..1.2.8.6..1.5.5.1....2.1...3.6.3.3.3.5..4.5.1..4..7.1.3..1.7......8.1.1.5.5.8..2..1.1.7.5.....2.5.1..6..4.3.7..5.6..7.3..2.4.5.3..4.4..8.8.1.4..6.2.4..3..2.2.3.3..6.1..1...2...7.7.3..5..1...4..8.6...5..3..7.7...6.1..2.3.7.6.4.2.3.1...5.4.7.2.5..2.1...7...6..7.7.3.4.1.2.3.1..5.8.3.5..5..6.6.3..3.7.5..2.7...4.4.1.4.4.2..6.1..3.4.7.5.1.6..4.4.8..6..4..2.4.5.2....5.1.1.6.5.2....3.5...4...3..7..3.2.1.6..6....1.6.4.4.2.3.5.5..7.1.4.5.4.3..4.2.6.7...8.3.8.2..5.4.5.6..7..5.6.8..2.3...1.6.6.2.3..7..8.3.2.4.3.5.4..5.1..5.5...5.6....7.8.7.5.4.4.4.2..8.1.5...7.1.5.2..1.5..4.8..1.3...2.8.2..1..5.3.4.3.3.1.3..4.1.1.1.6.7....5.8.4.5..6..3..7.1.1..5...5.2.5.3.5...5..2.5.6.4.4.6.1.7..5.5..1..3.8..6.5.1......4.1..1.8.8.1..7.1.7.1.6..5..1..5.5.1.5.4.5.7.2.6..2...8.4..1.5.2..2.5.6.1.1.2..4..2.8..3..2.6.1..1..1.5..1..1.6.2.7..7..7.1..2..2.1..5.5.4.4.7.5.4.4..2.1.7.2..4.4..1.3.6.8.1.3.5...5.4.7.6.4.4.4.5.5.5.2..6.1..5.5.5.5.3.2.2.4.1..5..2.3.1...1..4.6.5...4.5.4..3.5.5.8..1.1.8..4..1..5....4...2.3..3.8.2.7.5.5.1.1.4.1.1..4.7.5.6.4.6.1..3..7....7..5...7.4.6.6.7.4.8.8.1.2.5.4.......4.5.1.3.7..5..7.6.5.1.1.3.7.6..2.7.4...3..4.3.3...5...1.3.4..8.1.6.5.5.4.8.\n",
      "\n",
      "🎯 GROUND TRUTH:\n",
      "<|forecast|>\n",
      "Trend: up || Prices: 8987.05,9348.48,9419.08,9240.55,9119.01,9235.92,9743.86,9700.76,9858.15,9654.80\n",
      "\n",
      "================================================================================\n",
      "\n"
     ]
    },
    {
     "name": "stdout",
     "output_type": "stream",
     "text": [
      "\n",
      "================================================================================\n",
      "✅ CHECKPOINT AT STEP 430\n",
      " (Random Sample Index: 1083)\n",
      "--------------------------------------------------------------------------------\n",
      "▶️ PROMPT (Input part):\n",
      "[Technical Analysis]\n",
      "Not fully available.\n",
      "\n",
      "[Random Sample of News (last 60 days)]\n",
      "ISIS Recruit who Used Bitcoin to Finance Terror Group Could get 20 Years in Jail: A Pakistani-American woman who bought bitcoin and other cryptocurrencies using fraudulently obtained credit cards before wiring the funds toISIShas pled guilty to charges of offering financial support to a terrorist organization.\n",
      "According to court filings, Zoobia Shahnaz made a couple of wire transactions last year to fronts for the Islamic terror outfit ISIS in China, Pakistan andTurkey. Besides the financial contributions to ISIS...\n",
      "\n",
      "🤖 MODEL RESPONSE:\n",
      "assistant\n",
      "127..3.73.1.18.5.35.5.22.7.21.26..2.55..7.5...72.14.3.54.5.6.18..15.14.7.18.3...32.5.4.3.2.3..5.2.34.11.42.3.5.67.5..6..5.5...3.4..5...2.5..7.5.5..5..13.47.3...15.2.5.1....32.4.81.15.7..65.5....37.5..2.4.1.13.6.2..6.51.17.42...17.4.2.5.7.2.1.....2.4..4.4..35.14..6..1...8.2.8..24.3.2.7.2.2.3.7.3..22.4.2.4.3..2.2...6.5.6.5...35.16.5.41..8.17.3.2.6..4....45.8.6..1.3.1.5.8.2.5.8.8.5...5.2....4.4.7.2.1..3.3.5.3.8.5..2.3...1.5.2...44.61.71..8...31.61..4.6.1..23.3.2.6.3.6.7..53.4.4.5.2.5...14.21.7.5...6..5..23.2.4..12..5.1.13.8.3.5.7.3..5..6..8.3.5.....4..12..4....54.3.3..6..3..6...15.5.5.51..3.7.6..4.5.6..3..3.2..7.1....15.3.4.8.15.2..5.3.5..2.71.5.8..4.2.5.1..6..5.7.2.5.1.6.5.4.3.4.2.2.4.3.5.2.4....5.6.2....6...7.7..3.1.4....7.7.4.7.6.4.1.5..3..7.5.3.3..3..3.1..6.7..2..5..35.2...8.8.5.2.1..3.7...6.6.2.3...7.3..3.5..3..6.2..5.2..2.6...8......8..4.7.1.4.1.4.7.3..5.8...8.5.4...13.7.3.7.3.5..7.2.3.7.5.5.5..7..5.5..2.6.4.1.8.8.5..1.31.8.3.2..6.3..5..2..14.8..4....1.5.1..8.3.8.7.1.1..8.1.....2.1.1.2.1...5..4...1.5..1..1...8.5.2.4.1.6.7.3.2..1.6.5.2..8.3.1.7.3.4.1.2..6.1...5....2..2.1..4...5.3..1.1.1.2.4.4..4..1.2.1..1.1.2.7.8.5.7.1.1.4..7..1.4.5.7.5.1.5.4..4.3.5..8.5.3....3..4.8.5.2..6.5..6.7.4.1.2.1.6.6.5..1..3.6.1..8.3.1.3.6.3.4.7.2...3.5.11.3.5.3.8.5.2.6.8..4.6.15.7.6.5.1...6..5.1.3.5.1..5.4..1..5.1.2..3.6.4.1.5.6.2.5.....7.7.7.1.5..8..2.5.5.4.1..5.8..5..7.3..1.1.3.1..3..4.3.5.6...6.5.4.5.4.2.5..4.7.....1.....8...5.6.1.8.8.1.....8..1..3.3.1.1.8.4.3.6..1..5..4.2.3.6.1...4....1.3...4..6.7.4...1.1.8...6...2..5...5.1.2.2...4.3..4.1..3..6.2..6.5.7.5.8.2..7.5..8.2..5.7..2.5..8.1.3.1.7.2.8.1.2....5.7.1.3.4.1...3..5.7.1.6.5.4.4.3.1.3.2.7..6.5..6.2.2...4.6..2.5...8..3..2...6.4.2..4..1.5.6...5..1.1....3.2.4..4.1.5.8.4.4.8.7..8.4.4.1..4..5.4.5.8.4.2.8.7.3.6.3.1.8.7.7.2.7.5..1.7.5...5.1..4.1..6...4.6.2..1.5.8....6..7.2.1.4.8.6.1..2.5.3.3.8.6.2..1.1.7.4.4..3.2..4.6.3..5.3.1.4.2.1..6....7.2....3..1.5..2.2.7.3..5..1.6.3..1.1..5..8...1..2.5.7.3.2...4.2.5..5.6.4..4.7.1...6..6..5..1..8.1...6..1..5....8...5..5..5.7..3.5.4...6.5..8..1.1.1.5\n",
      "\n",
      "🎯 GROUND TRUTH:\n",
      "<|forecast|>\n",
      "Trend: up || Prices: 3614.23,3502.66,3424.59,3486.95,3313.68,3242.48,3236.76,3252.84,3545.86,3696.06\n",
      "\n",
      "================================================================================\n",
      "\n"
     ]
    },
    {
     "name": "stderr",
     "output_type": "stream",
     "text": [
      "Unsloth: Input IDs of shape torch.Size([1, 8211]) with length 8211 > the model's max sequence length of 8192.\n",
      "We shall truncate it ourselves. It's imperative if you correct this issue first.\n"
     ]
    },
    {
     "name": "stdout",
     "output_type": "stream",
     "text": [
      "\n",
      "================================================================================\n",
      "✅ CHECKPOINT AT STEP 440\n",
      " (Random Sample Index: 177)\n",
      "--------------------------------------------------------------------------------\n",
      "▶️ PROMPT (Input part):\n",
      "[Technical Analysis]\n",
      "Not fully available.\n",
      "\n",
      "[Random Sample of News (last 60 days)]\n",
      "Bitcoin is exploding in Venezuela — but not for the reason you think: AsVenezuelasuffers its worst meltdown in history, with inflation skyrocketing and basic necessities running in short supply, many have taken to bitcoin mining in a bid to survive,according to a reportin the current issue of the Atlantic.\n",
      "The reason? Electricity is now cheaper and more affordable in the crisis-hit country than most basic goods. That's because under PresidentNicolás Maduro, electric power is heavily subsidized to the point that i...\n",
      "\n",
      "🤖 MODEL RESPONSE:\n",
      "assistant\n",
      ".12.2.2.2..3..6.6...8.1.3.6.3.1.5...6.2.6.1.1.3.8..2..4....1..7.5.6.5.5.4.2.4...2..6...2.8.1..3.1..7.1..6.2.1...5.4.7.1.4.1..6.6..2.5.1.7.1.5.2.2..1......5..3.7.4.7.5...1..8.3.7.5.7..5..4..6.1.5.1.1.3.8..1.3.6.7.4.1.2.1.1..1.6.4.6..2..4.5.2..5..1...8.4...3..7.1..3..1.6.1.5...3.2.6.....2.2.8.6..1.1.4..2..2..2.6.1....1.6.5.1..2.1..3.7.5.1.....6.5.....7.1.8.4.1.7.4..6.7.4.5...3.....3.5.8.7.3.3.2.4.6...4...2.1.2.2..7..4.1.6..1...1.8..2.4..8.5.5...3..7.4.7.5..5.1.5.4..3.7.8..7.4..6.4.8.4.5..6.8.4.5.5...5..3..3...6.3..7..1..7.5.5.6.6..1.6.4.5.4..4.......2..1.1..3...7.4.1.4..6.2..2.2.3....2.5.5.5.3.7..6.5.1.7.7..3.4..5.5.5..8.1...5...5..2.2.4..2.1.4.1.2.6.3.3.5..4.1..5.1..5..2.2...8.1.4.3..5..7.2.7.1.1.7.2.2..2..1.5.2.7.1.1.6.8.5.2..8.1.1.6.4.7.8.5.8.7.4.8.4..6..4.3.8.....8.2.1.4.2.1.6.8..4.1...1.4...1.5.5.1.5..4.4..8..7.5..4.3.7.3.5.2.3.7.3.5...8..3..7.1.6.5.5.5.7.1.....6.8.5.2.1.4..1.8..8.5.4....7.6.6..5.3..4..7.6.4.5..3..5.3..2...1.5.2.2.7..6.7.3.1.6....4.3.8.2.8....4.6..2..3.....8.2..2..7.5.1.4..2.1.1.8.5..1..1.3.5..1.6.3.3.1.2..5.2..8.1.2.5..7..4....3.5.4..3..6...5.1.6.3...5.3.4.7..5....5.2.3.6.5.5.7....3.5....3....6.3..5...3.8.1.1.1.1.4.5...7.1..5.5...6.8..5.7.1..7.3..2.8..4.4..1..3.4.5.2.1..8..3.3..7..3.1.6.7.2..8.7.4...4.2.4.5.6....3..1.8.1.4.5..1.1..1.2.1.6..6..7.5..1.5..6..1..5..1....5...7..5.6..5.3.4.3.1.2.5.5.5.8.1.2.1.6..8..3.8....8.2..2.6.5.8..1.5.5..5.5.5..8.1..4.6...3.5.1.3.7....2..5.1..3.2...4.1.1.5.3....1...3.5.4.4...2.6..8...1.5.2.8..2.4..1.5.1....7..5..5.7..5.7.5...3..3.6.4.6.3.6.5.5.1....1..4.5.2.5.5..3...3.5.5..3..4.3..5.3.6.2.6....1.6..7.4.4.8.1..5..5..1.2..4.1..2..3.4..3.3.8.3.4.1..5.5.4.7..4.2...7.4...4.8.3..5.6..1.6...4.4..1.4..7.5.2.8.2.1.2.3.2.8.5.3.3.1...4.....1....3.1.5.2.2.2.1.4.7.8.5.2.1.1.1.2..1..4.4.6.1..1.7..8.3.5.5...4..2.5.8.7.5..8.2..7.1..7.1..1.5.3.5..6.3.3.7.6.2.1.6.8..4..5.5.7.8..8.1.5.1..4.7.3..3.5.2.5.1.5.....5.4..8..3.5.7.6.3..4.8...1.3..8.5..4.1.1..5..5.4..7.5.2.5..2.4.6.4.8.1.5.2....1.1..5.1..7.1.4.3.3.5.1..1..1.8.8.1.5..6.8..8.4..3..5.6.7.6.1..4.6.1.1.4.3...1...7.7..2.3.2.6\n",
      "\n",
      "🎯 GROUND TRUTH:\n",
      "<|forecast|>\n",
      "Trend: down || Prices: 4582.96,4236.31,4376.53,4597.12,4599.88,4228.75,4226.06,4122.94,4161.27,4130.81\n",
      "\n",
      "================================================================================\n",
      "\n"
     ]
    },
    {
     "name": "stderr",
     "output_type": "stream",
     "text": [
      "Unsloth: Input IDs of shape torch.Size([1, 15692]) with length 15692 > the model's max sequence length of 8192.\n",
      "We shall truncate it ourselves. It's imperative if you correct this issue first.\n"
     ]
    },
    {
     "name": "stdout",
     "output_type": "stream",
     "text": [
      "\n",
      "================================================================================\n",
      "✅ CHECKPOINT AT STEP 450\n",
      " (Random Sample Index: 1881)\n",
      "--------------------------------------------------------------------------------\n",
      "▶️ PROMPT (Input part):\n",
      "[Technical Analysis]\n",
      "Not fully available.\n",
      "\n",
      "[Random Sample of News (last 60 days)]\n",
      "Market Wrap: Bitcoin Stumbles to $11,300; USDC Lending Rates Skyrocket: As the bitcoin market sees red, DeFi opportunities in stablecoin trading have some borrowing rates exploding to double digits.\n",
      "• Bitcoin(BTC) trading around $11,342 as of 20:00 UTC (4 p.m. ET). Slipping 4% over the previous 24 hours.\n",
      "• Bitcoin’s 24-hour range: $11,299-$11,943\n",
      "• BTC below its 10-day and 50-day moving averages, a bearish signal for market technicians.\n",
      "Heavy sell volumes on spot exchanges such as Coinbase caused a fall in bitcoi...\n",
      "\n",
      "🤖 MODEL RESPONSE:\n",
      "assistant\n",
      ".77.8.4..3.3.5.1..1.6.3.8.7...8..4.6...4.5..3..3..8....1..2.5..1.2.1....1..1...1.4..5.1..6.5.5...1.4.4.1.5..1..3..2.6..1.8.1.4.8.8.1..2.3.1.6.6..5.3.3..6.8..2..5.6..7.1.3.7.6.3..7.2.4...4..4.4..5.6.8.4.5.2...1.2.5..2.7.8..8.2.8.5.5...2.3..1.2.5.5.8..7..5...5.6.2.5..5.4.5.5..1.6.1.5.2.1.1...5..4.4..6.1.7.5.5..7.8..3.1.5...2.5.5.1.3.5.7.1.8...1.7.7...5..6.5.6.3.3.3.8.5.7.7.....4.5...1.8.7.6..1..2.5.4.5...1.3.8.5..1...2..7.1..7..7..3..4.1.1.1.3.6...4.8.3.5..1.6.8.5.5.6.8.3.6.5.7.5.4.1.1..5.1.8.3.5.6.8..5.2.3...8.....5..6.4...3.4..1.5.2.5..5..6.4.4.6.5.3..3.2.2.6...1..7.7.4.8.3.5.2.8..5...8.4..4.1..1.3...3.4.1.1.1.3.3..3.7..7.4.1..8.5..3.3..4.2.5.4.2.2.6..1.2..2..1...1.1...1.1.1.5..7.2.3..3..7.2.5.8..8.3..1.7.4.2..1.6.3..1.2.8.1.1.6.6.3.5.5...7.5.....8.6...2..3..2.7.4.2.1..2..3..6.6.7.4.5.3..4.8.2.5.5..3...4..2.7..1.1.2.5..3.1.1.3..5.5.5..5..5.4.....6..5..3...7...4.4.6..5..5.5.6.4..3.6.3.4.2...5.1.7.1..1.7.7..2....4.1.7.4.2.5...1..3.1.1.6.6.5.5.4.5.4.2.7.5..4.2.4.5.2.3..2.7..7..7.8..8..1..6.8.1.1.1.5.5....2..8.5..3.2.4..5..1..1...5.6....1.7.4.2.6.1.5...5..8.6....5.5.5...1..2.7.5.5..2...5.8.1.2.7.5...5..7.4.6..3...8.7.5.1..7..5..4.1.4.5.8.5.2.3..7.1..1.2.3.1.4.4..5.1.3..2.7.1..3......3.2.2.1.1....6.8.3..3.3.7.1.1.3.1.5..8.2.5.2.6..2.5.1.4.2...1.5..3...6..1.2.2.2.6.8.5.5..7.7..8.6.6.7.7.1.1.2..5.4...1.5..8..3.3...5..5....1.4.7.2.1.1..1.6..5.4.4.7.6..6.8.5.4.2..4..2..2.1..6.5..5.6...6.5.4...6.8..6..4.1.5...3..6.5.8.1..4.5...6.5.6.1..7.5.2..2.1.5.8.7.6..6.7..6..5.1..1.1.2.6.8..7.6..7..5.7...1...7..6.5.5.8.....4.7.1..6..5.3.4.5....1.5.8.3.7.4.2...7..1.3.6.1.3....3.4.4.8..2.3...4..6.2..5.3.5.7.6.4...4.5.1...1.1.3.1.8...8.5.7.5.5.8..2.2.1.7.6..8.5.1.5.2..5.4..3.4.5.5.8...1.2...1.1.5.5.7..3.3.4.2.7.1.1..7.5.5.1.3...3..5..1...5..7.....8.5...2.4.5...1.8...1.3..8.5.5..1.1..3.2.7..2.3.5..3.5.5.5..1..1..8.4.6.2.1.2..6.8.1.1.2...1.5.3..1.3..5..2..6.3.6.4.2.7.2..2..2.1.1.5.4.2.4.5.8.4..5..3.1.7.8..8...8.2.8.3..5.1..1...2.6.5..5....5.1.1.5.3.7....1.5.4.8.2.8.5.7.5.3.4..5.4.7.6...7.7.1.4.3....6.7..1.1.8..5.4.7.8.1..8.3.8...5....4....\n",
      "\n",
      "🎯 GROUND TRUTH:\n",
      "<|forecast|>\n",
      "Trend: up || Prices: 10131.52,10242.35,10363.14,10400.92,10442.17,10323.76,10680.84,10796.95,10974.91,10948.99\n",
      "\n",
      "================================================================================\n",
      "\n"
     ]
    },
    {
     "name": "stderr",
     "output_type": "stream",
     "text": [
      "Unsloth: Input IDs of shape torch.Size([1, 12102]) with length 12102 > the model's max sequence length of 8192.\n",
      "We shall truncate it ourselves. It's imperative if you correct this issue first.\n"
     ]
    },
    {
     "name": "stdout",
     "output_type": "stream",
     "text": [
      "\n",
      "================================================================================\n",
      "✅ CHECKPOINT AT STEP 460\n",
      " (Random Sample Index: 2196)\n",
      "--------------------------------------------------------------------------------\n",
      "▶️ PROMPT (Input part):\n",
      "[Technical Analysis]\n",
      "Not fully available.\n",
      "\n",
      "[Random Sample of News (last 60 days)]\n",
      "Here's Why Ripple Is Up 14% Today: Cryptocurrencies are generally performing well on Monday, with nine of the top 10 by market capitalization in positive territory. After a solid weekend of gains, leading digital currency bitcoin (BTC-USD) is trading for more than $11,500 and is roughly 13% higher than it was a week ago.\n",
      "However, Ripple (XRP-USD), the third-largest cryptocurrency, is the day's standout. Up by about 14% today, there are renewed rumors that Ripple could finally be listed on the leading U.S. cryptoc...\n",
      "\n",
      "🤖 MODEL RESPONSE:\n",
      "assistant\n",
      ".0.1.5..9..6..3.2.5.2.4..5..4...8...7..1.1..8.6..3..6.1.6.5.5.2..1.6.8.3..5.5.5.2.6.1.6..1.3..5.6.......4...3.3...2..6.3.5.2.1.4..3.2.3.5.2.2.4..7.5.5.5....5..4.5..2.5..5.2.2....2.6...7.6.8.8.3...1..2....8.3.5..4.4.8......5.1.3.5.5..5.4.7.2........1..1.8..1.4...4.6.1.6.2.1...3...4.1.7.2..7..4.5.5..5.8..3.6.7.2.4.5.3..2.2.4.7...5...1.1.7...1...5..7.1..7.3.8.3.3.2.1.1.4.5.5.1.8..2...8.8..2.7.1.3.7.1.3.5.1.6.2.2.1..1.4.3.2.1.7.6.4..2.3...4.4..7.6.1.2...4...3.4.7.5.4....1.3.7.4.2.3.5..7.5...6.1..5.2..8.4...5.1.8.2..5...8.2.2.4.1..1.1.8.5...3.4.8.2....4..4..8.5.3.6.5.5.4.1...4.5.5.5.7.8....5.1..3.2....1.4..3.3..4.3.4.7.1.7.5..4.5.1.1.3.1.6.5.3..3.3.6.5.1...5..4.5..1.2.4.5.5..5.1..1..1.1..5.6.4.5..6.1...3..5.8..3.6.2.7..1....1....7.1..7.2.5...4..4...6.6.7.6.5..5..5.1..6.2.1.5.3..5..2..6....2..8.4.6.4.2.4.2.4.7..2.3..2.8...5.6.2.1..5.5.3.7.5.4.7.7.3.1.5.7.7.....1.3.8.7.3..4..3.5.2.1..8...6.1..4...1...6.3..1.8.2.2.7.4.6....7..5.....2.2..5..5.......8..6.1.3..2..4.1..1.1.1.6.2..6.4.5.1.2.2.5.3.5..6...7.2.4.1.1.6..7.1.5.1.5..1.4.2...5.5..3.5.1.5.2.6.8..3..4..5.4.6.6.1.5..3..8.4..4.1..2.3..2.8.7..5.3.8.8.2.6.5.3.4.....5.2..3.4.3.8.2.....4..3.4..5.3.1.5.6.3..5...1.5.1.6.3.5..3.8.1..8.4....5.3......5..5..7.8.7..4......7.1.2.2.1.6.3.7.7.1..8.2.7.7.3.8.6.4.5.5.8...4..2..4..1.2.5.6..7.5..6...1..4.5..5..7..3.6..2..4.3....5..1.4..5.1.1.5.4.1.3.5..1.8..8..5.6.2.4..6.4..4..4.8..4..3.6.3.6....5.2.3.2.5.5.2..7..2..3..5.1..5..4..7.3.6.2.1.1..5.2.5.1.7..5...3...8..5.1..1.8.2..3...7.4.1.3....4..8.1..2.3.5.1.1.1.2.1..5.4.1.2.4.6...5.6.2.1.2...5..8.3..3.5..3..7.2.6.5.1.4..3.5.2.4..6...1.4.5.1.5..5.3.2..4......6..6..3.1..6.7..8.3.5.1....8....1.2.4.5..5.5.3.6.5...5..5.8.5.4.6..4.4...2...1..4.5.4..1.1..1.7...7..3.3.4.3.5.7.4.5.3..6.4.3...6.4.1.5..7.5...5.5.5...6..3..5.4.1.....4.5.5.4.5..1.6...1.5.5.1..6..6.....6.5..5.6..6..3.6.2.1.2.4.6.6.6..6.2.2..3...1.4..7.5.8.3.5.6.6.3..1.1.7...5.1..5.6.2...7.2..1.1.1.5.1.2.4...5.2...6.2.5.2.7...8...5.2.6.1.6.5.2.5..5..2.1.3..7.4.8.4.5..5.1...3..2.3.8..7.5...6.3.6.6.1.1..5.......7.4...4.3.2.5.4...7..2.5.8.\n",
      "\n",
      "🎯 GROUND TRUTH:\n",
      "<|forecast|>\n",
      "Trend: up || Prices: 8930.88,9697.50,8845.74,9281.51,8987.05,9348.48,9419.08,9240.55,9119.01,9235.92\n",
      "\n",
      "================================================================================\n",
      "\n"
     ]
    },
    {
     "name": "stderr",
     "output_type": "stream",
     "text": [
      "Unsloth: Input IDs of shape torch.Size([1, 8711]) with length 8711 > the model's max sequence length of 8192.\n",
      "We shall truncate it ourselves. It's imperative if you correct this issue first.\n"
     ]
    },
    {
     "name": "stdout",
     "output_type": "stream",
     "text": [
      "\n",
      "================================================================================\n",
      "✅ CHECKPOINT AT STEP 470\n",
      " (Random Sample Index: 511)\n",
      "--------------------------------------------------------------------------------\n",
      "▶️ PROMPT (Input part):\n",
      "[Technical Analysis for 2021-09-28]\n",
      "BTC Price: 41034.54, BTC RSI: 38.70\n",
      "Gold Price: 1735.80, Gold RSI: 36.26\n",
      "Oil Price: 75.29, Oil RSI: 66.43\n",
      "\n",
      "[Random Sample of News (last 60 days)]\n",
      "Bitcoin Continues To Recover After Recent Sell-Off: Bitcoinmanaged to settle above the resistance at $42,600 and is testing the next resistance level at $44,000.Ethereumis also moving higher. The world’s second biggest cryptocurrency is currently trying to settle above $3,100.Dogecoinis testing the resistance at $0.2255, whileXRPis trying to settle above $1.00.\n",
      "The recent sell-off in crypto markets was fast, but mo...\n",
      "\n",
      "🤖 MODEL RESPONSE:\n",
      "assistant\n",
      ".9454..4171.51.57.24...3151..98..432.47.85.44.51.72..37.24.34.2..551.48.1.55..9855.1.1.5.79.21.45.5157.23..15..5.28.23..47..95.5..74..4.75.7.7..17..87.68.....9.1..79.1.4...821.24.93.2.25.12.7...43.51..5.1.31...295.971.8.9.7.5857.8..8.75.935.41..1.27.2..34.12....6.71.4...5.11..91..5.47.8.52.5.2.7.35..95.2...9.51.7.37...815.1.1.5.32.32.94.5.2.171.2.33.4..41..5...96.82.9.421.1.1..7.1.3..2.14.725.82.71.1.57.8..3..9.825.4.62..1.51.2.1..1.6.4.55..2.5..5.7.11.41.5.2.4.8.75.7..4...19.1.9.95.8.2..17..9.9.45.84.25.31.1..49.27..5..4.1.3.8.9.5.41.5..5.4..9.2..21..6.72.1...32.94...9.8.1..12.2.5.7.85.34..5...4....5.5.1.8.5...1.4.85.25.5.11.95.59.44..37.5.34.27.19.82.6..57..41...14.61..85.95..4.3.3.1.7.6....2.4.4..4.9.4.11.69.2.2..15.1.4.5.7.1..1.93.5..2.21.2..2.61..6..771.51.1..21....6..9.335.9.7.5.15.77.1.5..4.7..744.4.6.6.12.8.8.5.94.17.1.1...2.2.7.6.2.4.97.95.2.2.11...52.1.13.54.2.5.5.7..4.2.6.5..82...55.2....6..69.5.4...93.5.15.19.22.1..11.25.6.1..3.371..77.7.5.75.1.51.1.5..85.71.6..31.85.931.55.87.53.79.57.5.3.47.7.5...1.31.5.15.13..2.5.2.77..7.3.32.32..53.9.1.1.5..1.52.54.76..45.59.7.71..55.75.3.11.9...54.4.4.4..4....9..73.21......4...9...4..84.1.95.82.2.2...3.9.1..1.71.45.1..8..6.95.5.3...3.5.11..45..4.8.1.5.4.8.43..61..39.25.6.1...59.32.72.5.5.75...9..2.4.11.8..6..96.21.4.2..17.82.55.1.5.67.51.2.2.7.15.2.15.5.54.6.4.9.3.9.42.3.6..2....85.2.2.7.61.1.1...6..51.5...24..5.5..59..57.1.42.5.91..1.39...9.9.4.7.2.21.85..8.23.81.5..1.44..9..6.4.8.53..34.14...15..5.45..1.8.67....7.11.1.6.14.41.52..93.17.45.1.4.27...9..63.62.67.6.1.5.1.5.5.3.4.9.4.5.1.9.71.5.4.1.8.17..9.75.8..1..3.52.27.8.6.4.22.52.8.5..69.11..23.75.11..32.55.1.13...1.74.21.21.8....4.2.8.37.7.1..9.7.74......5.93.7.9.2..6.53.5.1.6.51.6.9.32.8.71.3..11..55.61..3.7.6.97.8.1..7.61..5.94..7.45.75..1.51.7.51.5.5.7..33.2.9..4.5.55.56.5.7..2.11.8.81.3.14.5.9.9.1.1.1.4.24.39.5.8.9.8.3.7.1...3.4..2..7..6.5.71..5.4.3.89.1.39.1.7..2.6.12.3......5.31.4.3.5.4..1..2.2.9...11..22.93..94.1..9.2.11..6.1.51.6.19.27.1.4.13.4.9..33.94.12.8.4.35.2.5.65.4...67.2..2.1..4.5.4.2.7.3..1.7.\n",
      "\n",
      "🎯 GROUND TRUTH:\n",
      "<|forecast|>\n",
      "Trend: up || Prices: 41564.36,43790.89,48116.94,47711.49,48199.95,49112.90,51514.81,55361.45,53805.98,53967.85\n",
      "\n",
      "================================================================================\n",
      "\n"
     ]
    },
    {
     "name": "stderr",
     "output_type": "stream",
     "text": [
      "Unsloth: Input IDs of shape torch.Size([1, 9202]) with length 9202 > the model's max sequence length of 8192.\n",
      "We shall truncate it ourselves. It's imperative if you correct this issue first.\n"
     ]
    },
    {
     "name": "stdout",
     "output_type": "stream",
     "text": [
      "\n",
      "================================================================================\n",
      "✅ CHECKPOINT AT STEP 480\n",
      " (Random Sample Index: 1550)\n",
      "--------------------------------------------------------------------------------\n",
      "▶️ PROMPT (Input part):\n",
      "[Technical Analysis for 2020-11-16]\n",
      "BTC Price: 16716.11, BTC RSI: 75.64\n",
      "Gold Price: 1887.30, Gold RSI: 48.41\n",
      "Oil Price: 41.34, Oil RSI: 56.40\n",
      "\n",
      "[Random Sample of News (last 60 days)]\n",
      "Bitcoin Critic Peter Schiffs Bank Under Spotlight in Global Tax Probe: A Puerto Rico-based bank founded by gold bug and long-time bitcoin skeptic Peter Schiff is under investigation over suspicions it facilitated tax evasion for high-risk clients. According to reports on Saturday by several large media organizations in Australia and the U.S., Schiffs Euro Pacific Bank has become the focus of a major global tax ...\n",
      "\n",
      "🤖 MODEL RESPONSE:\n",
      "assistant\n",
      ".1553.56.1\n",
      "\n",
      "🎯 GROUND TRUTH:\n",
      "<|forecast|>\n",
      "Trend: down || Prices: 17645.41,17804.01,17817.09,18621.31,18642.23,18370.00,18364.12,19107.46,18732.12,17150.62\n",
      "\n",
      "================================================================================\n",
      "\n"
     ]
    },
    {
     "name": "stderr",
     "output_type": "stream",
     "text": [
      "Unsloth: Input IDs of shape torch.Size([1, 10993]) with length 10993 > the model's max sequence length of 8192.\n",
      "We shall truncate it ourselves. It's imperative if you correct this issue first.\n"
     ]
    },
    {
     "name": "stdout",
     "output_type": "stream",
     "text": [
      "\n",
      "================================================================================\n",
      "✅ CHECKPOINT AT STEP 490\n",
      " (Random Sample Index: 322)\n",
      "--------------------------------------------------------------------------------\n",
      "▶️ PROMPT (Input part):\n",
      "[Technical Analysis for 2016-06-23]\n",
      "BTC Price: 623.98, BTC RSI: 49.49\n",
      "Gold Price: 1261.20, Gold RSI: 48.76\n",
      "Oil Price: 50.11, Oil RSI: 59.25\n",
      "\n",
      "[Random Sample of News (last 60 days)]\n",
      "Bitcoin has a governance problem, no matter who created it: * Bitcoin founder claims provoke fresh bitcoin bickering * System needs to evolve to handle rise in transactions * But lead developers squabble, freeze out one of their peers * System needs \"adults\" to make decisions - U.S. professor By Jemima Kelly LONDON, May 6 (Reuters) - As one would-be father of bitcoin falls by the wayside, squabbling among the web-bas...\n",
      "\n",
      "🤖 MODEL RESPONSE:\n",
      "assistant\n",
      ".\n",
      "\n",
      "🎯 GROUND TRUTH:\n",
      "<|forecast|>\n",
      "Trend: no change || Prices: 665.30,665.12,629.37,655.28,647.00,639.89,673.34,676.30,703.70,658.66\n",
      "\n",
      "================================================================================\n",
      "\n"
     ]
    },
    {
     "name": "stderr",
     "output_type": "stream",
     "text": [
      "Unsloth: Input IDs of shape torch.Size([1, 9529]) with length 9529 > the model's max sequence length of 8192.\n",
      "We shall truncate it ourselves. It's imperative if you correct this issue first.\n"
     ]
    },
    {
     "name": "stdout",
     "output_type": "stream",
     "text": [
      "\n",
      "================================================================================\n",
      "✅ CHECKPOINT AT STEP 500\n",
      " (Random Sample Index: 2261)\n",
      "--------------------------------------------------------------------------------\n",
      "▶️ PROMPT (Input part):\n",
      "[Technical Analysis]\n",
      "Not fully available.\n",
      "\n",
      "[Random Sample of News (last 60 days)]\n",
      "FS KKR Capital (FSK)-FS KKR Capital Corp II (FSKR) Deal to Close Soon: Shareholders of FS KKR Capital Corp. FSK and FS KKR Capital Corp. II FSKR have approved the merger deal between the companies. This was announced by FS/KKR Advisor, LLC, a partnership between FS Investments and KKR & Co. Inc. ’s KKR subsidiary, KKR Credit Advisors. The deal, still subject to customary closing conditions, is expected to close around Jun 16. Following the closure, FS KKR Capital Corp. will be the surviving entity and trade on th...\n",
      "\n",
      "🤖 MODEL RESPONSE:\n",
      "assistant\n",
      "\n",
      "🎯 GROUND TRUTH:\n",
      "<|forecast|>\n",
      "Trend: up || Prices: 30817.83,29807.35,32110.69,32313.11,33581.55,34292.45,35350.19,37337.54,39406.94,39995.91\n",
      "\n",
      "================================================================================\n",
      "\n"
     ]
    },
    {
     "name": "stderr",
     "output_type": "stream",
     "text": [
      "Unsloth: Input IDs of shape torch.Size([1, 11086]) with length 11086 > the model's max sequence length of 8192.\n",
      "We shall truncate it ourselves. It's imperative if you correct this issue first.\n"
     ]
    },
    {
     "name": "stdout",
     "output_type": "stream",
     "text": [
      "\n",
      "================================================================================\n",
      "✅ CHECKPOINT AT STEP 510\n",
      " (Random Sample Index: 1200)\n",
      "--------------------------------------------------------------------------------\n",
      "▶️ PROMPT (Input part):\n",
      "[Technical Analysis]\n",
      "Not fully available.\n",
      "\n",
      "[Random Sample of News (last 60 days)]\n",
      "Another Bank Says Its Credit Cards Can't Be Used to Buy Bitcoin: The U.K. banking group Lloyds has banned its customers from using their credit cards to buy bitcoin and other cryptocurrencies.\n",
      "The move comes just a couple days after U.S. banks—fromBank of Americaand J.P Morgan toCitigroup, Discover and Capital One—told their customersnot to buy virtual coins on credit.\n",
      "“Across Lloyds Bank, Bank of Scotland, Halifax and MBNA, we do not accept credit card transactions involving the purchase of cryptocurrencies,” Ll...\n",
      "\n",
      "🤖 MODEL RESPONSE:\n",
      "assistant\n",
      ".32865942336888714958459342193291486899577263172193311.3345725.72131.5.8198254297333978.131415425936517835552145276545219.4231366914179125582454125862.67711.42218382121954.9572111269944974695819511852954673341478771718495115172516.194315755518156295787548542.55.15185559285279186329446.71885954571.436171.52721623.5172.85186574682135..315186.45765.29953.1335223835572112.3124354159429967612943794615394.2451.13635878.34221849.5.9.464463911548.7166737.641.46.55218495.175935125415896541..173122261.15756.24442669115355334191.968.5134925831.99671681.17.1572.623128783191.61561371831715624615781954454474193566781216.86.185385654483544138.8256.6751715327914652471135957194791585178.196588723221966317124251..315518.758.614444417.4145995112246691344471.71947.912575785.12116639.155919.883311667535768.28.49724287521776497..6285234..9349899162.243.9245565.229157157592216.392147.2222681517.47357734377428327..85272194911527551.139595.7.5629.184.116294835838149176247634758866965118844.6915971.9.118853163111151231385152888875451125626998581612.827646138334672965561196965244..15189.87257185762392638232543571399112.62656795.79.1661.476484725885571315182889385253375.1535624118544472514541746923.18.3.51721936256.148373476215697162455.531.313124358741487555955117715.924559555.96969.796.691451.85171338514852536617349..72145.65141.92142.711753145334.766759977165355827514242548219141691811111457869.251362.88.9217964351511457417675219541557171131981119166279199874.168147962969719435159756575212979345892515185191198842.333437518445723424558275752594272977596892543851115434923.5663.3465913912123448115715451791625243159431989837141244961195416.12327577198971659.6111.65286992225156.795.85347.5918212559.6339213171.79191155841344655515937143.53189.17788778.662655392142265653531771954521386931539.9.733958793.227185757532916.73947114792.51264.8667.2299228957877661781238.4.62.51.783.755751596561579956.1682269197626.5422275.3921311712312175129224.679898913554386514471752551439.925162.581236719991221911255966862643556.4..794829.4.61973397135265196.31797\n",
      "\n",
      "🎯 GROUND TRUTH:\n",
      "<|forecast|>\n",
      "Trend: down || Prices: 8223.68,8630.65,8913.47,8929.28,8728.47,8879.62,8668.12,8495.78,8209.40,7833.04\n",
      "\n",
      "================================================================================\n",
      "\n"
     ]
    },
    {
     "name": "stdout",
     "output_type": "stream",
     "text": [
      "\n",
      "================================================================================\n",
      "✅ CHECKPOINT AT STEP 520\n",
      " (Random Sample Index: 2533)\n",
      "--------------------------------------------------------------------------------\n",
      "▶️ PROMPT (Input part):\n",
      "[Technical Analysis]\n",
      "Not fully available.\n",
      "\n",
      "[Random Sample of News (last 60 days)]\n",
      "The crypto rich find security in Anchorage: Not the city, the $57 million-funded cryptocurrency custodian startup. When someone wants to keep safe tens or hundreds of millions of dollars in Bitcoin, Ethereum or other coins, they put them in Anchorage's vault. And now they can trade straight from custody so they never have to worry about getting robbed mid-transaction. With backing from Visa, Andreessen Horowitz and Blockchain Capital, Anchorage has emerged as the darling of the cryptocurrency security startup sce...\n",
      "\n",
      "🤖 MODEL RESPONSE:\n",
      "assistant\n",
      "136581.43,3.89\n",
      "\n",
      "🎯 GROUND TRUTH:\n",
      "<|forecast|>\n",
      "Trend: down || Prices: 9856.61,10208.24,10326.05,10214.38,10312.12,9889.42,9934.43,9690.14,10142.00,9633.39\n",
      "\n",
      "================================================================================\n",
      "\n"
     ]
    },
    {
     "name": "stdout",
     "output_type": "stream",
     "text": [
      "\n",
      "================================================================================\n",
      "✅ CHECKPOINT AT STEP 530\n",
      " (Random Sample Index: 1481)\n",
      "--------------------------------------------------------------------------------\n",
      "▶️ PROMPT (Input part):\n",
      "[Technical Analysis for 2015-03-25]\n",
      "BTC Price: 246.20, BTC RSI: 39.11\n",
      "Gold Price: 1197.30, Gold RSI: 55.45\n",
      "Oil Price: 49.21, Oil RSI: 54.48\n",
      "\n",
      "[Random Sample of News (last 60 days)]\n",
      "U.S. bitcoin exchange makes debut: NEW YORK (Reuters) - Bitcoin payments processor Coinbase on Monday opened a regulated exchange in the United States for trading the virtual currency, the company said. Launched just days after Coinbase raised $75 million from blue-chip financial institutions such as the New York Stock Exchange, the Coinbase Exchange was meant to help stabilize the bitcoin network, which has no centr...\n",
      "\n",
      "🤖 MODEL RESPONSE:\n",
      "assistant\n",
      "259.27,.51.15.37.65.32.52.51.19.15.16.67.46.47.57.61.11.94.83.23.53.41.55.94.92.83.62.51.1.26.46.54.82.47.51.95.94..98.47.59.45.54.16.47.13.75.89.98.61.13.59.17.85.62.41.55.21.41.13.11.95.91.71.51.52.77.22.1.61.88.27.71.78.91.75.15..8..55.85.22.89.71.4.16.99.84.28.47.8.11.71.78.96.13.57.79.77.99.64.79.75.69.9.52.98.39.78.15.44.61.99.45.18.92.34.63.92.32.29.31.81.74.1.68.49.22.21.46.61.11.83.13.88.59.72.63.38.98.35.95.56.32.94.15.51.96..54.27.31.19..14.35.72..45.15.43.31.18.54.63.68.21.37.88.12.96..11.63.55.64.25.71.25.88.15.14.95.86.99.4.87.45.79.23.55.48.45.25.51.14..21.75.95.14.65..32.13.95.54.51.78.92.16..98.59.88.61.29.18..19.51.13.36.56.18..78.48.52.54.19.52.35.55.51.78.19.11.28.18.21.45.83.32.11.75.44.35.38.96.72.59.21.4.52.76.97.59.35.98.66.11.55.15.42.37.94.14.77.12.78.11.37.15.19.24.49.76.14.71.41.29.77.24.92.75.98.26.22.97.17.52.73.15.11.13.25.61.88..12.11.97.29.55.2.1.53..94.14.9.55.79.34.19.62.62.1.5.94.53.61.11.95.18.15.91.85.1.14.51.38.21.5.92.58.87.51.31.93.92.97..51.99.27.65.29.19.71.71.79.55.61.93.53.76.56.67.54.13.11.61.63.57.14.71.31.61.55.51.29.53.7.12.55.91.86.99.5.14.27.41.8.28.47.51.78.49.38.24.5.34.37.9.24.56.97.32.75.76.15.31.15.27.81.22.84.12.13.16.99.59.69.18.67.22.75.57.24.27.56.99.16.57.2.79.93.29.11.2..18.5.51.32.85.15.56.59.29.42.53.22.59.31.65.28.31.11.69.74.54.41.89.76.66.94.1.7.47.75..7.22.79.26.92.11.23.81.17.87.36.41.1.15.12.45.18.55.21.46.97.21.82.55.46.74.33.77.95.11.54.14.91.56..55.35.97.51..79.51.27.34.42.85.66.72.45.42.97.26.24.73.46.25.27.59.43.79.92.7.38.3.45..54.81.61.52.31..8.54.44.41.47.54.89.77.26.38.99.53.11.15.12.19.49.32.49.2.47..79.25.56.34.41.64.59.45.27.65.13.3.29.4.23.93.31.59.82.9.57.37.93.12.75.97.52.53.51.45.55.51.27.11.17.45..1.41..33.76.92.92.43.19.85.84.32.42.71.33.5.14.57.9.16.51.94..55.39.51.21.25.72...28.24.43.61.66.57.31.14.83.98.26.99.67.76.74.41.59.52.11.62...6.17.12..51.41.16.68.25.22.15.32.28.45.8.16.2.93.75.13.19.35.15.15.8.15.79.13.89.83.71.19.18.93..88.94.51.51.81.86.67.22.16.77.56.83.79.4.53.9.49.38.58.34.58.81.34.48.34.91.83.5.7.58.23.31.93.\n",
      "\n",
      "🎯 GROUND TRUTH:\n",
      "<|forecast|>\n",
      "Trend: up || Prices: 248.53,247.03,252.80,242.71,247.53,244.22,247.27,253.01,254.32,253.70\n",
      "\n",
      "================================================================================\n",
      "\n"
     ]
    },
    {
     "name": "stderr",
     "output_type": "stream",
     "text": [
      "Unsloth: Input IDs of shape torch.Size([1, 9379]) with length 9379 > the model's max sequence length of 8192.\n",
      "We shall truncate it ourselves. It's imperative if you correct this issue first.\n"
     ]
    },
    {
     "name": "stdout",
     "output_type": "stream",
     "text": [
      "\n",
      "================================================================================\n",
      "✅ CHECKPOINT AT STEP 540\n",
      " (Random Sample Index: 2364)\n",
      "--------------------------------------------------------------------------------\n",
      "▶️ PROMPT (Input part):\n",
      "[Technical Analysis]\n",
      "Not fully available.\n",
      "\n",
      "[Random Sample of News (last 60 days)]\n",
      "Bitcoin Cash – ABC, Litecoin and Ripple Daily Analysis – 01/10/19: Bitcoin Cash ABC rallied by 3.6% on Monday. Reversing a 3.56% slide from Sunday, Bitcoin Cash ABC ended the month down by 19.07% at $225.63.\n",
      "A bearish start to the day saw Bitcoin Cash ABC slide to an early morning intraday low $212.37.\n",
      "Steering clear of the first major support level at $211.72, Bitcoin Cash ABC rallied to a late afternoon intraday high $230.43.\n",
      "Bitcoin Cash ABC broke through the first major resistance level at $225.83 before a la...\n",
      "\n",
      "🤖 MODEL RESPONSE:\n",
      "assistant\n",
      "25.18157111743663749597.02815598.6475752694425214.21553128517671.5816171955252417\n",
      "\n",
      "🎯 GROUND TRUTH:\n",
      "<|forecast|>\n",
      "Trend: down || Prices: 9235.35,9412.61,9342.53,9360.88,9267.56,8804.88,8813.58,9055.53,8757.79,8815.66\n",
      "\n",
      "================================================================================\n",
      "\n"
     ]
    },
    {
     "name": "stderr",
     "output_type": "stream",
     "text": [
      "Unsloth: Input IDs of shape torch.Size([1, 8536]) with length 8536 > the model's max sequence length of 8192.\n",
      "We shall truncate it ourselves. It's imperative if you correct this issue first.\n"
     ]
    },
    {
     "name": "stdout",
     "output_type": "stream",
     "text": [
      "\n",
      "================================================================================\n",
      "✅ CHECKPOINT AT STEP 550\n",
      " (Random Sample Index: 787)\n",
      "--------------------------------------------------------------------------------\n",
      "▶️ PROMPT (Input part):\n",
      "[Technical Analysis for 2016-05-18]\n",
      "BTC Price: 454.62, BTC RSI: 54.86\n",
      "Gold Price: 1273.70, Gold RSI: 54.75\n",
      "Oil Price: 48.19, Oil RSI: 68.29\n",
      "\n",
      "[Random Sample of News (last 60 days)]\n",
      "Billionaire VC Tim Draper wants 9 months and $40,000 to turn you into the next Steve Jobs, starting with military survival training: (Business Insider)Tim Draper.\n",
      "If you are between 18 and 28, famous billionaire venture capitalist Tim Draper has a plan to turn you into the \"next Steve Jobs.\"\n",
      "That's why he launched aschool for young, would-beentrepreneurscalled Draper University of Heroes, he tells Business Insider, w...\n",
      "\n",
      "🤖 MODEL RESPONSE:\n",
      "assistant\n",
      "4.45.115.155.92.7.131.59.53.41.21.58.9.94.111.29.34.12\n",
      "\n",
      "🎯 GROUND TRUTH:\n",
      "<|forecast|>\n",
      "Trend: up || Prices: 438.71,442.68,443.19,439.32,444.15,445.98,449.60,453.38,473.46,530.04\n",
      "\n",
      "================================================================================\n",
      "\n"
     ]
    },
    {
     "name": "stderr",
     "output_type": "stream",
     "text": [
      "Unsloth: Input IDs of shape torch.Size([1, 8833]) with length 8833 > the model's max sequence length of 8192.\n",
      "We shall truncate it ourselves. It's imperative if you correct this issue first.\n"
     ]
    },
    {
     "name": "stdout",
     "output_type": "stream",
     "text": [
      "\n",
      "================================================================================\n",
      "✅ CHECKPOINT AT STEP 560\n",
      " (Random Sample Index: 284)\n",
      "--------------------------------------------------------------------------------\n",
      "▶️ PROMPT (Input part):\n",
      "[Technical Analysis for 2019-01-09]\n",
      "BTC Price: 4035.30, BTC RSI: 54.21\n",
      "Gold Price: 1289.30, Gold RSI: 67.96\n",
      "Oil Price: 52.36, Oil RSI: 57.76\n",
      "\n",
      "[Random Sample of News (last 60 days)]\n",
      "Bitcoin – The Bulls Eye $4,300 as the Next Price Target: Bitcoin gained 3.99% on Saturday, partially reversing Friday’s 5.66% loss, to end the day at $4,135, marking a 5thday in the green for Bitcoin and the Bitcoin bulls,\n",
      "A relatively range bound start to the day saw Bitcoin ease to a mid-morning intraday low $3,919.3, holding well above the first major support level at $3,818.67, before finding support to break th...\n",
      "\n",
      "🤖 MODEL RESPONSE:\n",
      "assistant\n",
      ".195993118.76.5.81122.118174\n",
      "\n",
      "🎯 GROUND TRUTH:\n",
      "<|forecast|>\n",
      "Trend: up || Prices: 3678.92,3687.37,3661.30,3552.95,3706.05,3630.68,3655.01,3678.56,3657.84,3728.57\n",
      "\n",
      "================================================================================\n",
      "\n"
     ]
    },
    {
     "name": "stderr",
     "output_type": "stream",
     "text": [
      "Unsloth: Input IDs of shape torch.Size([1, 10524]) with length 10524 > the model's max sequence length of 8192.\n",
      "We shall truncate it ourselves. It's imperative if you correct this issue first.\n"
     ]
    },
    {
     "name": "stdout",
     "output_type": "stream",
     "text": [
      "\n",
      "================================================================================\n",
      "✅ CHECKPOINT AT STEP 570\n",
      " (Random Sample Index: 187)\n",
      "--------------------------------------------------------------------------------\n",
      "▶️ PROMPT (Input part):\n",
      "[Technical Analysis for 2022-02-01]\n",
      "BTC Price: 38743.27, BTC RSI: 41.74\n",
      "Gold Price: 1800.30, Gold RSI: 46.38\n",
      "Oil Price: 88.20, Oil RSI: 68.45\n",
      "\n",
      "[Random Sample of News (last 60 days)]\n",
      "Spain Wants to be a Crypto Hub with 100 Bitcoin ATMs to be Installed in 2022: Spain is making a case to become a cryptocurrency hub in Europe, and the latest developments show that it is possible.\n",
      "Bitnovo, a leading Spanish bitcoin payment platform, has partnered with Eurocoin, Europe’s leading supplier of electronic components. The partnership will lead to the installation of 100 cryptocurrency ATMs in the country...\n",
      "\n",
      "🤖 MODEL RESPONSE:\n",
      "assistant\n",
      ".\n",
      "\n",
      "🎯 GROUND TRUTH:\n",
      "<|forecast|>\n",
      "Trend: up || Prices: 36952.98,37154.60,41500.88,41441.16,42412.43,43840.29,44118.45,44338.80,43565.11,42407.94\n",
      "\n",
      "================================================================================\n",
      "\n"
     ]
    },
    {
     "name": "stdout",
     "output_type": "stream",
     "text": [
      "\n",
      "================================================================================\n",
      "✅ CHECKPOINT AT STEP 580\n",
      " (Random Sample Index: 933)\n",
      "--------------------------------------------------------------------------------\n",
      "▶️ PROMPT (Input part):\n",
      "[Technical Analysis for 2019-11-04]\n",
      "BTC Price: 9412.61, BTC RSI: 61.00\n",
      "Gold Price: 1508.00, Gold RSI: 55.81\n",
      "Oil Price: 56.54, Oil RSI: 57.19\n",
      "\n",
      "[Random Sample of News (last 60 days)]\n",
      "A Dangerous Bug in Bitcoin’s Lightning Network Has Been Fixed: A popular payments network running atop the bitcoin blockchain suffered from a long-standing code vulnerability – one where attackers could drain users’ of their money. While initially flagged to the public on Aug. 30 by bitcoin developer Rusty Russell, the full disclosure detailing how this vulnerability could be exploited by an attacker was released Fr...\n",
      "\n",
      "🤖 MODEL RESPONSE:\n",
      "assistant\n",
      "22815.19,15554.16,224471.99,577711.95,344515.65,265319.12,239611.57,133585.75,162659.73,766331747.75\n",
      "\n",
      "🎯 GROUND TRUTH:\n",
      "<|forecast|>\n",
      "Trend: down || Prices: 9342.53,9360.88,9267.56,8804.88,8813.58,9055.53,8757.79,8815.66,8808.26,8708.09\n",
      "\n",
      "================================================================================\n",
      "\n"
     ]
    },
    {
     "name": "stderr",
     "output_type": "stream",
     "text": [
      "Unsloth: Input IDs of shape torch.Size([1, 11379]) with length 11379 > the model's max sequence length of 8192.\n",
      "We shall truncate it ourselves. It's imperative if you correct this issue first.\n"
     ]
    },
    {
     "name": "stdout",
     "output_type": "stream",
     "text": [
      "\n",
      "================================================================================\n",
      "✅ CHECKPOINT AT STEP 590\n",
      " (Random Sample Index: 1185)\n",
      "--------------------------------------------------------------------------------\n",
      "▶️ PROMPT (Input part):\n",
      "[Technical Analysis for 2015-07-15]\n",
      "BTC Price: 285.83, BTC RSI: 61.39\n",
      "Gold Price: 1147.20, Gold RSI: 36.26\n",
      "Oil Price: 51.41, Oil RSI: 32.09\n",
      "\n",
      "[Random Sample of News (last 60 days)]\n",
      "The Future of Bitcoin; the Opportunity and Obstacles: POINT ROBERTS, WA and NEW YORK, NY --(Marketwired - June 04, 2015) - Investorideas.com, a global news source covering leading sectors including Bitcoin and payment technology releases commentary from some of the leading digital currency experts along with management from two public plays within the sector. As Wall Street and global financial markets enter the spac...\n",
      "\n",
      "🤖 MODEL RESPONSE:\n",
      "assistant\n",
      ".\n",
      "\n",
      "🎯 GROUND TRUTH:\n",
      "<|forecast|>\n",
      "Trend: up || Prices: 278.09,279.47,274.90,273.61,278.98,275.83,277.22,276.05,288.28,288.70\n",
      "\n",
      "================================================================================\n",
      "\n"
     ]
    },
    {
     "name": "stdout",
     "output_type": "stream",
     "text": [
      "\n",
      "================================================================================\n",
      "✅ CHECKPOINT AT STEP 600\n",
      " (Random Sample Index: 326)\n",
      "--------------------------------------------------------------------------------\n",
      "▶️ PROMPT (Input part):\n",
      "[Technical Analysis for 2021-11-11]\n",
      "BTC Price: 64949.96, BTC RSI: 59.60\n",
      "Gold Price: 1863.20, Gold RSI: 68.99\n",
      "Oil Price: 81.59, Oil RSI: 52.21\n",
      "\n",
      "[Random Sample of News (last 60 days)]\n",
      "Are Cryptocurrencies Secure? Yes and No – Here’s Why: Theblockchain technologyunderlying cryptocurrencies represents a great leap forward in security, yet some crypto investors have found themselves on the receiving end of multimillion-dollar hacks, fraud and other attacks.\n",
      "What explains the simultaneous security and vulnerability of thesedigital assets, and what can advisors do to help their clients who may be at ...\n",
      "\n",
      "🤖 MODEL RESPONSE:\n",
      "assistant\n",
      "4.5512534679.25.31152328.8158554279\n",
      "\n",
      "🎯 GROUND TRUTH:\n",
      "<|forecast|>\n",
      "Trend: down || Prices: 64155.94,64469.53,65466.84,63557.87,60161.25,60368.01,56942.14,58119.58,59697.20,58730.48\n",
      "\n",
      "================================================================================\n",
      "\n"
     ]
    },
    {
     "name": "stderr",
     "output_type": "stream",
     "text": [
      "/home/moein_salimi/users/babak/IdeaGeneration/venv/lib/python3.10/site-packages/peft/utils/save_and_load.py:252: UserWarning: Setting `save_embedding_layers` to `True` as the embedding layer has been resized during finetuning.\n",
      "  warnings.warn(\n"
     ]
    },
    {
     "name": "stderr",
     "output_type": "stream",
     "text": [
      "Unsloth: Input IDs of shape torch.Size([1, 9823]) with length 9823 > the model's max sequence length of 8192.\n",
      "We shall truncate it ourselves. It's imperative if you correct this issue first.\n"
     ]
    },
    {
     "name": "stdout",
     "output_type": "stream",
     "text": [
      "\n",
      "================================================================================\n",
      "✅ CHECKPOINT AT STEP 610\n",
      " (Random Sample Index: 953)\n",
      "--------------------------------------------------------------------------------\n",
      "▶️ PROMPT (Input part):\n",
      "[Technical Analysis]\n",
      "Not fully available.\n",
      "\n",
      "[Random Sample of News (last 60 days)]\n",
      "Stock Market Today: Dow Bounces Back as Earnings Beats Roll On: Technical analyst pointing at stock chart going up Getty Images Wednesday maintained the same light-news, heavy-earnings pace of the past couple of days, but with a much better result that saw the major indexes close in the black. Netflix ( NFLX ) was the primary focus of today's earnings slate . Its stock tanked by 7.4% after it reported disappointing subscriber growth in Q1 and predicted much of the same for Q2. SEE MORE 12 Cheapest Small Towns in ...\n",
      "\n",
      "🤖 MODEL RESPONSE:\n",
      "assistant\n",
      "\n",
      "🎯 GROUND TRUTH:\n",
      "<|forecast|>\n",
      "Trend: down || Prices: 55859.80,56704.57,49150.54,49716.19,49880.54,46760.19,46456.06,43537.51,42909.40,37002.44\n",
      "\n",
      "================================================================================\n",
      "\n"
     ]
    },
    {
     "name": "stderr",
     "output_type": "stream",
     "text": [
      "Unsloth: Input IDs of shape torch.Size([1, 9745]) with length 9745 > the model's max sequence length of 8192.\n",
      "We shall truncate it ourselves. It's imperative if you correct this issue first.\n"
     ]
    },
    {
     "name": "stdout",
     "output_type": "stream",
     "text": [
      "\n",
      "================================================================================\n",
      "✅ CHECKPOINT AT STEP 620\n",
      " (Random Sample Index: 413)\n",
      "--------------------------------------------------------------------------------\n",
      "▶️ PROMPT (Input part):\n",
      "[Technical Analysis for 2018-11-16]\n",
      "BTC Price: 5575.55, BTC RSI: 16.88\n",
      "Gold Price: 1220.80, Gold RSI: 52.89\n",
      "Oil Price: 56.46, Oil RSI: 18.34\n",
      "\n",
      "[Random Sample of News (last 60 days)]\n",
      "Crypto Market Stable as Bitcoin Stabilizes at $6,350, Decentraland Surges 10%: bitcoin price us dollar Over the last 24 hours, the Bitcoin price has remained fairly stable in the $6,300 region with its volume stagnant at around $3.7 billion. Stellar (XLM) has increased by nearly six percent as the anticipation towards the potential listing of XLM by Coinbase, the world’s largest fiat-to-crypto exchange, continues to...\n",
      "\n",
      "🤖 MODEL RESPONSE:\n",
      "assistant\n",
      ".35866434212149163652424917954259762291898.356319823464784.16627.6614127449829185255728338157544146276492315129519336883657.23537455357692871171267543737812196736748521987271516421.4172649422532.585.7553.55155159..7429311428.97681612224.1883.59.8541655177971822.94.542..616.56932811..1.1143154111.5337.3651388.456.89221121511658523611181447.8.1658825634618.9.32437269856319324.5.14.1577992628722423891745.761.8365948155791372655862918132939527758331776..17698555..5.29259581154.134.5983.876.25.651.95662..219281897253617294827165747.6.27654913715252847.8.5477155441212.4256341521.515698165371175599582.515.2.55798.4267.7379377516.41457741173711812455521765478.26.99531939314177124952722575.4529789.1.911175297275.19415...71.194963543347517.98545916.69112788269369.55515.72519112773725885.389738.3125787395.42.892773959.36.78.87.652685611.433.15189253879.2872721564615142195554987958123348177.46153129.725173666529557149797345255914524.582575176.82.2756995.6512.3.28259686235268.114928543564655952159.8496948472.72.2749528652118146587535835.82.36726.59118216196254763.4.5.385439878135219734139.17724665517156.91..28.1295189867111816969451561996171.7131564.4315392425555536.858432211.5.51.35.8585699.597556577549311943726868.7..1.86.51751421687.92535.5297.4597413385422815.6677.58421125.122289298587.6.512..529153172411314617311957658.8692618517347611264.598969741495927.64.1519165122759526585569547582341995583.56315798343.8385659216691.9315.57531541791.1145515243347.65688275584313115489581771618151.95185425491555642.4752.853.87.555.952213338113181686117647222938171.5.143512..3215925751191.71.56881754.91799.8484591871143588362382176.111248514115313285.32.3.579112199781919468171659.1.51.2.11777779..343.323152721.2.4117942.514655295.91.457.9.56.5255517836.59777623.734713.62455788437264752541693749.22.5716385.619.4395194369551891621593.46311.67.51744.64.131826198751545.5943.5.93414.523279759.144922844.7..9647434681.565536.5.4734152147954915668293.57.352775.135.8351.3.7.595294552.7117476573284175556.51592.812.116714511.2795.477.21427.1994616\n",
      "\n",
      "🎯 GROUND TRUTH:\n",
      "<|forecast|>\n",
      "Trend: down || Prices: 5554.33,5623.54,4871.49,4451.87,4602.17,4365.94,4347.11,3880.76,4009.97,3779.13\n",
      "\n",
      "================================================================================\n",
      "\n"
     ]
    },
    {
     "name": "stdout",
     "output_type": "stream",
     "text": [
      "\n",
      "================================================================================\n",
      "✅ CHECKPOINT AT STEP 630\n",
      " (Random Sample Index: 1556)\n",
      "--------------------------------------------------------------------------------\n",
      "▶️ PROMPT (Input part):\n",
      "[Technical Analysis]\n",
      "Not fully available.\n",
      "\n",
      "[Random Sample of News (last 60 days)]\n",
      "New York regulator issues final virtual currency rules: By Karen Freifeld and Gertrude Chavez-Dreyfuss NEW YORK (Reuters) - New York state issued on Wednesday extensive new rules for companies that operate in virtual currencies such as bitcoin but did little to accommodate complaints that overly tight regulation could hamper the nascent industry. The new rules, the first by a state, create comprehensive guidelines for regulating digital currency firms, according to the state's Department of Financial Services, wh...\n",
      "\n",
      "🤖 MODEL RESPONSE:\n",
      "assistant\n",
      ".1.3.1.5.5.1.4.2.7.1.5.5..1.9.5.8..5.9.7.4.5.8.9.4.1.5.2.9.6.4.8.2.7..4..2.3..2.8.9.4.1..7.2.8.7.9.1.6.2.8.2.1.1.6.9.1.5.1.5.5.5.8.5.1.5.2.5.2.9.1.9.6.6.9.7.3.5.7.3.3.7\n",
      "\n",
      "🎯 GROUND TRUTH:\n",
      "<|forecast|>\n",
      "Trend: up || Prices: 278.98,275.83,277.22,276.05,288.28,288.70,292.69,293.62,294.43,289.59\n",
      "\n",
      "================================================================================\n",
      "\n"
     ]
    },
    {
     "name": "stdout",
     "output_type": "stream",
     "text": [
      "\n",
      "================================================================================\n",
      "✅ CHECKPOINT AT STEP 640\n",
      " (Random Sample Index: 1138)\n",
      "--------------------------------------------------------------------------------\n",
      "▶️ PROMPT (Input part):\n",
      "[Technical Analysis for 2019-12-04]\n",
      "BTC Price: 7252.03, BTC RSI: 35.52\n",
      "Gold Price: 1474.00, Gold RSI: 50.71\n",
      "Oil Price: 58.43, Oil RSI: 57.04\n",
      "\n",
      "[Random Sample of News (last 60 days)]\n",
      "Bitcoin, Ethereum & Ripple - American Wrap: 11/12/19: Bitcoin technical analysis: BTC/USD some hope as price moves within a bullish flag\n",
      "• Bitcoin price is trading in positive territory, up some 1.30% in the second half of the session.\n",
      "• BTC/USD price action is within consolidation mode, has been since breaching $9000.\n",
      "• Critical near-term support eyed at $8500, failure to hold could be punishing.\n",
      "Ethereum technical...\n",
      "\n",
      "🤖 MODEL RESPONSE:\n",
      "assistant\n",
      "22859.74,137.96,4455235.18,371357.34,2983217.2.88.36.45.26.9.92.51.46.8.4.55.85.36.26.59.29.65.59.25.65.28.95.47.89.92.49.69.37.87.17.7.85.31.84.94.52.52.25.49.21.34.23.52.15.37.46.91.74.8.27.61.5.18.35.85.17.58.41.11.14.31.62.76.15.31.68.13.25.36.28.22.17.19.71.96.72.6.64.51.89..32.2.63.97.16.25.62.25.65.52.73.99.23.2.59.76.11.15.67.3.54.71.31.54.73.47.54.5.11.89..9.43.51.49.17.53.59.5.66.38.15.43.41.16.67..16..65.96.51.52..22.51..82.28.93.5.49.17.53.44.54.51.12.95.84.35.2.82.28.95.51.62.61.66.32.53.55.29.35.1..54..15.86.26.47.33.12.85.4.41.57.15.17.46.57.97.63.73.21.43.96.1.97.5.42.91.73.3.41.51.64.26.91.52..22.19.91.51.7.59.66.37.41.15.53.14.91.91.17.41.33.2.96.53.47.92.42.22.95.73.66.54.95.49.49.64.25.46.26.33.65.82.81.92.21.29.25..43.33.99.54.27.92.76..22.25.87.1.82.55.21.56.5.43.52.15.11.95.57.43.93.15.13.55.85.27.55.4.16.58.59.22.31.31.19.57.17.9.91.5.59.95.11.52.24.2.51.15.53.95.37.51.21.25.4.47.38.29.2.77.5.25.34.64.18.55.13.55.76.39.42.52.21.2.28.73.52.1.41.2.51..46.3.64.27.52..2.44.75.37.95.75.73.31.58.93.18.13.16.89.96.87.75..21.15.14.9.17.15.35..57.56.38.99.79.71.86..76.6.17.1.3.57.7.79.72.1.8..75.64.8.32.45.83.46.47..3.27.6.7.78.19.84.85.4.55.69.51.76.58.8..12.19.48.46.49.25.51.44.41.48.52.19.41.47.58.9.19.35.12.62.94.73.15.1.81.67.55..72.72.99.17.35.28..95.46.37.75.45.67..65.18.48.99...52.12.91.18.89.76.95.13.79..15.31.36.45.66.7.45.85.29.34.65.44.32.55.24.54.44..52.18.1.91.88.72.62.77.75.55.94.87.85.71.56.6.49.37.75.34.39.19.11.38.34.65..15.46.56.97..41.76.59.83.58.54.81.18.63.51.36.51.31.66.11.12.26.96.53..76.71.91....81.61.73.85.53.92.91.52.43.64.32.5.16.75.53.61.1.52.54.5.51.63.49..23.22.48.3.77.35.31..19.98.19.67.17.65..72..94.33.59.28.28.32.71..42.12.65.26.75.54.72.61.38.77.99.82.81.75.95.9.51.68.63.86.53.69.87.34.55.85.26.43.2.49.17..13.31.59.69.52.81..17.5.95.5.94.55.41.24.52.29..24.63.77.22.31.94.94.46.3.63.73.79.91.85.43.64.87.73.46.37.19..91.59.76..11.91.93..81.15.11.97.67.5.28.1.75.31.55..11.54.11.4.57.1.21.54.39.15.34.21.82.17.92.4.75..92.15.16.13.25.87.7.95.25.59.15.45..74.97.51.99.76\n",
      "\n",
      "🎯 GROUND TRUTH:\n",
      "<|forecast|>\n",
      "Trend: down || Prices: 7448.31,7547.00,7556.24,7564.35,7400.90,7278.12,7217.43,7243.13,7269.68,7124.67\n",
      "\n",
      "================================================================================\n",
      "\n"
     ]
    },
    {
     "name": "stderr",
     "output_type": "stream",
     "text": [
      "/home/moein_salimi/users/babak/IdeaGeneration/venv/lib/python3.10/site-packages/peft/utils/save_and_load.py:252: UserWarning: Setting `save_embedding_layers` to `True` as the embedding layer has been resized during finetuning.\n",
      "  warnings.warn(\n"
     ]
    },
    {
     "data": {
      "text/plain": [
       "TrainOutput(global_step=644, training_loss=1.719063699615668, metrics={'train_runtime': 27062.5449, 'train_samples_per_second': 0.379, 'train_steps_per_second': 0.024, 'total_flos': 9.328462483842662e+17, 'train_loss': 1.719063699615668, 'epoch': 4.0})"
      ]
     },
     "execution_count": 10,
     "metadata": {},
     "output_type": "execute_result"
    }
   ],
   "source": [
    "trainer.train()"
   ]
  },
  {
   "cell_type": "markdown",
   "id": "6301aea3",
   "metadata": {
    "tags": [
     "papermill-error-cell-tag"
    ]
   },
   "source": [
    "<span id=\"papermill-error-cell\" style=\"color:red; font-family:Helvetica Neue, Helvetica, Arial, sans-serif; font-size:2em;\">Execution using papermill encountered an exception here and stopped:</span>"
   ]
  },
  {
   "cell_type": "code",
   "execution_count": 11,
   "id": "859a3608",
   "metadata": {
    "execution": {
     "iopub.execute_input": "2025-09-06T05:31:01.468119Z",
     "iopub.status.busy": "2025-09-06T05:31:01.467525Z",
     "iopub.status.idle": "2025-09-06T05:31:01.714729Z",
     "shell.execute_reply": "2025-09-06T05:31:01.713563Z"
    },
    "id": "Ze8hbP2rO7-V",
    "papermill": {
     "duration": 0.279197,
     "end_time": "2025-09-06T05:31:01.727290",
     "exception": true,
     "start_time": "2025-09-06T05:31:01.448093",
     "status": "failed"
    },
    "tags": []
   },
   "outputs": [
    {
     "name": "stdout",
     "output_type": "stream",
     "text": [
      "=== Sample formatted texts ===\n",
      "<|im_start|>system\n",
      "Analyze the provided historical prices, technical indicators, news, and social media sentiment from the last 60 days. Based on this context, predict the overall trend (up, down, or no change) and the specific daily closing prices for Bitcoin for the next 10 days.<|im_end|>\n",
      "<|im_start|>user\n",
      "[Technical Analysis for 2021-10-14]\n",
      "BTC Price: 57321.52, BTC RSI: 68.34\n",
      "Gold Price: 1796.70, Gold RSI: 60.27\n",
      "Oil Price: 81.31, Oil RSI: 74.15\n",
      "\n",
      "[Random Sample of News (last 60 days)]\n",
      "Coinbase Expands Banking Services by Letting Users Deposit Paychecks Into Their Accounts: Coinbase has been in the news lately for getting on thewrong side of both customers and regulators, but the cryptocurrency exchange made a different kind of headline on Monday when it said users in the United States will now be able to deposit their paychecks directly into their online accounts.\n",
      "See:Best Cryptocurrencies to Invest In for 2021Find:25 Best Startup Business Ideas to Make Money in 2021\n",
      "The announcement appeared on a blog by Max Branzburg, Coinbase’s vice president of product.He said the feature will be launched in the “coming weeks” but did not specify an exact date. Customers can get paid in crypto or U.S. dollars and choose any percentage of their paychecks to deposit.\n",
      "“With direct deposit, customers can more easily access our crypto-first financial services and be ready for any trade or purchase,” Branzburg wrote.\n",
      "He also announced that starting this week, holders of the Coinbase debit card will be able to spend U.S. dollars as well as crypto while earning crypto rewards. Another new feature is that customers can now earn new rewards in three coins: 1% back in Dai (DAI) or 4% back in Amp (AMP) or Rally (RLY). The card already allowed them to earn 1% back in Ethereum (ETH), Dogecoin (DOGE) or Bitcoin (BTC), or 4% back in The Graph (GRT) and Stellar (XLM).\n",
      "See:Top 10 Most Expensive Shoes Ever MadeFind:How to Use The Child Tax Credit Direct Deposit Portal\n",
      "The launch at least temporarily takes the focus off of a recent string of bad news, including customer complaints that frequent transfers from their bank accounts to Coinbase are time-consuming and inconvenient, CNBC reported.\n",
      "That’s not the only complaint lodged against Coinbase, which went public in April and boasts more than 68 million users in over 100 countries. As previously reported by GOBankingRates, the platform has received thousands of complaints in recent years for a pattern of account hacks where users have reported money vanishing from their accounts. Customers have also griped about poor customer service when they try to contact Coinbase support.\n",
      "See:29 Careless Ways Retirees Waste MoneyFind:Stimulus Update — States Give Out Thousands of Bonus $1,000 Checks — Will You Get One?\n",
      "Meanwhile, earlier this month, Coinbase went into defense mode against federal regulators when it was threatened with legal action by the Securities and Exchange Commission over the exchange’s proposed loan product, Coinbase Lend. As GOBankingRates reported, Coinbase received a Wells notice from the SEC indicating that it intends to sue the company over the product.\n",
      "Coinbase CEO Brian Armstrong countered by accusing the SEC of “sketchy behavior.”\n",
      "More From GOBankingRates\n",
      "• What Money Topics Do You Want Covered: Ask the Financially Savvy Female\n",
      "• Can You Afford Education in America at These Prices?\n",
      "• Nominate Your Favorite Small Business To Be Featured on GOBankingRates\n",
      "• 10 Reasons You Should Claim Social Security Early\n",
      "This article originally appeared onGOBankingRates.com:Coinbase Expands Banking Services by Letting Users Deposit Paychecks Into Their Accounts || Crypto Made the Agenda at Last Month’s Fed Meeting: Top Federal Reserve officials are so concerned about the potential danger posed by cryptocurrencies to the financial system that they discussed it during a seminal monthly closed-door meeting in July. “Some participants cited various potential risks to financial stability including the risks associated with expanded use of cryptocurrencies,” according to minutes of the July 27-28 meeting of the Federal Open Market Committee (FOMC). This is the panel at the U.S. central bank that sets monetary policy, and the interest-rate decisions announced after its monthly meetings are the subject of much soothsaying and Kremlinology ( in the figurative sense) . While officials from the Federal Reserve Board in Washington and regional Fed banks have expressed a range of views about crypto in recent months, from welcoming to wary , this appears to be the first time the topic has come up in the FOMC. Related: Market Wrap: Bitcoin Trades Sideways as Institutional Demand Expected to Rise As such, it’s another sign the industry has “arrived,” following its role holding up the $1 trillion infrastructure bill in Congress. Released Wednesday, the minutes did not say which members of the 11-seat committee voiced these concerns. A few officials also highlighted the need to regulate stablecoins, according to the minutes. The officials noted the “fragility and lack of transparency associated with stablecoins, the importance of monitoring them closely, and the need to develop an appropriate regulatory framework to address any risks to financial stability associated with such products,” according to the minutes. Related: Facebook: Novi Digital Wallet Is ‘Ready to Come to Market’ While the document does not elaborate, one reason FOMC members may be concerned is the investments made by issuers of stablecoins, which are supposed to be redeemable 1-for-1 with dollars, and the potential for a sell-off in the underlying assets should these outfits be hit with a high number of redemption requests simultaneously. Story continues “There’s increasing evidence that [stablecoins] are material players in the commercial paper market and operating like unregulated money market funds—which aren’t even stable themselves ,” Steven Kelly, a research associate at the Yale Program on Financial Stability, an initiative focused on understanding financial crises, told CoinDesk. Related Stories Minneapolis Fed President Kashkari on Crypto Market: ‘Thousands of Garbage Coins’ The Race for Stablecoin Transparency || Natural Gas Weekly Price Forecast – Natural Gas Markets Spiked for the Week: Natural gas marketshave spiked higher to kick off the week, reaching all the way towards the $6.50 level. By reaching that area, we got a little bit overextended, and then pulled back quite significantly to reach down towards the $5.50 level towards the end of the Friday session. All things been equal, this is a bit of a shooting star, but at this point I still think we are a long way away from forming a new downtrend. Quite frankly, it is very likely that we would see buyers on dips, and that is exactly how I plan on playing this market.\n",
      "I believe that the $5.00 level should continue to offer a significant amount of support, at least from a psychological standpoint, if not a structural one. There is still a significant amount of demand for natural gas in the European Union, and as long as that is going to be the case, I think it is difficult to short this market. The market is significantly bullish, and therefore it is going to take a significant amount of a fundamental shift in order to make this market fall apart.\n",
      "That being the case, I would be short and probably aggressively so, but until demand suddenly falls apart, there is no way to do that. As to where we end up to the upside, it is almost impossible to tell, but it should be noted that the momentum is still there, so I think that we will continue to see plenty of value hunters looking to pick up natural gas.\n",
      "For a look at all of today’s economic events, check out oureconomic calendar.\n",
      "Thisarticlewas originally posted on FX Empire\n",
      "• Crude Oil Weekly Price Forecast – Crude Oil Markets Continue to March Higher\n",
      "• S&P 500 Price Forecast – Stock Markets Hanging On By a Thread\n",
      "• USD/CAD Daily Forecast – Canadian Dollar Moves Higher Ahead Of The Weekend\n",
      "• Bitcoin Bulls Gear Up for Fourth Quarter Showdown\n",
      "• Netflix Tips Its Hand to Gaming Strategy\n",
      "• Natural Gas Weekly Price Forecast – Natural Gas Markets Spiked for the Week || Dogecoin Pulls Back After Major Rally: Dogecoin Tries To Stabilize After Upside Move Dogecoin has recently made an attempt to settle above $0.35 but lost momentum after a major rally and pulled back towards $0.34. Meanwhile, Bitcoin received strong support near the $46,000 level and is testing the resistance level which has recently emerged at $48,000. In case Bitcoin manages to settle above the resistance at $48,000, it will gain additional upside momentum and head towards the psychologically important resistance level at $50,000 which will be bullish for the whole crypto market. It should be noted that Bitcoin Dominance, which measures Bitcoin’s market capitalization as a percentage of total crypto market capitalization, has recently managed to settle below the 45% level and continues to move lower. The recent developments indicate that traders remain interested in altcoins which is bullish for Dogecoin. Technical Analysis Dogecoin gained strong upside momentum after it managed to get above $0.30 but faced resistance near $0.35. Currently, Dogecoin is trying to stabilize between the nearest support level, which has emerged at $0.33, and the resistance at $0.35. RSI has reached multi-month highs which means that the risks of a pullback are significant. In case Dogecoin manages to settle below the support level at $0.33, it will move towards the next support at $0.3150. A successful test of the support at $0.3150 will push Dogecoin towards the next support level at $0.2950. No material levels were formed between $0.2950 and $0.3150 so this move may be fast. On the upside, Dogecoin needs to settle above the resistance at $0.35 to continue its upside move. The next resistance level for Dogecoin is located at $0.36. In case Dogecoin manages to settle above this level, it will head towards the next resistance level which is located at $0.38. A move above $0.38 will open the way to the test of the resistance at $0.3950. It should be noted that cryptocurrencies are very dependent on momentum so Dogecoin has decent chances to continue its upside move despite high RSI. Story continues For a look at all of today’s economic events, check out our economic calendar . This article was originally posted on FX Empire More From FXEMPIRE: Oil Price Fundamental Weekly Forecast – Weakness Expected to Continue Amid COVID-Related Demand Concerns EUR/USD Daily Forecast – Resistance At The 20 EMA Stays Strong AUD/USD and NZD/USD Fundamental Weekly Forecast – RBNZ to Announce Rate Hike; Aussie Labor Market Weakens Oil Prices Tumble On Weak Chinese Economic Data Bitcoin and Ripple’s XRP – Weekly Technical Analysis – August 16th, 2021 Bitcoin Price Prediction – Bulls Target $49,000 Levels. Avoiding sub-$46,500 will be Key || UPDATE 2-Bitcoin price rises past $50,000 then retreats: (Updates prices, adds analyst comment) LONDON/CHICAGO, Aug 23 (Reuters) - Bitcoin's price surged past $50,000 on Monday for the first time since May, but the rebound from a months-long slump later ran out of steam. The world's largest cryptocurrency was last down 0.2% at $49,201. It had risen as high as $50,562 as investors bet that the prospect of more U.S. stimulus spending would lead to further gains, and more mainstream financial services firms made moves in the nascent asset class. Bitcoin has climbed 82% since hitting a yearly low of $27,700 in January. The price retreat was predominately driven by profit taking, according to Edward Moya, senior market analyst at OANDA in New York, who also pointed to a report that some bitcoin mining from China might abruptly go offline on Tuesday. Meanwhile, the price of rival cryptocurrency ether was last up 1.97% at $3,305. The virtual coin has risen 91% since slumping to below $1,740 last month. The cryptocurrency recovery comes as some more established financial services companies offer their customers access to virtual coins. PayPal Holdings Inc said on Monday it would allow customers in Britain to buy, sell and hold bitcoin and other cryptocurrencies starting this week. Moya said that fears of capital gains taxation has led some traders to hold cryptocurrency as a long-term investment, removing some volatility from the market. \"New investors are the key to this latest bitcoin rally and all signs show they are comfortable with high risk,\" he said in an email, adding that bitcoin \"could see a fast appreciation here and might not hesitate making a run for $60,000 if appetite for risky assets remain intact.\" Others also believe the upswing could have further to go if more retail investors return to the market. \"The last time bitcoin was at $50,000, the Google trends (tracking website showing bitcoin searches) was much higher than what it is now,\" Marcus Sotiriou, a sales trader at the UK based digital asset broker GlobalBlock, said in a note. \"This suggests that retail euphoria hasn't entered the market yet and bitcoin has a long way to go in this market cycle.\" (Reporting by Anna Irrera in London and Karen Pierog in Chicago; Editing by David Holmes, Alison Williams and Jonathan Oatis) View comments || Bitcoin, ether slump as market selloff widens: By Gertrude Chavez-Dreyfuss and Saikat Chatterjee NEW YORK/LONDON (Reuters) -Cryptocurrency prices sank on Monday as concerns over the spillover risk to the global economy from Chinese property group Evergrande's troubles spread across financial markets. Bitcoin, the world's biggest and best-known cryptocurrency, tumbled to $42,453.97, its lowest level since Aug. 7 before trimming some losses to trade down 7.4% at $43,745. It hit a near four-month high above $52,000 on Sept. 6. Smaller rival ether, the coin linked to the Ethereum blockchain network, fell more than 10% below $3,000 for the first time since early August. It was last down 7.6% at $3,071. Market capitalization of the cryptocurrency market dropped 10% on Monday to under $1.94 trillion, from last Saturday's $2.17 trillion. The loss in the value of cryptocurrencies comes at a time when institutional interest in the space has surged and some investment banks have ramped up their forecasts for cryptocurrencies in the coming months. \"It's red, red, red across the board today as the cryptocurrency markets follow the downturn being seen in traditional markets as China battles a highly-contagious property market crisis,\" said Tim Frost, chief executive officer at Yield App, a financial technology company that enables users to invest in decentralized finance. \"Bitcoin has lost support at the $44,000 mark and looks set to test its $39,000 floor. If it falls through here we can expect a significant correction to come,\" he added. Bitcoin shorts in the futures markets have increased to 1,187 contracts, the largest since early August, according to data from the Commodity Futures Trading Commission released Friday. (Reporting by Gertrude Chavez-Dreyfuss in New York and Saikat Chatterjee in London; Editing by Ritvik Carvalho and Chris Reese) || Crypto trading thrives in Nigeria despite official disapproval: By Chijioke Ohuocha and Libby George LAGOS (Reuters) - Nigerian art dealer Ebuka Joseph started using cryptocurrencies last year when business ground to a halt due to COVID-19. Now he is hooked even though the financial authorities disapprove. \"Crypto just allows me to transact freely and within minutes we are done with our transactions,\" the 28-year-old told Reuters from a friend's studio in Lagos where he displays his works. Nigeria's Central Bank barred local banks from working with cryptocurrencies in February, warning of \"severe regulatory sanctions\" and freezing accounts of firms it says are using them. But Joseph's appetite for crypto, like many in Nigeria, has only increased. For people like him, the clampdown has highlighted the benefits of using currencies outside the central bank's control, and Nigeria remains the largest market for cryptocurrency trading platforms like Paxful. Nigerians are turning to crypto for business, to protect their savings as the naira loses value, and to send payments abroad because it is often hard to obtain U.S. dollars, experts and users told Reuters. In March, just after the central bank ban, the dollar volume of cryptocurrencies sent from Nigeria rose to $132 million, up 17% from the previous month, research firm Chainalysis said. Transactions in June were 25% above the same month last year. Sly Megida, another artist using crypto to sell his works, said his buyers worldwide readily accept the use of digital currencies and they have also protected his finances. \"The naira is digressing and we are trying to keep the value of the art,\" he said, calling crypto \"the currency where people don't think that I am paying too much or too less\". DANGERS REMAIN The Paxful peer-to-peer platform that Joseph uses experienced a 57% rise in trading volume in Nigeria in the year to June, while user numbers surged 83%. Exchange Yellowcard, which has adopted the peer-to-peer model in Nigeria since February, told Reuters that use \"has continued to absolutely skyrocket\". Story continues Both Paxful, which has opened an office in Abuja to lobby the government to change its attitude to crypto, and Yellowcard said Nigerians generally turn to crypto for business rather than speculation. Chainalysis, in a report last month on African crypto, said the central bank ban locked most Nigerians out of traditional crypto exchanges, so many shifted to a peer-to-peer system. This goes via platforms such as Paxful or Local Bitcoins, which vet both parties. But other users just exchange crypto for Nigerian naira or other currencies with people they find on WhatsApp or Telegram. As a result, Chainalysis said Nigeria's crypto use is likely even higher than its figures suggest. Risks remain, however. In August, the central bank froze the accounts of some crypto users for allegedly sourcing funds from illegal foreign exchange dealers, leaving many companies that use cryptocurrencies reluctant to talk about it. Joseph, though, is undeterred. \"You can sell to people outside the country, and they can actually pay in different currencies, which you can always convert,\" Joseph said. (Reporting by Chijioke Ohuocha and Libby George; Additional reporting by Angela Ukomadu; Editing by Giles Elgood) || Bitcoin attempts recovery as Evergrande-led selloff eases: By Anushka Trivedi (Reuters) - Cryptocurrency prices bounced off 1-1/2 month lows on Tuesday as a heavy selloff overnight linked to concerns about a possible loan default by property developer China Evergrande eased slightly, but investors braced for more volatility. Bitcoin, the biggest and the best known cryptocurrency, traded around $43,000, recovering from a fall to $40,192 earlier in the session. It hit a four-month high of $52,000 on Sept 6. Smaller rival ether, the coin linked to the Ethereum blockchain, rose 1% to $3,012 after falling below $3,000 for the first time since early August. Global markets started the week on a turbulent note after fears that Evergrande's troubles could lead to a fallout for the Chinese and global economies prompted a selloff in riskier assets. \"We can't take a very positive view just as yet until we get through the next few days,\" said Matthew Dibb, chief operating officer at crypto index fund provider Singapore-based Stack Funds. \"This is purely sentiment driven right now, and it's actually been off very low liquidity,\" he said, adding that it would be better to wait on the sidelines as crypto markets will continue to be affected by the contagion. The drop in cryptocurrencies comes at a time when institutional interest in the space has risen and made it more mainstream, with many investment banks taking a more bullish stance. (Reporting by Anushka Trivedi in Bengaluru; editing by Richard Pullin) || Comparing Dogecoin, Baby Doge and Shiba Inu: Is There One To Watch?: RoamingPanda / Getty Images Bitcoin has been the most popular and well-known cryptocurrency since it literally began the asset class in 2009. However, as speculative fervor has broken out among many markets over the past few years, literally hundreds of new cryptocurrencies have been created, with many skyrocketing in price. Some of these newer cryptos don’t, as of yet, have any discernible value in the blockchain world, and many have whimsical names, such as Dogecoin, Baby Doge and Shiba Inu. Here’s a look at the story behind these three particular cryptos and whether or not they are worth keeping tabs on as an investor. Find Out More: Is the Shiba Inu Coin the Cryptocurrency You Should Be Watching? See: Where Does Cryptocurrency Come From? Dogecoin Dogecoin was initially created as a joke by two software engineers in December 2013, with a Shiba Inu — a breed of hunting dog in Japan — as its mascot. What began as a joke is now a full-fledged, functioning cryptocurrency. In fact, as of Aug. 9, Dogecoin has the fifth-largest market cap of any cryptocurrency at $31 billion. Consider: Dogecoin’s Highs and Lows: Is It Still Worth an Investment? Part of the reason that Dogecoin is so well-known is thanks to the tweets of Tesla CEO Elon Musk. Some market participants have even dubbed Musk the “Dogefather” for his support of the crypto. Yet, Musk is not alone in his support for Dogecoin. Billionaire entrepreneur and “Shark Tank” investor Mark Cuban told CNBC’s “Make It” that Dogecoin is the “strongest” cryptocurrency as a medium of exchange, to which Elon Musk immediately agreed, tweeting, “I’ve been saying this for a while.” All of this combined to spike Dogecoin’s price yet again, rising about 10% in 24 hours. Although investing in any cryptocurrency is a speculation, the former “joke” crypto seems to have staying power. The coin actually exists as a medium of exchange, and it’s got backing from at least two prominent and popular billionaires. More Economy Explained: Ethereum (ETH): What It Is, What It’s Worth and Should You Be Investing? Story continues Baby Doge Baby Doge is another crypto with a fanciful side, as it was designed by the Dogecoin community as the offspring of its “father,” Doge. The crypto’s own website emphasizes its playfulness, as it states that “Baby Doge seeks to impress his father by showing his new improved transaction speeds & adorableness.” Unlike other cryptos, however, Baby Doge isn’t meant to be used as a currency. Rather, owners are incentivized to simply hold on to the coin and hope that it increases in value. While Dogecoin, along with many other cryptos, has no cap on the amount that can be mined, Baby Doge is pre-mined, meaning no more can be created. According to the Baby Doge website, this makes the coin hyper-deflationary and designed to become more scarce over time. Baby Doge holders are rewarded with a 5% fee from every transaction on the Baby Doge network, paid in Baby Doge. An additional 5% of each transaction is retained by the network for liquidity. Read: How To Invest In Cryptocurrency: What You Should Know Before Investing Although Baby Doge references its transaction speeds as a draw for investors, it’s really focused on increasing its price via a six-pronged roadmap. While the supply of Baby Doge is “limited,” that cap sits at a massive 420 quadrillion tokens, part of the reason its current share price is at an unbelievably low $0.000000001464, as of Aug. 23. The idea is that with a share price so low, early adopters will want to hoard massive numbers of tokens in the hopes of an eventual payoff. Take a Look: What Is the Next Big Cryptocurrency To Explode in 2021? Shiba Inu Shiba Inu was originally created as the mascot for Dogecoin, but now it operates as its own token on the Ethereum blockchain. Unlike some cryptos which limit their supply, Shiba Inu acts more like Baby Doge, with a nearly unfathomable circulation of 1 quadrillion coins. Shiba Inu has a similarly low price, at just $0.0000082 as of Aug. 23. One major difference between Baby Doge and Shiba Inu, however, is that Shiba Inu strives to be an Ethereum-based alternative to Dogecoin by supporting an NFT art incubator and other projects on its decentralized exchange known as Shibaswap. Find Out: Why Some Money Experts Believe In Bitcoin and Others Don’t As Shiba Inu serves a workable function and is based on popular and well-known Ethereum, some investors believe that it might have more legs than Baby Doge. However, Shiba Inu is still extremely speculative, and like many altcoins trying to find their place in the crypto universe, a single tweet can create massive price movements up or down. Not surprisingly, Elon Musk is one of the main culprits with Shiba Inu as well; a single tweet from Musk stating, “My Shiba Inu will be named Floki,” was enough to push the Shiba Inu price up 25%. Investors would be wise to tread with caution on this one. More From GOBankingRates 5 Things Most Americans Don't Know About Social Security The 8 Best Deals From Costco's September Coupon Book Social Security Benefits Might Get Cut Early -- What Does It Mean for You? When Social Security Runs Out: What the Program Will Look Like in 2035 Last updated: Aug. 24, 2021 This article originally appeared on GOBankingRates.com : Comparing Dogecoin, Baby Doge and Shiba Inu: Is There One To Watch? || Bitcoin Price Rebounds After Testing Lower Support Near $44K as Ether Booms: The price of bitcoin rose by $500 on a four-hour basis Wednesday after testing lower support near $44,000 during Asias late morning trading hours. The rebound from 24-hour lows of $44,248 follows a period of profit-taking on Tuesday on the back of short-term fatigue, as CoinDesk reported . Bitcoin is currently changing hands at around $45,000 and is down 2.9% from a 24-hour high of $47,157, CoinDesk data show. Bitcoin continues to cool upon multiple attempts at $50,000, evoking moments of price action gone by, though that may be less of a concern now given demand from bigger players, according to some market participants. Related: Bitcoin Lightning Network Growth Passes New Milestones In comparison to the bull runs in 2017 and 2018, the current movement takes a more mature trend, said Cynthia Wu, head of sales at Singapore-based digital asset services firm Matrixport. The market landscape has become much more institutionalized  where now you have proprietary traders in crypto hedge funds, crypto-offerings from foreign exchange brokers and institutions ",
      " that are transacting on an institutional scale. The price trend for bitcoin and the fusion of retail and institutional interest are signs that the search for yield by investors, big or small, has extended into crypto and will be around for good, Wu added. Bitcoins daily price action remains relatively flat with the weight of the previously discussed 200-day moving average bearing down on prices near $45,500, a sign that further selling pressure could be lurking around the corner. Meanwhile, the altcoin market continues to hold firm with most in the top 20 coins by market cap remaining in the green over the past seven days. Related: How Much Energy Does Bitcoin Use? Overall, the markets have seen a positive trend continue this week; altcoins are up while bitcoin has coasted flat, said Byron Goldberg, Australian country manager at crypto exchange Luno. Interestingly, we are seeing ether slightly outperform bitcoin week-on-week. Story continues Over a 30-day period, ether is up 67.6%, compared with bitcoins 46.3% rise during the same period, Messari data shows. Goldberg points to Ethereums London hard fork as the likely catalyst for driving prices higher. Indeed, futures premium on ether stands at 7.36%, compared with bitcoins meagre 2.8%, meaning the crypto markets are likely anticipating ether to rise further than bitcoin over the next three months with a shift in institutional interest, Goldberg added. All major cryptos in the top 20 posted results in the red over a 24-hour period by press time. Dogecoin shed the most, while uniswap and chainlink followed close behind. Related Stories Bitcoin Holds Support Near $43K as Rally Pauses Market Wrap: Bitcoin Buyers Could Take Profits as Volume Declines\n",
      "\n",
      "[Random Sample of Social Media Buzz (last 60 days)]\n",
      "None available.\n",
      "\n",
      "Please analyze it first and then give me 10 next day prices separated by comma.<|im_end|>\n",
      "<|im_start|>assistant\n",
      "<think>\n",
      "\n",
      "</think>\n",
      "\n",
      "<|response|>\n",
      "<|forecast|>\n",
      "Trend: down || Prices: 61593.95,60892.18,61553.62,62026.08,64261.99,65992.84,62210.17,60692.27,61393.62,60930.84<|im_end|>\n",
      "\n",
      "================================================================================\n",
      "<|im_start|>system\n",
      "Analyze the provided historical prices, technical indicators, news, and social media sentiment from the last 60 days. Based on this context, predict the overall trend (up, down, or no change) and the specific daily closing prices for Bitcoin for the next 10 days.<|im_end|>\n",
      "<|im_start|>user\n",
      "[Technical Analysis for 2021-10-21]\n",
      "BTC Price: 62210.17, BTC RSI: 65.47\n",
      "Gold Price: 1781.20, Gold RSI: 53.85\n",
      "Oil Price: 82.50, Oil RSI: 70.36\n",
      "\n",
      "[Random Sample of News (last 60 days)]\n",
      "Twitter is adding Bitcoin payments to its app to send another user crypto: Turkey Twitter (Copyright 2017 The Associated Press. All rights reserved.) Twitter has announced new features for its platform, including more flexible controls and the ability to send cryptocurrency between users. Twitter is adding Bitcoin to its Tips feature, which allowed users to send money to others through PayPal and other third-party services, and rolling that out throughout the world. This allows users to add their bitcoin wallet to their profile and send the cryptocurrency directly within the app, starting today, through Strike, a third-party a payments application built on the Bitcoin Lightning Network. Breaking: Twitter is adding the ability to pay users with Bitcoin directly in the app as it rolls out its Tips feature to users globally. https://t.co/5EL7mXVeUK pic.twitter.com/mbyrP4BwHv — Adam Smith (@adamndsmith) September 23, 2021 Tips was originally only available for selected users but will now be accessible to users on iPhones with Android users coming soon. Twitter says that users in countries like Africa might not have access to traditional providers, and bitcoin represents “one of the best solutions” of “forward-looking” solutions. Twitter’s Jack Dorsey has been a long advocate of cryptocurrency, saying that it would “unite the world” and believes it will become the “ native currency of the internet ”. Tipping is entirely on third-party platforms, so does not receive a cut from donations; when users choose a service, it will open the app or a website. The bitcoin lightning wallet invoice is generated by Twitter when transferring crypto currency, and when that invoice is paid off-platform the social media site will send a notification to the receiver that can be replied with using a preset reply or emojis. Non-fungible tokens (NFTs) are also becoming a bigger part of Twitter, with the company ‘exploring’ NFT authentication, letting users directly connect their crypto wallets and show off their NFT ownership on Twitter. Story continues In a call with reporters, Twitter’s Product Lead for Conversational Safety Christine Su also said that the company will be introducing a way to leave a conversation that they have been tagged in and is ‘exploring’ word filters to remove unwanted speech or “targeted name calling” as well as emojis and other terms. These updates follow Twitter’s other changes, such as allowing users to control who can reply and the “Safety Mode” that the company is testing to auto-block accounts , as well as allowing users to remove followers – which was previously done via ‘soft blocking’, which is when someone blocks and then unblocks a user. Twitter is adding more context to its tweets so people can “trust who they are talking to”, Su says, by adding profile labels and a new “heads up” experiment that will inform users when they are joining a “potentially heated discussion” through a label underneath a Tweet, the company showed in a concept mock-up. Twitter will be finding these ‘vibes’, which is in “early days”, using automated technology, but eventually wants to allow authors to set their own tones to the conversation – comparing its experiment to Following up with its Communities feature, Twitter is trying to let users “set their own norms”. Twitter has said that moderators in those spaces will not be held responsible to Twitter’s rules, allowing users to create imagine an alternate timeline where everyone just gets you say hi to Communities—the place to connect with people who Tweet like you. testing now on iOS and web, Android soon! pic.twitter.com/TJdKwUa4D2 — Twitter Communities (@HiCommunities) September 8, 2021 Twitter says that tweets in a Community remains public, and can be quote-tweeted outside the community, but will not be spread outside the community by default unless a user already within that group decides to do so. A creator fund for audio creators is also being created, as well as recording and replay functions being added to the tool for Spaces, its Clubhouse-like voice-call groups . Read More How bad is bitcoin for the environment really? Crypto experts discuss bitcoin price predictions What is Solana? The crypto rising 200-times faster than bitcoin || Does the NFT craze actually matter?: Hello friends, and welcome back toWeek in Review!\n",
      "Last week, we talked about Apple's subscription addiction. This week, I'm diving deep into whether there's actually any meaning to pull out of the NFT mania of 2021.\n",
      "If you’re reading this on the TechCrunch site, you can get this in your inbox from thenewsletter page, and follow my tweets@lucasmtny\n",
      "Image via OpenSea\n",
      "The NFT market is still defying reason, but then again that's kind of its thing. But one thing I'm especially unsure about lately as I see JPGs continue to sell for millions of dollars is... does any of this actually matter?\n",
      "I've spent a lot of time over the last year grappling with the NFT market, at times I've lost sleep over it. As a reporter frequently covering this market, I don't own or trade the little images myself, but that hasn't stopped me from obsessing over the fluctuations in their prices and scouring Discords trying to follow the trends. I've tuned into countless Twitter Spaces and lurked subreddits trying to understand it all. I've also done my best to keep most of that out of this newsletter -- it's a weird niche interest that's especially niche at the moment -- but as Bitcoin flirts with a new all-time-high and the NFT mania persists, just consider this a timely update.\n",
      "So, in the past month, investors have continued dropping billions upon billions of dollars on NFTs. OpenSeahas seen more than $3 billion in transaction volumein the past 30 days, and that number is actually way down quite a bit from August, showcasing just how much off-peak money continues to flow into NFTs.\n",
      "All of that money has gone to some colorful places. One of the bigger success stories of the past month has been the platform CrypToadz which investors dumped $100 million into. They look likethis. In the past couple weeks, a brand new project called MekaVerse saw $130 million in transaction volume. They'rea bit prettier, but would you spend more than $8,000 on one? The platformCryptoslam(where I pulled most of the data I reference here) is tracking 163 platforms which did more than $1 million in volume in the past 30 days, a number which doesn't even account for individual artists selling their work on platforms like OpenSea.\n",
      "NBA Top Shot creator on the NFT craze and why Ethereum still isn’t consumer friendly\n",
      "Now, there are two incredibly different segments of NFT communities out there, larger-scale NFT projects likeAxie Infinityand NBA Top Shot with tens and hundreds of thousands of users and smaller-scale NFT projects like CryptoPunks and Art Blocks with just a few hundred or thousand owners. Larger-scale projects can represent more traditional gaming titles with more complex in-game economies while smaller-scale projects simply look more like fine art markets teamed with exclusive social clubs. Some smaller-scale projects have the ambition to eventually become larger-scale ones, but many have capped the number of NFTs in their projects and are designed to be exclusive.\n",
      "In the past 30 days, Axie Infinity did more than $500 million in sales spread across nearly 2 million transactions and over 350,000 buyers. On the flip side, CryptoPunks did $200 million in sales during that same time frame across 484 transactions and 309 buyers.\n",
      "Generally, when I'm talking about some of these big sales from smaller-scale projects with friends of mine, the first thing they mention is how this is probably all just money laundering. While I'd certainly imaginesome of that is happening, that's ultimately a much more boring explanation than my best guess of what's really going on, which is that a group of several thousand investors have separately rationalized irrational investing. They just happen to have chosen to do so through buying pixel art and drawings of animals.\n",
      "While some investors might suggest that a handful of the earliest NFTs hold intrinsic value as historic objects, there are plenty of brand new NFT projects earning ten-million dollar valuations on day one with low amounts of effort and imagination.\n",
      "The Cult of CryptoPunks\n",
      "It's seemingly the result of momentum from awe-struck retail investors entering a market filled with massive amounts of wealth being generated and re-invested by Ethereum millionaires who can massively overpay for deals while pushing the implied value of the objects, the projects, the entire NFT market and the price of Ethereum up concurrently. Most of these investors are also people who have held onto Ethereum through its waves and have grown fundamentally averse to cashing out, meaning they're less likely to sell the NFTs they buy unless they're just trying to buy another more expensive NFT or have been made an offer too good to refuse. As a result, many high-value smaller-scale projects stay liquid on the low-end while fewer sales of the rarer items underpin the massive valuations of the projects and those occasional big buys keep pushing prices higher.\n",
      "All of this babbling of mine is to say, what's happening here is strange. It's also an incredibly large amount of noise mostly coming from a few thousand buyers.\n",
      "But when most investors talk about mainstream adoption and future use cases, they're looking at the creation of more larger-scale projects like Axie and Top Shot which embody many of the technical bells and whistles of crypto economics in more user-friendly packages that can reach the mainstream. NFTs as a concept for driving more complex virtual economies is, indeed, really fascinating, but I don't think there are as many takeaways to draw from billions of dollars flowing into digital art and these smaller-scale projects like CrypToadz as many crypto investors and venture capitalists are trying to convince themselves.\n",
      "Only three NFT platforms out there had more than 10,000 active unique buyers in their community in the past 30 days, and while the successes of platforms like Axie Infinity are definitely worth dissecting, it also seems clear we're in the midst of a speculative frenzy and it's not a very easy time to draw sober conclusions about what all this madness means for the future of the web.\n",
      "Coinbase is launching its own NFT platform to take on OpenSea\n",
      "Ali Balikci / Anadolu Agency\n",
      "Here are a few stories this week that I think you should take a closer look at:\n",
      "Apple probably won't be supporting alternate App Store payments anytime soonApple did their best to convince the press and public that the court's decision in its legal fight with Epic Games was an outright win for Apple, but over the weekend they quietly announced that weeks later they're appealing the decision and asking the courts to put the ordered changes to allow alternative payments inside iOS apps on hold.\n",
      "Apple put on a cool demeanor after this ruling, but it's apparent that there are billions on the line for Apple if this order stands. Therefore delaying its rollout means billions of dollars that aren't going to other payment providers or staying in developer coffers. Epic had already appealed the decision as well, hoping to try for a more favorable ruling, but it's clear that anyone hoping for a speedy resolution will be disappointed -- as is often the case in corporate law.\n",
      "Nintendo reshapes its SaaS ambitionsNintendo has been and probably always will be a bit of an odd big company. They've been resistant to new trends in gaming and when they embrace them, they don't necessarily do a great job capitalizing on them, and yet their mountain of beloved IP allows them chance after chance to get things right. This week, they announced more details on their new annual membership called Nintendo Switch Online+ which, for $50 per year will give gamers a deeper array of content. That's a good deal more than the standard $20 per year for the regular Nintendo Switch Online subscription, but beyond expanded virtual console support for an unannounced array of N64 games, it's not clear what exactly the sell is for consumers.\n",
      "Interestingly, they're launching the service with free access to a major update for Animal Crossing: New Horizons. It's a play that only works when you're Nintendo and the penetration of your first-party titles is so incredibly high among device-owners (and especially likely subscribers). Nintendo has sold more than 3.4 million copies of the new Animal Crossing title globally.\n",
      "Microsoft pulls LinkedIn from ChinaIt's been a particularly turbulent time for tech companies across China as government regulators crack down and the outlook clouds for big platforms there. This week, Microsoft announced that it's pulling LinkedIn out of China, detailing that LinkedIn was now “facing a significantly more challenging operating environment and greater compliance requirements in China.” LinkedIn didn't have a huge presence in China so this won't make major waves, but as other American tech giants are forced to make major adjustments to their China strategy, this marks yet another datapoint in the cooling of relations between China and the West.\n",
      "The LinkedIn's of the world don't hold much sway in China, the most curious bit of this is how this regulatory upswing eventually affects Apple which does hold plenty of influence. While officials probably aren't keen to jam them up, the past year has shown that China's regulators have plenty of surprises up their sleeves.\n",
      "Image Credits:Manuta / Getty Images\n",
      "Some of my favorite reads from our newly-renamedTechCrunch+subscription service this week:\n",
      "Inside Plaid\"...Visa and Plaid might have chosen to go their own ways in the end, but the year wasn’t a total loss for the data connectivity startup: Plaid claims its customer count grew 60% in 2020, and company execs say it has had similar growth so far this year....\"\n",
      "Founders should use predictive modeling to fundraise smarter\"More capital is flooding into growth equity at earlier stages, and it’s happening faster than ever before. But even with the rampant enthusiasm for pouring bigger equity checks into startups, founders are now in a unique place in time where they can think differently about how to capitalize their companies....\"\n",
      "How one startup boosted productivity with 'get s*** done' day\"...To improve our productivity, we introduced a Getting Shit Done Day (GSDD): Our employees define clear-cut goals and receive specific, usually non-trivial, tasks with little to no communication involved (we encourage our employees to avoid social media on this day, but we are not looking over their shoulder). The goal of GSDD is to increase the amount of time we spend in deep work by minimizing distractions for one day every other week...\"\n",
      "Thanks for reading, and again, if you’re reading this on the TechCrunch site, you can get this in your inbox from thenewsletter page, and follow my tweets@lucasmtny\n",
      "Lucas Matney || Revolution, Macro and Micro: Three Ways to Look at a Bitcoin Investment: Investment in cryptocurrencies is all the rage, and bitcoin is clearly the biggest – it has the largest market capitalization , the most infrastructure, the longest track record and is the most decentralized. In previous columns, I’ve stressed the conversations you, as an advisor, will need to have with clients , and how different they are from any conversations you’ve previously had to have about financial planning. Now, we get to talk about three different ways to look at an investment in bitcoin for you and/or your clients: bitcoin as the revolution, bitcoin as a macro investment and bitcoin as a micro investment. I’ll review these three investment theses so you can not only determine why to allocate to bitcoin, but also so you can help your clients better understand the implications of certain news items, media hype and social media posts. This column originally appeared in Crypto for Advisors , CoinDesk’s new weekly newsletter defining crypto, digital assets and the future of finance. Sign up here to receive it every Thursday. You and your clients will inevitably read articles and posts from people who fit into all these categories. Having an understanding of where they’re coming from will help you in your practice. (Keep in mind that we can’t necessarily lump every investor or every thesis into one of these three categories.) Bitcoin as the revolution This was really the original “investment” in Bitcoin . Starting shortly after the release of the Bitcoin blockchain’s white paper in 2008, people were mining bitcoin using their home computers and felt like this new currency would be needed sometime in the future. They likely didn’t think it would be worth in the mid-five figures someday, nor did they think of it in institutional investor terms . They held it in private wallets long before we had crypto custodians, and even used it for early transactions – like the infamous bitcoin pizza and Silk Road . Along the way, others have started investing in bitcoin as a hedge against governments, censorship and overly powerful banks. The revolution investment thesis is that, when fiat currency, governments and banks fail or falter we can count on bitcoin. Because bitcoin is completely decentralized, the value isn’t determined and possibly manipulated by a central bank and the transfer can’t be restricted. While this doesn’t seem to be much of a need here in the U.S. and most of the developed world, we can see the value in countries where the government might routinely devalue their own currency to pay down national debt or limit withdrawals from banks. We’ve seen relatively recent examples in Turkey, Argentina and Nicaragua. Story continues If I’m living in one of those countries, or I just don’t trust many of the world leaders, I might own bitcoin and store it offline in a hard wallet. I know that my bitcoin is wherever I am. The revolution investment thesis might not be just because I think I’m going to need bitcoin to trade for goods and services, but because I just want to show my disgust with the current government and banking system. So I’m not going to let them participate in my wealth creation and growth. While this investment thesis in bitcoin might be out of necessity, or out of revolution, its proponents are vigilant about letting the public know they should hold bitcoin. Many of the arguments hinge less on actual macroeconomics driving the dollar value and more on the need to own bitcoin as a hedge against powerful parties and as a political statement. Bitcoin as a macro investment This investment thesis looks at bitcoin as a store of value, and compares the macro economic factors at play in the U.S. and in the world. The thought behind it is that as we see inflation rise due to the increased supply of fiat currency, the value of bitcoin will rise dramatically because bitcoin has a very fixed supply. This is the thesis that many bitcoin investors have been following for years, but it became very popular and well-known in 2020,when legendary macro hedge fund manager Paul Tudor Jones announced he was allocating some of his portfolio to bitcoin. He was followed shortly by Stanley Druckenmiller and Bill Miller, who are also macro investors. The fiat money printing in the U.S. and in most of the Western world as a result of the COVID-19 pandemic accelerated the potential for inflation, as we have seen trillions more dollars created and dispersed into the economy. Now, we have finally started to see evidence of inflation, which adds fuel to this bitcoin investment thesis. Why would I need to hold bitcoin as an inflation hedge or store of value? Let’s assume I can hypothetically buy a loaf of bread for $1 today. In a year, what if that same loaf of bread cost me $1.05 – which means we had 5% inflation? That happens because we added more dollars, but not more bread, to the system. Therefore, the bread is worth more dollars. If I keep all my money in dollars in the bank (where I’m earning virtually no interest), I can’t buy a loaf of bread in a year with my $1. If I think that will happen, I’ll want my money saved in an asset that also has a limited supply, just like the bread. In the past that asset might have been gold. Now, however, we have an asset with a very limited supply, which is very easy to buy and keep safe (compared to physical gold). I can hold my dollar in bitcoin, and in a year I would assume the price of my bitcoin would go up by at least the same amount as the bread. Therefore, if I need to buy bread, I can sell my bitcoin for at least $1.05. Now, extrapolate that investment over the entire world economy and we can see why these titans of macro investing want to allocate 2%-5% of their holdings to bitcoin. They see inflation coming and they want an asset with finite supply that will increase in value with a decrease in dollar value. When you or your clients read about an increase in inflation leading to a possible increase in value of bitcoin, or about institutions like insurance companies and pensions investing in bitcoin, this is usually the thesis they’re using. Bitcoin as a micro investment This is where most advisors are going to stand with their clients. Your role here is to identify, based partly on the previously mentioned investment theses, how to help your clients allocate to bitcoin. Based on the risk profile, technical prowess and time horizon of your clients, you can assess not only the allocation to bitcoin but also the treatment of the asset – when you trade, how often do you rebalance, etc. Remember that many of those institutions investing in bitcoin for the inflation hedge have a very long or even infinite time horizon. Your clients have a limited time horizon, and each will be different. If your clients are in their early 40s, you’re probably talking to them about the impact inflation will have on their retirement funds. If we also assume you subscribe to the inflation hedge thesis above, bitcoin fits as part of your clients’ retirement planning, at a reasonable allocation based on their risk tolerance. The volatility of bitcoin also allows for an investment when thinking about it for individual clients. Because bitcoin is not correlated and highly liquid, you have the ability to rebalance, possibly quarterly, and provide clients with overall portfolio returns that are more normalized. This bitcoin micro investment thesis is about taking the possible effects on the price of bitcoin and adapting them to individual family portfolios, with more limited time horizons, necessary expenses and traditional assets. Using these investment theses as a lens As you start to learn more about bitcoin, and even to help your clients with allocations to crypto, you will definitely hear from “influencers,” analysts and bitcoin enthusiasts about the reasoning for holding or not holding bitcoin. Your role as the advisor is to understand these main investment theses, and you have the ability to determine how any opinions or analysis affects your clients’ portfolios and financial lives. If you see an influencer or analyst or the news through the lens of one of these investment theses, you’ll be better prepared to have those important conversations with your clients. View comments || After Bitcoins All-Time High, Whats Next?: Bitcoins latest rally to an all-time high price of above $66,000 has given rise to a fresh wave of bullish predictions, with the cryptocurrencys price already more than double where it started the year. Bitcoin breaking its all-time high was a long time coming and had been in the making ever since the asset shed 50% of its value in May, Ben Caselin, head of research and strategy for crypto exchange AAX, told CoinDesk in an interview. He now expects the price to rocket past the $100,000 mark, which a growing number of market analysts are penciling in as their new price target. The Bitcoin blockchain is just 12 years old, and traders in digital markets and on Wall Street are arguably more focused than ever before on the cryptocurrencys movements. So with the price now at unprecedented levels, analysts are adjusting their models and scrutinizing charts to predict what comes next. Just this month alone, bitcoins price has rallied more than 50%, fueled by U.S. regulators first approval of an exchange-traded fund (ETFs) linked to bitcoin futures contracts. The ProShares Bitcoin Strategy ETF started trading on Tuesday on the New York Stock Exchange and hauled in $570 million of assets on its first day, while garnering an astounding $1 billion in trading volume, in one of the most successful ETF launches of all time. The markets previous all-time high was $64,889 in April. Since then, market prognosticators saw that mark as the price to beat. Now, with fewer readily available signposts, the outlook might be harder to gauge. What the charts are saying CoinDesks Damanick Dantes wrote Wednesday that $86,000 might represent the next key price target for bulls, based on a reading of price-chart signals. All eyes are set on the $100K mark, but when retail does rush in and more funds open up to bitcoin, including physically backed ETFs, $100K is unlikely to be the end of it, Caselin said. CoinDesk reached out to top market analysts for their insight. Heres where they see the market headed. Story continues Quick tease: Not everyone is bullish. Some analysts say bitcoin will find further gains past the $60,000 mark tougher to come by. Bullish Matthew Dibb, chief operating officer of Stack Funds: Since the launch of ProShares ETF, there has been a large influx of retail participation. Funding rates for the futures market  a gauge of how willing investors are to pay up for leveraged bets  are rising, but not at the high levels seen earlier in the year. Our next target on spot BTC is $80,000 in the short term, Dibb said. As the market gains further confidence in the medium term, he said, some capital rotation is to be expected from bitcoin into ether, the native cryptocurrency of the Ethereum blockchain, and other alternative digital assets. Ulrik Lykke, founder of ARK36: I wouldnt be surprised if we see bitcoin climb towards $100,000 during Q4 of 2021 or Q1 of 2022. Juan Pellicer, a research analyst at IntoTheBlock: This growth is a phenomenal proxy of the institutional clients that have been adopting bitcoin. Samuel Indyk, an analyst at Investing.com : As has been the case in the past when major events in the cryptocurrency market occur, a correction could be on the cards: For example, when the bitcoin futures contract launched on the Chicago Mercantile Exchange (CME) in 2017, a bear market occurred shortly after, and it took almost three years for the price to recover. What else analysts are saying One risk is that soaring oil and natural gas prices might lead to extra scrutiny over the Bitcoin networks energy usage, according to Edward Moya, a senior market analyst at Oanda. Thats especially the case as winter approaches in the Northern Hemisphere. Governments might take harsh stances if this winter leads to shortfalls in energy across several countries and that could mess with the hashrate, Moya warned. Hashrate is a gauge of the number of computations sent every second to the Bitcoin network to confirm new data blocks and transactions. || JPMorgan CEO Jamie Dimon says Bitcoin regulation is inevitable: Jamie Dimon , w ho heads the largest bank in the United States, said that Bitcoin needs to be regulated by the government. The JPMorgan Chase CEO told Axios that Bitcoin, which is the flagship cryptocurrency and has seen explosive growth since its inception, is destined for increased government scrutiny. “If people are using it for tax avoidance and sex trafficking and ransomware, it’s going to be regulated, whether you like it or not. So it’s not a moral statement. It’s a factual statement,” he said during an interview in Washington, D.C. CRYPTO PRICES SKYROCKET AFTER EL SALVADOR BEGINS HARVESTING VOLCANO POWER TO MINE FOR BITCOIN Bitcoin and other cryptocurrencies have faced increased regulation in recent months, with China initiating the harshest crackdowns. Last month, the People’s Bank of China said all cryptocurrency transactions are outlawed and that services offering trading in cryptocurrencies and overseas cryptocurrency exchanges are banned. While Dimon sees Bitcoin sticking around in the global markets, he said he has “always believed it’ll be made illegal someplace, like China made it illegal, so I think it’s a little bit of fool’s gold.” Dimon has long been one of Wall Street’s biggest skeptics of cryptocurrency. Dimon, testifying before Congress earlier this year, expressed his own thoughts on the volatile new asset class, which he said is not comparable to gold or fiat currencies: “Buyers beware.” “My own personal advice to people is: stay away from it. That does not mean the clients don't want it,” Dimon said. “This goes back to how you have to run a business. I don't smoke marijuana, but if you make it nationally legal, I'm not going to stop our people from banking it.” CLICK HERE TO READ MORE FROM THE WASHINGTON EXAMINER Bitcoin, now worth almost $49,000 per coin, has had a mercurial year. It climbed from $29,000 on New Year’s Day to more than $63,000 in April before falling back down to about $29,000 in late July. Story continues El Salvador recently became the first country to adopt Bitcoin as its national currency, a move that cryptocurrency advocates say will bolster its credibility and usage. Washington Examiner Videos Tags: News , Bitcoin , Jamie Dimon , Cryptocurrency , JPMorgan , Business , Regulation Original Author: Zachary Halaschak Original Location: JPMorgan CEO Jamie Dimon says Bitcoin regulation is inevitable || Ethereum Catalysts on the Rise as Bulls Keep Control: While all eyes are on bitcoin ahead of an expected approval of a BTC futures ETF in the U.S., the second-biggest cryptocurrency is nearing a milestone of its own.Ethereumis inching closer to its all-time high of above $4,000 and is currently hovering at $3,800. The Ethereum price has skyrocketed more than 400% year-to-date, andmarket bulls believethat it has more runway for gains in the current market cycle.\n",
      "Ethereum has benefited from a rising DeFi market, where the total value locked (TVL) currently hovers at $217 billion. The TVL amount on the Ethereum blockchain alone is$150 billion. Also, as Ethereum moves toward the proof-of-stake (PoS) consensus protocol, its supply is being diminished, which also appears to be fueling some of the gains in the Ethereum price.\n",
      "As inflation continues to strengthen its grip on the global economy, deflationary assets are increasingly attractive. Ethereum’s supply/demand dynamics have become more compelling since the recent EIP-1559 upgrade, which overhauls gas fees on the network.\n",
      "As part of this upgrade, Ethereum transaction fees are being burned, which removes coins from circulation and therefore buoys the Ethereum price. So far, more than 540,000 Ethereum unitshave been burnedand counting since “fee burning” began in August, according to data from Ultra Sound Money.\n",
      "And according to Ultra Sound Money’s leader board, non-fungible token (NFT) marketplace OpenSea is second only to Ethereum transfers for fee burning, with more than 1,200 ETH burned in the last 24-hour period.\n",
      "Billionaire Mark Cuban recently gave Ethereum a ringing endorsement. The Dallas Mavericks owner believes that the second-biggest cryptocurrency is the one to own. Hesaid on CNBC,\n",
      "“As an investment, I think Ethereum has the most upside.”\n",
      "According to him, Ethereum outshines other cryptocurrencies for its use case as a currency.\n",
      "Cuban’s NBA team is known for accepting meme coin Dogecoin as a payment method. And whilehe ownsseveral thousand Dogecoin with his son, Cuban believes that the meme coin is something to own for thrills and also to learn about the industry. Cuban hasalso revealedrecently that Mavericks fans like to pay with Dogecoin while bitcoin is viewed more as a store-of-value asset.\n",
      "Thisarticlewas originally posted on FX Empire\n",
      "• Natural Gas Price Forecast – Natural Gas Markets Continue to Show Choppy Behavior\n",
      "• GBP/USD Weekly Price Forecast – British Pound Breaks Barrier to the Upside\n",
      "• Ethereum Catalysts on the Rise as Bulls Keep Control\n",
      "• S&P 500 Weekly Price Forecast – S&P 500 Continues Showing Strength\n",
      "• Gold Price Forecast – Gold Markets Get Hammered to Close Out Week\n",
      "• S&P 500 Price Forecast – Stock Markets Continue to Rally During Earnings || Why Bitcoin-Related And Ethereum-Related Stocks Are Rising: Shares of crypto-related stocks, including Marathon Digital Holdings Inc (NASDAQ: MARA ), Riot Blockchain Inc (NASDAQ: RIOT ) and Coinbase Global Inc (NASDAQ: COIN ) are trading higher amid an increase in the price of Bitcoin (CRYPTO: BTC) and Ethereum (CRYPTO: ETH). Bitcoin is trading higher by 3.7% at $48,800. Ethereum is trading higher by 7.5% at $3,700. Marathon Digital focuses on mining digital assets. It owns crypto-currency mining machines and a data center to mine digital assets. The company operates in the digital currency blockchain segment and its cryptocurrency machines are located in Canada. Marathon Digital is trading higher by 5.1% at $42.65. Riot Blockchain is focused on building, supporting and operating blockchain technologies. The company's portfolio consists of Verady, Tesspay, Coinsquare and others. Riot Blockchain is trading higher by 2.2% at $38.13. Coinbase is a provider of end-to-end financial infrastructure and technology for the crypto-economy. Coinbase is trading higher by 4.3% at $270.20. See more from Benzinga Click here for options trades from Benzinga If You Had ,000 Right Now, Would You Put It On Bitcoin Or AMC? If You Had ,000 Right Now, Would You Put It On Bitcoin Or Baby Dogecoin? © 2021 Benzinga.com. Benzinga does not provide investment advice. All rights reserved. || German Industrial Production Sinks, Raising Yet More Red Flags for the EUR: It’s been a quiet start to the day on the Eurozone economic calendar this morning.\n",
      "Key stats included industrial production figures from Germany.\n",
      "In August, industrial production slid by 4.0% versus a forecasted 0.6% decline. Production had risen by 1.3% in July.\n",
      "According toDestatis,\n",
      "• Production in industry excluding energy and construction was down by 4.7%.Producers continued to report about being constrained by shortage of supply of intermediate products.Within industry, the production of capital goods slumped by 7.8%.Motor vehicle, trailer, and semi-trailers manufacturing tumbled by 17.5%, with machinery and equipment production down 6.3%.The production of consumer goods and intermediate goods fell by 2.6% and by 2.4% respectively.\n",
      "• Outside industry, energy production was up by 4.1%, while production in construction slid by 3.1%.\n",
      "• Year-on-year, industrial production increased by 1.7% after having been up by 6.0% in July.\n",
      "In response to today’s stats, the EUR fell to a post-stat and current day low $1.15490 before rising to a post-stat and current day high $1.15707.\n",
      "At the time of writing, theEURwas up by 0.07% to $1.15642.\n",
      "From the Eurozone, the ECB monetary policy meeting minutes will be in focus later today. With inflationary pressures building, the markets will be looking for any views on how to tackle persistent price pressure.\n",
      "From the U.S, initial jobless claims will also draw plenty of attention ahead of tomorrow’s all-important nonfarm payrolls.\n",
      "Market volatility has picked up, with the EUR struggling to break back through to $1.16 levels. Weak data from the U.S and a hawkish set of minutes could change the dynamic…\n",
      "Thisarticlewas originally posted on FX Empire\n",
      "• USD/JPY Forex Technical Analysis – Looking for Choppy Trade on Both Sides of 111.452 Pivot\n",
      "• E-mini Dow Jones Industrial Average (YM) Futures Technical Analysis – Testing Key Retracement Zone\n",
      "• EUR/USD Mid-Session Technical Analysis for October 7, 2021\n",
      "• Total Cryptocurrency Market Targets $2.5 Trillion As Bitcoin, Others Rally\n",
      "• Bitcoin Price Prediction – Having Hit $55,000, the Bitcoin Bulls Will be Eyeing $60,000…\n",
      "• AUD/USD Forex Technical Analysis – Trend Changes to Up on Move Through .7304 || How To Make (or Lose) Money With Bitcoin, Explained in One Chart: Bitcoin was the first cryptocurrency, but it still has a relatively short history, as it was first created in 2009. Interest in Bitcoin and other cryptocurrencies reached a fever pitch in 2020 and 2021, as prices skyrocketed and crypto in general became a topic in the mainstream news. If you’re at all familiar with Bitcoin, you’ve likely heard stories of fortunes won and lost by those who own the cryptocurrency. But, how exactly do you make or lose money in Bitcoin?\n",
      "Check Out:What Is the Next Big Cryptocurrency To Explode in 2021?Consider:Is the Shiba Inu Coin the Cryptocurrency You Should Be Watching?\n",
      "Check out the chart below for an overview and keep reading for more details:\n",
      "Although some Bitcoin holders use the crypto primarily for payment purposes, many others own Bitcoin to generate profits. There are three primary ways that you could earn money in Bitcoin.\n",
      "Bitcoin, along with other cryptocurrencies, is one of the most volatile asset classes available. This makes it difficult for long-term holders to maintain their positions, as the crypto often makes double-digit percentage moves in a single day. For traders, however, this type of volatility is ideal. By quickly moving in and out of Bitcoin, you can rapidly book profits and jump out before the trend turns. If you’re an agile trader and can snag a gain of just 5% per week, that amounts to an annual return in excess of 250%.\n",
      "See:10 Best Cryptocurrencies To Invest in for 2021Good To Know:What Is Chain Link and Why Is It Important in the World of Cryptocurrency?\n",
      "Although it can be emotionally difficult to hold a position in Bitcoin over the long run, these are the types of investors who have posted the most impressive gains. For example, if you invested just $1 in 2010 when Bitcoin traded at about $0.0008,you could have bought about 1,250 Bitcoin. Over 10 years later, at Bitcoin’s July 10 price of about $33,374,your initial $1 investment would be worth about $41.7 million. If you had managed to sell out at Bitcoin’s all-time high of nearly $65,000,you could have pocketed about $81.25 million. While you shouldn’t expect these types of stratospheric gains, at least historically, Bitcoin has thus far provided long-term holders with spectacular gains.\n",
      "Learn More:Where Does Cryptocurrency Come From?\n",
      "If you’d rather work for your Bitcoin than invest in it or trade it, perhaps Bitcoin mining is for you. Although the details can get a bit complicated, the bottom line is that Bitcoin miners are the ones who produce additional Bitcoin by recording transactions in the blockchain ledger. Every time they solve the complex algorithm that unlocks blockchain ledger transactions, they’re paid with a specified amount of Bitcoin. Currently, that reward is 6.25 Bitcoin, although this number gets halved about every four years.Understand that successfully mining Bitcoin typically requires the use of massive computer server farms and enormous amounts of electricity, so it isn’t for everyone.\n",
      "See:If You Invested $1,000 in These Cryptocurrencies a Year Ago, Here’s How Much You’d Have Now\n",
      "Just as investors can make money in Bitcoin, they can also lose it. Here are some of the most common ways that you might lose money in Bitcoin.\n",
      "Trading can lead to big gains in Bitcoin, but it’s not without risk. In fact, the movements in the price of Bitcoin are so great that it’s very easy for even experienced traders to get whipsawed and lose a lot of money. Trading Bitcoin poorly is therefore probably the easiest way to lose money in Bitcoin. If you decide to go this route, you might want to take some practice runs on websites that offer simulated trading, or begin with a small amount at first.\n",
      "Check Out:10 of the Most Private Cryptocurrencies To Invest In\n",
      "Financial scams are becoming more and more common, and cryptocurrency is a growing target. As more everyday investors begin to own crypto, scammers are targeting them with increasing ferocity. As of May 17, the Federal Trade Commission reported that since October 2020, consumers reported losing more than $80 million to cryptocurrency scams, a tenfold increase on a year-over-year basis.Just as you would with any digital asset, like your bank accounts, you’ll have to be extra-diligent with your security to protect your crypto going forward.\n",
      "Read More:Binance Coin (BNB): Why It’s So Interesting to the Cryptocurrency World\n",
      "Hackers may be the greatest risk to Bitcoin holders, especially as the cryptocurrency gains widespread acceptance. When you own Bitcoin, you hold it in an electronic wallet that only you can access, at least theoretically. But hackers have shown the ability to tap into Bitcoin wallets, and they are only going to get more proficient as the years go by. Once a hacker has access to your Bitcoin wallet, he or she can drain you of all your cryptocurrency, just like someone who has your debit card can take all of your cash. However, if you lose your crypto to a hacker, no bank is going to replace it for you.\n",
      "More From GOBankingRates\n",
      "• 5 Things Most Americans Don't Know About Social Security\n",
      "• The Secrets Behind These 10 Popular Costco Products\n",
      "• Social Security Benefits Might Get Cut Early -- What Does It Mean for You?\n",
      "• When Social Security Runs Out: What the Program Will Look Like in 2035\n",
      "Last updated: July 14, 2021\n",
      "This article originally appeared onGOBankingRates.com:How To Make (or Lose) Money With Bitcoin, Explained in One Chart || Pay For Your Next Movie Night at AMC Theaters With Dogecoin: BeInCrypto –\n",
      "You can now take a date to the movies and pay for it with Dogecoin at AMC theaters. The popular movie theater chain announced that gift cards can now be purchased for crypto.\n",
      "AMC CEO Adam Arontweetedthat the company would be accepting Dogecoin as payment for gift cards. While it’s not exactly the same as buying movie tickets with crypto, the end result is the same. AMC gift cards can be used to buy movie tickets along with online concessions. The company had previously announced its plans to expand crypto offerings toBitcoin, Ethereum, Litecoin, and Bitcoin Cashbefore the end of 2021.\n",
      "The tweet from Aron states, “Huge news Dogecoin fans! As we work to accept online crypto payments, now you can buy @AMCTheatres digital gift cards (up to $200 per day) with Dogecoin and other cryptocurrencies using a BitPay Wallet.  Accepted on our website, mobile app, and in theatres.”\n",
      "This storywas seen first onBeInCryptoJoin our Telegram Groupand get trading signals, a free trading course and more stories likethisonBeInCrypto\n",
      "\n",
      "[Random Sample of Social Media Buzz (last 60 days)]\n",
      "None available.\n",
      "\n",
      "Please analyze it first and then give me 10 next day prices separated by comma.<|im_end|>\n",
      "<|im_start|>assistant\n",
      "<think>\n",
      "\n",
      "</think>\n",
      "\n",
      "<|response|>\n",
      "<|forecast|>\n",
      "Trend: up || Prices: 60692.27,61393.62,60930.84,63039.82,60363.79,58482.39,60622.14,62227.96,61888.83,61318.96<|im_end|>\n",
      "\n",
      "================================================================================\n"
     ]
    },
    {
     "ename": "NameError",
     "evalue": "name 'train_to2k' is not defined",
     "output_type": "error",
     "traceback": [
      "\u001b[0;31m---------------------------------------------------------------------------\u001b[0m",
      "\u001b[0;31mNameError\u001b[0m                                 Traceback (most recent call last)",
      "Cell \u001b[0;32mIn[11], line 6\u001b[0m\n\u001b[1;32m      3\u001b[0m     \u001b[38;5;28mprint\u001b[39m(train_data[i][\u001b[38;5;124m\"\u001b[39m\u001b[38;5;124mtext\u001b[39m\u001b[38;5;124m\"\u001b[39m])\n\u001b[1;32m      4\u001b[0m     \u001b[38;5;28mprint\u001b[39m(\u001b[38;5;124m\"\u001b[39m\u001b[38;5;124m=\u001b[39m\u001b[38;5;124m\"\u001b[39m\u001b[38;5;241m*\u001b[39m\u001b[38;5;241m80\u001b[39m)\n\u001b[0;32m----> 6\u001b[0m sample_batch \u001b[38;5;241m=\u001b[39m [train_to2k[i] \u001b[38;5;28;01mfor\u001b[39;00m i \u001b[38;5;129;01min\u001b[39;00m \u001b[38;5;28mrange\u001b[39m(\u001b[38;5;241m2\u001b[39m)]\n\u001b[1;32m      7\u001b[0m batch \u001b[38;5;241m=\u001b[39m collator(sample_batch)\n\u001b[1;32m      9\u001b[0m \u001b[38;5;28mprint\u001b[39m(\u001b[38;5;124m\"\u001b[39m\u001b[38;5;130;01m\\n\u001b[39;00m\u001b[38;5;124m=== Tokenized input_ids ===\u001b[39m\u001b[38;5;124m\"\u001b[39m)\n",
      "Cell \u001b[0;32mIn[11], line 6\u001b[0m, in \u001b[0;36m<listcomp>\u001b[0;34m(.0)\u001b[0m\n\u001b[1;32m      3\u001b[0m     \u001b[38;5;28mprint\u001b[39m(train_data[i][\u001b[38;5;124m\"\u001b[39m\u001b[38;5;124mtext\u001b[39m\u001b[38;5;124m\"\u001b[39m])\n\u001b[1;32m      4\u001b[0m     \u001b[38;5;28mprint\u001b[39m(\u001b[38;5;124m\"\u001b[39m\u001b[38;5;124m=\u001b[39m\u001b[38;5;124m\"\u001b[39m\u001b[38;5;241m*\u001b[39m\u001b[38;5;241m80\u001b[39m)\n\u001b[0;32m----> 6\u001b[0m sample_batch \u001b[38;5;241m=\u001b[39m [\u001b[43mtrain_to2k\u001b[49m[i] \u001b[38;5;28;01mfor\u001b[39;00m i \u001b[38;5;129;01min\u001b[39;00m \u001b[38;5;28mrange\u001b[39m(\u001b[38;5;241m2\u001b[39m)]\n\u001b[1;32m      7\u001b[0m batch \u001b[38;5;241m=\u001b[39m collator(sample_batch)\n\u001b[1;32m      9\u001b[0m \u001b[38;5;28mprint\u001b[39m(\u001b[38;5;124m\"\u001b[39m\u001b[38;5;130;01m\\n\u001b[39;00m\u001b[38;5;124m=== Tokenized input_ids ===\u001b[39m\u001b[38;5;124m\"\u001b[39m)\n",
      "\u001b[0;31mNameError\u001b[0m: name 'train_to2k' is not defined"
     ]
    }
   ],
   "source": [
    "print(\"=== Sample formatted texts ===\")\n",
    "for i in range(2):\n",
    "    print(train_data[i][\"text\"])\n",
    "    print(\"=\"*80)\n",
    "\n",
    "sample_batch = [train_to2k[i] for i in range(2)]\n",
    "batch = collator(sample_batch)\n",
    "\n",
    "print(\"\\n=== Tokenized input_ids ===\")\n",
    "print(batch[\"input_ids\"][0][:4000])\n",
    "print(\"\\nDecoded back:\\n\", tokenizer.decode(batch[\"input_ids\"][0][:80]))\n",
    "\n",
    "print(\"\\n=== Labels ===\")\n",
    "print(batch[\"labels\"][0][:4000])\n",
    "\n",
    "masked_decoded = [\n",
    "    tok if lab != -100 else \"[MASK]\"\n",
    "    for tok, lab in zip(batch[\"input_ids\"][0][:4000].tolist(), batch[\"labels\"][0][:4000].tolist())\n",
    "]\n",
    "print(\"\\nMasked Decoded (first 80 tokens):\")\n",
    "print(masked_decoded)\n"
   ]
  },
  {
   "cell_type": "markdown",
   "id": "ef122cad",
   "metadata": {
    "id": "mYel8ekOGkWH",
    "papermill": {
     "duration": null,
     "end_time": null,
     "exception": null,
     "start_time": null,
     "status": "pending"
    },
    "tags": []
   },
   "source": [
    "## Save model"
   ]
  },
  {
   "cell_type": "code",
   "execution_count": null,
   "id": "460e4197",
   "metadata": {
    "colab": {
     "base_uri": "https://localhost:8080/",
     "height": 166
    },
    "id": "iZ3MIU2XGjt8",
    "outputId": "c8ce9eaf-b049-4883-b8cb-ffa3995a2d16",
    "papermill": {
     "duration": null,
     "end_time": null,
     "exception": null,
     "start_time": null,
     "status": "pending"
    },
    "tags": []
   },
   "outputs": [],
   "source": [
    "trainer.model.save_pretrained(\"qwen_bitcoin_chat_fast/lora_adapter\")\n",
    "tokenizer.save_pretrained(\"qwen_bitcoin_chat_fast\")\n"
   ]
  },
  {
   "cell_type": "code",
   "execution_count": null,
   "id": "882f3c3c",
   "metadata": {
    "id": "OvIx9bB3-A_D",
    "papermill": {
     "duration": null,
     "end_time": null,
     "exception": null,
     "start_time": null,
     "status": "pending"
    },
    "tags": []
   },
   "outputs": [],
   "source": []
  }
 ],
 "metadata": {
  "accelerator": "GPU",
  "colab": {
   "gpuType": "T4",
   "provenance": []
  },
  "kernelspec": {
   "display_name": "Python 3",
   "name": "python3"
  },
  "language_info": {
   "codemirror_mode": {
    "name": "ipython",
    "version": 3
   },
   "file_extension": ".py",
   "mimetype": "text/x-python",
   "name": "python",
   "nbconvert_exporter": "python",
   "pygments_lexer": "ipython3",
   "version": "3.10.12"
  },
  "papermill": {
   "default_parameters": {},
   "duration": 27137.782512,
   "end_time": "2025-09-06T05:31:12.420112",
   "environment_variables": {},
   "exception": true,
   "input_path": "btc_pred_with_thinking_half_tokenization_not_summerized.ipynb",
   "output_path": "output_long_not_summ.ipynb",
   "parameters": {},
   "start_time": "2025-09-05T21:58:54.637600",
   "version": "2.6.0"
  }
 },
 "nbformat": 4,
 "nbformat_minor": 5
}