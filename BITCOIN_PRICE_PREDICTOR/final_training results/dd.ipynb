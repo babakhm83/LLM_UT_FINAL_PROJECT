{
 "cells": [
  {
   "cell_type": "code",
   "execution_count": null,
   "id": "77f86f71",
   "metadata": {
    "vscode": {
     "languageId": "plaintext"
    }
   },
   "outputs": [],
   "source": [
    "# replace_chars.py\n",
    "\n",
    "import sys\n",
    "\n",
    "def replace_invalid_chars(input_path, output_path):\n",
    "    \"\"\"\n",
    "    Reads a file with potential encoding errors, replaces invalid characters,\n",
    "    and writes the cleaned content to a new file.\n",
    "    \"\"\"\n",
    "    try:\n",
    "        # Read the file using 'utf-8' and replace invalid characters\n",
    "        with open(input_path, 'r', encoding='utf-8', errors='replace') as infile:\n",
    "            content = infile.read()\n",
    "        \n",
    "        # Now, replace the placeholder for the invalid characters\n",
    "        # The 'replace' error handler typically uses U+FFFD (the replacement character)\n",
    "        # to stand in for invalid bytes. We will replace that.\n",
    "        cleaned_content = content.replace('\\ufffd', '')\n",
    "\n",
    "        # Write the cleaned content to the new file\n",
    "        with open(output_path, 'w', encoding='utf-8') as outfile:\n",
    "            outfile.write(cleaned_content)\n",
    "        \n",
    "        print(f\"Successfully cleaned the file. Output saved to '{output_path}'.\")\n",
    "    \n",
    "    except FileNotFoundError:\n",
    "        print(f\"Error: The file '{input_path}' was not found.\")\n",
    "    except Exception as e:\n",
    "        print(f\"An error occurred: {e}\")\n",
    "\n",
    "if __name__ == \"__main__\":\n",
    "    if len(sys.argv) < 2:\n",
    "        print(\"Usage: python replace_chars.py <input_file_path> [output_file_path]\")\n",
    "        print(\"If output_file_path is not specified, a new file named 'cleaned_<input_file>' will be created.\")\n",
    "        sys.exit(1)\n",
    "\n",
    "    input_file = sys.argv[1]\n",
    "    if len(sys.argv) > 2:\n",
    "        output_file = sys.argv[2]\n",
    "    else:\n",
    "        output_file = f\"cleaned_{input_file}\"\n",
    "    \n",
    "    replace_invalid_chars(input_file, output_file)"
   ]
  },
  {
   "cell_type": "code",
   "execution_count": null,
   "id": "5846346d",
   "metadata": {
    "vscode": {
     "languageId": "plaintext"
    }
   },
   "outputs": [],
   "source": []
  }
 ],
 "metadata": {
  "language_info": {
   "name": "python"
  }
 },
 "nbformat": 4,
 "nbformat_minor": 5
}
