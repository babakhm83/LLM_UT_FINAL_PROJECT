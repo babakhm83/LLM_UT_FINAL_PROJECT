{
 "cells": [
  {
   "cell_type": "markdown",
   "id": "7b7eb871",
   "metadata": {},
   "source": [
    "# Unsloth GRPO Training for Bitcoin Enhanced Prediction\n",
    "\n",
    "This notebook implements Group Relative Policy Optimization (GRPO) using Unsloth for comprehensive Bitcoin prediction.\n",
    "\n",
    "**Dataset**: `bitcoin-enhanced-prediction-dataset-with-local-comprehensive-news`\n",
    "\n",
    "**Training Method**: Unsloth GRPO\n",
    "- Built-in preference learning optimization\n",
    "- Efficient memory usage with Unsloth\n",
    "- Streamlined training pipeline"
   ]
  },
  {
   "cell_type": "markdown",
   "id": "c992054f",
   "metadata": {},
   "source": [
    "## Install Libraries"
   ]
  },
  {
   "cell_type": "code",
   "execution_count": null,
   "id": "fcd8a9cf",
   "metadata": {},
   "outputs": [],
   "source": [
    "# !pip install -U \"unsloth[colab-new] @ git+https://github.com/unslothai/unsloth.git\"\n",
    "# !pip install -U xformers trl peft accelerate bitsandbytes"
   ]
  },
  {
   "cell_type": "markdown",
   "id": "393dee77",
   "metadata": {},
   "source": [
    "## Imports"
   ]
  },
  {
   "cell_type": "code",
   "execution_count": null,
   "id": "7173964b",
   "metadata": {},
   "outputs": [],
   "source": [
    "from unsloth import FastLanguageModel, is_bfloat16_supported\n",
    "from unsloth.chat_templates import get_chat_template\n",
    "from trl import GRPOTrainer, GRPOConfig\n",
    "from datasets import load_dataset, Dataset\n",
    "from transformers import TrainingArguments\n",
    "import torch, random, os\n",
    "import json\n",
    "import numpy as np\n",
    "from datetime import datetime\n",
    "\n",
    "SEED = 42\n",
    "torch.manual_seed(SEED)\n",
    "random.seed(SEED)\n",
    "np.random.seed(SEED)"
   ]
  },
  {
   "cell_type": "markdown",
   "id": "8ae6f1a9",
   "metadata": {},
   "source": [
    "## Configuration"
   ]
  },
  {
   "cell_type": "code",
   "execution_count": null,
   "id": "71a336c9",
   "metadata": {},
   "outputs": [],
   "source": [
    "# Model configuration\n",
    "MODEL_NAME = \"unsloth/Qwen2.5-7B-Instruct-bnb-4bit\"  # Or use local path: \"./Qwen3-8B\"\n",
    "MAX_SEQ_LENGTH = 2048\n",
    "DTYPE = None  # Auto-detection\n",
    "LOAD_IN_4BIT = True\n",
    "\n",
    "# LoRA configuration\n",
    "LORA_R = 16\n",
    "LORA_ALPHA = 16\n",
    "LORA_DROPOUT = 0.0\n",
    "TARGET_MODULES = [\"q_proj\", \"k_proj\", \"v_proj\", \"o_proj\", \"gate_proj\", \"up_proj\", \"down_proj\"]\n",
    "\n",
    "# GRPO configuration\n",
    "OUTPUT_DIR = \"./qwen_bitcoin_grpo_unsloth\"\n",
    "LEARNING_RATE = 5e-7\n",
    "NUM_TRAIN_EPOCHS = 1\n",
    "PER_DEVICE_TRAIN_BATCH_SIZE = 1\n",
    "GRADIENT_ACCUMULATION_STEPS = 8\n",
    "MAX_LENGTH = 1024\n",
    "MAX_PROMPT_LENGTH = 512\n",
    "BETA = 0.1\n",
    "\n",
    "# Dataset\n",
    "DATASET_NAME = \"tahamajs/bitcoin-enhanced-prediction-dataset-with-local-comprehensive-news\""
   ]
  },
  {
   "cell_type": "markdown",
   "id": "32b42590",
   "metadata": {},
   "source": [
    "## Load Model and Tokenizer"
   ]
  },
  {
   "cell_type": "code",
   "execution_count": null,
   "id": "f29f5123",
   "metadata": {},
   "outputs": [],
   "source": [
    "# Load model and tokenizer\n",
    "model, tokenizer = FastLanguageModel.from_pretrained(\n",
    "    model_name=MODEL_NAME,\n",
    "    max_seq_length=MAX_SEQ_LENGTH,\n",
    "    dtype=DTYPE,\n",
    "    load_in_4bit=LOAD_IN_4BIT,\n",
    ")\n",
    "\n",
    "# Apply chat template\n",
    "tokenizer = get_chat_template(\n",
    "    tokenizer,\n",
    "    chat_template=\"chatml\",  # Supports Qwen models\n",
    ")\n",
    "\n",
    "# Prepare model for PEFT training\n",
    "model = FastLanguageModel.get_peft_model(\n",
    "    model,\n",
    "    r=LORA_R,\n",
    "    target_modules=TARGET_MODULES,\n",
    "    lora_alpha=LORA_ALPHA,\n",
    "    lora_dropout=LORA_DROPOUT,\n",
    "    bias=\"none\",\n",
    "    use_gradient_checkpointing=\"unsloth\",\n",
    "    random_state=SEED,\n",
    "    use_rslora=False,\n",
    "    loftq_config=None,\n",
    ")\n",
    "\n",
    "print(f\"Model: {MODEL_NAME}\")\n",
    "print(f\"Max sequence length: {MAX_SEQ_LENGTH}\")\n",
    "print(f\"LoRA rank: {LORA_R}\")\n",
    "print(f\"Load in 4bit: {LOAD_IN_4BIT}\")"
   ]
  },
  {
   "cell_type": "markdown",
   "id": "2263607f",
   "metadata": {},
   "source": [
    "## Load and Prepare Dataset"
   ]
  },
  {
   "cell_type": "code",
   "execution_count": null,
   "id": "30c2c24b",
   "metadata": {},
   "outputs": [],
   "source": [
    "# Load dataset\n",
    "dataset = load_dataset(DATASET_NAME, split=\"train\")\n",
    "print(f\"Dataset loaded: {DATASET_NAME}\")\n",
    "print(f\"Total samples: {len(dataset):,}\")\n",
    "\n",
    "# Show sample\n",
    "print(\"\\n=== Sample Data ===\")\n",
    "sample = dataset[0]\n",
    "for key, value in sample.items():\n",
    "    print(f\"{key}: {str(value)[:150]}{'...' if len(str(value)) > 150 else ''}\")"
   ]
  },
  {
   "cell_type": "markdown",
   "id": "8c2ffd99",
   "metadata": {},
   "source": [
    "## Format Dataset for GRPO"
   ]
  },
  {
   "cell_type": "code",
   "execution_count": null,
   "id": "1ea341fb",
   "metadata": {},
   "outputs": [],
   "source": [
    "def formatting_prompts_func(examples):\n",
    "    \"\"\"\n",
    "    Format examples for Unsloth GRPO training.\n",
    "    Creates conversational format with system, user, and assistant messages.\n",
    "    \"\"\"\n",
    "    instructions = examples.get(\"instruction\", [\"\"] * len(examples.get(\"input\", [])))\n",
    "    inputs = examples.get(\"input\", [])\n",
    "    outputs = examples.get(\"output\", [])\n",
    "    \n",
    "    conversations = []\n",
    "    for instruction, user_input, output in zip(instructions, inputs, outputs):\n",
    "        conversation = [\n",
    "            {\"role\": \"system\", \"content\": instruction or \"You are a helpful Bitcoin market analyst.\"},\n",
    "            {\"role\": \"user\", \"content\": user_input or \"\"},\n",
    "            {\"role\": \"assistant\", \"content\": output or \"\"},\n",
    "        ]\n",
    "        conversations.append(conversation)\n",
    "    \n",
    "    return {\"conversations\": conversations}\n",
    "\n",
    "# Format dataset\n",
    "formatted_dataset = dataset.map(\n",
    "    formatting_prompts_func,\n",
    "    batched=True,\n",
    "    remove_columns=dataset.column_names\n",
    ")\n",
    "\n",
    "print(f\"Formatted dataset: {len(formatted_dataset):,} samples\")\n",
    "\n",
    "# Show formatted sample\n",
    "print(\"\\n=== Formatted Sample ===\")\n",
    "sample_conv = formatted_dataset[0][\"conversations\"]\n",
    "for msg in sample_conv:\n",
    "    print(f\"**{msg['role'].upper()}**: {msg['content'][:200]}{'...' if len(msg['content']) > 200 else ''}\")\n",
    "    print()"
   ]
  },
  {
   "cell_type": "markdown",
   "id": "5786cd7e",
   "metadata": {},
   "source": [
    "## Setup GRPO Training"
   ]
  },
  {
   "cell_type": "code",
   "execution_count": null,
   "id": "a072b0d8",
   "metadata": {},
   "outputs": [],
   "source": [
    "# Training arguments\n",
    "training_args = TrainingArguments(\n",
    "    output_dir=OUTPUT_DIR,\n",
    "    num_train_epochs=NUM_TRAIN_EPOCHS,\n",
    "    per_device_train_batch_size=PER_DEVICE_TRAIN_BATCH_SIZE,\n",
    "    gradient_accumulation_steps=GRADIENT_ACCUMULATION_STEPS,\n",
    "    learning_rate=LEARNING_RATE,\n",
    "    logging_steps=10,\n",
    "    save_steps=100,\n",
    "    save_strategy=\"steps\",\n",
    "    evaluation_strategy=\"no\",\n",
    "    warmup_ratio=0.1,\n",
    "    lr_scheduler_type=\"cosine\",\n",
    "    optim=\"adamw_8bit\",\n",
    "    weight_decay=0.01,\n",
    "    max_grad_norm=1.0,\n",
    "    fp16=not is_bfloat16_supported(),\n",
    "    bf16=is_bfloat16_supported(),\n",
    "    remove_unused_columns=False,\n",
    "    dataloader_num_workers=2,\n",
    "    seed=SEED,\n",
    "    report_to=\"none\",\n",
    ")\n",
    "\n",
    "print(f\"🎯 Training Configuration:\")\n",
    "print(f\"Output directory: {OUTPUT_DIR}\")\n",
    "print(f\"Learning rate: {LEARNING_RATE}\")\n",
    "print(f\"Epochs: {NUM_TRAIN_EPOCHS}\")\n",
    "print(f\"Batch size: {PER_DEVICE_TRAIN_BATCH_SIZE}\")\n",
    "print(f\"Gradient accumulation: {GRADIENT_ACCUMULATION_STEPS}\")\n",
    "print(f\"Max length: {MAX_LENGTH}\")\n",
    "print(f\"Max prompt length: {MAX_PROMPT_LENGTH}\")\n",
    "print(f\"Beta (KL penalty): {BETA}\")\n",
    "print(f\"Using {'bfloat16' if is_bfloat16_supported() else 'float16'}\")"
   ]
  },
  {
   "cell_type": "markdown",
   "id": "faf3fa56",
   "metadata": {},
   "source": [
    "## Initialize GRPO Trainer"
   ]
  },
  {
   "cell_type": "code",
   "execution_count": null,
   "id": "d44834be",
   "metadata": {},
   "outputs": [],
   "source": [
    "# Initialize GRPO trainer\n",
    "grpo_trainer = GRPOTrainer(\n",
    "    model=model,\n",
    "    args=training_args,\n",
    "    train_dataset=formatted_dataset,\n",
    "    tokenizer=tokenizer,\n",
    "    max_length=MAX_LENGTH,\n",
    "    max_prompt_length=MAX_PROMPT_LENGTH,\n",
    "    beta=BETA,\n",
    "    formatting_func=formatting_prompts_func,\n",
    ")\n",
    "\n",
    "print(\"✅ Unsloth GRPO Trainer initialized successfully!\")\n",
    "print(f\"Model class: {model.__class__.__name__}\")\n",
    "print(f\"Trainer class: {grpo_trainer.__class__.__name__}\")\n",
    "print(f\"Training samples: {len(formatted_dataset):,}\")\n",
    "print(f\"Effective batch size: {PER_DEVICE_TRAIN_BATCH_SIZE * GRADIENT_ACCUMULATION_STEPS}\")"
   ]
  },
  {
   "cell_type": "markdown",
   "id": "503f06f8",
   "metadata": {},
   "source": [
    "## Start GRPO Training"
   ]
  },
  {
   "cell_type": "code",
   "execution_count": null,
   "id": "7f170b4e",
   "metadata": {},
   "outputs": [],
   "source": [
    "# Start training\n",
    "print(\"🚀 Starting Unsloth GRPO Training...\")\n",
    "print(f\"Training {NUM_TRAIN_EPOCHS} epoch(s) on {len(formatted_dataset):,} samples\")\n",
    "print(\"=\"*60)\n",
    "\n",
    "# Record start time\n",
    "start_time = datetime.now()\n",
    "print(f\"Training started at: {start_time.strftime('%Y-%m-%d %H:%M:%S')}\")\n",
    "\n",
    "# Train the model\n",
    "trainer_stats = grpo_trainer.train()\n",
    "\n",
    "# Record end time\n",
    "end_time = datetime.now()\n",
    "training_duration = end_time - start_time\n",
    "\n",
    "print(\"\\n\" + \"=\"*60)\n",
    "print(\"🎉 GRPO Training Completed!\")\n",
    "print(f\"Training finished at: {end_time.strftime('%Y-%m-%d %H:%M:%S')}\")\n",
    "print(f\"Total training time: {training_duration}\")\n",
    "print(f\"Final training loss: {trainer_stats.training_loss:.4f}\")\n",
    "print(f\"Training steps: {trainer_stats.global_step}\")"
   ]
  },
  {
   "cell_type": "markdown",
   "id": "89bef97b",
   "metadata": {},
   "source": [
    "## Save Model"
   ]
  },
  {
   "cell_type": "code",
   "execution_count": null,
   "id": "22d9c028",
   "metadata": {},
   "outputs": [],
   "source": [
    "# Save the final model\n",
    "print(\"💾 Saving trained model...\")\n",
    "\n",
    "# Save model and tokenizer\n",
    "model.save_pretrained(f\"{OUTPUT_DIR}/final_model\")\n",
    "tokenizer.save_pretrained(f\"{OUTPUT_DIR}/final_model\")\n",
    "\n",
    "print(f\"✅ Model saved to: {OUTPUT_DIR}/final_model\")\n",
    "\n",
    "# Save training summary\n",
    "training_summary = {\n",
    "    \"model_name\": MODEL_NAME,\n",
    "    \"dataset\": DATASET_NAME,\n",
    "    \"training_method\": \"Unsloth GRPO\",\n",
    "    \"total_samples\": len(formatted_dataset),\n",
    "    \"training_config\": {\n",
    "        \"epochs\": NUM_TRAIN_EPOCHS,\n",
    "        \"learning_rate\": LEARNING_RATE,\n",
    "        \"batch_size\": PER_DEVICE_TRAIN_BATCH_SIZE,\n",
    "        \"gradient_accumulation_steps\": GRADIENT_ACCUMULATION_STEPS,\n",
    "        \"max_length\": MAX_LENGTH,\n",
    "        \"max_prompt_length\": MAX_PROMPT_LENGTH,\n",
    "        \"beta\": BETA,\n",
    "    },\n",
    "    \"training_results\": {\n",
    "        \"final_loss\": trainer_stats.training_loss,\n",
    "        \"total_steps\": trainer_stats.global_step,\n",
    "        \"training_duration\": str(training_duration),\n",
    "    },\n",
    "    \"timestamps\": {\n",
    "        \"start_time\": start_time.isoformat(),\n",
    "        \"end_time\": end_time.isoformat(),\n",
    "    },\n",
    "    \"model_path\": f\"{OUTPUT_DIR}/final_model\",\n",
    "}\n",
    "\n",
    "# Save summary\n",
    "with open(f\"{OUTPUT_DIR}/training_summary.json\", \"w\") as f:\n",
    "    json.dump(training_summary, f, indent=2)\n",
    "\n",
    "print(f\"Training summary saved to: {OUTPUT_DIR}/training_summary.json\")"
   ]
  },
  {
   "cell_type": "markdown",
   "id": "9efd7251",
   "metadata": {},
   "source": [
    "## Test Trained Model"
   ]
  },
  {
   "cell_type": "code",
   "execution_count": null,
   "id": "6984cec6",
   "metadata": {},
   "outputs": [],
   "source": [
    "# Test the trained model\n",
    "print(\"🧪 Testing the trained GRPO model...\")\n",
    "\n",
    "# Prepare model for inference\n",
    "FastLanguageModel.for_inference(model)\n",
    "\n",
    "# Test sample\n",
    "test_messages = [\n",
    "    {\"role\": \"system\", \"content\": \"You are an expert Bitcoin market analyst. Provide accurate and insightful analysis.\"},\n",
    "    {\"role\": \"user\", \"content\": \"Based on recent market trends and news, what is your Bitcoin price prediction for the next week? Please provide detailed analysis.\"}\n",
    "]\n",
    "\n",
    "# Format with chat template\n",
    "test_prompt = tokenizer.apply_chat_template(\n",
    "    test_messages,\n",
    "    tokenize=False,\n",
    "    add_generation_prompt=True\n",
    ")\n",
    "\n",
    "print(\"Test prompt:\")\n",
    "print(test_prompt)\n",
    "print(\"\\n\" + \"=\"*50)\n",
    "\n",
    "# Generate response\n",
    "inputs = tokenizer(test_prompt, return_tensors=\"pt\").to(model.device)\n",
    "\n",
    "with torch.no_grad():\n",
    "    outputs = model.generate(\n",
    "        **inputs,\n",
    "        max_new_tokens=512,\n",
    "        temperature=0.7,\n",
    "        do_sample=True,\n",
    "        pad_token_id=tokenizer.eos_token_id,\n",
    "        eos_token_id=tokenizer.eos_token_id,\n",
    "    )\n",
    "\n",
    "# Decode response\n",
    "response = tokenizer.decode(\n",
    "    outputs[0][len(inputs.input_ids[0]):],\n",
    "    skip_special_tokens=True\n",
    ")\n",
    "\n",
    "print(\"Model Response:\")\n",
    "print(response)\n",
    "print(\"\\n✅ Model testing completed!\")"
   ]
  },
  {
   "cell_type": "markdown",
   "id": "4446bded",
   "metadata": {},
   "source": [
    "## Training Summary"
   ]
  },
  {
   "cell_type": "code",
   "execution_count": null,
   "id": "ff117e11",
   "metadata": {},
   "outputs": [],
   "source": [
    "print(\"📊 Unsloth GRPO Training Summary\")\n",
    "print(\"=\" * 50)\n",
    "print(f\"🤖 Model: {MODEL_NAME}\")\n",
    "print(f\"📚 Dataset: {DATASET_NAME}\")\n",
    "print(f\"📈 Training method: Unsloth GRPO (Group Relative Policy Optimization)\")\n",
    "print(f\"📝 Total samples: {len(formatted_dataset):,}\")\n",
    "print()\n",
    "print(\"🎯 Training Configuration:\")\n",
    "print(f\"  • Epochs: {NUM_TRAIN_EPOCHS}\")\n",
    "print(f\"  • Learning rate: {LEARNING_RATE}\")\n",
    "print(f\"  • Batch size: {PER_DEVICE_TRAIN_BATCH_SIZE}\")\n",
    "print(f\"  • Gradient accumulation: {GRADIENT_ACCUMULATION_STEPS}\")\n",
    "print(f\"  • Effective batch size: {PER_DEVICE_TRAIN_BATCH_SIZE * GRADIENT_ACCUMULATION_STEPS}\")\n",
    "print(f\"  • Max length: {MAX_LENGTH}\")\n",
    "print(f\"  • Max prompt length: {MAX_PROMPT_LENGTH}\")\n",
    "print(f\"  • Beta (KL penalty): {BETA}\")\n",
    "print(f\"  • LoRA rank: {LORA_R}\")\n",
    "print()\n",
    "print(\"📊 Training Results:\")\n",
    "print(f\"  • Final loss: {trainer_stats.training_loss:.4f}\")\n",
    "print(f\"  • Training steps: {trainer_stats.global_step:,}\")\n",
    "print(f\"  • Training duration: {training_duration}\")\n",
    "print()\n",
    "print(\"💾 Outputs:\")\n",
    "print(f\"  • Model saved to: {OUTPUT_DIR}/final_model\")\n",
    "print(f\"  • Summary saved to: {OUTPUT_DIR}/training_summary.json\")\n",
    "print()\n",
    "print(\"🔬 Key Features:\")\n",
    "print(\"  ✅ Unsloth-optimized GRPO training\")\n",
    "print(\"  ✅ Memory-efficient 4-bit quantization\")\n",
    "print(\"  ✅ LoRA parameter-efficient fine-tuning\")\n",
    "print(\"  ✅ Preference learning for Bitcoin analysis\")\n",
    "print(\"  ✅ Chat template formatting\")\n",
    "print(\"  ✅ Gradient checkpointing for memory optimization\")\n",
    "print()\n",
    "print(\"🎉 Unsloth GRPO training completed successfully!\")\n",
    "print(\"📈 Model ready for Bitcoin prediction tasks!\")"
   ]
  }
 ],
 "metadata": {
  "language_info": {
   "name": "python"
  }
 },
 "nbformat": 4,
 "nbformat_minor": 5
}
