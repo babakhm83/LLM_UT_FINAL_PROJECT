{
 "cells": [
  {
   "cell_type": "markdown",
   "id": "a084b248",
   "metadata": {
    "papermill": {
     "duration": 0.008468,
     "end_time": "2025-09-11T23:23:00.793375",
     "exception": false,
     "start_time": "2025-09-11T23:23:00.784907",
     "status": "completed"
    },
    "tags": []
   },
   "source": [
    "# Bitcoin Individual News Model Evaluation\n",
    "This notebook evaluates the Bitcoin prediction model trained on the individual news dataset with longer training parameters and provides comprehensive analysis with base model comparison."
   ]
  },
  {
   "cell_type": "markdown",
   "id": "6e733fdd",
   "metadata": {
    "papermill": {
     "duration": 0.006525,
     "end_time": "2025-09-11T23:23:00.804532",
     "exception": false,
     "start_time": "2025-09-11T23:23:00.798007",
     "status": "completed"
    },
    "tags": []
   },
   "source": [
    "## Install Required Libraries"
   ]
  },
  {
   "cell_type": "code",
   "execution_count": 1,
   "id": "c87280c3",
   "metadata": {
    "execution": {
     "iopub.execute_input": "2025-09-11T23:23:00.828990Z",
     "iopub.status.busy": "2025-09-11T23:23:00.828332Z",
     "iopub.status.idle": "2025-09-11T23:23:03.429492Z",
     "shell.execute_reply": "2025-09-11T23:23:03.428120Z"
    },
    "papermill": {
     "duration": 2.622998,
     "end_time": "2025-09-11T23:23:03.431374",
     "exception": false,
     "start_time": "2025-09-11T23:23:00.808376",
     "status": "completed"
    },
    "tags": []
   },
   "outputs": [
    {
     "name": "stdout",
     "output_type": "stream",
     "text": [
      "Defaulting to user installation because normal site-packages is not writeable\r\n"
     ]
    },
    {
     "name": "stdout",
     "output_type": "stream",
     "text": [
      "Requirement already satisfied: transformers in /home/moein_salimi/.local/lib/python3.10/site-packages (4.53.3)\r\n",
      "Requirement already satisfied: datasets in /home/moein_salimi/.local/lib/python3.10/site-packages (3.6.0)\r\n",
      "Requirement already satisfied: torch in /home/moein_salimi/.local/lib/python3.10/site-packages (2.7.1)\r\n",
      "Requirement already satisfied: peft in /home/moein_salimi/.local/lib/python3.10/site-packages (0.16.0)\r\n",
      "Requirement already satisfied: accelerate in /home/moein_salimi/.local/lib/python3.10/site-packages (1.9.0)\r\n",
      "Requirement already satisfied: matplotlib in /home/moein_salimi/.local/lib/python3.10/site-packages (3.10.5)\r\n",
      "Requirement already satisfied: seaborn in /home/moein_salimi/.local/lib/python3.10/site-packages (0.13.2)\r\n",
      "Requirement already satisfied: scipy in /home/moein_salimi/.local/lib/python3.10/site-packages (1.15.3)\r\n",
      "Requirement already satisfied: pandas in /home/moein_salimi/.local/lib/python3.10/site-packages (2.3.1)\r\n",
      "Requirement already satisfied: numpy in /home/moein_salimi/.local/lib/python3.10/site-packages (2.2.6)\r\n"
     ]
    },
    {
     "name": "stdout",
     "output_type": "stream",
     "text": [
      "Requirement already satisfied: filelock in /home/moein_salimi/.local/lib/python3.10/site-packages (from transformers) (3.18.0)\r\n",
      "Requirement already satisfied: huggingface-hub<1.0,>=0.30.0 in /home/moein_salimi/.local/lib/python3.10/site-packages (from transformers) (0.34.4)\r\n"
     ]
    },
    {
     "name": "stdout",
     "output_type": "stream",
     "text": [
      "Requirement already satisfied: packaging>=20.0 in /home/moein_salimi/.local/lib/python3.10/site-packages (from transformers) (25.0)\r\n",
      "Requirement already satisfied: pyyaml>=5.1 in /home/moein_salimi/.local/lib/python3.10/site-packages (from transformers) (6.0.2)\r\n",
      "Requirement already satisfied: regex!=2019.12.17 in /home/moein_salimi/.local/lib/python3.10/site-packages (from transformers) (2024.11.6)\r\n",
      "Requirement already satisfied: requests in /home/moein_salimi/.local/lib/python3.10/site-packages (from transformers) (2.32.4)\r\n",
      "Requirement already satisfied: tokenizers<0.22,>=0.21 in /home/moein_salimi/.local/lib/python3.10/site-packages (from transformers) (0.21.2)\r\n",
      "Requirement already satisfied: safetensors>=0.4.3 in /home/moein_salimi/.local/lib/python3.10/site-packages (from transformers) (0.5.3)\r\n",
      "Requirement already satisfied: tqdm>=4.27 in /home/moein_salimi/.local/lib/python3.10/site-packages (from transformers) (4.67.1)\r\n",
      "Requirement already satisfied: fsspec>=2023.5.0 in /home/moein_salimi/.local/lib/python3.10/site-packages (from huggingface-hub<1.0,>=0.30.0->transformers) (2025.3.0)\r\n",
      "Requirement already satisfied: typing-extensions>=3.7.4.3 in /home/moein_salimi/.local/lib/python3.10/site-packages (from huggingface-hub<1.0,>=0.30.0->transformers) (4.14.1)\r\n",
      "Requirement already satisfied: hf-xet<2.0.0,>=1.1.3 in /home/moein_salimi/.local/lib/python3.10/site-packages (from huggingface-hub<1.0,>=0.30.0->transformers) (1.1.5)\r\n"
     ]
    },
    {
     "name": "stdout",
     "output_type": "stream",
     "text": [
      "Requirement already satisfied: pyarrow>=15.0.0 in /home/moein_salimi/.local/lib/python3.10/site-packages (from datasets) (21.0.0)\r\n",
      "Requirement already satisfied: dill<0.3.9,>=0.3.0 in /home/moein_salimi/.local/lib/python3.10/site-packages (from datasets) (0.3.8)\r\n",
      "Requirement already satisfied: xxhash in /home/moein_salimi/.local/lib/python3.10/site-packages (from datasets) (3.5.0)\r\n"
     ]
    },
    {
     "name": "stdout",
     "output_type": "stream",
     "text": [
      "Requirement already satisfied: multiprocess<0.70.17 in /home/moein_salimi/.local/lib/python3.10/site-packages (from datasets) (0.70.16)\r\n",
      "Requirement already satisfied: aiohttp!=4.0.0a0,!=4.0.0a1 in /home/moein_salimi/.local/lib/python3.10/site-packages (from fsspec[http]<=2025.3.0,>=2023.1.0->datasets) (3.12.14)\r\n"
     ]
    },
    {
     "name": "stdout",
     "output_type": "stream",
     "text": [
      "Requirement already satisfied: sympy>=1.13.3 in /home/moein_salimi/.local/lib/python3.10/site-packages (from torch) (1.14.0)\r\n",
      "Requirement already satisfied: networkx in /home/moein_salimi/.local/lib/python3.10/site-packages (from torch) (3.4.2)\r\n",
      "Requirement already satisfied: jinja2 in /home/moein_salimi/.local/lib/python3.10/site-packages (from torch) (3.1.6)\r\n",
      "Requirement already satisfied: nvidia-cuda-nvrtc-cu12==12.6.77 in /home/moein_salimi/.local/lib/python3.10/site-packages (from torch) (12.6.77)\r\n",
      "Requirement already satisfied: nvidia-cuda-runtime-cu12==12.6.77 in /home/moein_salimi/.local/lib/python3.10/site-packages (from torch) (12.6.77)\r\n",
      "Requirement already satisfied: nvidia-cuda-cupti-cu12==12.6.80 in /home/moein_salimi/.local/lib/python3.10/site-packages (from torch) (12.6.80)\r\n",
      "Requirement already satisfied: nvidia-cudnn-cu12==9.5.1.17 in /home/moein_salimi/.local/lib/python3.10/site-packages (from torch) (9.5.1.17)\r\n",
      "Requirement already satisfied: nvidia-cublas-cu12==12.6.4.1 in /home/moein_salimi/.local/lib/python3.10/site-packages (from torch) (12.6.4.1)\r\n",
      "Requirement already satisfied: nvidia-cufft-cu12==11.3.0.4 in /home/moein_salimi/.local/lib/python3.10/site-packages (from torch) (11.3.0.4)\r\n",
      "Requirement already satisfied: nvidia-curand-cu12==10.3.7.77 in /home/moein_salimi/.local/lib/python3.10/site-packages (from torch) (10.3.7.77)\r\n",
      "Requirement already satisfied: nvidia-cusolver-cu12==11.7.1.2 in /home/moein_salimi/.local/lib/python3.10/site-packages (from torch) (11.7.1.2)\r\n",
      "Requirement already satisfied: nvidia-cusparse-cu12==12.5.4.2 in /home/moein_salimi/.local/lib/python3.10/site-packages (from torch) (12.5.4.2)\r\n",
      "Requirement already satisfied: nvidia-cusparselt-cu12==0.6.3 in /home/moein_salimi/.local/lib/python3.10/site-packages (from torch) (0.6.3)\r\n",
      "Requirement already satisfied: nvidia-nccl-cu12==2.26.2 in /home/moein_salimi/.local/lib/python3.10/site-packages (from torch) (2.26.2)\r\n",
      "Requirement already satisfied: nvidia-nvtx-cu12==12.6.77 in /home/moein_salimi/.local/lib/python3.10/site-packages (from torch) (12.6.77)\r\n",
      "Requirement already satisfied: nvidia-nvjitlink-cu12==12.6.85 in /home/moein_salimi/.local/lib/python3.10/site-packages (from torch) (12.6.85)\r\n",
      "Requirement already satisfied: nvidia-cufile-cu12==1.11.1.6 in /home/moein_salimi/.local/lib/python3.10/site-packages (from torch) (1.11.1.6)\r\n",
      "Requirement already satisfied: triton==3.3.1 in /home/moein_salimi/.local/lib/python3.10/site-packages (from torch) (3.3.1)\r\n",
      "Requirement already satisfied: setuptools>=40.8.0 in /usr/lib/python3/dist-packages (from triton==3.3.1->torch) (59.6.0)\r\n",
      "Requirement already satisfied: psutil in /home/moein_salimi/.local/lib/python3.10/site-packages (from peft) (7.0.0)\r\n"
     ]
    },
    {
     "name": "stdout",
     "output_type": "stream",
     "text": [
      "Requirement already satisfied: contourpy>=1.0.1 in /home/moein_salimi/.local/lib/python3.10/site-packages (from matplotlib) (1.3.2)\r\n",
      "Requirement already satisfied: cycler>=0.10 in /home/moein_salimi/.local/lib/python3.10/site-packages (from matplotlib) (0.12.1)\r\n",
      "Requirement already satisfied: fonttools>=4.22.0 in /home/moein_salimi/.local/lib/python3.10/site-packages (from matplotlib) (4.59.0)\r\n",
      "Requirement already satisfied: kiwisolver>=1.3.1 in /home/moein_salimi/.local/lib/python3.10/site-packages (from matplotlib) (1.4.8)\r\n",
      "Requirement already satisfied: pillow>=8 in /home/moein_salimi/.local/lib/python3.10/site-packages (from matplotlib) (11.3.0)\r\n",
      "Requirement already satisfied: pyparsing>=2.3.1 in /home/moein_salimi/.local/lib/python3.10/site-packages (from matplotlib) (3.2.3)\r\n",
      "Requirement already satisfied: python-dateutil>=2.7 in /home/moein_salimi/.local/lib/python3.10/site-packages (from matplotlib) (2.9.0.post0)\r\n"
     ]
    },
    {
     "name": "stdout",
     "output_type": "stream",
     "text": [
      "Requirement already satisfied: pytz>=2020.1 in /home/moein_salimi/.local/lib/python3.10/site-packages (from pandas) (2025.2)\r\n",
      "Requirement already satisfied: tzdata>=2022.7 in /home/moein_salimi/.local/lib/python3.10/site-packages (from pandas) (2025.2)\r\n",
      "Requirement already satisfied: aiohappyeyeballs>=2.5.0 in /home/moein_salimi/.local/lib/python3.10/site-packages (from aiohttp!=4.0.0a0,!=4.0.0a1->fsspec[http]<=2025.3.0,>=2023.1.0->datasets) (2.6.1)\r\n",
      "Requirement already satisfied: aiosignal>=1.4.0 in /home/moein_salimi/.local/lib/python3.10/site-packages (from aiohttp!=4.0.0a0,!=4.0.0a1->fsspec[http]<=2025.3.0,>=2023.1.0->datasets) (1.4.0)\r\n",
      "Requirement already satisfied: async-timeout<6.0,>=4.0 in /home/moein_salimi/.local/lib/python3.10/site-packages (from aiohttp!=4.0.0a0,!=4.0.0a1->fsspec[http]<=2025.3.0,>=2023.1.0->datasets) (5.0.1)\r\n",
      "Requirement already satisfied: attrs>=17.3.0 in /home/moein_salimi/.local/lib/python3.10/site-packages (from aiohttp!=4.0.0a0,!=4.0.0a1->fsspec[http]<=2025.3.0,>=2023.1.0->datasets) (25.3.0)\r\n",
      "Requirement already satisfied: frozenlist>=1.1.1 in /home/moein_salimi/.local/lib/python3.10/site-packages (from aiohttp!=4.0.0a0,!=4.0.0a1->fsspec[http]<=2025.3.0,>=2023.1.0->datasets) (1.7.0)\r\n",
      "Requirement already satisfied: multidict<7.0,>=4.5 in /home/moein_salimi/.local/lib/python3.10/site-packages (from aiohttp!=4.0.0a0,!=4.0.0a1->fsspec[http]<=2025.3.0,>=2023.1.0->datasets) (6.6.3)\r\n",
      "Requirement already satisfied: propcache>=0.2.0 in /home/moein_salimi/.local/lib/python3.10/site-packages (from aiohttp!=4.0.0a0,!=4.0.0a1->fsspec[http]<=2025.3.0,>=2023.1.0->datasets) (0.3.2)\r\n",
      "Requirement already satisfied: yarl<2.0,>=1.17.0 in /home/moein_salimi/.local/lib/python3.10/site-packages (from aiohttp!=4.0.0a0,!=4.0.0a1->fsspec[http]<=2025.3.0,>=2023.1.0->datasets) (1.20.1)\r\n",
      "Requirement already satisfied: idna>=2.0 in /home/moein_salimi/.local/lib/python3.10/site-packages (from yarl<2.0,>=1.17.0->aiohttp!=4.0.0a0,!=4.0.0a1->fsspec[http]<=2025.3.0,>=2023.1.0->datasets) (3.10)\r\n"
     ]
    },
    {
     "name": "stdout",
     "output_type": "stream",
     "text": [
      "Requirement already satisfied: six>=1.5 in /home/moein_salimi/.local/lib/python3.10/site-packages (from python-dateutil>=2.7->matplotlib) (1.17.0)\r\n",
      "Requirement already satisfied: charset_normalizer<4,>=2 in /home/moein_salimi/.local/lib/python3.10/site-packages (from requests->transformers) (3.4.2)\r\n",
      "Requirement already satisfied: urllib3<3,>=1.21.1 in /home/moein_salimi/.local/lib/python3.10/site-packages (from requests->transformers) (2.5.0)\r\n",
      "Requirement already satisfied: certifi>=2017.4.17 in /home/moein_salimi/.local/lib/python3.10/site-packages (from requests->transformers) (2025.7.14)\r\n"
     ]
    },
    {
     "name": "stdout",
     "output_type": "stream",
     "text": [
      "Requirement already satisfied: mpmath<1.4,>=1.1.0 in /home/moein_salimi/.local/lib/python3.10/site-packages (from sympy>=1.13.3->torch) (1.3.0)\r\n",
      "Requirement already satisfied: MarkupSafe>=2.0 in /home/moein_salimi/.local/lib/python3.10/site-packages (from jinja2->torch) (3.0.2)\r\n"
     ]
    },
    {
     "name": "stdout",
     "output_type": "stream",
     "text": [
      "\r\n",
      "\u001b[1m[\u001b[0m\u001b[34;49mnotice\u001b[0m\u001b[1;39;49m]\u001b[0m\u001b[39;49m A new release of pip is available: \u001b[0m\u001b[31;49m25.1.1\u001b[0m\u001b[39;49m -> \u001b[0m\u001b[32;49m25.2\u001b[0m\r\n",
      "\u001b[1m[\u001b[0m\u001b[34;49mnotice\u001b[0m\u001b[1;39;49m]\u001b[0m\u001b[39;49m To update, run: \u001b[0m\u001b[32;49mpython3 -m pip install --upgrade pip\u001b[0m\r\n"
     ]
    }
   ],
   "source": [
    "!pip install transformers datasets torch peft accelerate matplotlib seaborn scipy pandas numpy"
   ]
  },
  {
   "cell_type": "markdown",
   "id": "57c77481",
   "metadata": {
    "papermill": {
     "duration": 0.00442,
     "end_time": "2025-09-11T23:23:03.440961",
     "exception": false,
     "start_time": "2025-09-11T23:23:03.436541",
     "status": "completed"
    },
    "tags": []
   },
   "source": [
    "## Load Individual News Model and Tokenizer"
   ]
  },
  {
   "cell_type": "code",
   "execution_count": 2,
   "id": "f5092026",
   "metadata": {
    "execution": {
     "iopub.execute_input": "2025-09-11T23:23:03.451581Z",
     "iopub.status.busy": "2025-09-11T23:23:03.451220Z",
     "iopub.status.idle": "2025-09-11T23:23:17.076568Z",
     "shell.execute_reply": "2025-09-11T23:23:17.075095Z"
    },
    "papermill": {
     "duration": 13.633839,
     "end_time": "2025-09-11T23:23:17.079302",
     "exception": false,
     "start_time": "2025-09-11T23:23:03.445463",
     "status": "completed"
    },
    "tags": []
   },
   "outputs": [
    {
     "data": {
      "application/vnd.jupyter.widget-view+json": {
       "model_id": "72dd93fd909d45e68b0aec411b8a23cb",
       "version_major": 2,
       "version_minor": 0
      },
      "text/plain": [
       "Loading checkpoint shards:   0%|          | 0/5 [00:00<?, ?it/s]"
      ]
     },
     "metadata": {},
     "output_type": "display_data"
    },
    {
     "name": "stdout",
     "output_type": "stream",
     "text": [
      "Individual News Model loaded successfully!\n"
     ]
    }
   ],
   "source": [
    "from transformers import AutoModelForCausalLM, AutoTokenizer\n",
    "from peft import PeftModel\n",
    "import torch\n",
    "import numpy as np\n",
    "import matplotlib.pyplot as plt\n",
    "import seaborn as sns\n",
    "import pandas as pd\n",
    "from datasets import load_dataset\n",
    "import json\n",
    "import re\n",
    "from scipy.stats import wilcoxon\n",
    "from collections import defaultdict\n",
    "\n",
    "# Load the base model for individual news training\n",
    "base_model_id = './Qwen3-8B'\n",
    "adapter_path = './checkpoint-400'  # Using checkpoint 200\n",
    "\n",
    "# Load the base model and tokenizer\n",
    "base_qwen_model = AutoModelForCausalLM.from_pretrained(\n",
    "    base_model_id,\n",
    "    torch_dtype=torch.float16,\n",
    "    device_map=\"auto\",\n",
    "    trust_remote_code=True\n",
    ")\n",
    "\n",
    "tokenizer = AutoTokenizer.from_pretrained(\n",
    "    adapter_path,\n",
    "    trust_remote_code=True\n",
    ")\n",
    "base_qwen_tokenizer = tokenizer\n",
    "if tokenizer.pad_token is None:\n",
    "    tokenizer.pad_token = tokenizer.eos_token\n",
    "base_qwen_model.resize_token_embeddings(len(tokenizer))\n",
    "\n",
    "print(\"Individual News Model loaded successfully!\")"
   ]
  },
  {
   "cell_type": "markdown",
   "id": "9557cab7",
   "metadata": {
    "papermill": {
     "duration": 0.006297,
     "end_time": "2025-09-11T23:23:17.097324",
     "exception": false,
     "start_time": "2025-09-11T23:23:17.091027",
     "status": "completed"
    },
    "tags": []
   },
   "source": [
    "## Load LoRA Adapter from Individual News Training"
   ]
  },
  {
   "cell_type": "code",
   "execution_count": 3,
   "id": "9512f59d",
   "metadata": {
    "execution": {
     "iopub.execute_input": "2025-09-11T23:23:17.112385Z",
     "iopub.status.busy": "2025-09-11T23:23:17.111256Z",
     "iopub.status.idle": "2025-09-11T23:23:27.631395Z",
     "shell.execute_reply": "2025-09-11T23:23:27.629935Z"
    },
    "papermill": {
     "duration": 10.52957,
     "end_time": "2025-09-11T23:23:27.633322",
     "exception": false,
     "start_time": "2025-09-11T23:23:17.103752",
     "status": "completed"
    },
    "tags": []
   },
   "outputs": [
    {
     "name": "stdout",
     "output_type": "stream",
     "text": [
      "Individual News Model with adapter (checkpoint-200) loaded successfully!\n"
     ]
    }
   ],
   "source": [
    "# Load the LoRA adapter from the individual news training (checkpoint 200)\n",
    "\n",
    "# Load the model with LoRA adapter\n",
    "model = PeftModel.from_pretrained(base_qwen_model, adapter_path)\n",
    "model.eval()\n",
    "\n",
    "print(\"Individual News Model with adapter (checkpoint-200) loaded successfully!\")"
   ]
  },
  {
   "cell_type": "markdown",
   "id": "90469356",
   "metadata": {
    "papermill": {
     "duration": 0.007498,
     "end_time": "2025-09-11T23:23:27.648363",
     "exception": false,
     "start_time": "2025-09-11T23:23:27.640865",
     "status": "completed"
    },
    "tags": []
   },
   "source": [
    "## Load Test Data from Individual News Dataset"
   ]
  },
  {
   "cell_type": "code",
   "execution_count": 4,
   "id": "f28433f5",
   "metadata": {
    "execution": {
     "iopub.execute_input": "2025-09-11T23:23:27.662990Z",
     "iopub.status.busy": "2025-09-11T23:23:27.662341Z",
     "iopub.status.idle": "2025-09-11T23:23:37.857862Z",
     "shell.execute_reply": "2025-09-11T23:23:37.856936Z"
    },
    "papermill": {
     "duration": 10.204695,
     "end_time": "2025-09-11T23:23:37.859368",
     "exception": false,
     "start_time": "2025-09-11T23:23:27.654673",
     "status": "completed"
    },
    "tags": []
   },
   "outputs": [
    {
     "name": "stdout",
     "output_type": "stream",
     "text": [
      "Loaded 2437 test samples\n",
      "Sample test data:\n",
      "{'instruction': 'You are an elite institutional Bitcoin investment advisor. Provide comprehensive investment advisory based on the given market intelligence.', 'input': \"You are an elite institutional Bitcoin investment advisor. Please provide a comprehensive investment advisory based on the following market intelligence for 2018-01-01.\\n\\nMARKET DATA:\\n- Current Price: $0.0\\n- Price Range: Min: $0, Max: $0\\n- Next 10-Day Price Trend: $17996.69, $18263.42, $18863.92, $18725.98, $18078.28, $18014.81, $17831.13, $18701.42, $18918.25\\n- Next 60-Day Price Outlook: $17312.98, $16678.90, $15711.94, $15160.12, $15540.03, $15584.54, $15694.83, $14708.54, $14530.83, $14212.19, $14215.83, $13888.36, $13413.93, $13172.28, $13826.63, $14453.97, $15232.41, $15942.52, $14558.27, $15090.73, $14768.11, $15480.98, $16322.17, $16858.67, $15969.47, $16447.73, $15452.82, $16123.21, $16453.82, $16876.46, $16968.47, $16880.40, $16842.91, $16486.89, $15845.71, $16669.01, $16017.17, $16547.44, $15325.52, $14869.78, $14963.62, $15039.55, $14871.20, $15148.03, $14780.64, $14863.02, $15443.00, $16015.82, $15640.42, $16846.32, $17204.99, $16567.07, $15957.72, $15979.90, $15620.23, $14660.98, $15475.57, $15520.53, $15151.76, $13559.59\\n\\nNEWS ANALYSIS:\\n- Total News Items: 0\\n- Market Sentiment: \\n- Bull Probability: 0.0%\\n- Bear Probability: 0.0%\\n- High Impact News Count: 5\\n\\nKEY NEWS ITEMS:\\n\\n1. Bitcoin hits another record high in march toward $20,000\\n   Summary: Bitcoin reached another all-time peak, driven by optimism surrounding the launch of futures contracts on regulated U.S. exchanges (Cboe and CME). This development signals increasing institutional interest and a potential path towards broader mainstream adoption, suggesting a sustained upward trend for Bitcoin's valuation and market integration over the coming months.\\n   Direction: BULLISH\\n   Impact: HIGH\\n   Confidence: 80%\\n   Impact Tags: institutional, adoption, infrastructure\\n\\n2. Bitcoin hits all time high as controversial 'hard fork' called off\\n   Summary: Bitcoin reached a new all-time high after a contentious 'hard fork' (SegWit2x) was called off. The cancellation averted a potential split in the Bitcoin network, which had created uncertainty. This resolution removed a significant overhang, allowing the price to rally on the back of continued demand and the avoidance of network fragmentation.\\n   Direction: BULLISH\\n   Impact: HIGH\\n   Confidence: 85%\\n   Impact Tags: protocol, adoption\\n\\n3. Bitcoin Futures Launch on Chicago Mercantile Exchange (CME)\\n   Summary: Bitcoin futures trading commenced on the Chicago Mercantile Exchange (CME), tracking prices from the Gemini exchange. This launch, following Cboe's earlier introduction, signifies a major step towards institutional integration and provides a regulated avenue for traditional investors to gain exposure to Bitcoin, potentially increasing liquidity and price discovery.\\n   Direction: BULLISH\\n   Impact: HIGH\\n   Confidence: 80%\\n   Impact Tags: institutional, infrastructure, adoption\\n\\n4. Why Nasdaq, CME, Cboe all want in on bitcoin futures\\n   Summary: Major exchanges like CME, Cboe, and Nasdaq are all seeking to launch Bitcoin futures, indicating strong demand from institutional players for regulated crypto derivatives. The CFTC's approval for CME and Cboe highlights the growing acceptance of Bitcoin within the traditional financial system, paving the way for increased market participation and liquidity.\\n   Direction: BULLISH\\n   Impact: HIGH\\n   Confidence: 85%\\n   Impact Tags: institutional, infrastructure, adoption\\n\\n5. Bitcoin zooms above $13,000 to record high on relentless demand\\n   Summary: Bitcoin surged past $13,000 to a new record high, fueled by relentless demand and the prospect of increased mainstream adoption following the announcement of regulated futures contracts. This price action reflects strong investor sentiment and the growing integration of Bitcoin into traditional financial markets.\\n   Direction: BULLISH\\n   Impact: HIGH\\n   Confidence: 80%\\n   Impact Tags: adoption, infrastructure\\n\\nDAILY MARKET ANALYSIS:\\n- Market Summary: The market sentiment for Bitcoin is decidedly bearish as the new year begins, with prices continuing to slide from their December highs. This trend is exacerbated by the broader market's cautious outlook, with some analysts predicting a stock market correction. While institutional interest is growing with the launch of Bitcoin futures, the immediate short-term focus is on the ongoing price decline and its potential to drag down other cryptocurrencies like Bitcoin Cash. Regulatory warnings from entities like the RBI also contribute to a cautious environment.\\n- Aggregated Effects: \\n- Key Events: 0 events identified\\n- Price Drivers: 0 factors analyzed\\n\\nTASK:\\nProvide a detailed, institutional-grade Bitcoin investment advisory that includes:\\n1. Executive Summary & Market Overview\\n2. Investment Recommendation (Short/Medium/Long-term)\\n3. Risk Assessment & Management\\n4. Price Targets & Scenarios\\n5. Trading Strategy & Execution\\n6. Technical and Fundamental Analysis\\n7. Portfolio Integration Advice\\n\\nFormat your response as a professional investment advisory suitable for institutional clients.\", 'output': \"Of course. Here is your comprehensive, institutional-grade Bitcoin investment advisory based on the provided market intelligence for January 1st, 2018.\\n\\n***\\n\\n### **Institutional Bitcoin Investment Advisory**\\n**Date:** January 1, 2018\\n**Asset:** Bitcoin (BTC)\\n**Advisor:** Elite Cryptocurrency & Macro Strategist\\n**Target Audience:** Institutional Portfolio Managers & Family Offices\\n\\n---\\n\\n### 1. Executive Summary & Market Overview\\n\\nThe Bitcoin market enters 2018 at a critical inflection point, characterized by a stark divergence between powerful long-term bullish fundamentals and acute short-term bearish pressures. The dominant narrative is one of **correction and consolidation** following an unprecedented parabolic rally in Q4 2017 that propelled BTC to near $20,000. Our analysis indicates a market sentiment heavily skewed bearish (45%) in the immediate term, driven by profit-taking, bubble rhetoric, and nascent regulatory headwinds from key jurisdictions like South Korea. However, this is juxtaposed against a profoundly bullish long-term foundation, cemented by the landmark launch of regulated futures contracts on the CME and Cboe. This institutional validation is a game-changer for capital allocation but will take time to manifest fully. The immediate 10-day forecast suggests heightened volatility with a net positive bias (+5.12%), though we caution that this upward trajectory is fragile and likely to be punctuated by significant drawdowns. Our core thesis is that the current weakness presents a strategic accumulation opportunity for long-term holders, while short-term traders must navigate a treacherous environment favoring tactical short positions or cash.\\n\\n---\\n\\n### 2. Investment Recommendation\\n\\n*   **Short-Term (0-30 days): TACTICAL SELL/HEDGE.** We assign a **70% probability** to this action. The momentum is bearish, and a retest of key support levels is probable.\\n    *   **Position:** For existing holders, reduce spot exposure by 20-30%. For agile institutions, consider a tactical short via futures or inverse ETF products (if available), targeting a 15-20% drawdown.\\n    *   **Entry (for short):** On any bounce towards resistance at ~$18,800 - $19,000.\\n    *   **Exit (cover short):** At key support levels of $14,500 (minor) and $12,000 (major). A break below $10,000 would signal a deeper correction.\\n*   **Medium-Term (1-6 months): HOLD/ACCUMULATE.** We assign a **60% probability** to a HOLD strategy with a view to accumulate on weakness.\\n    *   **Position:** Maintain a core strategic BTC allocation. Deploy cash reserves in a disciplined, dollar-cost averaging (DCA) manner on significant dips (>15% from entry point).\\n    *   **Accumulation Zones:** $12,000 - $14,000 (Aggressive), $10,000 - $12,000 (Core), <$10,000 (Maximum Conviction).\\n*   **Long-Term (6+ months): STRONG ACCUMULATE/BUY.** The institutional adoption narrative is irreversible and will dominate long-term price action.\\n    *   **Target Allocation:** 1-5% of a diversified portfolio, depending on risk tolerance.\\n\\n---\\n\\n### 3. Risk Assessment & Management\\n\\n*   **Primary Risks:**\\n    *   **Regulatory Crackdown:** Potential for stringent regulations from major economies (e.g., South Korea's anonymous account ban, potential US/China actions). This is the single largest tail risk.\\n    *   **Profit-Taking Cascade:** The +1,500%+ rally in 2017 has created an ecosystem of weak hands; a sharp break of support could trigger a violent sell-off.\\n    *   **Correlation to Risk-Off Events:** A significant correction in traditional equity markets (S&P 500) could precipitate a liquidity crunch, spilling over into crypto.\\n    *   **Volatility & Liquidity Gaps:** The nascent market structure can lead to extreme price gaps, especially over weekends.\\n*   **Hedging Strategies:**\\n    *   **Options:** Purchase out-of-the-money (OTM) put options to protect downside on core holdings.\\n    *   **Futures:** Utilize CME/Cboe futures to establish short hedges against spot portfolios.\\n    *   **Correlation Hedge:** Increase cash holdings as a hedge against a broad market risk-off event.\\n\\n---\\n\\n### 4. Price Targets & Scenarios\\n\\n*   **Base Case (40% Probability):** A volatile consolidation between $12,000 and $19,000. The 10-day prediction aligns with this, showing swings but ending positive. **Q1 2018 Target: $15,000.**\\n*   **Bearish Case (40% Probability):** Failed breakout leads to a deeper correction. Break of $12,000 support targets the 200-day MA (likely near $8,000-$9,000). **Q1 2018 Target: $9,500.**\\n*   **Bullish Case (20% Probability):** Immediate resumption of bull market, fueled by overwhelming institutional FOMO. Break and sustained hold above $20,000. **Q1 2018 Target: $25,000.**\\n*   **12-Month Target (Bullish): $50,000+** (Based on institutional flow adoption curve).\\n*   **12-Month Target (Base): $25,000 - $30,000.**\\n\\n---\\n\\n### 5. Trading Strategy & Execution\\n\\n*   **Entry Strategy (for new longs):** Scale in using limit orders at predefined support levels. Avoid market orders. Allocate 1/3 at $14k, 1/3 at $12k, 1/3 at <$10k.\\n*   **Portfolio Allocation:** For a $100M institutional portfolio, a 3% ($3M) target allocation is prudent. Initiate with $500k, reserving $2.5M for DCA into weakness.\\n*   **Execution Venues:** Prioritize regulated, insured custodial solutions (Coinbase Custody, soon-to-launch) and institutional OTC desks to minimize market impact and maximize security. Utilize CME futures for large, tactical positions.\\n\\n---\\n\\n### 6. Market Outlook & Catalysts\\n\\n*   **Short-Term (0-1 month): BEARISH.** Catalysts: Regulatory headlines, post-holiday profit-taking, stock market correlation.\\n*   **Medium-Term (1-6 months): NEUTRAL-to-BULLISH.** Catalysts: Institutional on-ramps maturing, futures open interest growing, regulatory clarity emerging.\\n*   **Long-Term (6+ months): EXTREMELY BULLISH.** Catalysts: Full integration of Bitcoin into institutional portfolios, ETF approvals (likely late 2018/2019), continued network effect.\\n\\n---\\n\\n### 7. Technical Analysis Integration\\n\\n*   **Support Levels:** $14,500 (Recent Swing Low), $12,000 (Psychological), $10,000 (Key Psychological & Historical Resistance Turned Support), $8,000 (200-Day MA).\\n*   **Resistance Levels:** $18,800 - $19,000 (Local High), $20,000 (All-Time High & Psychological).\\n*   **Momentum:** RSI is cooling from severely overbought levels. A move towards oversold (RSI <30) would be healthy and provide a stronger base for the next leg up. Volume is declining on the sell-off, suggesting a lack of panic, for now.\\n\\n---\\n\\n### 8. Fundamental Analysis\\n\\n*   **Adoption Trend:** **Accelerating.** The CME/Cboe/Nasdaq futures narrative is the most bullish fundamental development since the ETF application wave. It creates a virtuous cycle: easier access -> more demand -> higher prices -> more legitimacy -> easier access.\\n*   **Regulatory Landscape:** **Net Positive, but Noisy.** South Korea's actions are aimed at curbing speculation, not banning BTC. The U.S. regulatory stance, through CFTC-approved futures, is implicitly supportive. The trend is towards regulated integration, not prohibition.\\n*   **Institutional Flows:** The dam is breaking. The futures launch is the proof. The next 6-12 months will see a significant inflow of institutional capital from hedge funds, family offices, and eventually, pensions.\\n\\n---\\n\\n### 9. Risk-Reward Analysis\\n\\n*   **Expected Return (12-month, Base Case):** +66% (from $15k to $25k).\\n*   **Maximum Drawdown (Worst Case):** -50% (from $15k to $7.5k).\\n*   **Sharpe Ratio (Est.):** Given the high volatility, even with strong returns, the Sharpe Ratio is likely to remain below 1.0 in the medium term. This is an alpha-generating, high-risk asset, not a beta play.\\n\\n---\\n\\n### 10. Alternative Scenarios (Black Swans)\\n\\n*   **Negative Black Swan:** A coordinated global ban on cryptocurrency trading by G20 nations. **Probability: <5%. Impact: Extreme.**\\n*   **Positive Black Swan:** A major sovereign wealth fund or central bank announces a strategic allocation to Bitcoin. **Probability: <2%. Impact: Extreme.**\\n*   **Technical Black Swan:** A critical, undiscovered flaw is found in Bitcoin's core protocol, undermining trust. **Probability: <1%. Impact: Extreme.**\\n\\n---\\n\\n### 11. Portfolio Integration\\n\\n*   **Correlation:** Bitcoin has historically had a low-to-negative correlation with traditional asset classes (stocks, bonds). However, in a broad market\", 'date': '2018-01-01', 'quality_score': 0.8999999999999999}\n"
     ]
    }
   ],
   "source": [
    "# Load the individual news dataset\n",
    "test_dataset = load_dataset('tahamajs/bitcoin-investment-advisory-dataset', split='train')\n",
    "print(f\"Loaded {len(test_dataset)} test samples\")\n",
    "print(\"Sample test data:\")\n",
    "print(test_dataset[0])"
   ]
  },
  {
   "cell_type": "markdown",
   "id": "14d01a90",
   "metadata": {
    "papermill": {
     "duration": 0.005561,
     "end_time": "2025-09-11T23:23:37.872473",
     "exception": false,
     "start_time": "2025-09-11T23:23:37.866912",
     "status": "completed"
    },
    "tags": []
   },
   "source": [
    "## Utility Functions for Analysis"
   ]
  },
  {
   "cell_type": "code",
   "execution_count": 5,
   "id": "f900806e",
   "metadata": {
    "execution": {
     "iopub.execute_input": "2025-09-11T23:23:37.886528Z",
     "iopub.status.busy": "2025-09-11T23:23:37.885839Z",
     "iopub.status.idle": "2025-09-11T23:23:37.900908Z",
     "shell.execute_reply": "2025-09-11T23:23:37.899959Z"
    },
    "papermill": {
     "duration": 0.024779,
     "end_time": "2025-09-11T23:23:37.903304",
     "exception": false,
     "start_time": "2025-09-11T23:23:37.878525",
     "status": "completed"
    },
    "tags": []
   },
   "outputs": [
    {
     "name": "stdout",
     "output_type": "stream",
     "text": [
      "Utility functions loaded!\n"
     ]
    }
   ],
   "source": [
    "def extract_prices_from_text(text):\n",
    "    \"\"\"Extract price predictions from model output\"\"\"\n",
    "    # Look for patterns like numbers separated by commas\n",
    "    price_pattern = r'(\\d+(?:\\.\\d+)?(?:,\\s*\\d+(?:\\.\\d+)?)*)'  \n",
    "    matches = re.findall(price_pattern, text)\n",
    "    \n",
    "    if matches:\n",
    "        # Take the first match and split by comma\n",
    "        prices_str = matches[0]\n",
    "        try:\n",
    "            prices = [float(p.strip()) for p in prices_str.split(',')]\n",
    "            return prices\n",
    "        except:\n",
    "            return []\n",
    "    return []\n",
    "\n",
    "def calculate_metrics(predictions, ground_truth):\n",
    "    \"\"\"Calculate evaluation metrics\"\"\"\n",
    "    if len(predictions) != len(ground_truth):\n",
    "        return None\n",
    "    \n",
    "    predictions = np.array(predictions)\n",
    "    ground_truth = np.array(ground_truth)\n",
    "    \n",
    "    mse = np.mean((predictions - ground_truth) ** 2)\n",
    "    mae = np.mean(np.abs(predictions - ground_truth))\n",
    "    mape = np.mean(np.abs((ground_truth - predictions) / ground_truth)) * 100\n",
    "    \n",
    "    return {\n",
    "        'MSE': mse,\n",
    "        'MAE': mae,\n",
    "        'MAPE': mape,\n",
    "        'RMSE': np.sqrt(mse)\n",
    "    }\n",
    "\n",
    "def analyze_text_quality(generated_text, expected_text):\n",
    "    \"\"\"Analyze text quality metrics beyond numerical predictions\"\"\"\n",
    "    # Text length analysis\n",
    "    gen_length = len(generated_text.split())\n",
    "    exp_length = len(expected_text.split())\n",
    "    length_ratio = gen_length / exp_length if exp_length > 0 else 0\n",
    "    \n",
    "    # Word overlap analysis\n",
    "    gen_words = set(generated_text.lower().split())\n",
    "    exp_words = set(expected_text.lower().split())\n",
    "    \n",
    "    intersection = gen_words.intersection(exp_words)\n",
    "    union = gen_words.union(exp_words)\n",
    "    \n",
    "    jaccard_similarity = len(intersection) / len(union) if len(union) > 0 else 0\n",
    "    \n",
    "    # Check for key financial terms\n",
    "    financial_terms = ['price', 'market', 'trend', 'analysis', 'prediction', 'forecast', \n",
    "                      'bitcoin', 'btc', 'increase', 'decrease', 'bullish', 'bearish',\n",
    "                      'investment', 'trading', 'volatility', 'support', 'resistance']\n",
    "    \n",
    "    gen_financial_terms = sum(1 for term in financial_terms if term in generated_text.lower())\n",
    "    exp_financial_terms = sum(1 for term in financial_terms if term in expected_text.lower())\n",
    "    \n",
    "    return {\n",
    "        'length_ratio': length_ratio,\n",
    "        'jaccard_similarity': jaccard_similarity,\n",
    "        'generated_length': gen_length,\n",
    "        'expected_length': exp_length,\n",
    "        'generated_financial_terms': gen_financial_terms,\n",
    "        'expected_financial_terms': exp_financial_terms,\n",
    "        'financial_term_coverage': gen_financial_terms / max(exp_financial_terms, 1)\n",
    "    }\n",
    "\n",
    "def format_input(example):\n",
    "    \"\"\"Format input for the individual news model\"\"\"\n",
    "    instruction = example.get('instruction', '')\n",
    "    user_input = example.get('input', '')\n",
    "    messages = [\n",
    "        {'role': 'system', 'content': instruction},\n",
    "        {'role': 'user', 'content': user_input}\n",
    "    ]\n",
    "    return tokenizer.apply_chat_template(messages, tokenize=False, add_generation_prompt=True)\n",
    "\n",
    "print(\"Utility functions loaded!\")"
   ]
  },
  {
   "cell_type": "markdown",
   "id": "d4db2fe6",
   "metadata": {
    "papermill": {
     "duration": 0.006069,
     "end_time": "2025-09-11T23:23:37.918854",
     "exception": false,
     "start_time": "2025-09-11T23:23:37.912785",
     "status": "completed"
    },
    "tags": []
   },
   "source": [
    "## Comprehensive Model Evaluation"
   ]
  },
  {
   "cell_type": "code",
   "execution_count": 6,
   "id": "01604cd0",
   "metadata": {
    "execution": {
     "iopub.execute_input": "2025-09-11T23:23:37.930732Z",
     "iopub.status.busy": "2025-09-11T23:23:37.930090Z",
     "iopub.status.idle": "2025-09-11T23:33:35.864941Z",
     "shell.execute_reply": "2025-09-11T23:33:35.863851Z"
    },
    "papermill": {
     "duration": 597.944148,
     "end_time": "2025-09-11T23:33:35.867861",
     "exception": false,
     "start_time": "2025-09-11T23:23:37.923713",
     "status": "completed"
    },
    "tags": []
   },
   "outputs": [
    {
     "name": "stdout",
     "output_type": "stream",
     "text": [
      "Utility functions loaded!\n",
      "Running comprehensive evaluation on 100 samples with batch size 8...\n"
     ]
    },
    {
     "name": "stderr",
     "output_type": "stream",
     "text": [
      "\r",
      "Evaluating Batches:   0%|                                                      | 0/13 [00:00<?, ?it/s]"
     ]
    },
    {
     "name": "stderr",
     "output_type": "stream",
     "text": [
      "The following generation flags are not valid and may be ignored: ['temperature', 'top_p', 'top_k']. Set `TRANSFORMERS_VERBOSITY=info` for more details.\n"
     ]
    },
    {
     "name": "stderr",
     "output_type": "stream",
     "text": [
      "\r",
      "Evaluating Batches:   8%|███▌                                          | 1/13 [00:45<09:04, 45.34s/it]"
     ]
    },
    {
     "name": "stderr",
     "output_type": "stream",
     "text": [
      "The following generation flags are not valid and may be ignored: ['temperature', 'top_p', 'top_k']. Set `TRANSFORMERS_VERBOSITY=info` for more details.\n"
     ]
    },
    {
     "name": "stderr",
     "output_type": "stream",
     "text": [
      "\r",
      "Evaluating Batches:  15%|███████                                       | 2/13 [01:31<08:22, 45.69s/it]"
     ]
    },
    {
     "name": "stderr",
     "output_type": "stream",
     "text": [
      "The following generation flags are not valid and may be ignored: ['temperature', 'top_p', 'top_k']. Set `TRANSFORMERS_VERBOSITY=info` for more details.\n"
     ]
    },
    {
     "name": "stderr",
     "output_type": "stream",
     "text": [
      "\r",
      "Evaluating Batches:  23%|██████████▌                                   | 3/13 [02:18<07:43, 46.36s/it]"
     ]
    },
    {
     "name": "stderr",
     "output_type": "stream",
     "text": [
      "The following generation flags are not valid and may be ignored: ['temperature', 'top_p', 'top_k']. Set `TRANSFORMERS_VERBOSITY=info` for more details.\n"
     ]
    },
    {
     "name": "stderr",
     "output_type": "stream",
     "text": [
      "\r",
      "Evaluating Batches:  31%|██████████████▏                               | 4/13 [03:05<07:01, 46.78s/it]"
     ]
    },
    {
     "name": "stderr",
     "output_type": "stream",
     "text": [
      "The following generation flags are not valid and may be ignored: ['temperature', 'top_p', 'top_k']. Set `TRANSFORMERS_VERBOSITY=info` for more details.\n"
     ]
    },
    {
     "name": "stderr",
     "output_type": "stream",
     "text": [
      "\r",
      "Evaluating Batches:  38%|█████████████████▋                            | 5/13 [03:52<06:14, 46.79s/it]"
     ]
    },
    {
     "name": "stderr",
     "output_type": "stream",
     "text": [
      "The following generation flags are not valid and may be ignored: ['temperature', 'top_p', 'top_k']. Set `TRANSFORMERS_VERBOSITY=info` for more details.\n"
     ]
    },
    {
     "name": "stderr",
     "output_type": "stream",
     "text": [
      "\r",
      "Evaluating Batches:  46%|█████████████████████▏                        | 6/13 [04:36<05:21, 45.87s/it]"
     ]
    },
    {
     "name": "stderr",
     "output_type": "stream",
     "text": [
      "The following generation flags are not valid and may be ignored: ['temperature', 'top_p', 'top_k']. Set `TRANSFORMERS_VERBOSITY=info` for more details.\n"
     ]
    },
    {
     "name": "stderr",
     "output_type": "stream",
     "text": [
      "\r",
      "Evaluating Batches:  54%|████████████████████████▊                     | 7/13 [05:24<04:38, 46.38s/it]"
     ]
    },
    {
     "name": "stderr",
     "output_type": "stream",
     "text": [
      "The following generation flags are not valid and may be ignored: ['temperature', 'top_p', 'top_k']. Set `TRANSFORMERS_VERBOSITY=info` for more details.\n"
     ]
    },
    {
     "name": "stderr",
     "output_type": "stream",
     "text": [
      "\r",
      "Evaluating Batches:  62%|████████████████████████████▎                 | 8/13 [06:14<03:58, 47.66s/it]"
     ]
    },
    {
     "name": "stderr",
     "output_type": "stream",
     "text": [
      "The following generation flags are not valid and may be ignored: ['temperature', 'top_p', 'top_k']. Set `TRANSFORMERS_VERBOSITY=info` for more details.\n"
     ]
    },
    {
     "name": "stderr",
     "output_type": "stream",
     "text": [
      "\r",
      "Evaluating Batches:  69%|███████████████████████████████▊              | 9/13 [07:00<03:08, 47.17s/it]"
     ]
    },
    {
     "name": "stderr",
     "output_type": "stream",
     "text": [
      "The following generation flags are not valid and may be ignored: ['temperature', 'top_p', 'top_k']. Set `TRANSFORMERS_VERBOSITY=info` for more details.\n"
     ]
    },
    {
     "name": "stderr",
     "output_type": "stream",
     "text": [
      "\r",
      "Evaluating Batches:  77%|██████████████████████████████████▌          | 10/13 [07:48<02:21, 47.22s/it]"
     ]
    },
    {
     "name": "stderr",
     "output_type": "stream",
     "text": [
      "The following generation flags are not valid and may be ignored: ['temperature', 'top_p', 'top_k']. Set `TRANSFORMERS_VERBOSITY=info` for more details.\n"
     ]
    },
    {
     "name": "stderr",
     "output_type": "stream",
     "text": [
      "\r",
      "Evaluating Batches:  85%|██████████████████████████████████████       | 11/13 [08:31<01:32, 46.08s/it]"
     ]
    },
    {
     "name": "stderr",
     "output_type": "stream",
     "text": [
      "The following generation flags are not valid and may be ignored: ['temperature', 'top_p', 'top_k']. Set `TRANSFORMERS_VERBOSITY=info` for more details.\n"
     ]
    },
    {
     "name": "stderr",
     "output_type": "stream",
     "text": [
      "\r",
      "Evaluating Batches:  92%|█████████████████████████████████████████▌   | 12/13 [09:16<00:45, 45.76s/it]"
     ]
    },
    {
     "name": "stderr",
     "output_type": "stream",
     "text": [
      "The following generation flags are not valid and may be ignored: ['temperature', 'top_p', 'top_k']. Set `TRANSFORMERS_VERBOSITY=info` for more details.\n"
     ]
    },
    {
     "name": "stderr",
     "output_type": "stream",
     "text": [
      "\r",
      "Evaluating Batches: 100%|█████████████████████████████████████████████| 13/13 [09:57<00:00, 44.43s/it]"
     ]
    },
    {
     "name": "stderr",
     "output_type": "stream",
     "text": [
      "\r",
      "Evaluating Batches: 100%|█████████████████████████████████████████████| 13/13 [09:57<00:00, 45.99s/it]"
     ]
    },
    {
     "name": "stdout",
     "output_type": "stream",
     "text": [
      "\n",
      "Evaluation completed! Analyzed 99 valid samples out of 100\n"
     ]
    },
    {
     "name": "stderr",
     "output_type": "stream",
     "text": [
      "\n"
     ]
    }
   ],
   "source": [
    "import json\n",
    "import re\n",
    "from collections import defaultdict\n",
    "import numpy as np\n",
    "import torch\n",
    "from tqdm import tqdm # Using tqdm for a nice progress bar\n",
    "\n",
    "# --- UTILITY FUNCTIONS (Provided by you) ---\n",
    "\n",
    "def extract_prices_from_text(text):\n",
    "    \"\"\"Extract price predictions from model output\"\"\"\n",
    "    # Look for patterns like numbers separated by commas\n",
    "    price_pattern = r'(\\d+(?:\\.\\d+)?(?:,\\s*\\d+(?:\\.\\d+)?)*)'  \n",
    "    matches = re.findall(price_pattern, text)\n",
    "    \n",
    "    if matches:\n",
    "        # Take the first match and split by comma\n",
    "        prices_str = matches[0]\n",
    "        try:\n",
    "            prices = [float(p.strip()) for p in prices_str.split(',')]\n",
    "            return prices\n",
    "        except:\n",
    "            return []\n",
    "    return []\n",
    "\n",
    "def calculate_metrics(predictions, ground_truth):\n",
    "    \"\"\"Calculate evaluation metrics\"\"\"\n",
    "    if len(predictions) != len(ground_truth) or not predictions:\n",
    "        return None\n",
    "    \n",
    "    predictions = np.array(predictions)\n",
    "    ground_truth = np.array(ground_truth)\n",
    "    \n",
    "    # Avoid division by zero in MAPE\n",
    "    if np.any(ground_truth == 0):\n",
    "        non_zero_mask = ground_truth != 0\n",
    "        if not np.any(non_zero_mask):\n",
    "            mape = np.nan\n",
    "        else:\n",
    "             mape = np.mean(np.abs((ground_truth[non_zero_mask] - predictions[non_zero_mask]) / ground_truth[non_zero_mask])) * 100\n",
    "    else:\n",
    "        mape = np.mean(np.abs((ground_truth - predictions) / ground_truth)) * 100\n",
    "        \n",
    "    mse = np.mean((predictions - ground_truth) ** 2)\n",
    "    mae = np.mean(np.abs(predictions - ground_truth))\n",
    "    \n",
    "    return {\n",
    "        'MSE': mse,\n",
    "        'MAE': mae,\n",
    "        'MAPE': mape,\n",
    "        'RMSE': np.sqrt(mse)\n",
    "    }\n",
    "\n",
    "def analyze_text_quality(generated_text, expected_text):\n",
    "    \"\"\"Analyze text quality metrics beyond numerical predictions\"\"\"\n",
    "    # Text length analysis\n",
    "    gen_length = len(generated_text.split())\n",
    "    exp_length = len(expected_text.split())\n",
    "    length_ratio = gen_length / exp_length if exp_length > 0 else 0\n",
    "    \n",
    "    # Word overlap analysis\n",
    "    gen_words = set(generated_text.lower().split())\n",
    "    exp_words = set(expected_text.lower().split())\n",
    "    \n",
    "    intersection = gen_words.intersection(exp_words)\n",
    "    union = gen_words.union(exp_words)\n",
    "    \n",
    "    jaccard_similarity = len(intersection) / len(union) if len(union) > 0 else 0\n",
    "    \n",
    "    # Check for key financial terms\n",
    "    financial_terms = ['price', 'market', 'trend', 'analysis', 'prediction', 'forecast', \n",
    "                      'bitcoin', 'btc', 'increase', 'decrease', 'bullish', 'bearish',\n",
    "                      'investment', 'trading', 'volatility', 'support', 'resistance']\n",
    "    \n",
    "    gen_financial_terms = sum(1 for term in financial_terms if term in generated_text.lower())\n",
    "    exp_financial_terms = sum(1 for term in financial_terms if term in expected_text.lower())\n",
    "    \n",
    "    return {\n",
    "        'length_ratio': length_ratio,\n",
    "        'jaccard_similarity': jaccard_similarity,\n",
    "        'generated_length': gen_length,\n",
    "        'expected_length': exp_length,\n",
    "        'generated_financial_terms': gen_financial_terms,\n",
    "        'expected_financial_terms': exp_financial_terms,\n",
    "        'financial_term_coverage': gen_financial_terms / max(exp_financial_terms, 1)\n",
    "    }\n",
    "\n",
    "def format_input(example):\n",
    "    \"\"\"Format input for the individual news model\"\"\"\n",
    "    instruction = example.get('instruction', '')\n",
    "    user_input = example.get('input', '')\n",
    "    messages = [\n",
    "        {'role': 'system', 'content': instruction},\n",
    "        {'role': 'user', 'content': user_input}\n",
    "    ]\n",
    "    return tokenizer.apply_chat_template(messages, tokenize=False, add_generation_prompt=True)\n",
    "\n",
    "print(\"Utility functions loaded!\")\n",
    "\n",
    "\n",
    "# --- PARALLEL EVALUATION LOGIC ---\n",
    "\n",
    "# 1. Configuration\n",
    "total_samples = min(100, len(test_dataset))\n",
    "batch_size = 8  # Adjust this based on your GPU's VRAM\n",
    "results = []\n",
    "text_quality_results = []\n",
    "\n",
    "print(f\"Running comprehensive evaluation on {total_samples} samples with batch size {batch_size}...\")\n",
    "\n",
    "# 2. Loop through the dataset in batches\n",
    "for i in tqdm(range(0, total_samples, batch_size), desc=\"Evaluating Batches\"):\n",
    "    batch_indices = range(i, min(i + batch_size, total_samples))\n",
    "    batch_samples = [test_dataset[j] for j in batch_indices]\n",
    "    \n",
    "    batch_texts = [format_input(sample) for sample in batch_samples]\n",
    "    \n",
    "    # 3. BATCH TOKENIZATION\n",
    "    inputs = tokenizer(\n",
    "        batch_texts,\n",
    "        return_tensors='pt',\n",
    "        padding=True,\n",
    "        truncation=True,\n",
    "        max_length=2048\n",
    "    )\n",
    "    inputs = {k: v.to(model.device) for k, v in inputs.items()}\n",
    "\n",
    "    # 4. BATCH GENERATION\n",
    "    with torch.no_grad():\n",
    "        outputs = model.generate(\n",
    "            **inputs,\n",
    "            max_new_tokens=256,\n",
    "            do_sample=False,\n",
    "            pad_token_id=tokenizer.eos_token_id\n",
    "        )\n",
    "\n",
    "    # 5. BATCH DECODING\n",
    "    generated_texts = tokenizer.batch_decode(outputs[:, inputs['input_ids'].shape[1]:], skip_special_tokens=True)\n",
    "\n",
    "    # 6. Process results for the batch\n",
    "    for j, (sample, generated_text) in enumerate(zip(batch_samples, generated_texts)):\n",
    "        predicted_prices = extract_prices_from_text(generated_text)\n",
    "        actual_output = sample.get('output', '')\n",
    "        actual_prices = extract_prices_from_text(actual_output)\n",
    "\n",
    "        text_quality = analyze_text_quality(generated_text, actual_output)\n",
    "        text_quality_results.append(text_quality)\n",
    "        \n",
    "        if predicted_prices and actual_prices:\n",
    "            min_len = min(len(predicted_prices), len(actual_prices))\n",
    "            if min_len > 0:\n",
    "                pred_truncated = predicted_prices[:min_len]\n",
    "                actual_truncated = actual_prices[:min_len]\n",
    "                \n",
    "                metrics = calculate_metrics(pred_truncated, actual_truncated)\n",
    "                if metrics:\n",
    "                    results.append({\n",
    "                        'sample_id': batch_indices[j],\n",
    "                        'predicted': pred_truncated,\n",
    "                        'actual': actual_truncated,\n",
    "                        'metrics': metrics,\n",
    "                        'text_quality': text_quality,\n",
    "                        'generated_text': generated_text,\n",
    "                        'expected_text': actual_output\n",
    "                    })\n",
    "\n",
    "print(f\"\\nEvaluation completed! Analyzed {len(results)} valid samples out of {total_samples}\")\n",
    "\n"
   ]
  },
  {
   "cell_type": "markdown",
   "id": "2bb79ee5",
   "metadata": {
    "papermill": {
     "duration": 0.008655,
     "end_time": "2025-09-11T23:33:35.885523",
     "exception": false,
     "start_time": "2025-09-11T23:33:35.876868",
     "status": "completed"
    },
    "tags": []
   },
   "source": [
    "## Detailed Results Analysis"
   ]
  },
  {
   "cell_type": "code",
   "execution_count": 7,
   "id": "82cc64b2",
   "metadata": {
    "execution": {
     "iopub.execute_input": "2025-09-11T23:33:35.904740Z",
     "iopub.status.busy": "2025-09-11T23:33:35.904150Z",
     "iopub.status.idle": "2025-09-11T23:33:35.920475Z",
     "shell.execute_reply": "2025-09-11T23:33:35.919369Z"
    },
    "papermill": {
     "duration": 0.029745,
     "end_time": "2025-09-11T23:33:35.923811",
     "exception": false,
     "start_time": "2025-09-11T23:33:35.894066",
     "status": "completed"
    },
    "tags": []
   },
   "outputs": [
    {
     "name": "stdout",
     "output_type": "stream",
     "text": [
      "================================================================================\n",
      "🎯 INDIVIDUAL NEWS MODEL - COMPREHENSIVE ANALYSIS\n",
      "================================================================================\n",
      "\n",
      "📊 NUMERICAL PERFORMANCE METRICS:\n",
      "Mean Squared Error (MSE): 200.8384 ± 1066.7961\n",
      "Mean Absolute Error (MAE): 3.5253 ± 13.7263\n",
      "Root Mean Squared Error (RMSE): 3.5253 ± 13.7263\n",
      "Mean Absolute Percentage Error (MAPE): 30.38% ± 152.58%\n",
      "\n",
      "📝 TEXT QUALITY METRICS:\n",
      "Average Response Length Ratio: 0.15 ± 0.02\n",
      "Average Jaccard Similarity: 0.076 ± 0.015\n",
      "Financial Term Coverage: 0.56 ± 0.12\n",
      "\n",
      "📋 DETAILED TEXT ANALYSIS:\n",
      "Average Generated Response Length: 174.0 words\n",
      "Average Expected Response Length: 1192.6 words\n",
      "Average Financial Terms in Generated: 8.4\n",
      "Average Financial Terms in Expected: 14.9\n",
      "\n",
      "📊 MEDIAN PERFORMANCE METRICS (Robust):\n",
      "Median MSE: 0.0000\n",
      "Median MAE: 0.0000\n",
      "Median RMSE: 0.0000\n",
      "Median MAPE: 0.00%\n",
      "Median Jaccard Similarity: 0.076\n",
      "\n",
      "🔍 SAMPLE OUTPUTS FOR QUALITATIVE ANALYSIS:\n",
      "\n",
      "--- Sample 1 ---\n",
      "Predicted Prices: [1.0]\n",
      "Actual Prices:    [1.0]\n",
      "MAE: 0.0000, MAPE: 0.00%\n",
      "Text Similarity: 0.062\n",
      "Generated Text: \n",
      "<think>\n",
      "Okay, let's tackle this Bitcoin investment advisory. The user provided a comprehensive set of market intelligence for January 1, 2018. First, I need to parse all the data and news to form a c...\n",
      "Expected Text:  Of course. Here is your comprehensive, institutional-grade Bitcoin investment advisory based on the provided market intelligence for January 1st, 2018.\n",
      "\n",
      "***\n",
      "\n",
      "### **Institutional Bitcoin Investment Adv...\n",
      "------------------------------------------------------------\n",
      "\n",
      "--- Sample 2 ---\n",
      "Predicted Prices: [2.0, 2018.0]\n",
      "Actual Prices:    [2.0, 2018.0]\n",
      "MAE: 0.0000, MAPE: 0.00%\n",
      "Text Similarity: 0.075\n",
      "Generated Text: <think>\n",
      "Okay, let's tackle this Bitcoin investment advisory. The user provided a comprehensive set of market intelligence for January 2, 2018. I need to structure a professional, institutional-grade r...\n",
      "Expected Text:  Of course. Here is an extensive, institutional-grade investment advisory for Bitcoin based on the provided market intelligence for January 2, 2018.\n",
      "\n",
      "***\n",
      "\n",
      "### **Institutional Bitcoin Investment Advisor...\n",
      "------------------------------------------------------------\n",
      "\n",
      "--- Sample 3 ---\n",
      "Predicted Prices: [3.0, 2018.0]\n",
      "Actual Prices:    [3.0, 2018.0]\n",
      "MAE: 0.0000, MAPE: 0.00%\n",
      "Text Similarity: 0.063\n",
      "Generated Text: \n",
      "<think>\n",
      "Okay, let's tackle this Bitcoin investment advisory. The user provided a comprehensive set of market intelligence for January 3, 2018. I need to structure a professional, institutional-grade ...\n",
      "Expected Text:  Of course. Here is an extensive, institutional-grade investment advisory for Bitcoin based on the provided market intelligence.\n",
      "\n",
      "***\n",
      "\n",
      "### **Institutional Bitcoin Investment Advisory**\n",
      "**Date:** Januar...\n",
      "------------------------------------------------------------\n"
     ]
    }
   ],
   "source": [
    "if results:\n",
    "    # Calculate numerical performance metrics\n",
    "    all_mse = [r['metrics']['MSE'] for r in results]\n",
    "    all_mae = [r['metrics']['MAE'] for r in results]\n",
    "    all_mape = [r['metrics']['MAPE'] for r in results]\n",
    "    all_rmse = [r['metrics']['RMSE'] for r in results]\n",
    "    \n",
    "    # Calculate text quality metrics\n",
    "    all_length_ratios = [r['text_quality']['length_ratio'] for r in results]\n",
    "    all_jaccard_sim = [r['text_quality']['jaccard_similarity'] for r in results]\n",
    "    all_financial_coverage = [r['text_quality']['financial_term_coverage'] for r in results]\n",
    "    \n",
    "    print(\"=\" * 80)\n",
    "    print(\"🎯 INDIVIDUAL NEWS MODEL - COMPREHENSIVE ANALYSIS\")\n",
    "    print(\"=\" * 80)\n",
    "    \n",
    "    print(f\"\\n📊 NUMERICAL PERFORMANCE METRICS:\")\n",
    "    print(f\"Mean Squared Error (MSE): {np.mean(all_mse):.4f} ± {np.std(all_mse):.4f}\")\n",
    "    print(f\"Mean Absolute Error (MAE): {np.mean(all_mae):.4f} ± {np.std(all_mae):.4f}\")\n",
    "    print(f\"Root Mean Squared Error (RMSE): {np.mean(all_rmse):.4f} ± {np.std(all_rmse):.4f}\")\n",
    "    print(f\"Mean Absolute Percentage Error (MAPE): {np.mean(all_mape):.2f}% ± {np.std(all_mape):.2f}%\")\n",
    "    \n",
    "    print(f\"\\n📝 TEXT QUALITY METRICS:\")\n",
    "    print(f\"Average Response Length Ratio: {np.mean(all_length_ratios):.2f} ± {np.std(all_length_ratios):.2f}\")\n",
    "    print(f\"Average Jaccard Similarity: {np.mean(all_jaccard_sim):.3f} ± {np.std(all_jaccard_sim):.3f}\")\n",
    "    print(f\"Financial Term Coverage: {np.mean(all_financial_coverage):.2f} ± {np.std(all_financial_coverage):.2f}\")\n",
    "    \n",
    "    print(f\"\\n📋 DETAILED TEXT ANALYSIS:\")\n",
    "    avg_gen_length = np.mean([r['text_quality']['generated_length'] for r in results])\n",
    "    avg_exp_length = np.mean([r['text_quality']['expected_length'] for r in results])\n",
    "    avg_gen_fin_terms = np.mean([r['text_quality']['generated_financial_terms'] for r in results])\n",
    "    avg_exp_fin_terms = np.mean([r['text_quality']['expected_financial_terms'] for r in results])\n",
    "    \n",
    "    print(f\"Average Generated Response Length: {avg_gen_length:.1f} words\")\n",
    "    print(f\"Average Expected Response Length: {avg_exp_length:.1f} words\")\n",
    "    print(f\"Average Financial Terms in Generated: {avg_gen_fin_terms:.1f}\")\n",
    "    print(f\"Average Financial Terms in Expected: {avg_exp_fin_terms:.1f}\")\n",
    "    \n",
    "    # Median metrics for robustness\n",
    "    print(f\"\\n📊 MEDIAN PERFORMANCE METRICS (Robust):\")\n",
    "    print(f\"Median MSE: {np.median(all_mse):.4f}\")\n",
    "    print(f\"Median MAE: {np.median(all_mae):.4f}\")\n",
    "    print(f\"Median RMSE: {np.median(all_rmse):.4f}\")\n",
    "    print(f\"Median MAPE: {np.median(all_mape):.2f}%\")\n",
    "    print(f\"Median Jaccard Similarity: {np.median(all_jaccard_sim):.3f}\")\n",
    "    \n",
    "    # Sample outputs for qualitative analysis\n",
    "    print(f\"\\n🔍 SAMPLE OUTPUTS FOR QUALITATIVE ANALYSIS:\")\n",
    "    for i, result in enumerate(results[:3]):\n",
    "        print(f\"\\n--- Sample {i+1} ---\")\n",
    "        print(f\"Predicted Prices: {result['predicted']}\")\n",
    "        print(f\"Actual Prices:    {result['actual']}\")\n",
    "        print(f\"MAE: {result['metrics']['MAE']:.4f}, MAPE: {result['metrics']['MAPE']:.2f}%\")\n",
    "        print(f\"Text Similarity: {result['text_quality']['jaccard_similarity']:.3f}\")\n",
    "        print(f\"Generated Text: {result['generated_text'][:200]}...\")\n",
    "        print(f\"Expected Text:  {result['expected_text'][:200]}...\")\n",
    "        print(\"-\" * 60)\n",
    "\n",
    "else:\n",
    "    print(\"❌ No valid results found for analysis\")"
   ]
  },
  {
   "cell_type": "markdown",
   "id": "14009ab4",
   "metadata": {
    "papermill": {
     "duration": 0.00891,
     "end_time": "2025-09-11T23:33:35.943314",
     "exception": false,
     "start_time": "2025-09-11T23:33:35.934404",
     "status": "completed"
    },
    "tags": []
   },
   "source": [
    "## Load Base Qwen Model for Comparison"
   ]
  },
  {
   "cell_type": "code",
   "execution_count": 8,
   "id": "fa504e47",
   "metadata": {
    "execution": {
     "iopub.execute_input": "2025-09-11T23:33:35.962187Z",
     "iopub.status.busy": "2025-09-11T23:33:35.961618Z",
     "iopub.status.idle": "2025-09-12T00:04:26.185202Z",
     "shell.execute_reply": "2025-09-12T00:04:26.184446Z"
    },
    "papermill": {
     "duration": 1850.251955,
     "end_time": "2025-09-12T00:04:26.204009",
     "exception": false,
     "start_time": "2025-09-11T23:33:35.952054",
     "status": "completed"
    },
    "tags": []
   },
   "outputs": [
    {
     "name": "stderr",
     "output_type": "stream",
     "text": [
      "The following generation flags are not valid and may be ignored: ['temperature', 'top_p', 'top_k']. Set `TRANSFORMERS_VERBOSITY=info` for more details.\n"
     ]
    },
    {
     "name": "stdout",
     "output_type": "stream",
     "text": [
      "Evaluating base Qwen model on 50 samples...\n"
     ]
    },
    {
     "name": "stderr",
     "output_type": "stream",
     "text": [
      "The following generation flags are not valid and may be ignored: ['temperature', 'top_p', 'top_k']. Set `TRANSFORMERS_VERBOSITY=info` for more details.\n"
     ]
    },
    {
     "name": "stderr",
     "output_type": "stream",
     "text": [
      "The following generation flags are not valid and may be ignored: ['temperature', 'top_p', 'top_k']. Set `TRANSFORMERS_VERBOSITY=info` for more details.\n"
     ]
    },
    {
     "name": "stderr",
     "output_type": "stream",
     "text": [
      "The following generation flags are not valid and may be ignored: ['temperature', 'top_p', 'top_k']. Set `TRANSFORMERS_VERBOSITY=info` for more details.\n"
     ]
    },
    {
     "name": "stderr",
     "output_type": "stream",
     "text": [
      "The following generation flags are not valid and may be ignored: ['temperature', 'top_p', 'top_k']. Set `TRANSFORMERS_VERBOSITY=info` for more details.\n"
     ]
    },
    {
     "name": "stderr",
     "output_type": "stream",
     "text": [
      "The following generation flags are not valid and may be ignored: ['temperature', 'top_p', 'top_k']. Set `TRANSFORMERS_VERBOSITY=info` for more details.\n"
     ]
    },
    {
     "name": "stderr",
     "output_type": "stream",
     "text": [
      "The following generation flags are not valid and may be ignored: ['temperature', 'top_p', 'top_k']. Set `TRANSFORMERS_VERBOSITY=info` for more details.\n"
     ]
    },
    {
     "name": "stderr",
     "output_type": "stream",
     "text": [
      "The following generation flags are not valid and may be ignored: ['temperature', 'top_p', 'top_k']. Set `TRANSFORMERS_VERBOSITY=info` for more details.\n"
     ]
    },
    {
     "name": "stderr",
     "output_type": "stream",
     "text": [
      "The following generation flags are not valid and may be ignored: ['temperature', 'top_p', 'top_k']. Set `TRANSFORMERS_VERBOSITY=info` for more details.\n"
     ]
    },
    {
     "name": "stderr",
     "output_type": "stream",
     "text": [
      "The following generation flags are not valid and may be ignored: ['temperature', 'top_p', 'top_k']. Set `TRANSFORMERS_VERBOSITY=info` for more details.\n"
     ]
    },
    {
     "name": "stderr",
     "output_type": "stream",
     "text": [
      "The following generation flags are not valid and may be ignored: ['temperature', 'top_p', 'top_k']. Set `TRANSFORMERS_VERBOSITY=info` for more details.\n"
     ]
    },
    {
     "name": "stdout",
     "output_type": "stream",
     "text": [
      "Processed 10/50 samples...\n"
     ]
    },
    {
     "name": "stderr",
     "output_type": "stream",
     "text": [
      "The following generation flags are not valid and may be ignored: ['temperature', 'top_p', 'top_k']. Set `TRANSFORMERS_VERBOSITY=info` for more details.\n"
     ]
    },
    {
     "name": "stderr",
     "output_type": "stream",
     "text": [
      "The following generation flags are not valid and may be ignored: ['temperature', 'top_p', 'top_k']. Set `TRANSFORMERS_VERBOSITY=info` for more details.\n"
     ]
    },
    {
     "name": "stderr",
     "output_type": "stream",
     "text": [
      "The following generation flags are not valid and may be ignored: ['temperature', 'top_p', 'top_k']. Set `TRANSFORMERS_VERBOSITY=info` for more details.\n"
     ]
    },
    {
     "name": "stderr",
     "output_type": "stream",
     "text": [
      "The following generation flags are not valid and may be ignored: ['temperature', 'top_p', 'top_k']. Set `TRANSFORMERS_VERBOSITY=info` for more details.\n"
     ]
    },
    {
     "name": "stderr",
     "output_type": "stream",
     "text": [
      "The following generation flags are not valid and may be ignored: ['temperature', 'top_p', 'top_k']. Set `TRANSFORMERS_VERBOSITY=info` for more details.\n"
     ]
    },
    {
     "name": "stderr",
     "output_type": "stream",
     "text": [
      "The following generation flags are not valid and may be ignored: ['temperature', 'top_p', 'top_k']. Set `TRANSFORMERS_VERBOSITY=info` for more details.\n"
     ]
    },
    {
     "name": "stderr",
     "output_type": "stream",
     "text": [
      "The following generation flags are not valid and may be ignored: ['temperature', 'top_p', 'top_k']. Set `TRANSFORMERS_VERBOSITY=info` for more details.\n"
     ]
    },
    {
     "name": "stderr",
     "output_type": "stream",
     "text": [
      "The following generation flags are not valid and may be ignored: ['temperature', 'top_p', 'top_k']. Set `TRANSFORMERS_VERBOSITY=info` for more details.\n"
     ]
    },
    {
     "name": "stderr",
     "output_type": "stream",
     "text": [
      "The following generation flags are not valid and may be ignored: ['temperature', 'top_p', 'top_k']. Set `TRANSFORMERS_VERBOSITY=info` for more details.\n"
     ]
    },
    {
     "name": "stderr",
     "output_type": "stream",
     "text": [
      "The following generation flags are not valid and may be ignored: ['temperature', 'top_p', 'top_k']. Set `TRANSFORMERS_VERBOSITY=info` for more details.\n"
     ]
    },
    {
     "name": "stdout",
     "output_type": "stream",
     "text": [
      "Processed 20/50 samples...\n"
     ]
    },
    {
     "name": "stderr",
     "output_type": "stream",
     "text": [
      "The following generation flags are not valid and may be ignored: ['temperature', 'top_p', 'top_k']. Set `TRANSFORMERS_VERBOSITY=info` for more details.\n"
     ]
    },
    {
     "name": "stderr",
     "output_type": "stream",
     "text": [
      "The following generation flags are not valid and may be ignored: ['temperature', 'top_p', 'top_k']. Set `TRANSFORMERS_VERBOSITY=info` for more details.\n"
     ]
    },
    {
     "name": "stderr",
     "output_type": "stream",
     "text": [
      "The following generation flags are not valid and may be ignored: ['temperature', 'top_p', 'top_k']. Set `TRANSFORMERS_VERBOSITY=info` for more details.\n"
     ]
    },
    {
     "name": "stderr",
     "output_type": "stream",
     "text": [
      "The following generation flags are not valid and may be ignored: ['temperature', 'top_p', 'top_k']. Set `TRANSFORMERS_VERBOSITY=info` for more details.\n"
     ]
    },
    {
     "name": "stderr",
     "output_type": "stream",
     "text": [
      "The following generation flags are not valid and may be ignored: ['temperature', 'top_p', 'top_k']. Set `TRANSFORMERS_VERBOSITY=info` for more details.\n"
     ]
    },
    {
     "name": "stderr",
     "output_type": "stream",
     "text": [
      "The following generation flags are not valid and may be ignored: ['temperature', 'top_p', 'top_k']. Set `TRANSFORMERS_VERBOSITY=info` for more details.\n"
     ]
    },
    {
     "name": "stderr",
     "output_type": "stream",
     "text": [
      "The following generation flags are not valid and may be ignored: ['temperature', 'top_p', 'top_k']. Set `TRANSFORMERS_VERBOSITY=info` for more details.\n"
     ]
    },
    {
     "name": "stderr",
     "output_type": "stream",
     "text": [
      "The following generation flags are not valid and may be ignored: ['temperature', 'top_p', 'top_k']. Set `TRANSFORMERS_VERBOSITY=info` for more details.\n"
     ]
    },
    {
     "name": "stderr",
     "output_type": "stream",
     "text": [
      "The following generation flags are not valid and may be ignored: ['temperature', 'top_p', 'top_k']. Set `TRANSFORMERS_VERBOSITY=info` for more details.\n"
     ]
    },
    {
     "name": "stderr",
     "output_type": "stream",
     "text": [
      "The following generation flags are not valid and may be ignored: ['temperature', 'top_p', 'top_k']. Set `TRANSFORMERS_VERBOSITY=info` for more details.\n"
     ]
    },
    {
     "name": "stdout",
     "output_type": "stream",
     "text": [
      "Processed 30/50 samples...\n"
     ]
    },
    {
     "name": "stderr",
     "output_type": "stream",
     "text": [
      "The following generation flags are not valid and may be ignored: ['temperature', 'top_p', 'top_k']. Set `TRANSFORMERS_VERBOSITY=info` for more details.\n"
     ]
    },
    {
     "name": "stderr",
     "output_type": "stream",
     "text": [
      "The following generation flags are not valid and may be ignored: ['temperature', 'top_p', 'top_k']. Set `TRANSFORMERS_VERBOSITY=info` for more details.\n"
     ]
    },
    {
     "name": "stderr",
     "output_type": "stream",
     "text": [
      "The following generation flags are not valid and may be ignored: ['temperature', 'top_p', 'top_k']. Set `TRANSFORMERS_VERBOSITY=info` for more details.\n"
     ]
    },
    {
     "name": "stderr",
     "output_type": "stream",
     "text": [
      "The following generation flags are not valid and may be ignored: ['temperature', 'top_p', 'top_k']. Set `TRANSFORMERS_VERBOSITY=info` for more details.\n"
     ]
    },
    {
     "name": "stderr",
     "output_type": "stream",
     "text": [
      "The following generation flags are not valid and may be ignored: ['temperature', 'top_p', 'top_k']. Set `TRANSFORMERS_VERBOSITY=info` for more details.\n"
     ]
    },
    {
     "name": "stderr",
     "output_type": "stream",
     "text": [
      "The following generation flags are not valid and may be ignored: ['temperature', 'top_p', 'top_k']. Set `TRANSFORMERS_VERBOSITY=info` for more details.\n"
     ]
    },
    {
     "name": "stderr",
     "output_type": "stream",
     "text": [
      "The following generation flags are not valid and may be ignored: ['temperature', 'top_p', 'top_k']. Set `TRANSFORMERS_VERBOSITY=info` for more details.\n"
     ]
    },
    {
     "name": "stderr",
     "output_type": "stream",
     "text": [
      "The following generation flags are not valid and may be ignored: ['temperature', 'top_p', 'top_k']. Set `TRANSFORMERS_VERBOSITY=info` for more details.\n"
     ]
    },
    {
     "name": "stderr",
     "output_type": "stream",
     "text": [
      "The following generation flags are not valid and may be ignored: ['temperature', 'top_p', 'top_k']. Set `TRANSFORMERS_VERBOSITY=info` for more details.\n"
     ]
    },
    {
     "name": "stderr",
     "output_type": "stream",
     "text": [
      "The following generation flags are not valid and may be ignored: ['temperature', 'top_p', 'top_k']. Set `TRANSFORMERS_VERBOSITY=info` for more details.\n"
     ]
    },
    {
     "name": "stdout",
     "output_type": "stream",
     "text": [
      "Processed 40/50 samples...\n"
     ]
    },
    {
     "name": "stderr",
     "output_type": "stream",
     "text": [
      "The following generation flags are not valid and may be ignored: ['temperature', 'top_p', 'top_k']. Set `TRANSFORMERS_VERBOSITY=info` for more details.\n"
     ]
    },
    {
     "name": "stderr",
     "output_type": "stream",
     "text": [
      "The following generation flags are not valid and may be ignored: ['temperature', 'top_p', 'top_k']. Set `TRANSFORMERS_VERBOSITY=info` for more details.\n"
     ]
    },
    {
     "name": "stderr",
     "output_type": "stream",
     "text": [
      "The following generation flags are not valid and may be ignored: ['temperature', 'top_p', 'top_k']. Set `TRANSFORMERS_VERBOSITY=info` for more details.\n"
     ]
    },
    {
     "name": "stderr",
     "output_type": "stream",
     "text": [
      "The following generation flags are not valid and may be ignored: ['temperature', 'top_p', 'top_k']. Set `TRANSFORMERS_VERBOSITY=info` for more details.\n"
     ]
    },
    {
     "name": "stderr",
     "output_type": "stream",
     "text": [
      "The following generation flags are not valid and may be ignored: ['temperature', 'top_p', 'top_k']. Set `TRANSFORMERS_VERBOSITY=info` for more details.\n"
     ]
    },
    {
     "name": "stderr",
     "output_type": "stream",
     "text": [
      "The following generation flags are not valid and may be ignored: ['temperature', 'top_p', 'top_k']. Set `TRANSFORMERS_VERBOSITY=info` for more details.\n"
     ]
    },
    {
     "name": "stderr",
     "output_type": "stream",
     "text": [
      "The following generation flags are not valid and may be ignored: ['temperature', 'top_p', 'top_k']. Set `TRANSFORMERS_VERBOSITY=info` for more details.\n"
     ]
    },
    {
     "name": "stderr",
     "output_type": "stream",
     "text": [
      "The following generation flags are not valid and may be ignored: ['temperature', 'top_p', 'top_k']. Set `TRANSFORMERS_VERBOSITY=info` for more details.\n"
     ]
    },
    {
     "name": "stderr",
     "output_type": "stream",
     "text": [
      "The following generation flags are not valid and may be ignored: ['temperature', 'top_p', 'top_k']. Set `TRANSFORMERS_VERBOSITY=info` for more details.\n"
     ]
    },
    {
     "name": "stdout",
     "output_type": "stream",
     "text": [
      "Processed 50/50 samples...\n",
      "\n",
      "Base model evaluation completed! Analyzed 50 valid samples\n"
     ]
    }
   ],
   "source": [
    "# Evaluate base model\n",
    "def format_input_for_base_model(example):\n",
    "    \"\"\"Format input for base Qwen model with bitcoin prediction task\"\"\"\n",
    "    instruction = example.get('instruction', '')\n",
    "    user_input = example.get('input', '')\n",
    "    \n",
    "    bitcoin_instruction = \"\"\"You are a Bitcoin investment advisor. Based on the provided market data and news, predict the next 10 days of Bitcoin prices. Provide your predictions as comma-separated numbers.\"\"\"\n",
    "    \n",
    "    messages = [\n",
    "        {'role': 'system', 'content': bitcoin_instruction},\n",
    "        {'role': 'user', 'content': f\"{instruction}\\n\\n{user_input}\\n\\nPlease provide 10 Bitcoin price predictions for the next 10 days, separated by commas.\"}\n",
    "    ]\n",
    "    return base_qwen_tokenizer.apply_chat_template(messages, tokenize=False, add_generation_prompt=True)\n",
    "\n",
    "# Run evaluation on base model\n",
    "base_results = []\n",
    "base_text_quality_results = []\n",
    "comparison_samples = min(50, len(results))  # Use subset for comparison\n",
    "\n",
    "print(f\"Evaluating base Qwen model on {comparison_samples} samples...\")\n",
    "\n",
    "for i in range(comparison_samples):\n",
    "    test_example = test_dataset[i]\n",
    "    test_text = format_input_for_base_model(test_example)\n",
    "    \n",
    "    inputs = base_qwen_tokenizer(test_text, return_tensors='pt', truncation=True, max_length=2048)\n",
    "    inputs = {k: v.to(base_qwen_model.device) for k, v in inputs.items()}\n",
    "    \n",
    "    with torch.no_grad():\n",
    "        outputs = base_qwen_model.generate(\n",
    "            **inputs,\n",
    "            max_new_tokens=256,\n",
    "            do_sample=False,\n",
    "            pad_token_id=base_qwen_tokenizer.eos_token_id\n",
    "        )\n",
    "    \n",
    "    generated_text = base_qwen_tokenizer.decode(outputs[0][inputs['input_ids'].shape[1]:], skip_special_tokens=True)\n",
    "    \n",
    "    predicted_prices = extract_prices_from_text(generated_text)\n",
    "    actual_output = test_example.get('output', '')\n",
    "    actual_prices = extract_prices_from_text(actual_output)\n",
    "    \n",
    "    # Analyze text quality for base model\n",
    "    text_quality = analyze_text_quality(generated_text, actual_output)\n",
    "    base_text_quality_results.append(text_quality)\n",
    "    \n",
    "    if predicted_prices and actual_prices:\n",
    "        min_len = min(len(predicted_prices), len(actual_prices))\n",
    "        if min_len > 0:\n",
    "            pred_truncated = predicted_prices[:min_len]\n",
    "            actual_truncated = actual_prices[:min_len]\n",
    "            \n",
    "            metrics = calculate_metrics(pred_truncated, actual_truncated)\n",
    "            if metrics:\n",
    "                base_results.append({\n",
    "                    'sample_id': i,\n",
    "                    'predicted': pred_truncated,\n",
    "                    'actual': actual_truncated,\n",
    "                    'metrics': metrics,\n",
    "                    'text_quality': text_quality,\n",
    "                    'generated_text': generated_text,\n",
    "                    'expected_text': actual_output\n",
    "                })\n",
    "    \n",
    "    if (i + 1) % 10 == 0:\n",
    "        print(f\"Processed {i + 1}/{comparison_samples} samples...\")\n",
    "\n",
    "print(f\"\\nBase model evaluation completed! Analyzed {len(base_results)} valid samples\")"
   ]
  },
  {
   "cell_type": "markdown",
   "id": "19f431b7",
   "metadata": {
    "papermill": {
     "duration": 0.012363,
     "end_time": "2025-09-12T00:04:26.228998",
     "exception": false,
     "start_time": "2025-09-12T00:04:26.216635",
     "status": "completed"
    },
    "tags": []
   },
   "source": [
    "## Comprehensive Model Comparison"
   ]
  },
  {
   "cell_type": "code",
   "execution_count": 9,
   "id": "768b9509",
   "metadata": {
    "execution": {
     "iopub.execute_input": "2025-09-12T00:04:26.256238Z",
     "iopub.status.busy": "2025-09-12T00:04:26.255096Z",
     "iopub.status.idle": "2025-09-12T00:04:26.301134Z",
     "shell.execute_reply": "2025-09-12T00:04:26.300413Z"
    },
    "papermill": {
     "duration": 0.06133,
     "end_time": "2025-09-12T00:04:26.302632",
     "exception": false,
     "start_time": "2025-09-12T00:04:26.241302",
     "status": "completed"
    },
    "tags": []
   },
   "outputs": [
    {
     "name": "stdout",
     "output_type": "stream",
     "text": [
      "\n",
      "🔬 STATISTICAL SIGNIFICANCE TESTS:\n",
      "MSE difference p-value: 0.0057 (Significant)\n",
      "MAE difference p-value: 0.0065 (Significant)\n",
      "Jaccard similarity p-value: 0.0000 (Significant)\n",
      "\n",
      "💾 Comprehensive analysis results saved to 'individual_news_model_comprehensive_analysis.json'\n",
      "\n",
      "📋 RESEARCH PAPER SUMMARY - INDIVIDUAL NEWS MODEL:\n",
      "======================================================================\n",
      "Individual News Model Performance:\n",
      "• MSE improved by 19.70%\n",
      "• MAE improved by 41.05%\n",
      "• Text similarity improved by 10.37%\n",
      "• Mean Jaccard Similarity: 0.076\n",
      "• Financial term coverage: 0.56\n",
      "• Model: tahamajs/my-awesome-model_final_bitcoin-individual-news-dataset\n",
      "• Checkpoint: 200 (4 epochs with longer parameters)\n"
     ]
    }
   ],
   "source": [
    "if base_results and results:\n",
    "    # Extract metrics from results for proper comparison\n",
    "    # Individual News Model metrics\n",
    "    ind_mse = [r['metrics']['MSE'] for r in results]\n",
    "    ind_mae = [r['metrics']['MAE'] for r in results] \n",
    "    ind_rmse = [r['metrics']['RMSE'] for r in results]\n",
    "    ind_mape = [r['metrics']['MAPE'] for r in results]\n",
    "    ind_jaccard = [r['text_quality']['jaccard_similarity'] for r in results]\n",
    "    ind_length_ratio = [r['text_quality']['length_ratio'] for r in results]\n",
    "    ind_financial_coverage = [r['text_quality']['financial_term_coverage'] for r in results]\n",
    "    \n",
    "    # Base Model metrics\n",
    "    base_mse = [r['metrics']['MSE'] for r in base_results]\n",
    "    base_mae = [r['metrics']['MAE'] for r in base_results]\n",
    "    base_rmse = [r['metrics']['RMSE'] for r in base_results]\n",
    "    base_mape = [r['metrics']['MAPE'] for r in base_results]\n",
    "    base_jaccard = [r['text_quality']['jaccard_similarity'] for r in base_results]\n",
    "    base_length_ratio = [r['text_quality']['length_ratio'] for r in base_results]\n",
    "    base_financial_coverage = [r['text_quality']['financial_term_coverage'] for r in base_results]\n",
    "    \n",
    "    # Statistical significance testing\n",
    "    from scipy.stats import wilcoxon\n",
    "    \n",
    "    # Test for significant differences (using matched samples)\n",
    "    min_samples = min(len(results), len(base_results))\n",
    "    if min_samples >= 5:  # Minimum for statistical testing\n",
    "        mse_stat, mse_pvalue = wilcoxon(ind_mse[:min_samples], base_mse[:min_samples])\n",
    "        mae_stat, mae_pvalue = wilcoxon(ind_mae[:min_samples], base_mae[:min_samples])\n",
    "        jaccard_stat, jaccard_pvalue = wilcoxon(ind_jaccard[:min_samples], base_jaccard[:min_samples])\n",
    "        \n",
    "        print(f\"\\n🔬 STATISTICAL SIGNIFICANCE TESTS:\")\n",
    "        print(f\"MSE difference p-value: {mse_pvalue:.4f} ({'Significant' if mse_pvalue < 0.05 else 'Not significant'})\")\n",
    "        print(f\"MAE difference p-value: {mae_pvalue:.4f} ({'Significant' if mae_pvalue < 0.05 else 'Not significant'})\")\n",
    "        print(f\"Jaccard similarity p-value: {jaccard_pvalue:.4f} ({'Significant' if jaccard_pvalue < 0.05 else 'Not significant'})\")\n",
    "    \n",
    "    # Save comprehensive results\n",
    "    individual_news_comprehensive_results = {\n",
    "        'individual_news_model_results': {\n",
    "            'model_id': 'tahamajs/my-awesome-model_final_bitcoin-individual-news-dataset',\n",
    "            'adapter_path': './qwen_bitcoin_chat_fast_more_longer/checkpoint-200',\n",
    "            'dataset': 'bitcoin-investment-advisory-dataset',\n",
    "            'training_config': 'longer_training_4_epochs_checkpoint_200',\n",
    "            'samples_analyzed': len(results),\n",
    "            'numerical_metrics': {\n",
    "                'mean_mse': float(np.mean(ind_mse)),\n",
    "                'mean_mae': float(np.mean(ind_mae)),\n",
    "                'mean_rmse': float(np.mean(ind_rmse)),\n",
    "                'mean_mape': float(np.mean(ind_mape))\n",
    "            },\n",
    "            'text_quality_metrics': {\n",
    "                'mean_jaccard_similarity': float(np.mean(ind_jaccard)),\n",
    "                'mean_length_ratio': float(np.mean(ind_length_ratio)),\n",
    "                'mean_financial_coverage': float(np.mean(ind_financial_coverage))\n",
    "            }\n",
    "        },\n",
    "        'base_model_results': {\n",
    "            'model_id': 'Qwen/Qwen2.5-8B-Instruct',\n",
    "            'samples_analyzed': len(base_results),\n",
    "            'numerical_metrics': {\n",
    "                'mean_mse': float(np.mean(base_mse)),\n",
    "                'mean_mae': float(np.mean(base_mae)),\n",
    "                'mean_rmse': float(np.mean(base_rmse)),\n",
    "                'mean_mape': float(np.mean(base_mape))\n",
    "            },\n",
    "            'text_quality_metrics': {\n",
    "                'mean_jaccard_similarity': float(np.mean(base_jaccard)),\n",
    "                'mean_length_ratio': float(np.mean(base_length_ratio)),\n",
    "                'mean_financial_coverage': float(np.mean(base_financial_coverage))\n",
    "            }\n",
    "        },\n",
    "        'detailed_individual_results': results,\n",
    "        'detailed_base_results': base_results\n",
    "    }\n",
    "    \n",
    "    with open('individual_news_model_comprehensive_analysis.json', 'w') as f:\n",
    "        json.dump(individual_news_comprehensive_results, f, indent=2)\n",
    "    \n",
    "    print(f\"\\n💾 Comprehensive analysis results saved to 'individual_news_model_comprehensive_analysis.json'\")\n",
    "    \n",
    "    # Research paper summary\n",
    "    print(f\"\\n📋 RESEARCH PAPER SUMMARY - INDIVIDUAL NEWS MODEL:\")\n",
    "    print(\"=\" * 70)\n",
    "    mse_improvement = (np.mean(base_mse) - np.mean(ind_mse)) / np.mean(base_mse) * 100\n",
    "    mae_improvement = (np.mean(base_mae) - np.mean(ind_mae)) / np.mean(base_mae) * 100\n",
    "    jaccard_improvement = (np.mean(ind_jaccard) - np.mean(base_jaccard)) / np.mean(base_jaccard) * 100\n",
    "    \n",
    "    print(f\"Individual News Model Performance:\")\n",
    "    print(f\"• MSE improved by {mse_improvement:.2f}%\")\n",
    "    print(f\"• MAE improved by {mae_improvement:.2f}%\")\n",
    "    print(f\"• Text similarity improved by {jaccard_improvement:.2f}%\")\n",
    "    print(f\"• Mean Jaccard Similarity: {np.mean(ind_jaccard):.3f}\")\n",
    "    print(f\"• Financial term coverage: {np.mean(ind_financial_coverage):.2f}\")\n",
    "    print(f\"• Model: tahamajs/my-awesome-model_final_bitcoin-individual-news-dataset\")\n",
    "    print(f\"• Checkpoint: 200 (4 epochs with longer parameters)\")\n",
    "\n",
    "else:\n",
    "    print(\"❌ No valid results found for model comparison\")"
   ]
  },
  {
   "cell_type": "markdown",
   "id": "72851737",
   "metadata": {
    "papermill": {
     "duration": 0.012651,
     "end_time": "2025-09-12T00:04:26.328022",
     "exception": false,
     "start_time": "2025-09-12T00:04:26.315371",
     "status": "completed"
    },
    "tags": []
   },
   "source": [
    "## Visualization of Results"
   ]
  },
  {
   "cell_type": "code",
   "execution_count": 10,
   "id": "0cdabd6e",
   "metadata": {
    "execution": {
     "iopub.execute_input": "2025-09-12T00:04:26.356435Z",
     "iopub.status.busy": "2025-09-12T00:04:26.355324Z",
     "iopub.status.idle": "2025-09-12T00:04:28.778694Z",
     "shell.execute_reply": "2025-09-12T00:04:28.777840Z"
    },
    "papermill": {
     "duration": 2.443139,
     "end_time": "2025-09-12T00:04:28.783937",
     "exception": false,
     "start_time": "2025-09-12T00:04:26.340798",
     "status": "completed"
    },
    "tags": []
   },
   "outputs": [
    {
     "name": "stderr",
     "output_type": "stream",
     "text": [
      "/tmp/ipykernel_744669/4036803547.py:7: MatplotlibDeprecationWarning: The 'labels' parameter of boxplot() has been renamed 'tick_labels' since Matplotlib 3.9; support for the old name will be dropped in 3.11.\n",
      "  axes[0,0].boxplot([base_mse, ind_mse], labels=['Base Qwen', 'Individual News'])\n",
      "/tmp/ipykernel_744669/4036803547.py:13: MatplotlibDeprecationWarning: The 'labels' parameter of boxplot() has been renamed 'tick_labels' since Matplotlib 3.9; support for the old name will be dropped in 3.11.\n",
      "  axes[0,1].boxplot([base_mae, ind_mae], labels=['Base Qwen', 'Individual News'])\n",
      "/tmp/ipykernel_744669/4036803547.py:19: MatplotlibDeprecationWarning: The 'labels' parameter of boxplot() has been renamed 'tick_labels' since Matplotlib 3.9; support for the old name will be dropped in 3.11.\n",
      "  axes[0,2].boxplot([base_mape, ind_mape], labels=['Base Qwen', 'Individual News'])\n",
      "/tmp/ipykernel_744669/4036803547.py:25: MatplotlibDeprecationWarning: The 'labels' parameter of boxplot() has been renamed 'tick_labels' since Matplotlib 3.9; support for the old name will be dropped in 3.11.\n",
      "  axes[1,0].boxplot([base_jaccard, ind_jaccard], labels=['Base Qwen', 'Individual News'])\n",
      "/tmp/ipykernel_744669/4036803547.py:31: MatplotlibDeprecationWarning: The 'labels' parameter of boxplot() has been renamed 'tick_labels' since Matplotlib 3.9; support for the old name will be dropped in 3.11.\n",
      "  axes[1,1].boxplot([base_length_ratio, ind_length_ratio], labels=['Base Qwen', 'Individual News'])\n"
     ]
    },
    {
     "data": {
      "image/png": "[encoded data removed]",
      "text/plain": [
       "<Figure size 1800x1200 with 6 Axes>"
      ]
     },
     "metadata": {},
     "output_type": "display_data"
    },
    {
     "name": "stdout",
     "output_type": "stream",
     "text": [
      "📊 Comprehensive analysis visualization saved as 'individual_news_model_comprehensive_analysis.png'\n"
     ]
    }
   ],
   "source": [
    "if base_results and results:\n",
    "    # Create comprehensive visualization\n",
    "    fig, axes = plt.subplots(2, 3, figsize=(18, 12))\n",
    "    fig.suptitle('Individual News Model vs Base Qwen - Comprehensive Analysis', fontsize=16, fontweight='bold')\n",
    "    \n",
    "    # MSE comparison\n",
    "    axes[0,0].boxplot([base_mse, ind_mse], labels=['Base Qwen', 'Individual News'])\n",
    "    axes[0,0].set_title('Mean Squared Error', fontweight='bold')\n",
    "    axes[0,0].set_ylabel('MSE')\n",
    "    axes[0,0].grid(True, alpha=0.3)\n",
    "    \n",
    "    # MAE comparison\n",
    "    axes[0,1].boxplot([base_mae, ind_mae], labels=['Base Qwen', 'Individual News'])\n",
    "    axes[0,1].set_title('Mean Absolute Error', fontweight='bold')\n",
    "    axes[0,1].set_ylabel('MAE')\n",
    "    axes[0,1].grid(True, alpha=0.3)\n",
    "    \n",
    "    # MAPE comparison\n",
    "    axes[0,2].boxplot([base_mape, ind_mape], labels=['Base Qwen', 'Individual News'])\n",
    "    axes[0,2].set_title('Mean Absolute Percentage Error', fontweight='bold')\n",
    "    axes[0,2].set_ylabel('MAPE (%)')\n",
    "    axes[0,2].grid(True, alpha=0.3)\n",
    "    \n",
    "    # Jaccard similarity comparison\n",
    "    axes[1,0].boxplot([base_jaccard, ind_jaccard], labels=['Base Qwen', 'Individual News'])\n",
    "    axes[1,0].set_title('Text Similarity (Jaccard)', fontweight='bold')\n",
    "    axes[1,0].set_ylabel('Jaccard Similarity')\n",
    "    axes[1,0].grid(True, alpha=0.3)\n",
    "    \n",
    "    # Length ratio comparison\n",
    "    axes[1,1].boxplot([base_length_ratio, ind_length_ratio], labels=['Base Qwen', 'Individual News'])\n",
    "    axes[1,1].set_title('Response Length Ratio', fontweight='bold')\n",
    "    axes[1,1].set_ylabel('Length Ratio')\n",
    "    axes[1,1].grid(True, alpha=0.3)\n",
    "    \n",
    "    # Improvement bar chart\n",
    "    metrics = ['MSE', 'MAE', 'MAPE', 'Text Sim', 'Length', 'Fin Terms']\n",
    "    improvements = [\n",
    "        (np.mean(base_mse) - np.mean(ind_mse)) / np.mean(base_mse) * 100,\n",
    "        (np.mean(base_mae) - np.mean(ind_mae)) / np.mean(base_mae) * 100,\n",
    "        (np.mean(base_mape) - np.mean(ind_mape)) / np.mean(base_mape) * 100,\n",
    "        (np.mean(ind_jaccard) - np.mean(base_jaccard)) / np.mean(base_jaccard) * 100,\n",
    "        (np.mean(ind_length_ratio) - np.mean(base_length_ratio)) / np.mean(base_length_ratio) * 100,\n",
    "        (np.mean(ind_financial_coverage) - np.mean(base_financial_coverage)) / np.mean(base_financial_coverage) * 100\n",
    "    ]\n",
    "    \n",
    "    colors = ['green' if imp > 0 else 'red' for imp in improvements]\n",
    "    bars = axes[1,2].bar(metrics, improvements, color=colors, alpha=0.7)\n",
    "    \n",
    "    # Add value labels on bars\n",
    "    for bar, imp in zip(bars, improvements):\n",
    "        height = bar.get_height()\n",
    "        axes[1,2].text(bar.get_x() + bar.get_width()/2., height,\n",
    "                       f'{imp:.1f}%', ha='center', va='bottom' if height > 0 else 'top',\n",
    "                       fontweight='bold', fontsize=8)\n",
    "    \n",
    "    axes[1,2].set_title('Performance Improvements', fontweight='bold')\n",
    "    axes[1,2].set_ylabel('Improvement (%)')\n",
    "    axes[1,2].axhline(y=0, color='black', linestyle='-', alpha=0.3)\n",
    "    axes[1,2].grid(True, alpha=0.3)\n",
    "    axes[1,2].tick_params(axis='x', rotation=45)\n",
    "    \n",
    "    plt.tight_layout()\n",
    "    plt.savefig('individual_news_model_comprehensive_analysis.png', dpi=300, bbox_inches='tight')\n",
    "    plt.show()\n",
    "    \n",
    "    print(\"📊 Comprehensive analysis visualization saved as 'individual_news_model_comprehensive_analysis.png'\")\n",
    "\n",
    "else:\n",
    "    print(\"❌ Cannot create visualizations - insufficient data\")"
   ]
  }
 ],
 "metadata": {
  "language_info": {
   "codemirror_mode": {
    "name": "ipython",
    "version": 3
   },
   "file_extension": ".py",
   "mimetype": "text/x-python",
   "name": "python",
   "nbconvert_exporter": "python",
   "pygments_lexer": "ipython3",
   "version": "3.10.12"
  },
  "papermill": {
   "default_parameters": {},
   "duration": 2491.275402,
   "end_time": "2025-09-12T00:04:30.934892",
   "environment_variables": {},
   "exception": null,
   "input_path": "bitcoin_individual_news_model_evaluation.ipynb",
   "output_path": "out_bitcoin_individual_news_model_evaluation.ipynb",
   "parameters": {},
   "start_time": "2025-09-11T23:22:59.659490",
   "version": "2.6.0"
  },
  "widgets": {
   "application/vnd.jupyter.widget-state+json": {
    "state": {
     "31610c1c4fc64ea9b84f82b902fdac21": {
      "model_module": "@jupyter-widgets/controls",
      "model_module_version": "2.0.0",
      "model_name": "HTMLModel",
      "state": {
       "_dom_classes": [],
       "_model_module": "@jupyter-widgets/controls",
       "_model_module_version": "2.0.0",
       "_model_name": "HTMLModel",
       "_view_count": null,
       "_view_module": "@jupyter-widgets/controls",
       "_view_module_version": "2.0.0",
       "_view_name": "HTMLView",
       "description": "",
       "description_allow_html": false,
       "layout": "IPY_MODEL_5e3520d5df434372beb4ab2460450e98",
       "placeholder": "​",
       "style": "IPY_MODEL_a475f483a4fb49a88689234ac85a8dc3",
       "tabbable": null,
       "tooltip": null,
       "value": "Loading checkpoint shards: 100%"
      }
     },
     "5b0496c67a1d48d5853a4b6843bfc0d3": {
      "model_module": "@jupyter-widgets/controls",
      "model_module_version": "2.0.0",
      "model_name": "FloatProgressModel",
      "state": {
       "_dom_classes": [],
       "_model_module": "@jupyter-widgets/controls",
       "_model_module_version": "2.0.0",
       "_model_name": "FloatProgressModel",
       "_view_count": null,
       "_view_module": "@jupyter-widgets/controls",
       "_view_module_version": "2.0.0",
       "_view_name": "ProgressView",
       "bar_style": "success",
       "description": "",
       "description_allow_html": false,
       "layout": "IPY_MODEL_c12c6c192e57404880ed169e356b67f6",
       "max": 5.0,
       "min": 0.0,
       "orientation": "horizontal",
       "style": "IPY_MODEL_f31cd95cd5934620a3e90e6ed43e6251",
       "tabbable": null,
       "tooltip": null,
       "value": 5.0
      }
     },
     "5e3520d5df434372beb4ab2460450e98": {
      "model_module": "@jupyter-widgets/base",
      "model_module_version": "2.0.0",
      "model_name": "LayoutModel",
      "state": {
       "_model_module": "@jupyter-widgets/base",
       "_model_module_version": "2.0.0",
       "_model_name": "LayoutModel",
       "_view_count": null,
       "_view_module": "@jupyter-widgets/base",
       "_view_module_version": "2.0.0",
       "_view_name": "LayoutView",
       "align_content": null,
       "align_items": null,
       "align_self": null,
       "border_bottom": null,
       "border_left": null,
       "border_right": null,
       "border_top": null,
       "bottom": null,
       "display": null,
       "flex": null,
       "flex_flow": null,
       "grid_area": null,
       "grid_auto_columns": null,
       "grid_auto_flow": null,
       "grid_auto_rows": null,
       "grid_column": null,
       "grid_gap": null,
       "grid_row": null,
       "grid_template_areas": null,
       "grid_template_columns": null,
       "grid_template_rows": null,
       "height": null,
       "justify_content": null,
       "justify_items": null,
       "left": null,
       "margin": null,
       "max_height": null,
       "max_width": null,
       "min_height": null,
       "min_width": null,
       "object_fit": null,
       "object_position": null,
       "order": null,
       "overflow": null,
       "padding": null,
       "right": null,
       "top": null,
       "visibility": null,
       "width": null
      }
     },
     "7080c9f5ab274465a1856a4b4162f0b7": {
      "model_module": "@jupyter-widgets/controls",
      "model_module_version": "2.0.0",
      "model_name": "HTMLStyleModel",
      "state": {
       "_model_module": "@jupyter-widgets/controls",
       "_model_module_version": "2.0.0",
       "_model_name": "HTMLStyleModel",
       "_view_count": null,
       "_view_module": "@jupyter-widgets/base",
       "_view_module_version": "2.0.0",
       "_view_name": "StyleView",
       "background": null,
       "description_width": "",
       "font_size": null,
       "text_color": null
      }
     },
     "72dd93fd909d45e68b0aec411b8a23cb": {
      "model_module": "@jupyter-widgets/controls",
      "model_module_version": "2.0.0",
      "model_name": "HBoxModel",
      "state": {
       "_dom_classes": [],
       "_model_module": "@jupyter-widgets/controls",
       "_model_module_version": "2.0.0",
       "_model_name": "HBoxModel",
       "_view_count": null,
       "_view_module": "@jupyter-widgets/controls",
       "_view_module_version": "2.0.0",
       "_view_name": "HBoxView",
       "box_style": "",
       "children": [
        "IPY_MODEL_31610c1c4fc64ea9b84f82b902fdac21",
        "IPY_MODEL_5b0496c67a1d48d5853a4b6843bfc0d3",
        "IPY_MODEL_e927bd23a91f48d5b3fce26c825cd2a2"
       ],
       "layout": "IPY_MODEL_a8a008f4364a4d3ebb574fcf50cba0d3",
       "tabbable": null,
       "tooltip": null
      }
     },
     "a475f483a4fb49a88689234ac85a8dc3": {
      "model_module": "@jupyter-widgets/controls",
      "model_module_version": "2.0.0",
      "model_name": "HTMLStyleModel",
      "state": {
       "_model_module": "@jupyter-widgets/controls",
       "_model_module_version": "2.0.0",
       "_model_name": "HTMLStyleModel",
       "_view_count": null,
       "_view_module": "@jupyter-widgets/base",
       "_view_module_version": "2.0.0",
       "_view_name": "StyleView",
       "background": null,
       "description_width": "",
       "font_size": null,
       "text_color": null
      }
     },
     "a8a008f4364a4d3ebb574fcf50cba0d3": {
      "model_module": "@jupyter-widgets/base",
      "model_module_version": "2.0.0",
      "model_name": "LayoutModel",
      "state": {
       "_model_module": "@jupyter-widgets/base",
       "_model_module_version": "2.0.0",
       "_model_name": "LayoutModel",
       "_view_count": null,
       "_view_module": "@jupyter-widgets/base",
       "_view_module_version": "2.0.0",
       "_view_name": "LayoutView",
       "align_content": null,
       "align_items": null,
       "align_self": null,
       "border_bottom": null,
       "border_left": null,
       "border_right": null,
       "border_top": null,
       "bottom": null,
       "display": null,
       "flex": null,
       "flex_flow": null,
       "grid_area": null,
       "grid_auto_columns": null,
       "grid_auto_flow": null,
       "grid_auto_rows": null,
       "grid_column": null,
       "grid_gap": null,
       "grid_row": null,
       "grid_template_areas": null,
       "grid_template_columns": null,
       "grid_template_rows": null,
       "height": null,
       "justify_content": null,
       "justify_items": null,
       "left": null,
       "margin": null,
       "max_height": null,
       "max_width": null,
       "min_height": null,
       "min_width": null,
       "object_fit": null,
       "object_position": null,
       "order": null,
       "overflow": null,
       "padding": null,
       "right": null,
       "top": null,
       "visibility": null,
       "width": null
      }
     },
     "c12c6c192e57404880ed169e356b67f6": {
      "model_module": "@jupyter-widgets/base",
      "model_module_version": "2.0.0",
      "model_name": "LayoutModel",
      "state": {
       "_model_module": "@jupyter-widgets/base",
       "_model_module_version": "2.0.0",
       "_model_name": "LayoutModel",
       "_view_count": null,
       "_view_module": "@jupyter-widgets/base",
       "_view_module_version": "2.0.0",
       "_view_name": "LayoutView",
       "align_content": null,
       "align_items": null,
       "align_self": null,
       "border_bottom": null,
       "border_left": null,
       "border_right": null,
       "border_top": null,
       "bottom": null,
       "display": null,
       "flex": null,
       "flex_flow": null,
       "grid_area": null,
       "grid_auto_columns": null,
       "grid_auto_flow": null,
       "grid_auto_rows": null,
       "grid_column": null,
       "grid_gap": null,
       "grid_row": null,
       "grid_template_areas": null,
       "grid_template_columns": null,
       "grid_template_rows": null,
       "height": null,
       "justify_content": null,
       "justify_items": null,
       "left": null,
       "margin": null,
       "max_height": null,
       "max_width": null,
       "min_height": null,
       "min_width": null,
       "object_fit": null,
       "object_position": null,
       "order": null,
       "overflow": null,
       "padding": null,
       "right": null,
       "top": null,
       "visibility": null,
       "width": null
      }
     },
     "e927bd23a91f48d5b3fce26c825cd2a2": {
      "model_module": "@jupyter-widgets/controls",
      "model_module_version": "2.0.0",
      "model_name": "HTMLModel",
      "state": {
       "_dom_classes": [],
       "_model_module": "@jupyter-widgets/controls",
       "_model_module_version": "2.0.0",
       "_model_name": "HTMLModel",
       "_view_count": null,
       "_view_module": "@jupyter-widgets/controls",
       "_view_module_version": "2.0.0",
       "_view_name": "HTMLView",
       "description": "",
       "description_allow_html": false,
       "layout": "IPY_MODEL_f5ffb1a64b22404ebdfea38d371b2ae9",
       "placeholder": "​",
       "style": "IPY_MODEL_7080c9f5ab274465a1856a4b4162f0b7",
       "tabbable": null,
       "tooltip": null,
       "value": " 5/5 [00:05&lt;00:00,  1.10it/s]"
      }
     },
     "f31cd95cd5934620a3e90e6ed43e6251": {
      "model_module": "@jupyter-widgets/controls",
      "model_module_version": "2.0.0",
      "model_name": "ProgressStyleModel",
      "state": {
       "_model_module": "@jupyter-widgets/controls",
       "_model_module_version": "2.0.0",
       "_model_name": "ProgressStyleModel",
       "_view_count": null,
       "_view_module": "@jupyter-widgets/base",
       "_view_module_version": "2.0.0",
       "_view_name": "StyleView",
       "bar_color": null,
       "description_width": ""
      }
     },
     "f5ffb1a64b22404ebdfea38d371b2ae9": {
      "model_module": "@jupyter-widgets/base",
      "model_module_version": "2.0.0",
      "model_name": "LayoutModel",
      "state": {
       "_model_module": "@jupyter-widgets/base",
       "_model_module_version": "2.0.0",
       "_model_name": "LayoutModel",
       "_view_count": null,
       "_view_module": "@jupyter-widgets/base",
       "_view_module_version": "2.0.0",
       "_view_name": "LayoutView",
       "align_content": null,
       "align_items": null,
       "align_self": null,
       "border_bottom": null,
       "border_left": null,
       "border_right": null,
       "border_top": null,
       "bottom": null,
       "display": null,
       "flex": null,
       "flex_flow": null,
       "grid_area": null,
       "grid_auto_columns": null,
       "grid_auto_flow": null,
       "grid_auto_rows": null,
       "grid_column": null,
       "grid_gap": null,
       "grid_row": null,
       "grid_template_areas": null,
       "grid_template_columns": null,
       "grid_template_rows": null,
       "height": null,
       "justify_content": null,
       "justify_items": null,
       "left": null,
       "margin": null,
       "max_height": null,
       "max_width": null,
       "min_height": null,
       "min_width": null,
       "object_fit": null,
       "object_position": null,
       "order": null,
       "overflow": null,
       "padding": null,
       "right": null,
       "top": null,
       "visibility": null,
       "width": null
      }
     }
    },
    "version_major": 2,
    "version_minor": 0
   }
  }
 },
 "nbformat": 4,
 "nbformat_minor": 5
}