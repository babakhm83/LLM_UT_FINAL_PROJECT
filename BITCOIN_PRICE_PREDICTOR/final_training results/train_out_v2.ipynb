{
 "cells": [
  {
   "cell_type": "markdown",
   "id": "f669cb8b",
   "metadata": {
    "id": "feg_ZhJUFVmw",
    "papermill": {
     "duration": 0.011543,
     "end_time": "2025-09-08T04:43:32.731551",
     "exception": false,
     "start_time": "2025-09-08T04:43:32.720008",
     "status": "completed"
    },
    "tags": []
   },
   "source": [
    "## install libraries"
   ]
  },
  {
   "cell_type": "code",
   "execution_count": 1,
   "id": "345a1d9c",
   "metadata": {
    "colab": {
     "base_uri": "https://localhost:8080/"
    },
    "execution": {
     "iopub.execute_input": "2025-09-08T04:43:32.747486Z",
     "iopub.status.busy": "2025-09-08T04:43:32.747062Z",
     "iopub.status.idle": "2025-09-08T04:43:32.752064Z",
     "shell.execute_reply": "2025-09-08T04:43:32.751235Z"
    },
    "id": "uYp0UXsJ-Cbn",
    "outputId": "ba4067ba-1769-419b-fa63-756970544beb",
    "papermill": {
     "duration": 0.016279,
     "end_time": "2025-09-08T04:43:32.755620",
     "exception": false,
     "start_time": "2025-09-08T04:43:32.739341",
     "status": "completed"
    },
    "tags": []
   },
   "outputs": [],
   "source": [
    "# !pip install -U unsloth\n"
   ]
  },
  {
   "cell_type": "markdown",
   "id": "d2ba1117",
   "metadata": {
    "id": "cyhKi1m7FAVQ",
    "papermill": {
     "duration": 0.00372,
     "end_time": "2025-09-08T04:43:32.763174",
     "exception": false,
     "start_time": "2025-09-08T04:43:32.759454",
     "status": "completed"
    },
    "tags": []
   },
   "source": [
    "## Imports"
   ]
  },
  {
   "cell_type": "code",
   "execution_count": 2,
   "id": "f2676370",
   "metadata": {
    "colab": {
     "base_uri": "https://localhost:8080/"
    },
    "execution": {
     "iopub.execute_input": "2025-09-08T04:43:32.788035Z",
     "iopub.status.busy": "2025-09-08T04:43:32.787662Z",
     "iopub.status.idle": "2025-09-08T04:45:05.255188Z",
     "shell.execute_reply": "2025-09-08T04:45:05.254268Z"
    },
    "id": "YmQRlrGJE_r-",
    "outputId": "116136aa-f2c5-4bf9-b479-c3f76dc64b88",
    "papermill": {
     "duration": 92.490319,
     "end_time": "2025-09-08T04:45:05.257046",
     "exception": false,
     "start_time": "2025-09-08T04:43:32.766727",
     "status": "completed"
    },
    "tags": []
   },
   "outputs": [
    {
     "name": "stderr",
     "output_type": "stream",
     "text": [
      "/home/moein_salimi/users/babak/IdeaGeneration/venv/lib/python3.10/site-packages/tqdm/auto.py:21: TqdmWarning: IProgress not found. Please update jupyter and ipywidgets. See https://ipywidgets.readthedocs.io/en/stable/user_install.html\n",
      "  from .autonotebook import tqdm as notebook_tqdm\n"
     ]
    },
    {
     "name": "stdout",
     "output_type": "stream",
     "text": [
      "🦥 Unsloth: Will patch your computer to enable 2x faster free finetuning.\n"
     ]
    },
    {
     "name": "stdout",
     "output_type": "stream",
     "text": [
      "INFO 09-08 08:14:37 [__init__.py:235] Automatically detected platform cuda.\n"
     ]
    },
    {
     "name": "stderr",
     "output_type": "stream",
     "text": [
      "WARNING[XFORMERS]: xFormers can't load C++/CUDA extensions. xFormers was built for:\n",
      "    PyTorch 2.3.0+cu121 with CUDA 1201 (you have 2.7.1+cu126)\n",
      "    Python  3.10.14 (you have 3.10.12)\n",
      "  Please reinstall xformers (see https://github.com/facebookresearch/xformers#installing-xformers)\n",
      "  Memory-efficient attention, SwiGLU, sparse and more won't be available.\n",
      "  Set XFORMERS_MORE_DETAILS=1 for more details\n"
     ]
    },
    {
     "name": "stdout",
     "output_type": "stream",
     "text": [
      "🦥 Unsloth Zoo will now patch everything to make training faster!\n"
     ]
    }
   ],
   "source": [
    "from unsloth import FastLanguageModel\n",
    "from transformers import Trainer, TrainingArguments\n",
    "from datasets import load_dataset\n",
    "import torch, random, os\n",
    "from typing import Dict, List, Any\n",
    "from transformers.data.data_collator import DefaultDataCollator\n",
    "SEED = 42\n"
   ]
  },
  {
   "cell_type": "markdown",
   "id": "fad174b0",
   "metadata": {
    "id": "VqMFiO91FG0W",
    "papermill": {
     "duration": 0.007149,
     "end_time": "2025-09-08T04:45:05.268717",
     "exception": false,
     "start_time": "2025-09-08T04:45:05.261568",
     "status": "completed"
    },
    "tags": []
   },
   "source": [
    "## Load model and Tokenizer"
   ]
  },
  {
   "cell_type": "code",
   "execution_count": 3,
   "id": "21463e04",
   "metadata": {
    "colab": {
     "base_uri": "https://localhost:8080/"
    },
    "execution": {
     "iopub.execute_input": "2025-09-08T04:45:05.291802Z",
     "iopub.status.busy": "2025-09-08T04:45:05.291435Z",
     "iopub.status.idle": "2025-09-08T04:47:04.401508Z",
     "shell.execute_reply": "2025-09-08T04:47:04.400528Z"
    },
    "id": "pfzz_j0jFKbp",
    "outputId": "02e511b1-17f8-49fb-9ced-6121713c0272",
    "papermill": {
     "duration": 119.130586,
     "end_time": "2025-09-08T04:47:04.403164",
     "exception": false,
     "start_time": "2025-09-08T04:45:05.272578",
     "status": "completed"
    },
    "tags": []
   },
   "outputs": [
    {
     "name": "stdout",
     "output_type": "stream",
     "text": [
      "==((====))==  Unsloth 2025.9.1: Fast Qwen3 patching. Transformers: 4.53.3. vLLM: 0.10.0.\n",
      "   \\\\   /|    NVIDIA GeForce RTX 3090. Num GPUs = 1. Max memory: 23.559 GB. Platform: Linux.\n",
      "O^O/ \\_/ \\    Torch: 2.7.1+cu126. CUDA: 8.6. CUDA Toolkit: 12.6. Triton: 3.3.1\n",
      "\\        /    Bfloat16 = TRUE. FA [Xformers = None. FA2 = False]\n",
      " \"-____-\"     Free license: http://github.com/unslothai/unsloth\n",
      "Unsloth: Fast downloading is enabled - ignore downloading bars which are red colored!\n"
     ]
    },
    {
     "name": "stderr",
     "output_type": "stream",
     "text": [
      "\r",
      "Loading checkpoint shards:   0%|                                               | 0/5 [00:00<?, ?it/s]"
     ]
    },
    {
     "name": "stderr",
     "output_type": "stream",
     "text": [
      "\r",
      "Loading checkpoint shards:  20%|███████▊                               | 1/5 [00:15<01:03, 15.99s/it]"
     ]
    },
    {
     "name": "stderr",
     "output_type": "stream",
     "text": [
      "\r",
      "Loading checkpoint shards:  40%|███████████████▌                       | 2/5 [00:36<00:55, 18.42s/it]"
     ]
    },
    {
     "name": "stderr",
     "output_type": "stream",
     "text": [
      "\r",
      "Loading checkpoint shards:  60%|███████████████████████▍               | 3/5 [00:56<00:38, 19.44s/it]"
     ]
    },
    {
     "name": "stderr",
     "output_type": "stream",
     "text": [
      "\r",
      "Loading checkpoint shards:  80%|███████████████████████████████▏       | 4/5 [01:13<00:18, 18.37s/it]"
     ]
    },
    {
     "name": "stderr",
     "output_type": "stream",
     "text": [
      "\r",
      "Loading checkpoint shards: 100%|███████████████████████████████████████| 5/5 [01:14<00:00, 12.18s/it]"
     ]
    },
    {
     "name": "stderr",
     "output_type": "stream",
     "text": [
      "\r",
      "Loading checkpoint shards: 100%|███████████████████████████████████████| 5/5 [01:14<00:00, 14.94s/it]"
     ]
    },
    {
     "name": "stderr",
     "output_type": "stream",
     "text": [
      "\n"
     ]
    },
    {
     "name": "stderr",
     "output_type": "stream",
     "text": [
      "Unsloth 2025.9.1 patched 36 layers with 36 QKV layers, 36 O layers and 36 MLP layers.\n"
     ]
    }
   ],
   "source": [
    "model, tokenizer = FastLanguageModel.from_pretrained(\n",
    "    \"./Qwen3-8B\",\n",
    "    max_seq_length = 4096,\n",
    "    dtype = torch.float16,\n",
    "    load_in_4bit = True,\n",
    ")\n",
    "\n",
    "FastLanguageModel.for_training(model)\n",
    "model = FastLanguageModel.get_peft_model(\n",
    "    model,\n",
    "    r=32,\n",
    "    target_modules=[\"q_proj\",\"k_proj\",\"v_proj\",\"o_proj\",\"gate_proj\",\"up_proj\",\"down_proj\"],\n",
    "    lora_alpha=32,\n",
    "    lora_dropout=0.0,\n",
    "    use_rslora=True,\n",
    ")\n"
   ]
  },
  {
   "cell_type": "code",
   "execution_count": 4,
   "id": "3a67cbc5",
   "metadata": {
    "execution": {
     "iopub.execute_input": "2025-09-08T04:47:04.414237Z",
     "iopub.status.busy": "2025-09-08T04:47:04.413704Z",
     "iopub.status.idle": "2025-09-08T04:47:04.970456Z",
     "shell.execute_reply": "2025-09-08T04:47:04.969507Z"
    },
    "id": "FCDsSNSf9RFD",
    "papermill": {
     "duration": 0.565448,
     "end_time": "2025-09-08T04:47:04.973454",
     "exception": false,
     "start_time": "2025-09-08T04:47:04.408006",
     "status": "completed"
    },
    "tags": []
   },
   "outputs": [],
   "source": [
    "\n",
    "RESPONSE_TAG = \"<|response|>\"\n",
    "tokenizer.add_special_tokens({\"additional_special_tokens\": [RESPONSE_TAG]})\n",
    "model.resize_token_embeddings(len(tokenizer))\n",
    "response_token_id = tokenizer.convert_tokens_to_ids(RESPONSE_TAG)"
   ]
  },
  {
   "cell_type": "markdown",
   "id": "baf6841d",
   "metadata": {
    "id": "0An-dV9iFcST",
    "papermill": {
     "duration": 0.019376,
     "end_time": "2025-09-08T04:47:04.998413",
     "exception": false,
     "start_time": "2025-09-08T04:47:04.979037",
     "status": "completed"
    },
    "tags": []
   },
   "source": [
    "## Format function"
   ]
  },
  {
   "cell_type": "code",
   "execution_count": 5,
   "id": "94c69f61",
   "metadata": {
    "colab": {
     "base_uri": "https://localhost:8080/"
    },
    "execution": {
     "iopub.execute_input": "2025-09-08T04:47:05.016981Z",
     "iopub.status.busy": "2025-09-08T04:47:05.016569Z",
     "iopub.status.idle": "2025-09-08T04:47:06.930498Z",
     "shell.execute_reply": "2025-09-08T04:47:06.929464Z"
    },
    "id": "zZwrWe0CZFYb",
    "outputId": "5c33adcf-ce6c-40ae-a025-06ecbdf25a51",
    "papermill": {
     "duration": 1.924639,
     "end_time": "2025-09-08T04:47:06.932674",
     "exception": false,
     "start_time": "2025-09-08T04:47:05.008035",
     "status": "completed"
    },
    "tags": []
   },
   "outputs": [
    {
     "name": "stderr",
     "output_type": "stream",
     "text": [
      "The new embeddings will be initialized from a multivariate normal distribution that has old embeddings' mean and covariance. As described in this article: https://nlp.stanford.edu/~johnhew/vocab-expansion.html. To disable this, use `mean_resizing=False`\n"
     ]
    },
    {
     "name": "stderr",
     "output_type": "stream",
     "text": [
      "The new lm_head weights will be initialized from a multivariate normal distribution that has old embeddings' mean and covariance. As described in this article: https://nlp.stanford.edu/~johnhew/vocab-expansion.html. To disable this, use `mean_resizing=False`\n"
     ]
    }
   ],
   "source": [
    "SPECIAL_TOKENS = [\"<|response|>\", \"<|analysis|>\", \"<|forecast|>\"]\n",
    "num_added = tokenizer.add_special_tokens({\"additional_special_tokens\": SPECIAL_TOKENS})\n",
    "if num_added > 0:\n",
    "    model.resize_token_embeddings(len(tokenizer))\n",
    "\n",
    "RESPONSE_TAG = \"<|response|>\"\n",
    "ANALYSIS_TAG = \"<|analysis|>\"\n",
    "FORECAST_TAG = \"<|forecast|>\"\n",
    "\n",
    "response_token_id = tokenizer.convert_tokens_to_ids(RESPONSE_TAG)\n",
    "\n",
    "if tokenizer.pad_token is None:\n",
    "    tokenizer.pad_token = tokenizer.eos_token\n",
    "tokenizer.truncation_side = \"left\"\n",
    "tokenizer.padding_side     = \"right\"\n"
   ]
  },
  {
   "cell_type": "code",
   "execution_count": 6,
   "id": "12eedd84",
   "metadata": {
    "execution": {
     "iopub.execute_input": "2025-09-08T04:47:06.946424Z",
     "iopub.status.busy": "2025-09-08T04:47:06.945264Z",
     "iopub.status.idle": "2025-09-08T04:47:21.338461Z",
     "shell.execute_reply": "2025-09-08T04:47:21.337410Z"
    },
    "id": "2eQUv4yQFgqh",
    "papermill": {
     "duration": 14.401523,
     "end_time": "2025-09-08T04:47:21.340262",
     "exception": false,
     "start_time": "2025-09-08T04:47:06.938739",
     "status": "completed"
    },
    "tags": []
   },
   "outputs": [],
   "source": [
    "import json\n",
    "\n",
    "\n",
    "def normalize_output_to_commas(output: str) -> str:\n",
    "    txt = str(output).strip()\n",
    "    if txt.startswith(\"[\") and txt.endswith(\"]\"):\n",
    "        try:\n",
    "            arr = json.loads(txt)\n",
    "            return \",\".join(str(x).strip() for x in arr)\n",
    "        except Exception:\n",
    "            pass\n",
    "    return \",\".join([t.strip() for t in txt.split(\",\")])\n",
    "\n",
    "def make_brief_analysis(thinking: str, limit_chars: int = 200) -> str:\n",
    "    t = (thinking or \"\").strip()\n",
    "    if not t:\n",
    "        return \"brief outlook based on the provided data\"\n",
    "    return t[:limit_chars].replace(\"\\n\", \" \")\n",
    "\n",
    "def format_chat(ex):\n",
    "    instruction = ex.get(\"instruction\", \"\") or \"\"\n",
    "    user_input  = ex.get(\"input\", \"\") or \"\"\n",
    "    # thinking    = ex.get(\"custom_bitcoin_dataset\", \"\") or \"\"\n",
    "    output      = ex.get(\"output\", \"\") or \"\"\n",
    "\n",
    "    # post_input_directive = (\n",
    "    #     \"Please analyze it first and then give me 10 next day prices separated by comma.\"\n",
    "    # )\n",
    "    # user_block = f\"{user_input}\\n\\n{post_input_directive}\"\n",
    "\n",
    "    # brief_note = make_brief_analysis(thinking, limit_chars=200)\n",
    "    # normalized_output = normalize_output_to_commas(output)\n",
    "\n",
    "    assistant_payload = (\n",
    "        f\"{RESPONSE_TAG}\\n\"\n",
    "        f\"{FORECAST_TAG}\\n{output}\"\n",
    "    )\n",
    "\n",
    "    messages = [\n",
    "        {\"role\": \"system\", \"content\": instruction},\n",
    "        {\"role\": \"user\", \"content\": user_input},\n",
    "        {\"role\": \"assistant\", \"content\": assistant_payload},\n",
    "    ]\n",
    "    return {\"text\": tokenizer.apply_chat_template(messages, tokenize=False)}\n",
    "\n",
    "raw = load_dataset(\"tahamajs/bitcoin-enhanced-prediction-dataset-with-local-comprehensive-news\")\n",
    "train_data = raw[\"train\"].map(format_chat, remove_columns=raw[\"train\"].column_names)\n",
    "\n",
    "def tokenize_fn(ex):\n",
    "    return tokenizer(ex[\"text\"], truncation=True, max_length=4096, padding=False)\n",
    "\n",
    "train_tok = train_data.map(tokenize_fn, batched=True, remove_columns=[\"text\"])\n",
    "train_tok = train_tok.shuffle(seed=SEED)\n",
    "\n"
   ]
  },
  {
   "cell_type": "code",
   "execution_count": 7,
   "id": "12d7dde4",
   "metadata": {
    "colab": {
     "base_uri": "https://localhost:8080/"
    },
    "execution": {
     "iopub.execute_input": "2025-09-08T04:47:21.376880Z",
     "iopub.status.busy": "2025-09-08T04:47:21.376479Z",
     "iopub.status.idle": "2025-09-08T04:47:21.395023Z",
     "shell.execute_reply": "2025-09-08T04:47:21.394198Z"
    },
    "id": "7uQuygLvTiNu",
    "outputId": "be014fbf-2be4-4d0d-f8e2-2e236aabdbe4",
    "papermill": {
     "duration": 0.033474,
     "end_time": "2025-09-08T04:47:21.396317",
     "exception": false,
     "start_time": "2025-09-08T04:47:21.362843",
     "status": "completed"
    },
    "tags": []
   },
   "outputs": [
    {
     "data": {
      "text/plain": [
       "DatasetDict({\n",
       "    train: Dataset({\n",
       "        features: ['instruction', 'input', 'output'],\n",
       "        num_rows: 2303\n",
       "    })\n",
       "})"
      ]
     },
     "execution_count": 7,
     "metadata": {},
     "output_type": "execute_result"
    }
   ],
   "source": [
    "raw"
   ]
  },
  {
   "cell_type": "markdown",
   "id": "630083b2",
   "metadata": {
    "id": "vQrh3ia3FpR2",
    "papermill": {
     "duration": 0.004698,
     "end_time": "2025-09-08T04:47:21.406373",
     "exception": false,
     "start_time": "2025-09-08T04:47:21.401675",
     "status": "completed"
    },
    "tags": []
   },
   "source": [
    "## Data callector"
   ]
  },
  {
   "cell_type": "code",
   "execution_count": 8,
   "id": "6359d0dc",
   "metadata": {
    "execution": {
     "iopub.execute_input": "2025-09-08T04:47:21.417964Z",
     "iopub.status.busy": "2025-09-08T04:47:21.417630Z",
     "iopub.status.idle": "2025-09-08T04:47:21.432216Z",
     "shell.execute_reply": "2025-09-08T04:47:21.431423Z"
    },
    "id": "lOPQgx9lFozp",
    "papermill": {
     "duration": 0.027642,
     "end_time": "2025-09-08T04:47:21.439532",
     "exception": false,
     "start_time": "2025-09-08T04:47:21.411890",
     "status": "completed"
    },
    "tags": []
   },
   "outputs": [],
   "source": [
    "from transformers.tokenization_utils_base import PreTrainedTokenizerBase\n",
    "from torch.nn.utils.rnn import pad_sequence\n",
    "if tokenizer.pad_token is None:\n",
    "    tokenizer.pad_token = tokenizer.eos_token\n",
    "\n",
    "tokenizer.truncation_side = \"left\"\n",
    "tokenizer.padding_side     = \"right\"\n",
    "\n",
    "from transformers.tokenization_utils_base import PreTrainedTokenizerBase\n",
    "from torch.nn.utils.rnn import pad_sequence\n",
    "import torch\n",
    "from typing import Dict, List, Any\n",
    "\n",
    "def _find_subsequence(haystack: torch.Tensor, needle: torch.Tensor) -> int:\n",
    "    if needle.numel() == 0 or haystack.numel() < needle.numel():\n",
    "        return -1\n",
    "    for i in range(haystack.numel() - needle.numel() + 1):\n",
    "        if torch.equal(haystack[i:i+needle.numel()], needle):\n",
    "            return i\n",
    "    return -1\n",
    "\n",
    "class DataCollatorMaskResponse:\n",
    "    def __init__(self, tokenizer: PreTrainedTokenizerBase, response_token_id: int):\n",
    "        self.tokenizer = tokenizer\n",
    "        self.response_token_id = response_token_id\n",
    "\n",
    "        assistant_start_str = tokenizer.apply_chat_template(\n",
    "            [{\"role\":\"assistant\",\"content\":\"\"}],\n",
    "            tokenize=False, add_generation_prompt=True\n",
    "        )\n",
    "\n",
    "        self.assistant_start_ids = torch.tensor(\n",
    "            tokenizer(assistant_start_str, add_special_tokens=False)[\"input_ids\"],\n",
    "            dtype=torch.long\n",
    "        )\n",
    "\n",
    "    def __call__(self, features: List[Dict[str, Any]]) -> Dict[str, torch.Tensor]:\n",
    "        input_ids_list      = [torch.tensor(f[\"input_ids\"], dtype=torch.long) for f in features]\n",
    "        attention_mask_list = [torch.tensor(f[\"attention_mask\"], dtype=torch.long) for f in features]\n",
    "\n",
    "        input_ids = pad_sequence(input_ids_list, batch_first=True,\n",
    "                                 padding_value=self.tokenizer.pad_token_id)\n",
    "        attention_mask = pad_sequence(attention_mask_list, batch_first=True, padding_value=0)\n",
    "\n",
    "        labels = input_ids.clone()\n",
    "\n",
    "        for i in range(labels.size(0)):\n",
    "            row = input_ids[i]\n",
    "\n",
    "            pos = (row == self.response_token_id).nonzero(as_tuple=True)\n",
    "            start_idx = -1\n",
    "            if len(pos[0]) > 0:\n",
    "                start_idx = int(pos[0][0].item())\n",
    "\n",
    "            if start_idx < 0 and self.assistant_start_ids.numel() > 0:\n",
    "                j = _find_subsequence(row, self.assistant_start_ids)\n",
    "                if j >= 0:\n",
    "                    start_idx = j + self.assistant_start_ids.numel() - 1\n",
    "\n",
    "            if start_idx >= 0 and start_idx + 1 < row.numel():\n",
    "                labels[i, : start_idx + 1] = -100\n",
    "            else:\n",
    "                keep = min(64, row.numel())\n",
    "                labels[i, : row.numel() - keep] = -100\n",
    "\n",
    "        return {\n",
    "            \"input_ids\": input_ids,\n",
    "            \"attention_mask\": attention_mask,\n",
    "            \"labels\": labels,\n",
    "        }\n",
    "collator = DataCollatorMaskResponse(tokenizer, response_token_id)\n",
    "\n"
   ]
  },
  {
   "cell_type": "markdown",
   "id": "cbe4dec9",
   "metadata": {
    "id": "o6hDWX14FyJR",
    "papermill": {
     "duration": 0.009516,
     "end_time": "2025-09-08T04:47:21.464756",
     "exception": false,
     "start_time": "2025-09-08T04:47:21.455240",
     "status": "completed"
    },
    "tags": []
   },
   "source": [
    "## Training Argumenst"
   ]
  },
  {
   "cell_type": "code",
   "execution_count": 9,
   "id": "9424dc5b",
   "metadata": {
    "colab": {
     "base_uri": "https://localhost:8080/"
    },
    "execution": {
     "iopub.execute_input": "2025-09-08T04:47:21.475827Z",
     "iopub.status.busy": "2025-09-08T04:47:21.475451Z",
     "iopub.status.idle": "2025-09-08T04:47:21.579343Z",
     "shell.execute_reply": "2025-09-08T04:47:21.578448Z"
    },
    "id": "zUKAWODIFxzS",
    "outputId": "06f01b63-3b4c-447e-a692-d02c94ed0005",
    "papermill": {
     "duration": 0.110992,
     "end_time": "2025-09-08T04:47:21.580614",
     "exception": false,
     "start_time": "2025-09-08T04:47:21.469622",
     "status": "completed"
    },
    "tags": []
   },
   "outputs": [
    {
     "name": "stderr",
     "output_type": "stream",
     "text": [
      "/tmp/ipykernel_3587322/752753410.py:18: FutureWarning: `tokenizer` is deprecated and will be removed in version 5.0.0 for `Trainer.__init__`. Use `processing_class` instead.\n",
      "  trainer = Trainer(\n"
     ]
    }
   ],
   "source": [
    "args = TrainingArguments(\n",
    "    output_dir=\"qwen_bitcoin_chat_fast_v2\",\n",
    "    num_train_epochs=2,\n",
    "    per_device_train_batch_size=8,\n",
    "    gradient_accumulation_steps=1,\n",
    "    learning_rate=2e-5,\n",
    "    logging_steps=2,\n",
    "    save_steps=200,\n",
    "    bf16=False,\n",
    "    fp16=True,\n",
    "    optim=\"adamw_torch\",\n",
    "    lr_scheduler_type=\"cosine\",\n",
    "    warmup_ratio=0.05,\n",
    "    gradient_checkpointing=True,\n",
    "    report_to=\"none\",\n",
    ")\n",
    "\n",
    "trainer = Trainer(\n",
    "    model=model,\n",
    "    args=args,\n",
    "    train_dataset=train_tok,\n",
    "    tokenizer=tokenizer,\n",
    "    data_collator=collator,\n",
    ")"
   ]
  },
  {
   "cell_type": "code",
   "execution_count": 10,
   "id": "53dbad6e",
   "metadata": {
    "colab": {
     "base_uri": "https://localhost:8080/",
     "height": 519
    },
    "execution": {
     "iopub.execute_input": "2025-09-08T04:47:21.613641Z",
     "iopub.status.busy": "2025-09-08T04:47:21.613254Z"
    },
    "id": "iS48fBviDUdH",
    "outputId": "47e47569-c8c2-4d83-9ddd-5f82c1bcb8be",
    "papermill": {
     "duration": null,
     "end_time": null,
     "exception": false,
     "start_time": "2025-09-08T04:47:21.586348",
     "status": "running"
    },
    "tags": []
   },
   "outputs": [
    {
     "name": "stderr",
     "output_type": "stream",
     "text": [
      "==((====))==  Unsloth - 2x faster free finetuning | Num GPUs used = 1\n",
      "   \\\\   /|    Num examples = 2,303 | Num Epochs = 2 | Total steps = 576\n",
      "O^O/ \\_/ \\    Batch size per device = 8 | Gradient accumulation steps = 1\n",
      "\\        /    Data Parallel GPUs = 1 | Total batch size (8 x 1 x 1) = 8\n",
      " \"-____-\"     Trainable parameters = 87,293,952 of 8,275,866,624 (1.05% trained)\n"
     ]
    },
    {
     "data": {
      "text/html": [
       "\n",
       "    <div>\n",
       "      \n",
       "      <progress value='300' max='576' style='width:300px; height:20px; vertical-align: middle;'></progress>\n",
       "      [300/576 2:10:29 < 2:00:51, 0.04 it/s, Epoch 1.04/2]\n",
       "    </div>\n",
       "    <table border=\"1\" class=\"dataframe\">\n",
       "  <thead>\n",
       " <tr style=\"text-align: left;\">\n",
       "      <th>Step</th>\n",
       "      <th>Training Loss</th>\n",
       "    </tr>\n",
       "  </thead>\n",
       "  <tbody>\n",
       "    <tr>\n",
       "      <td>2</td>\n",
       "      <td>21.379600</td>\n",
       "    </tr>\n",
       "    <tr>\n",
       "      <td>4</td>\n",
       "      <td>2.519900</td>\n",
       "    </tr>\n",
       "    <tr>\n",
       "      <td>6</td>\n",
       "      <td>20.921600</td>\n",
       "    </tr>\n",
       "    <tr>\n",
       "      <td>8</td>\n",
       "      <td>16.422500</td>\n",
       "    </tr>\n",
       "    <tr>\n",
       "      <td>10</td>\n",
       "      <td>2.524000</td>\n",
       "    </tr>\n",
       "    <tr>\n",
       "      <td>12</td>\n",
       "      <td>2.485600</td>\n",
       "    </tr>\n",
       "    <tr>\n",
       "      <td>14</td>\n",
       "      <td>2.435200</td>\n",
       "    </tr>\n",
       "    <tr>\n",
       "      <td>16</td>\n",
       "      <td>8.159900</td>\n",
       "    </tr>\n",
       "    <tr>\n",
       "      <td>18</td>\n",
       "      <td>2.359800</td>\n",
       "    </tr>\n",
       "    <tr>\n",
       "      <td>20</td>\n",
       "      <td>2.317800</td>\n",
       "    </tr>\n",
       "    <tr>\n",
       "      <td>22</td>\n",
       "      <td>2.304600</td>\n",
       "    </tr>\n",
       "    <tr>\n",
       "      <td>24</td>\n",
       "      <td>2.909300</td>\n",
       "    </tr>\n",
       "    <tr>\n",
       "      <td>26</td>\n",
       "      <td>2.777400</td>\n",
       "    </tr>\n",
       "    <tr>\n",
       "      <td>28</td>\n",
       "      <td>2.732500</td>\n",
       "    </tr>\n",
       "    <tr>\n",
       "      <td>30</td>\n",
       "      <td>2.622500</td>\n",
       "    </tr>\n",
       "    <tr>\n",
       "      <td>32</td>\n",
       "      <td>2.526900</td>\n",
       "    </tr>\n",
       "    <tr>\n",
       "      <td>34</td>\n",
       "      <td>2.049400</td>\n",
       "    </tr>\n",
       "    <tr>\n",
       "      <td>36</td>\n",
       "      <td>1.992300</td>\n",
       "    </tr>\n",
       "    <tr>\n",
       "      <td>38</td>\n",
       "      <td>2.239600</td>\n",
       "    </tr>\n",
       "    <tr>\n",
       "      <td>40</td>\n",
       "      <td>2.191100</td>\n",
       "    </tr>\n",
       "    <tr>\n",
       "      <td>42</td>\n",
       "      <td>1.834500</td>\n",
       "    </tr>\n",
       "    <tr>\n",
       "      <td>44</td>\n",
       "      <td>2.055800</td>\n",
       "    </tr>\n",
       "    <tr>\n",
       "      <td>46</td>\n",
       "      <td>2.482400</td>\n",
       "    </tr>\n",
       "    <tr>\n",
       "      <td>48</td>\n",
       "      <td>1.704400</td>\n",
       "    </tr>\n",
       "    <tr>\n",
       "      <td>50</td>\n",
       "      <td>1.741400</td>\n",
       "    </tr>\n",
       "    <tr>\n",
       "      <td>52</td>\n",
       "      <td>1.884900</td>\n",
       "    </tr>\n",
       "    <tr>\n",
       "      <td>54</td>\n",
       "      <td>1.657800</td>\n",
       "    </tr>\n",
       "    <tr>\n",
       "      <td>56</td>\n",
       "      <td>1.658100</td>\n",
       "    </tr>\n",
       "    <tr>\n",
       "      <td>58</td>\n",
       "      <td>1.627600</td>\n",
       "    </tr>\n",
       "    <tr>\n",
       "      <td>60</td>\n",
       "      <td>1.962800</td>\n",
       "    </tr>\n",
       "    <tr>\n",
       "      <td>62</td>\n",
       "      <td>1.900700</td>\n",
       "    </tr>\n",
       "    <tr>\n",
       "      <td>64</td>\n",
       "      <td>1.525200</td>\n",
       "    </tr>\n",
       "    <tr>\n",
       "      <td>66</td>\n",
       "      <td>1.679300</td>\n",
       "    </tr>\n",
       "    <tr>\n",
       "      <td>68</td>\n",
       "      <td>1.770900</td>\n",
       "    </tr>\n",
       "    <tr>\n",
       "      <td>70</td>\n",
       "      <td>1.632700</td>\n",
       "    </tr>\n",
       "    <tr>\n",
       "      <td>72</td>\n",
       "      <td>1.610800</td>\n",
       "    </tr>\n",
       "    <tr>\n",
       "      <td>74</td>\n",
       "      <td>1.607600</td>\n",
       "    </tr>\n",
       "    <tr>\n",
       "      <td>76</td>\n",
       "      <td>1.604200</td>\n",
       "    </tr>\n",
       "    <tr>\n",
       "      <td>78</td>\n",
       "      <td>1.571400</td>\n",
       "    </tr>\n",
       "    <tr>\n",
       "      <td>80</td>\n",
       "      <td>1.542800</td>\n",
       "    </tr>\n",
       "    <tr>\n",
       "      <td>82</td>\n",
       "      <td>1.538200</td>\n",
       "    </tr>\n",
       "    <tr>\n",
       "      <td>84</td>\n",
       "      <td>1.533300</td>\n",
       "    </tr>\n",
       "    <tr>\n",
       "      <td>86</td>\n",
       "      <td>1.510100</td>\n",
       "    </tr>\n",
       "    <tr>\n",
       "      <td>88</td>\n",
       "      <td>1.597500</td>\n",
       "    </tr>\n",
       "    <tr>\n",
       "      <td>90</td>\n",
       "      <td>1.577600</td>\n",
       "    </tr>\n",
       "    <tr>\n",
       "      <td>92</td>\n",
       "      <td>1.558600</td>\n",
       "    </tr>\n",
       "    <tr>\n",
       "      <td>94</td>\n",
       "      <td>1.464000</td>\n",
       "    </tr>\n",
       "    <tr>\n",
       "      <td>96</td>\n",
       "      <td>1.472800</td>\n",
       "    </tr>\n",
       "    <tr>\n",
       "      <td>98</td>\n",
       "      <td>1.463300</td>\n",
       "    </tr>\n",
       "    <tr>\n",
       "      <td>100</td>\n",
       "      <td>1.343300</td>\n",
       "    </tr>\n",
       "    <tr>\n",
       "      <td>102</td>\n",
       "      <td>1.377500</td>\n",
       "    </tr>\n",
       "    <tr>\n",
       "      <td>104</td>\n",
       "      <td>1.675700</td>\n",
       "    </tr>\n",
       "    <tr>\n",
       "      <td>106</td>\n",
       "      <td>1.322200</td>\n",
       "    </tr>\n",
       "    <tr>\n",
       "      <td>108</td>\n",
       "      <td>1.340100</td>\n",
       "    </tr>\n",
       "    <tr>\n",
       "      <td>110</td>\n",
       "      <td>1.381600</td>\n",
       "    </tr>\n",
       "    <tr>\n",
       "      <td>112</td>\n",
       "      <td>1.317900</td>\n",
       "    </tr>\n",
       "    <tr>\n",
       "      <td>114</td>\n",
       "      <td>1.376000</td>\n",
       "    </tr>\n",
       "    <tr>\n",
       "      <td>116</td>\n",
       "      <td>1.317700</td>\n",
       "    </tr>\n",
       "    <tr>\n",
       "      <td>118</td>\n",
       "      <td>1.277000</td>\n",
       "    </tr>\n",
       "    <tr>\n",
       "      <td>120</td>\n",
       "      <td>1.407500</td>\n",
       "    </tr>\n",
       "    <tr>\n",
       "      <td>122</td>\n",
       "      <td>1.293200</td>\n",
       "    </tr>\n",
       "    <tr>\n",
       "      <td>124</td>\n",
       "      <td>1.280900</td>\n",
       "    </tr>\n",
       "    <tr>\n",
       "      <td>126</td>\n",
       "      <td>1.292800</td>\n",
       "    </tr>\n",
       "    <tr>\n",
       "      <td>128</td>\n",
       "      <td>1.282000</td>\n",
       "    </tr>\n",
       "    <tr>\n",
       "      <td>130</td>\n",
       "      <td>1.319200</td>\n",
       "    </tr>\n",
       "    <tr>\n",
       "      <td>132</td>\n",
       "      <td>1.288100</td>\n",
       "    </tr>\n",
       "    <tr>\n",
       "      <td>134</td>\n",
       "      <td>1.260800</td>\n",
       "    </tr>\n",
       "    <tr>\n",
       "      <td>136</td>\n",
       "      <td>1.265700</td>\n",
       "    </tr>\n",
       "    <tr>\n",
       "      <td>138</td>\n",
       "      <td>1.274300</td>\n",
       "    </tr>\n",
       "    <tr>\n",
       "      <td>140</td>\n",
       "      <td>1.306800</td>\n",
       "    </tr>\n",
       "    <tr>\n",
       "      <td>142</td>\n",
       "      <td>1.347400</td>\n",
       "    </tr>\n",
       "    <tr>\n",
       "      <td>144</td>\n",
       "      <td>1.304000</td>\n",
       "    </tr>\n",
       "    <tr>\n",
       "      <td>146</td>\n",
       "      <td>1.253800</td>\n",
       "    </tr>\n",
       "    <tr>\n",
       "      <td>148</td>\n",
       "      <td>1.268200</td>\n",
       "    </tr>\n",
       "    <tr>\n",
       "      <td>150</td>\n",
       "      <td>1.234800</td>\n",
       "    </tr>\n",
       "    <tr>\n",
       "      <td>152</td>\n",
       "      <td>1.246900</td>\n",
       "    </tr>\n",
       "    <tr>\n",
       "      <td>154</td>\n",
       "      <td>1.256500</td>\n",
       "    </tr>\n",
       "    <tr>\n",
       "      <td>156</td>\n",
       "      <td>1.281700</td>\n",
       "    </tr>\n",
       "    <tr>\n",
       "      <td>158</td>\n",
       "      <td>1.230400</td>\n",
       "    </tr>\n",
       "    <tr>\n",
       "      <td>160</td>\n",
       "      <td>1.227900</td>\n",
       "    </tr>\n",
       "    <tr>\n",
       "      <td>162</td>\n",
       "      <td>1.269000</td>\n",
       "    </tr>\n",
       "    <tr>\n",
       "      <td>164</td>\n",
       "      <td>1.362100</td>\n",
       "    </tr>\n",
       "    <tr>\n",
       "      <td>166</td>\n",
       "      <td>1.279000</td>\n",
       "    </tr>\n",
       "    <tr>\n",
       "      <td>168</td>\n",
       "      <td>1.368900</td>\n",
       "    </tr>\n",
       "    <tr>\n",
       "      <td>170</td>\n",
       "      <td>1.261300</td>\n",
       "    </tr>\n",
       "    <tr>\n",
       "      <td>172</td>\n",
       "      <td>1.271900</td>\n",
       "    </tr>\n",
       "    <tr>\n",
       "      <td>174</td>\n",
       "      <td>1.227600</td>\n",
       "    </tr>\n",
       "    <tr>\n",
       "      <td>176</td>\n",
       "      <td>1.280700</td>\n",
       "    </tr>\n",
       "    <tr>\n",
       "      <td>178</td>\n",
       "      <td>1.219200</td>\n",
       "    </tr>\n",
       "    <tr>\n",
       "      <td>180</td>\n",
       "      <td>1.248600</td>\n",
       "    </tr>\n",
       "    <tr>\n",
       "      <td>182</td>\n",
       "      <td>1.239400</td>\n",
       "    </tr>\n",
       "    <tr>\n",
       "      <td>184</td>\n",
       "      <td>1.241800</td>\n",
       "    </tr>\n",
       "    <tr>\n",
       "      <td>186</td>\n",
       "      <td>1.302100</td>\n",
       "    </tr>\n",
       "    <tr>\n",
       "      <td>188</td>\n",
       "      <td>1.236900</td>\n",
       "    </tr>\n",
       "    <tr>\n",
       "      <td>190</td>\n",
       "      <td>1.233800</td>\n",
       "    </tr>\n",
       "    <tr>\n",
       "      <td>192</td>\n",
       "      <td>1.241100</td>\n",
       "    </tr>\n",
       "    <tr>\n",
       "      <td>194</td>\n",
       "      <td>1.213600</td>\n",
       "    </tr>\n",
       "    <tr>\n",
       "      <td>196</td>\n",
       "      <td>1.242700</td>\n",
       "    </tr>\n",
       "    <tr>\n",
       "      <td>198</td>\n",
       "      <td>1.214300</td>\n",
       "    </tr>\n",
       "    <tr>\n",
       "      <td>200</td>\n",
       "      <td>1.218800</td>\n",
       "    </tr>\n",
       "    <tr>\n",
       "      <td>202</td>\n",
       "      <td>1.198800</td>\n",
       "    </tr>\n",
       "    <tr>\n",
       "      <td>204</td>\n",
       "      <td>1.201100</td>\n",
       "    </tr>\n",
       "    <tr>\n",
       "      <td>206</td>\n",
       "      <td>1.215300</td>\n",
       "    </tr>\n",
       "    <tr>\n",
       "      <td>208</td>\n",
       "      <td>1.216400</td>\n",
       "    </tr>\n",
       "    <tr>\n",
       "      <td>210</td>\n",
       "      <td>1.199300</td>\n",
       "    </tr>\n",
       "    <tr>\n",
       "      <td>212</td>\n",
       "      <td>1.239700</td>\n",
       "    </tr>\n",
       "    <tr>\n",
       "      <td>214</td>\n",
       "      <td>1.197800</td>\n",
       "    </tr>\n",
       "    <tr>\n",
       "      <td>216</td>\n",
       "      <td>1.221400</td>\n",
       "    </tr>\n",
       "    <tr>\n",
       "      <td>218</td>\n",
       "      <td>1.221800</td>\n",
       "    </tr>\n",
       "    <tr>\n",
       "      <td>220</td>\n",
       "      <td>1.195600</td>\n",
       "    </tr>\n",
       "    <tr>\n",
       "      <td>222</td>\n",
       "      <td>1.210900</td>\n",
       "    </tr>\n",
       "    <tr>\n",
       "      <td>224</td>\n",
       "      <td>1.227100</td>\n",
       "    </tr>\n",
       "    <tr>\n",
       "      <td>226</td>\n",
       "      <td>1.208100</td>\n",
       "    </tr>\n",
       "    <tr>\n",
       "      <td>228</td>\n",
       "      <td>1.215700</td>\n",
       "    </tr>\n",
       "    <tr>\n",
       "      <td>230</td>\n",
       "      <td>1.199400</td>\n",
       "    </tr>\n",
       "    <tr>\n",
       "      <td>232</td>\n",
       "      <td>1.197600</td>\n",
       "    </tr>\n",
       "    <tr>\n",
       "      <td>234</td>\n",
       "      <td>1.227400</td>\n",
       "    </tr>\n",
       "    <tr>\n",
       "      <td>236</td>\n",
       "      <td>1.213200</td>\n",
       "    </tr>\n",
       "    <tr>\n",
       "      <td>238</td>\n",
       "      <td>1.212600</td>\n",
       "    </tr>\n",
       "    <tr>\n",
       "      <td>240</td>\n",
       "      <td>1.221700</td>\n",
       "    </tr>\n",
       "    <tr>\n",
       "      <td>242</td>\n",
       "      <td>1.238600</td>\n",
       "    </tr>\n",
       "    <tr>\n",
       "      <td>244</td>\n",
       "      <td>1.222900</td>\n",
       "    </tr>\n",
       "    <tr>\n",
       "      <td>246</td>\n",
       "      <td>1.202700</td>\n",
       "    </tr>\n",
       "    <tr>\n",
       "      <td>248</td>\n",
       "      <td>1.199100</td>\n",
       "    </tr>\n",
       "    <tr>\n",
       "      <td>250</td>\n",
       "      <td>1.228500</td>\n",
       "    </tr>\n",
       "    <tr>\n",
       "      <td>252</td>\n",
       "      <td>1.206700</td>\n",
       "    </tr>\n",
       "    <tr>\n",
       "      <td>254</td>\n",
       "      <td>1.200600</td>\n",
       "    </tr>\n",
       "    <tr>\n",
       "      <td>256</td>\n",
       "      <td>1.199600</td>\n",
       "    </tr>\n",
       "    <tr>\n",
       "      <td>258</td>\n",
       "      <td>1.190400</td>\n",
       "    </tr>\n",
       "    <tr>\n",
       "      <td>260</td>\n",
       "      <td>1.215500</td>\n",
       "    </tr>\n",
       "    <tr>\n",
       "      <td>262</td>\n",
       "      <td>1.217400</td>\n",
       "    </tr>\n",
       "    <tr>\n",
       "      <td>264</td>\n",
       "      <td>1.211700</td>\n",
       "    </tr>\n",
       "    <tr>\n",
       "      <td>266</td>\n",
       "      <td>1.202800</td>\n",
       "    </tr>\n",
       "    <tr>\n",
       "      <td>268</td>\n",
       "      <td>1.212200</td>\n",
       "    </tr>\n",
       "    <tr>\n",
       "      <td>270</td>\n",
       "      <td>1.216300</td>\n",
       "    </tr>\n",
       "    <tr>\n",
       "      <td>272</td>\n",
       "      <td>1.217400</td>\n",
       "    </tr>\n",
       "    <tr>\n",
       "      <td>274</td>\n",
       "      <td>1.198800</td>\n",
       "    </tr>\n",
       "    <tr>\n",
       "      <td>276</td>\n",
       "      <td>1.190600</td>\n",
       "    </tr>\n",
       "    <tr>\n",
       "      <td>278</td>\n",
       "      <td>1.218700</td>\n",
       "    </tr>\n",
       "    <tr>\n",
       "      <td>280</td>\n",
       "      <td>1.190900</td>\n",
       "    </tr>\n",
       "    <tr>\n",
       "      <td>282</td>\n",
       "      <td>1.226500</td>\n",
       "    </tr>\n",
       "    <tr>\n",
       "      <td>284</td>\n",
       "      <td>1.174200</td>\n",
       "    </tr>\n",
       "    <tr>\n",
       "      <td>286</td>\n",
       "      <td>1.202900</td>\n",
       "    </tr>\n",
       "    <tr>\n",
       "      <td>288</td>\n",
       "      <td>1.193800</td>\n",
       "    </tr>\n",
       "    <tr>\n",
       "      <td>290</td>\n",
       "      <td>1.211700</td>\n",
       "    </tr>\n",
       "    <tr>\n",
       "      <td>292</td>\n",
       "      <td>1.175800</td>\n",
       "    </tr>\n",
       "    <tr>\n",
       "      <td>294</td>\n",
       "      <td>1.204700</td>\n",
       "    </tr>\n",
       "    <tr>\n",
       "      <td>296</td>\n",
       "      <td>1.199600</td>\n",
       "    </tr>\n",
       "    <tr>\n",
       "      <td>298</td>\n",
       "      <td>1.194700</td>\n",
       "    </tr>\n",
       "  </tbody>\n",
       "</table><p>"
      ],
      "text/plain": [
       "<IPython.core.display.HTML object>"
      ]
     },
     "metadata": {},
     "output_type": "display_data"
    },
    {
     "name": "stdout",
     "output_type": "stream",
     "text": [
      "Unsloth: Will smartly offload gradients to save VRAM!\n"
     ]
    },
    {
     "name": "stderr",
     "output_type": "stream",
     "text": [
      "/home/moein_salimi/users/babak/IdeaGeneration/venv/lib/python3.10/site-packages/peft/utils/save_and_load.py:252: UserWarning: Setting `save_embedding_layers` to `True` as the embedding layer has been resized during finetuning.\n",
      "  warnings.warn(\n"
     ]
    }
   ],
   "source": [
    "trainer.train()\n",
    "\n",
    "\n"
   ]
  },
  {
   "cell_type": "code",
   "execution_count": null,
   "id": "d2b9b50c",
   "metadata": {
    "id": "Ze8hbP2rO7-V",
    "papermill": {
     "duration": null,
     "end_time": null,
     "exception": null,
     "start_time": null,
     "status": "pending"
    },
    "tags": []
   },
   "outputs": [],
   "source": [
    "print(\"=== Sample formatted texts ===\")\n",
    "for i in range(2):\n",
    "    print(train_data[i][\"text\"])\n",
    "    print(\"=\"*80)\n",
    "\n",
    "sample_batch = [train_tok[i] for i in range(2)]\n",
    "batch = collator(sample_batch)\n",
    "\n",
    "print(\"\\n=== Tokenized input_ids ===\")\n",
    "print(batch[\"input_ids\"][0][:4000])\n",
    "print(\"\\nDecoded back:\\n\", tokenizer.decode(batch[\"input_ids\"][0][:80]))\n",
    "\n",
    "print(\"\\n=== Labels ===\")\n",
    "print(batch[\"labels\"][0][:4000])\n",
    "\n",
    "masked_decoded = [\n",
    "    tok if lab != -100 else \"[MASK]\"\n",
    "    for tok, lab in zip(batch[\"input_ids\"][0][:4000].tolist(), batch[\"labels\"][0][:4000].tolist())\n",
    "]\n",
    "print(\"\\nMasked Decoded (first 80 tokens):\")\n",
    "print(masked_decoded)\n"
   ]
  },
  {
   "cell_type": "markdown",
   "id": "aad07b71",
   "metadata": {
    "id": "mYel8ekOGkWH",
    "papermill": {
     "duration": null,
     "end_time": null,
     "exception": null,
     "start_time": null,
     "status": "pending"
    },
    "tags": []
   },
   "source": [
    "## Save model"
   ]
  },
  {
   "cell_type": "code",
   "execution_count": null,
   "id": "839a8b64",
   "metadata": {
    "id": "iZ3MIU2XGjt8",
    "papermill": {
     "duration": null,
     "end_time": null,
     "exception": null,
     "start_time": null,
     "status": "pending"
    },
    "tags": []
   },
   "outputs": [],
   "source": [
    "trainer.model.save_pretrained(\"qwen_bitcoin_chat_fast/lora_adapter\")\n",
    "tokenizer.save_pretrained(\"qwen_bitcoin_chat_fast\")\n"
   ]
  },
  {
   "cell_type": "code",
   "execution_count": null,
   "id": "19362825",
   "metadata": {
    "id": "OvIx9bB3-A_D",
    "papermill": {
     "duration": null,
     "end_time": null,
     "exception": null,
     "start_time": null,
     "status": "pending"
    },
    "tags": []
   },
   "outputs": [],
   "source": []
  }
 ],
 "metadata": {
  "accelerator": "GPU",
  "colab": {
   "gpuType": "T4",
   "provenance": []
  },
  "kernelspec": {
   "display_name": "Python 3",
   "name": "python3"
  },
  "language_info": {
   "name": "python"
  },
  "papermill": {
   "default_parameters": {},
   "duration": null,
   "end_time": null,
   "environment_variables": {},
   "exception": null,
   "input_path": "train.ipynb",
   "output_path": "train_out_v2.ipynb",
   "parameters": {},
   "start_time": "2025-09-08T04:43:28.304469",
   "version": "2.6.0"
  }
 },
 "nbformat": 4,
 "nbformat_minor": 5
}