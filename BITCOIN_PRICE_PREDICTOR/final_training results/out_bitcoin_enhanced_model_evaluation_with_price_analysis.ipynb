{
 "cells": [
  {
   "cell_type": "markdown",
   "id": "38b16dfa",
   "metadata": {
    "papermill": {
     "duration": 0.00909,
     "end_time": "2025-09-11T23:59:47.886729",
     "exception": false,
     "start_time": "2025-09-11T23:59:47.877639",
     "status": "completed"
    },
    "tags": []
   },
   "source": [
    "# Bitcoin Enhanced Model Evaluation with Price Difference Analysis\n",
    "This notebook evaluates the enhanced Bitcoin prediction model trained on the comprehensive news dataset and analyzes price differences between predictions and actual values."
   ]
  },
  {
   "cell_type": "markdown",
   "id": "d575611c",
   "metadata": {
    "papermill": {
     "duration": 0.00366,
     "end_time": "2025-09-11T23:59:47.894555",
     "exception": false,
     "start_time": "2025-09-11T23:59:47.890895",
     "status": "completed"
    },
    "tags": []
   },
   "source": [
    "## Install Required Libraries"
   ]
  },
  {
   "cell_type": "code",
   "execution_count": 1,
   "id": "8184646e",
   "metadata": {
    "execution": {
     "iopub.execute_input": "2025-09-11T23:59:47.904060Z",
     "iopub.status.busy": "2025-09-11T23:59:47.903279Z",
     "iopub.status.idle": "2025-09-11T23:59:50.412000Z",
     "shell.execute_reply": "2025-09-11T23:59:50.410401Z"
    },
    "papermill": {
     "duration": 2.516819,
     "end_time": "2025-09-11T23:59:50.415035",
     "exception": false,
     "start_time": "2025-09-11T23:59:47.898216",
     "status": "completed"
    },
    "tags": []
   },
   "outputs": [
    {
     "name": "stdout",
     "output_type": "stream",
     "text": [
      "Defaulting to user installation because normal site-packages is not writeable\r\n"
     ]
    },
    {
     "name": "stdout",
     "output_type": "stream",
     "text": [
      "Requirement already satisfied: transformers in /home/moein_salimi/.local/lib/python3.10/site-packages (4.53.3)\r\n",
      "Requirement already satisfied: datasets in /home/moein_salimi/.local/lib/python3.10/site-packages (3.6.0)\r\n",
      "Requirement already satisfied: torch in /home/moein_salimi/.local/lib/python3.10/site-packages (2.7.1)\r\n",
      "Requirement already satisfied: peft in /home/moein_salimi/.local/lib/python3.10/site-packages (0.16.0)\r\n",
      "Requirement already satisfied: accelerate in /home/moein_salimi/.local/lib/python3.10/site-packages (1.9.0)\r\n",
      "Requirement already satisfied: matplotlib in /home/moein_salimi/.local/lib/python3.10/site-packages (3.10.5)\r\n",
      "Requirement already satisfied: seaborn in /home/moein_salimi/.local/lib/python3.10/site-packages (0.13.2)\r\n",
      "Requirement already satisfied: scipy in /home/moein_salimi/.local/lib/python3.10/site-packages (1.15.3)\r\n",
      "Requirement already satisfied: pandas in /home/moein_salimi/.local/lib/python3.10/site-packages (2.3.1)\r\n",
      "Requirement already satisfied: numpy in /home/moein_salimi/.local/lib/python3.10/site-packages (2.2.6)\r\n"
     ]
    },
    {
     "name": "stdout",
     "output_type": "stream",
     "text": [
      "Requirement already satisfied: filelock in /home/moein_salimi/.local/lib/python3.10/site-packages (from transformers) (3.18.0)\r\n",
      "Requirement already satisfied: huggingface-hub<1.0,>=0.30.0 in /home/moein_salimi/.local/lib/python3.10/site-packages (from transformers) (0.34.4)\r\n",
      "Requirement already satisfied: packaging>=20.0 in /home/moein_salimi/.local/lib/python3.10/site-packages (from transformers) (25.0)\r\n",
      "Requirement already satisfied: pyyaml>=5.1 in /home/moein_salimi/.local/lib/python3.10/site-packages (from transformers) (6.0.2)\r\n",
      "Requirement already satisfied: regex!=2019.12.17 in /home/moein_salimi/.local/lib/python3.10/site-packages (from transformers) (2024.11.6)\r\n",
      "Requirement already satisfied: requests in /home/moein_salimi/.local/lib/python3.10/site-packages (from transformers) (2.32.4)\r\n",
      "Requirement already satisfied: tokenizers<0.22,>=0.21 in /home/moein_salimi/.local/lib/python3.10/site-packages (from transformers) (0.21.2)\r\n",
      "Requirement already satisfied: safetensors>=0.4.3 in /home/moein_salimi/.local/lib/python3.10/site-packages (from transformers) (0.5.3)\r\n",
      "Requirement already satisfied: tqdm>=4.27 in /home/moein_salimi/.local/lib/python3.10/site-packages (from transformers) (4.67.1)\r\n",
      "Requirement already satisfied: fsspec>=2023.5.0 in /home/moein_salimi/.local/lib/python3.10/site-packages (from huggingface-hub<1.0,>=0.30.0->transformers) (2025.3.0)\r\n",
      "Requirement already satisfied: typing-extensions>=3.7.4.3 in /home/moein_salimi/.local/lib/python3.10/site-packages (from huggingface-hub<1.0,>=0.30.0->transformers) (4.14.1)\r\n"
     ]
    },
    {
     "name": "stdout",
     "output_type": "stream",
     "text": [
      "Requirement already satisfied: hf-xet<2.0.0,>=1.1.3 in /home/moein_salimi/.local/lib/python3.10/site-packages (from huggingface-hub<1.0,>=0.30.0->transformers) (1.1.5)\r\n",
      "Requirement already satisfied: pyarrow>=15.0.0 in /home/moein_salimi/.local/lib/python3.10/site-packages (from datasets) (21.0.0)\r\n",
      "Requirement already satisfied: dill<0.3.9,>=0.3.0 in /home/moein_salimi/.local/lib/python3.10/site-packages (from datasets) (0.3.8)\r\n"
     ]
    },
    {
     "name": "stdout",
     "output_type": "stream",
     "text": [
      "Requirement already satisfied: xxhash in /home/moein_salimi/.local/lib/python3.10/site-packages (from datasets) (3.5.0)\r\n",
      "Requirement already satisfied: multiprocess<0.70.17 in /home/moein_salimi/.local/lib/python3.10/site-packages (from datasets) (0.70.16)\r\n",
      "Requirement already satisfied: aiohttp!=4.0.0a0,!=4.0.0a1 in /home/moein_salimi/.local/lib/python3.10/site-packages (from fsspec[http]<=2025.3.0,>=2023.1.0->datasets) (3.12.14)\r\n"
     ]
    },
    {
     "name": "stdout",
     "output_type": "stream",
     "text": [
      "Requirement already satisfied: sympy>=1.13.3 in /home/moein_salimi/.local/lib/python3.10/site-packages (from torch) (1.14.0)\r\n",
      "Requirement already satisfied: networkx in /home/moein_salimi/.local/lib/python3.10/site-packages (from torch) (3.4.2)\r\n",
      "Requirement already satisfied: jinja2 in /home/moein_salimi/.local/lib/python3.10/site-packages (from torch) (3.1.6)\r\n",
      "Requirement already satisfied: nvidia-cuda-nvrtc-cu12==12.6.77 in /home/moein_salimi/.local/lib/python3.10/site-packages (from torch) (12.6.77)\r\n",
      "Requirement already satisfied: nvidia-cuda-runtime-cu12==12.6.77 in /home/moein_salimi/.local/lib/python3.10/site-packages (from torch) (12.6.77)\r\n",
      "Requirement already satisfied: nvidia-cuda-cupti-cu12==12.6.80 in /home/moein_salimi/.local/lib/python3.10/site-packages (from torch) (12.6.80)\r\n",
      "Requirement already satisfied: nvidia-cudnn-cu12==9.5.1.17 in /home/moein_salimi/.local/lib/python3.10/site-packages (from torch) (9.5.1.17)\r\n",
      "Requirement already satisfied: nvidia-cublas-cu12==12.6.4.1 in /home/moein_salimi/.local/lib/python3.10/site-packages (from torch) (12.6.4.1)\r\n",
      "Requirement already satisfied: nvidia-cufft-cu12==11.3.0.4 in /home/moein_salimi/.local/lib/python3.10/site-packages (from torch) (11.3.0.4)\r\n",
      "Requirement already satisfied: nvidia-curand-cu12==10.3.7.77 in /home/moein_salimi/.local/lib/python3.10/site-packages (from torch) (10.3.7.77)\r\n",
      "Requirement already satisfied: nvidia-cusolver-cu12==11.7.1.2 in /home/moein_salimi/.local/lib/python3.10/site-packages (from torch) (11.7.1.2)\r\n",
      "Requirement already satisfied: nvidia-cusparse-cu12==12.5.4.2 in /home/moein_salimi/.local/lib/python3.10/site-packages (from torch) (12.5.4.2)\r\n",
      "Requirement already satisfied: nvidia-cusparselt-cu12==0.6.3 in /home/moein_salimi/.local/lib/python3.10/site-packages (from torch) (0.6.3)\r\n",
      "Requirement already satisfied: nvidia-nccl-cu12==2.26.2 in /home/moein_salimi/.local/lib/python3.10/site-packages (from torch) (2.26.2)\r\n",
      "Requirement already satisfied: nvidia-nvtx-cu12==12.6.77 in /home/moein_salimi/.local/lib/python3.10/site-packages (from torch) (12.6.77)\r\n",
      "Requirement already satisfied: nvidia-nvjitlink-cu12==12.6.85 in /home/moein_salimi/.local/lib/python3.10/site-packages (from torch) (12.6.85)\r\n",
      "Requirement already satisfied: nvidia-cufile-cu12==1.11.1.6 in /home/moein_salimi/.local/lib/python3.10/site-packages (from torch) (1.11.1.6)\r\n",
      "Requirement already satisfied: triton==3.3.1 in /home/moein_salimi/.local/lib/python3.10/site-packages (from torch) (3.3.1)\r\n",
      "Requirement already satisfied: setuptools>=40.8.0 in /usr/lib/python3/dist-packages (from triton==3.3.1->torch) (59.6.0)\r\n",
      "Requirement already satisfied: psutil in /home/moein_salimi/.local/lib/python3.10/site-packages (from peft) (7.0.0)\r\n"
     ]
    },
    {
     "name": "stdout",
     "output_type": "stream",
     "text": [
      "Requirement already satisfied: contourpy>=1.0.1 in /home/moein_salimi/.local/lib/python3.10/site-packages (from matplotlib) (1.3.2)\r\n",
      "Requirement already satisfied: cycler>=0.10 in /home/moein_salimi/.local/lib/python3.10/site-packages (from matplotlib) (0.12.1)\r\n",
      "Requirement already satisfied: fonttools>=4.22.0 in /home/moein_salimi/.local/lib/python3.10/site-packages (from matplotlib) (4.59.0)\r\n",
      "Requirement already satisfied: kiwisolver>=1.3.1 in /home/moein_salimi/.local/lib/python3.10/site-packages (from matplotlib) (1.4.8)\r\n",
      "Requirement already satisfied: pillow>=8 in /home/moein_salimi/.local/lib/python3.10/site-packages (from matplotlib) (11.3.0)\r\n",
      "Requirement already satisfied: pyparsing>=2.3.1 in /home/moein_salimi/.local/lib/python3.10/site-packages (from matplotlib) (3.2.3)\r\n",
      "Requirement already satisfied: python-dateutil>=2.7 in /home/moein_salimi/.local/lib/python3.10/site-packages (from matplotlib) (2.9.0.post0)\r\n"
     ]
    },
    {
     "name": "stdout",
     "output_type": "stream",
     "text": [
      "Requirement already satisfied: pytz>=2020.1 in /home/moein_salimi/.local/lib/python3.10/site-packages (from pandas) (2025.2)\r\n",
      "Requirement already satisfied: tzdata>=2022.7 in /home/moein_salimi/.local/lib/python3.10/site-packages (from pandas) (2025.2)\r\n",
      "Requirement already satisfied: aiohappyeyeballs>=2.5.0 in /home/moein_salimi/.local/lib/python3.10/site-packages (from aiohttp!=4.0.0a0,!=4.0.0a1->fsspec[http]<=2025.3.0,>=2023.1.0->datasets) (2.6.1)\r\n",
      "Requirement already satisfied: aiosignal>=1.4.0 in /home/moein_salimi/.local/lib/python3.10/site-packages (from aiohttp!=4.0.0a0,!=4.0.0a1->fsspec[http]<=2025.3.0,>=2023.1.0->datasets) (1.4.0)\r\n",
      "Requirement already satisfied: async-timeout<6.0,>=4.0 in /home/moein_salimi/.local/lib/python3.10/site-packages (from aiohttp!=4.0.0a0,!=4.0.0a1->fsspec[http]<=2025.3.0,>=2023.1.0->datasets) (5.0.1)\r\n",
      "Requirement already satisfied: attrs>=17.3.0 in /home/moein_salimi/.local/lib/python3.10/site-packages (from aiohttp!=4.0.0a0,!=4.0.0a1->fsspec[http]<=2025.3.0,>=2023.1.0->datasets) (25.3.0)\r\n",
      "Requirement already satisfied: frozenlist>=1.1.1 in /home/moein_salimi/.local/lib/python3.10/site-packages (from aiohttp!=4.0.0a0,!=4.0.0a1->fsspec[http]<=2025.3.0,>=2023.1.0->datasets) (1.7.0)\r\n",
      "Requirement already satisfied: multidict<7.0,>=4.5 in /home/moein_salimi/.local/lib/python3.10/site-packages (from aiohttp!=4.0.0a0,!=4.0.0a1->fsspec[http]<=2025.3.0,>=2023.1.0->datasets) (6.6.3)\r\n",
      "Requirement already satisfied: propcache>=0.2.0 in /home/moein_salimi/.local/lib/python3.10/site-packages (from aiohttp!=4.0.0a0,!=4.0.0a1->fsspec[http]<=2025.3.0,>=2023.1.0->datasets) (0.3.2)\r\n",
      "Requirement already satisfied: yarl<2.0,>=1.17.0 in /home/moein_salimi/.local/lib/python3.10/site-packages (from aiohttp!=4.0.0a0,!=4.0.0a1->fsspec[http]<=2025.3.0,>=2023.1.0->datasets) (1.20.1)\r\n"
     ]
    },
    {
     "name": "stdout",
     "output_type": "stream",
     "text": [
      "Requirement already satisfied: idna>=2.0 in /home/moein_salimi/.local/lib/python3.10/site-packages (from yarl<2.0,>=1.17.0->aiohttp!=4.0.0a0,!=4.0.0a1->fsspec[http]<=2025.3.0,>=2023.1.0->datasets) (3.10)\r\n"
     ]
    },
    {
     "name": "stdout",
     "output_type": "stream",
     "text": [
      "Requirement already satisfied: six>=1.5 in /home/moein_salimi/.local/lib/python3.10/site-packages (from python-dateutil>=2.7->matplotlib) (1.17.0)\r\n",
      "Requirement already satisfied: charset_normalizer<4,>=2 in /home/moein_salimi/.local/lib/python3.10/site-packages (from requests->transformers) (3.4.2)\r\n",
      "Requirement already satisfied: urllib3<3,>=1.21.1 in /home/moein_salimi/.local/lib/python3.10/site-packages (from requests->transformers) (2.5.0)\r\n",
      "Requirement already satisfied: certifi>=2017.4.17 in /home/moein_salimi/.local/lib/python3.10/site-packages (from requests->transformers) (2025.7.14)\r\n",
      "Requirement already satisfied: mpmath<1.4,>=1.1.0 in /home/moein_salimi/.local/lib/python3.10/site-packages (from sympy>=1.13.3->torch) (1.3.0)\r\n"
     ]
    },
    {
     "name": "stdout",
     "output_type": "stream",
     "text": [
      "Requirement already satisfied: MarkupSafe>=2.0 in /home/moein_salimi/.local/lib/python3.10/site-packages (from jinja2->torch) (3.0.2)\r\n"
     ]
    },
    {
     "name": "stdout",
     "output_type": "stream",
     "text": [
      "\r\n",
      "\u001b[1m[\u001b[0m\u001b[34;49mnotice\u001b[0m\u001b[1;39;49m]\u001b[0m\u001b[39;49m A new release of pip is available: \u001b[0m\u001b[31;49m25.1.1\u001b[0m\u001b[39;49m -> \u001b[0m\u001b[32;49m25.2\u001b[0m\r\n",
      "\u001b[1m[\u001b[0m\u001b[34;49mnotice\u001b[0m\u001b[1;39;49m]\u001b[0m\u001b[39;49m To update, run: \u001b[0m\u001b[32;49mpython3 -m pip install --upgrade pip\u001b[0m\r\n"
     ]
    }
   ],
   "source": [
    "!pip install transformers datasets torch peft accelerate matplotlib seaborn scipy pandas numpy"
   ]
  },
  {
   "cell_type": "markdown",
   "id": "d05129c0",
   "metadata": {
    "papermill": {
     "duration": 0.005965,
     "end_time": "2025-09-11T23:59:50.427988",
     "exception": false,
     "start_time": "2025-09-11T23:59:50.422023",
     "status": "completed"
    },
    "tags": []
   },
   "source": [
    "## Load Enhanced Model and Tokenizer"
   ]
  },
  {
   "cell_type": "code",
   "execution_count": 2,
   "id": "65eeec19",
   "metadata": {
    "execution": {
     "iopub.execute_input": "2025-09-11T23:59:50.441819Z",
     "iopub.status.busy": "2025-09-11T23:59:50.441449Z",
     "iopub.status.idle": "2025-09-12T00:00:03.484379Z",
     "shell.execute_reply": "2025-09-12T00:00:03.482976Z"
    },
    "papermill": {
     "duration": 13.053052,
     "end_time": "2025-09-12T00:00:03.487102",
     "exception": false,
     "start_time": "2025-09-11T23:59:50.434050",
     "status": "completed"
    },
    "tags": []
   },
   "outputs": [
    {
     "data": {
      "application/vnd.jupyter.widget-view+json": {
       "model_id": "c86734c54cbc49cf8caef1f2fb5aefec",
       "version_major": 2,
       "version_minor": 0
      },
      "text/plain": [
       "Loading checkpoint shards:   0%|          | 0/5 [00:00<?, ?it/s]"
      ]
     },
     "metadata": {},
     "output_type": "display_data"
    },
    {
     "name": "stdout",
     "output_type": "stream",
     "text": [
      "Enhanced model loaded successfully!\n"
     ]
    }
   ],
   "source": [
    "from transformers import AutoModelForCausalLM, AutoTokenizer\n",
    "from peft import PeftModel\n",
    "import torch\n",
    "import numpy as np\n",
    "import matplotlib.pyplot as plt\n",
    "import seaborn as sns\n",
    "import pandas as pd\n",
    "from datasets import load_dataset\n",
    "import json\n",
    "import re\n",
    "from scipy.stats import wilcoxon\n",
    "\n",
    "# Load the enhanced model (assuming it's the same base as your other model)\n",
    "base_model_id = './Qwen3-8B'\n",
    "adapter_path = './my-awesome-model_final_bitcoin-enhanced-prediction-dataset-with-local-comprehensive-news-v2/checkpoint-400'  # Adjust based on your checkpoint\n",
    "\n",
    "# Load the base model and tokenizer\n",
    "base_qwen_model = AutoModelForCausalLM.from_pretrained(\n",
    "    base_model_id,\n",
    "    torch_dtype=torch.float16,\n",
    "    device_map=\"auto\",\n",
    "    trust_remote_code=True\n",
    ")\n",
    "\n",
    "tokenizer = AutoTokenizer.from_pretrained(\n",
    "    adapter_path,\n",
    "    trust_remote_code=True\n",
    ")\n",
    "\n",
    "base_qwen_tokenizer = tokenizer\n",
    "\n",
    "if tokenizer.pad_token is None:\n",
    "    tokenizer.pad_token = tokenizer.eos_token\n",
    "base_qwen_model.resize_token_embeddings(len(tokenizer))\n",
    "\n",
    "print(\"Enhanced model loaded successfully!\")"
   ]
  },
  {
   "cell_type": "markdown",
   "id": "93260a12",
   "metadata": {
    "papermill": {
     "duration": 0.006369,
     "end_time": "2025-09-12T00:00:03.504876",
     "exception": false,
     "start_time": "2025-09-12T00:00:03.498507",
     "status": "completed"
    },
    "tags": []
   },
   "source": [
    "## Load LoRA Adapter from Enhanced Training"
   ]
  },
  {
   "cell_type": "code",
   "execution_count": 3,
   "id": "f2734003",
   "metadata": {
    "execution": {
     "iopub.execute_input": "2025-09-12T00:00:03.519556Z",
     "iopub.status.busy": "2025-09-12T00:00:03.518492Z",
     "iopub.status.idle": "2025-09-12T00:00:09.150049Z",
     "shell.execute_reply": "2025-09-12T00:00:09.149191Z"
    },
    "papermill": {
     "duration": 5.641405,
     "end_time": "2025-09-12T00:00:09.152559",
     "exception": false,
     "start_time": "2025-09-12T00:00:03.511154",
     "status": "completed"
    },
    "tags": []
   },
   "outputs": [
    {
     "name": "stdout",
     "output_type": "stream",
     "text": [
      "Enhanced model with adapter loaded successfully!\n"
     ]
    }
   ],
   "source": [
    "# Load the LoRA adapter from the enhanced training\n",
    "\n",
    "# Load the model with LoRA adapter\n",
    "model = PeftModel.from_pretrained(base_qwen_model, adapter_path)\n",
    "model.eval()\n",
    "\n",
    "print(\"Enhanced model with adapter loaded successfully!\")"
   ]
  },
  {
   "cell_type": "markdown",
   "id": "57aec872",
   "metadata": {
    "papermill": {
     "duration": 0.006377,
     "end_time": "2025-09-12T00:00:09.168474",
     "exception": false,
     "start_time": "2025-09-12T00:00:09.162097",
     "status": "completed"
    },
    "tags": []
   },
   "source": [
    "## Load Test Data from Enhanced Dataset"
   ]
  },
  {
   "cell_type": "code",
   "execution_count": 4,
   "id": "e993e9a6",
   "metadata": {
    "execution": {
     "iopub.execute_input": "2025-09-12T00:00:09.183248Z",
     "iopub.status.busy": "2025-09-12T00:00:09.182656Z",
     "iopub.status.idle": "2025-09-12T00:00:19.181766Z",
     "shell.execute_reply": "2025-09-12T00:00:19.180344Z"
    },
    "papermill": {
     "duration": 10.009959,
     "end_time": "2025-09-12T00:00:19.184773",
     "exception": false,
     "start_time": "2025-09-12T00:00:09.174814",
     "status": "completed"
    },
    "tags": []
   },
   "outputs": [
    {
     "name": "stdout",
     "output_type": "stream",
     "text": [
      "Loaded 2303 test samples\n",
      "Sample test data:\n",
      "{'instruction': 'CONTEXT DATE: 2018-01-31\\n\\nANALYSIS FRAMEWORK:\\n• Technical Analysis: Use price trends, volatility, and momentum indicators\\n• Macro Analysis: Consider gold/oil prices for broader market context\\n• News Analysis: Integrate comprehensive daily news summaries for market catalysts\\n\\nOUTPUT FORMAT (JSON ONLY):\\nReturn a single JSON object with EXACTLY these keys:\\n{\"action\":\"BUY|SELL|HOLD\",\"confidence\":<int 1-99>,\"stop_loss\":<price 2dp>,\"take_profit\":<price 2dp>,\"forecast_10d\":[<10 prices 2dp>]}\\nNo extra text, no explanations, just the JSON.', 'input': 'Daily Context — 2018-01-31\\n\\n[Technical Price Analysis]\\n- Current Price: $10,106.30\\n- 60-Day Range: $10,106.30 → $17,527.00\\n- 1D Return: -10.54%\\n- 7D Return: -7.01%\\n- 30D Return: N/A%\\n- Volatility (14d): 5.76%\\n- Avg Daily Change (14d): 501.23\\n- Drawdown from Max: -42.34%\\n\\n[Price History (Last 60 Days USD)]\\n[11600.10, 10931.40, 10868.40, 11359.40, 11259.40, 11171.40, 11440.70, 11786.30, 11296.40, 10106.30]\\n\\n[Macro & Commodities Context]\\n- Gold Price: N/A\\n- Crude Oil Price: N/A\\n\\n[Market Context]\\n- Bitcoin dominates crypto market as leading digital asset\\n- Price influenced by adoption, regulation, and macro factors\\n\\n[Comprehensive News & Market Analysis]\\n\\nDaily News Summary:\\nThe crypto market on January 31, 2018, was characterized by continued volatility and regulatory concerns. Facebook\\'s announcement to ban crypto ads was a significant bearish signal, restricting marketing channels. While South Korea\\'s finance minister clarified no ban was planned, the uncovering of illegal trades signaled ongoing regulatory scrutiny. Bitcoin remained below $10,000, indicating persistent bearish momentum, further pressured by news of the Bitfinex subpoena by the CFTC and the Coincheck hack aftermath. Despite some short-term price recoveries, the overall sentiment remained cautious due to these headwinds.\\n\\nMarket Sentiment: neutral\\nMarket Impact: unknown\\n\\nShort-term News Analysis:\\n[{\\'pick_idx\\': 5, \\'id\\': \\'nc285bbcb1a6b\\', \\'title\\': \\'Bitcoin and Ethereum Price Forecast – Facebook Bans Cryptocurrency and ICO ads\\', \\'url\\': \\'https://finance.yahoo.com/news/bitcoin-ethereum-price-forecast-facebook-044736713.html\\', \\'summary\\': \\'Facebook announced on January 31, 2018, that it would ban all advertisements for cryptocurrencies and Initial Coin Offerings (ICOs). The company cited concerns about \"frequently associated with misleading or deceptive promotional practices.\" This decision was expected to impact the marketing and accessibility of crypto projects, potentially reducing new investor inflows and creating negative sentiment in the short term.\\', \\'impact_horizon_days\\': 7, \\'direction\\': \\'bearish\\', \\'magnitude\\': \\'high\\', \\'confidence\\': 0.8, \\'impact_window_days\\': {\\'start\\': 0, \\'end\\': 7}, \\'impact_tags\\': [\\'listing\\', \\'legal\\'], \\'features_for_model\\': [\\'facebook_ad_ban\\', \\'crypto_ad_ban\\', \\'ICO_marketing_restriction\\'], \\'rationale\\': \"Facebook\\'s ban on crypto ads directly restricts a significant channel for new user acquisition and project promotion, likely leading to a short-term price dip and negative sentiment.\"}, {\\'pick_idx\\': 8, \\'id\\': \\'nae8893b52903\\', \\'title\\': \\'Bitcoin Back Above $10K But Gains Could Be Short-Lived\\', \\'url\\': \\'https://finance.yahoo.com/news/bitcoin-back-above-10k-gains-120006765.html\\', \\'summary\\': \\'On January 31, 2018, Bitcoin had recovered to above $10,000 after falling to a two-week low of $9,627.89. However, the article suggested these gains might be short-lived, as the price charts indicated a continuation of lower highs, suggesting bears remained in control. The quick rebound from the low indicated some buying interest, but the overall trend pointed towards continued downward pressure.\\', \\'impact_horizon_days\\': 3, \\'direction\\': \\'uncertain\\', \\'magnitude\\': \\'medium\\', \\'confidence\\': 0.65, \\'impact_window_days\\': {\\'start\\': 0, \\'end\\': 3}, \\'impact_tags\\': [\\'market_correction\\'], \\'features_for_model\\': [\\'bitcoin_price_recovery\\', \\'short_term_trend\\', \\'bearish_momentum\\'], \\'rationale\\': \\'The rebound above $10K offered temporary relief, but the underlying trend of lower highs suggested that the bearish momentum might persist, making the short-term gains fragile.\\'}, {\\'pick_idx\\': 10, \\'id\\': \\'n749759ac2b59\\', \\'title\\': \\'South Korea uncovers about $600 million in illegal cryptocurrency trade\\', \\'url\\': \\'https://finance.yahoo.com/news/south-korea-says-uncovered-600-025248581.html\\', \\'summary\\': \"On January 31, 2018, South Korea\\'s customs service reported uncovering nearly $600 million in illegal cryptocurrency foreign exchange trading. This action underscored the government\\'s tightening regulatory stance on digital assets. The news highlighted ongoing efforts by authorities to combat illicit activities within the crypto space, potentially increasing scrutiny on exchanges and traders.\", \\'impact_horizon_days\\': 5, \\'direction\\': \\'bearish\\', \\'magnitude\\': \\'medium\\', \\'confidence\\': 0.7, \\'impact_window_days\\': {\\'start\\': 0, \\'end\\': 5}, \\'impact_tags\\': [\\'regulation\\', \\'legal\\'], \\'features_for_model\\': [\\'South_Korea_illegal_trade\\', \\'crypto_regulation_enforcement\\', \\'customs_investigation\\'], \\'rationale\\': \\'The discovery of significant illegal crypto trading in South Korea reinforced regulatory concerns and could lead to stricter enforcement, negatively impacting market sentiment and potentially liquidity.\\'}, {\\'pick_idx\\': 12, \\'id\\': \\'ne2f64a240755\\', \\'title\\': \\'South Korea says no plans to ban cryptocurrency exchanges, uncovers $600 million illegal trades\\', \\'url\\': \\'https://finance.yahoo.com/news/south-korea-says-uncovered-600-024544378.html\\', \\'summary\\': \"On January 31, 2018, South Korea\\'s finance minister clarified that the government had no plans to shut down cryptocurrency trading, easing fears of a ban. This statement came amidst reports of uncovering $600 million in illegal trades. The clarification provided some relief to the market, which had been spooked by conflicting government comments. However, the ongoing crackdown on illegal activities signaled continued regulatory focus.\", \\'impact_horizon_days\\': 3, \\'direction\\': \\'bullish\\', \\'magnitude\\': \\'medium\\', \\'confidence\\': 0.75, \\'impact_window_days\\': {\\'start\\': 0, \\'end\\': 3}, \\'impact_tags\\': [\\'regulation\\', \\'market_sentiment\\'], \\'features_for_model\\': [\\'South_Korea_no_ban\\', \\'regulatory_clarification\\', \\'illegal_trade_discovery\\'], \\'rationale\\': \"The finance minister\\'s statement that South Korea would not ban crypto exchanges provided a short-term bullish catalyst, alleviating immediate fears of a major regulatory crackdown.\"}, {\\'pick_idx\\': 14, \\'id\\': \\'n0fda5d24382b\\', \\'title\\': \\'CRYPTO INSIDER: Bitcoin tumbles below $10,000\\', \\'url\\': \\'https://finance.yahoo.com/news/crypto-insider-bitcoin-tumbles-below-151350907.html\\', \\'summary\\': \\'On January 31, 2018, Bitcoin was trading just below $10,000, continuing a volatile week. Ethereum showed some strength, while Ripple and Litecoin were down. The article noted that Bitcoin had hovered around the $10,000 mark, experiencing fluctuations. This price action indicated ongoing market uncertainty and a struggle to maintain higher levels after recent declines.\\', \\'impact_horizon_days\\': 2, \\'direction\\': \\'bearish\\', \\'magnitude\\': \\'high\\', \\'confidence\\': 0.8, \\'impact_window_days\\': {\\'start\\': 0, \\'end\\': 2}, \\'impact_tags\\': [\\'market_correction\\'], \\'features_for_model\\': [\\'bitcoin_below_10k\\', \\'crypto_market_downturn\\', \\'price_volatility\\'], \\'rationale\\': \\'Bitcoin trading below $10,000 on January 31st signaled continued weakness and a failure to regain upward momentum, suggesting further downside risk in the immediate short term.\\'}, {\\'pick_idx\\': 15, \\'id\\': \\'n5eae65758d25\\', \\'title\\': \\'Game Over! Facebook to Cease All Cryptocurrency and ICO Ads\\', \\'url\\': \\'https://finance.yahoo.com/news/game-over-facebook-cease-cryptocurrency-153600091.html\\', \\'summary\\': \\'Facebook announced on January 31, 2018, its decision to ban all advertisements related to cryptocurrencies and Initial Coin Offerings (ICOs). This move was attributed to the association of these ads with \"frequently misleading or deceptive promotional practices.\" The ban was expected to significantly impact the marketing efforts of crypto projects and potentially reduce the influx of new retail investors into the market.\\', \\'impact_horizon_days\\': 7, \\'direction\\': \\'bearish\\', \\'magnitude\\': \\'high\\', \\'confidence\\': 0.8, \\'impact_window_days\\': {\\'start\\': 0, \\'end\\': 7}, \\'impact_tags\\': [\\'listing\\', \\'legal\\'], \\'features_for_model\\': [\\'facebook_crypto_ad_ban\\', \\'ICO_advertising_ban\\', \\'marketing_restriction\\'], \\'rationale\\': \"Facebook\\'s broad ban on crypto ads would limit a key marketing channel for the industry, potentially dampening demand and sentiment in the short term.\"}, {\\'pick_idx\\': 21, \\'id\\': \\'nf6f6fca0e050\\', \\'title\\': \\'Coincheck hackers trying to move stolen cryptocurrency after major Japanese heist\\', \\'url\\': \\'https://finance.yahoo.com/news/coincheck-hackers-trying-move-stolen-004505963.html\\', \\'summary\\': \\'Hackers who stole approximately $530 million worth of cryptocurrency from the Coincheck exchange in Japan were reportedly attempting to move the stolen XEM coins. The NEM Foundation had traced the funds to an unidentified account, from which the owner began trying to transfer them to other exchanges. This development highlighted ongoing security risks and the potential for large-scale theft impacting market confidence.\\', \\'impact_horizon_days\\': 7, \\'direction\\': \\'bearish\\', \\'magnitude\\': \\'high\\', \\'confidence\\': 0.75, \\'impact_window_days\\': {\\'start\\': 0, \\'end\\': 7}, \\'impact_tags\\': [\\'hack/outage\\', \\'security_breach\\'], \\'features_for_model\\': [\\'Coincheck_hack\\', \\'stolen_crypto_movement\\', \\'exchange_security_risk\\'], \\'rationale\\': \\'News of hackers attempting to move stolen funds from the Coincheck heist reinforced concerns about exchange security and the potential for further market disruption, creating negative sentiment.\\'}, {\\'pick_idx\\': 27, \\'id\\': \\'nf6f6fca0e050\\', \\'title\\': \\'Coincheck hackers trying to move stolen cryptocurrency after major Japanese heist\\', \\'url\\': \\'https://finance.yahoo.com/news/coincheck-hackers-trying-move-stolen-004505963.html\\', \\'summary\\': \\'Hackers who stole approximately $530 million worth of cryptocurrency from the Coincheck exchange in Japan were reportedly attempting to move the stolen XEM coins. The NEM Foundation had traced the funds to an unidentified account, from which the owner began trying to transfer them to other exchanges. This development highlighted ongoing security risks and the potential for large-scale theft impacting market confidence.\\', \\'impact_horizon_days\\': 7, \\'direction\\': \\'bearish\\', \\'magnitude\\': \\'high\\', \\'confidence\\': 0.75, \\'impact_window_days\\': {\\'start\\': 0, \\'end\\': 7}, \\'impact_tags\\': [\\'hack/outage\\', \\'security_breach\\'], \\'features_for_model\\': [\\'Coincheck_hack\\', \\'stolen_crypto_movement\\', \\'exchange_security_risk\\'], \\'rationale\\': \\'News of hackers attempting to move stolen funds from the Coincheck heist reinforced concerns about exchange security and the potential for further market disruption, creating negative sentiment.\\'}, {\\'pick_idx\\': 31, \\'id\\': \\'nba427968418d\\', \\'title\\': \\'South Korea says no plans to ban cryptocurrency exchanges, uncovers $600 million illegal trades\\', \\'url\\': \\'https://finance.yahoo.com/news/south-korea-says-no-plans-to-ban-cryptocurrency-exchanges-uncovers-600-million-illegal-trades-051634614--finance.html\\', \\'summary\\': \"On January 31, 2018, South Korea\\'s finance minister clarified that the government had no plans to shut down cryptocurrency trading, easing fears of a ban. This statement came amidst reports of uncovering $600 million in illegal trades. The clarification provided some relief to the market, which had been spooked by conflicting government comments. However, the ongoing crackdown on illegal activities signaled continued regulatory focus.\", \\'impact_horizon_days\\': 3, \\'direction\\': \\'bullish\\', \\'magnitude\\': \\'medium\\', \\'confidence\\': 0.75, \\'impact_window_days\\': {\\'start\\': 0, \\'end\\': 3}, \\'impact_tags\\': [\\'regulation\\', \\'market_sentiment\\'], \\'features_for_model\\': [\\'South_Korea_no_ban\\', \\'regulatory_clarification\\', \\'illegal_trade_discovery\\'], \\'rationale\\': \"The finance minister\\'s statement that South Korea would not ban crypto exchanges provided a short-term bullish catalyst, alleviating immediate fears of a major regulatory crackdown.\"}, {\\'pick_idx\\': 46, \\'id\\': \\'n28aa0b5d27fc\\', \\'title\\': \\'Regulatory Crackdown Sends Cryptocurrency Prices Tumbling\\', \\'url\\': \\'https://finance.yahoo.com/news/regulatory-crackdown-sends-cryptocurrency-prices-tumbling-124036946.html\\', \\'summary\\': \\'On January 31, 2018, leading cryptocurrencies like Bitcoin and Ethereum tumbled following reports that Bitfinex was subpoenaed by the U.S. Commodity Futures Trading Commission (CFTC). This, combined with new regulations in South Korea and the SEC halting an ICO for fraud, intensified fears of a broader regulatory crackdown. The subpoena on Bitfinex and Tether signaled increased scrutiny on major crypto entities.\\', \\'impact_horizon_days\\': 5, \\'direction\\': \\'bearish\\', \\'magnitude\\': \\'high\\', \\'confidence\\': 0.8, \\'impact_window_days\\': {\\'start\\': 0, \\'end\\': 5}, \\'impact_tags\\': [\\'regulation\\', \\'legal\\', \\'market_correction\\'], \\'features_for_model\\': [\\'Bitfinex_subpoena\\', \\'CFTC_action\\', \\'regulatory_crackdown_fear\\'], \\'rationale\\': \\'The subpoena of Bitfinex by the CFTC, alongside other regulatory actions, created significant negative sentiment and contributed to a price decline, indicating heightened regulatory pressure on the crypto market.\\'}]\\n\\nLong-term News Analysis:\\n[{\\'pick_idx\\': 11, \\'id\\': \\'n4d25fd07511b\\', \\'title\\': \\'Bitcoin Futures Just Hit Wall Street, and the Price is Surging\\', \\'url\\': \\'https://finance.yahoo.com/news/bitcoin-futures-just-hit-wall-165600537.html\\', \\'summary\\': \\'Bitcoin futures launched on the Chicago Board Options Exchange (CBOE) on Sunday, December 10, 2017, allowing investors to speculate on its future price. The launch marked a significant step towards legitimizing Bitcoin in the eyes of traditional finance. Shortly after its debut, Bitcoin futures surged by 26%, triggering trading halts, indicating strong initial demand and volatility. This event signaled increased institutional interest and integration of Bitcoin into mainstream financial markets.\\', \\'impact_horizon_months\\': 12, \\'direction\\': \\'bullish\\', \\'magnitude\\': \\'high\\', \\'confidence\\': 0.8, \\'impact_tags\\': [\\'institutional\\', \\'infrastructure\\'], \\'features_for_model\\': [\\'bitcoin_futures_launch\\', \\'CBOE_launch\\', \\'institutional_adoption\\'], \\'rationale\\': \\'The introduction of Bitcoin futures on a major exchange like CBOE provided a regulated avenue for institutional investors to gain exposure. This increased legitimacy and accessibility were expected to drive further adoption and price appreciation over the medium to long term.\\'}, {\\'pick_idx\\': 12, \\'id\\': \\'n7994db8180c4\\', \\'title\\': \\'SEC/NASAA Ring in 2018 by Hinting at Need for (More) Cryptocurrency Regulation\\', \\'url\\': \\'https://finance.yahoo.com/news/sec-nasaa-ring-2018-hinting-205122763.html\\', \\'summary\\': \\'In early January 2018, key figures from the U.S. Securities and Exchange Commission (SEC) and the North American Securities Administrators Association (NASAA) signaled a heightened focus on cryptocurrency and ICO regulation. They endorsed concerns raised by NASAA regarding \"Cryptocurrency-Related Investment Products.\" This coordinated stance from regulatory bodies indicated an impending increase in oversight and enforcement actions, aiming to protect retail investors from potential fraud and market manipulation in the burgeoning digital asset space.\\', \\'impact_horizon_months\\': 24, \\'direction\\': \\'uncertain\\', \\'magnitude\\': \\'high\\', \\'confidence\\': 0.7, \\'impact_tags\\': [\\'regulation\\', \\'legal\\'], \\'features_for_model\\': [\\'SEC_regulation\\', \\'NASAA_guidance\\', \\'ICO_oversight\\'], \\'rationale\\': \\'Increased regulatory scrutiny from major bodies like the SEC and NASAA introduced uncertainty for the crypto market. While regulation could bring legitimacy, overly strict measures could stifle innovation and adoption, creating a complex environment for future growth.\\'}, {\\'pick_idx\\': 24, \\'id\\': \\'n28d03c1e5bfd\\', \\'title\\': \\'Bitcoin falls 25 percent to $10,200 on Bitstamp exchange\\', \\'url\\': \\'https://finance.yahoo.com/news/bitcoin-slides-14-percent-crackdown-085904846.html\\', \\'summary\\': \"On January 16, 2018, Bitcoin experienced a significant price drop, falling 25% to around $10,200 on the Bitstamp exchange. This decline was attributed to growing fears of a regulatory crackdown, particularly following reports that South Korea\\'s finance minister had stated that banning cryptocurrency trading remained an option. The market reacted negatively to the potential for stricter government intervention, leading to a broad sell-off across digital assets.\", \\'impact_horizon_months\\': 6, \\'direction\\': \\'bearish\\', \\'magnitude\\': \\'high\\', \\'confidence\\': 0.75, \\'impact_tags\\': [\\'regulation\\', \\'market_correction\\'], \\'features_for_model\\': [\\'bitcoin_price_drop\\', \\'South_Korea_regulation_fear\\', \\'regulatory_crackdown\\'], \\'rationale\\': \"The news of potential regulatory action from South Korea, a significant market, directly impacted Bitcoin\\'s price. This event highlighted the market\\'s sensitivity to regulatory developments and suggested a period of price consolidation or decline due to increased uncertainty.\"}, {\\'pick_idx\\': 30, \\'id\\': \\'n32a100b703c1\\', \\'title\\': \"Bitcoin and cryptocurrencies \\'will come to bad end\\', says Warren Buffett\", \\'url\\': \\'https://finance.yahoo.com/news/bitcoin-cryptocurrencies-apos-come-bad-151811059.html\\', \\'summary\\': \\'In a January 2018 interview, legendary investor Warren Buffett expressed strong skepticism about cryptocurrencies, predicting they would \"come to a bad end.\" He stated he would never invest in Bitcoin or other digital assets. His longtime partner, Charlie Munger, echoed these sentiments. Buffett\\\\\\'s influential opinion, coming from one of the world\\\\\\'s most successful investors, carried significant weight and could deter mainstream investors from entering the cryptocurrency market, potentially impacting long-term sentiment and adoption.\\', \\'impact_horizon_months\\': 18, \\'direction\\': \\'bearish\\', \\'magnitude\\': \\'high\\', \\'confidence\\': 0.85, \\'impact_tags\\': [\\'adoption\\', \\'sentiment\\'], \\'features_for_model\\': [\\'Buffett_criticism\\', \\'crypto_skepticism\\', \\'investor_sentiment\\'], \\'rationale\\': \"Warren Buffett\\'s highly publicized bearish view on cryptocurrencies could significantly influence investor sentiment, particularly among more conservative, traditional investors. This could slow down adoption and capital inflow into the crypto market over the subsequent months and years.\"}, {\\'pick_idx\\': 32, \\'id\\': \\'n3f16ef7b63f0\\', \\'title\\': \\'Bitcoin Drops as South Korea Says It Could Close Exchanges\\', \\'url\\': \\'https://finance.yahoo.com/news/bitcoin-drops-south-korea-says-130542389.html\\', \\'summary\\': \"On December 28, 2017, Bitcoin\\'s price fell after South Korea indicated it was considering options, including the potential shutdown of some cryptocurrency exchanges, to curb speculative trading. South Korea had become a major hub for cryptocurrency interest. While the government hadn\\'t definitively decided to close exchanges, the mere suggestion of such a drastic measure created significant market uncertainty and contributed to a broader sell-off, demonstrating the impact of regulatory pronouncements from key jurisdictions.\", \\'impact_horizon_months\\': 6, \\'direction\\': \\'bearish\\', \\'magnitude\\': \\'high\\', \\'confidence\\': 0.7, \\'impact_tags\\': [\\'regulation\\', \\'market_correction\\'], \\'features_for_model\\': [\\'bitcoin_price_drop\\', \\'South_Korea_exchange_ban_rumor\\', \\'regulatory_uncertainty\\'], \\'rationale\\': \"The possibility of South Korea closing cryptocurrency exchanges, a major trading hub, created significant fear and uncertainty in the market. This news directly led to price drops and indicated that regulatory actions in key regions could have a substantial negative impact on Bitcoin\\'s price and market sentiment.\"}, {\\'pick_idx\\': 33, \\'id\\': \\'n0e29a1f3b111\\', \\'title\\': \"A bitcoin implosion could \\'spill over\\' into the stock market, warns Wells Fargo\", \\'url\\': \\'https://finance.yahoo.com/news/bitcoin-implosion-could-apos-spill-220000176.html\\', \\'summary\\': \\'Wells Fargo Securities warned in late December 2017 that a potential \"implosion\" of the cryptocurrency market, particularly Bitcoin, could have a spillover effect on the broader stock market. The firm\\\\\\'s head of equity strategy highlighted the \"significant amount of froth\" in crypto markets. This warning from a major financial institution underscored the growing interconnectedness between traditional finance and digital assets, suggesting that a severe downturn in crypto could trigger contagion effects in equities.\\', \\'impact_horizon_months\\': 12, \\'direction\\': \\'bearish\\', \\'magnitude\\': \\'medium\\', \\'confidence\\': 0.65, \\'impact_tags\\': [\\'macro\\', \\'sentiment\\'], \\'features_for_model\\': [\\'Wells_Fargo_warning\\', \\'crypto_bubble_fear\\', \\'market_contagion\\'], \\'rationale\\': \\'A warning from a large bank like Wells Fargo about potential spillover effects from a crypto crash into the stock market indicated systemic risk. This could lead to a broader risk-off sentiment, impacting not only cryptocurrencies but also traditional assets.\\'}, {\\'pick_idx\\': 34, \\'id\\': \\'n78a1144573a5\\', \\'title\\': \\'Largest Bitcoin exchange temporarily halts buying and selling amid price mini-crash\\', \\'url\\': \\'https://finance.yahoo.com/news/bitcoin-takes-plunge-hitting-time-085820134.html\\', \\'summary\\': \\'In December 2017, Coinbase, one of the largest cryptocurrency exchanges, temporarily disabled buying and selling functionalities due to a significant price plunge and high traffic. Bitcoin had tumbled over 30% after reaching its all-time high near $20,000. This outage highlighted the infrastructure challenges and volatility inherent in the crypto market, impacting liquidity and investor confidence during a critical price correction phase.\\', \\'impact_horizon_months\\': 3, \\'direction\\': \\'bearish\\', \\'magnitude\\': \\'high\\', \\'confidence\\': 0.7, \\'impact_tags\\': [\\'hack/outage\\', \\'liquidity\\'], \\'features_for_model\\': [\\'Coinbase_outage\\', \\'exchange_halt\\', \\'liquidity_crisis\\'], \\'rationale\\': \\'The temporary halt of trading on a major exchange like Coinbase during a price crash indicated severe strain on infrastructure and liquidity. This event eroded investor confidence and demonstrated the operational risks associated with the nascent cryptocurrency market.\\'}, {\\'pick_idx\\': 45, \\'id\\': \\'nf2daefacc567\\', \\'title\\': \\'Bitcoin dips below $11,000 after setting another record high\\', \\'url\\': \\'https://finance.yahoo.com/news/bitcoin-hits-record-high-nearly-130535065.html\\', \\'summary\\': \"On December 4, 2017, Bitcoin experienced a dip below $11,000 after reaching a record high near $11,800 the previous day. The cryptocurrency, which trades 24/7, saw this volatility after a significant surge from under $1,000 at the start of the year. While the exact cause for the weekend rally was unclear, wallet providers reported record sign-ups, suggesting new investor inflows. However, the subsequent dip indicated profit-taking and the market\\'s sensitivity to rapid price movements.\", \\'impact_horizon_months\\': 3, \\'direction\\': \\'uncertain\\', \\'magnitude\\': \\'medium\\', \\'confidence\\': 0.6, \\'impact_tags\\': [\\'market_correction\\'], \\'features_for_model\\': [\\'bitcoin_price_volatility\\', \\'record_high_dip\\', \\'new_investor_inflow\\'], \\'rationale\\': \"The rapid rise and subsequent dip in Bitcoin\\'s price around the $11,000 mark demonstrated extreme volatility. While new investors were entering the market, the quick reversal suggested a lack of sustained buying pressure and potential for further price swings.\"}, {\\'pick_idx\\': 46, \\'id\\': \\'nf366b6a392a1\\', \\'title\\': \\'The Zacks Analyst Blog Highlights: Winklevoss Bitcoin, Reality Shares, Shares PHLX and VanEck Vectors\\', \\'url\\': \\'https://finance.yahoo.com/news/zacks-analyst-blog-highlights-winklevoss-125212794.html\\', \\'summary\\': \\'In January 2018, Zacks.com discussed the prospects of various Bitcoin-related ETFs, including the Winklevoss Bitcoin ETF (COIN), Reality Shares Nasdaq NexGen Economy ETF (BLCN), and others. A key point of discussion was the uncertainty surrounding the approval of Bitcoin ETFs by the SEC in 2018. The potential approval of such products was seen as a significant catalyst for institutional adoption and price appreciation, while denial would represent a setback for mainstream integration.\\', \\'impact_horizon_months\\': 12, \\'direction\\': \\'uncertain\\', \\'magnitude\\': \\'high\\', \\'confidence\\': 0.7, \\'impact_tags\\': [\\'ETF\\', \\'institutional\\'], \\'features_for_model\\': [\\'bitcoin_ETF_prospects\\', \\'SEC_ETF_approval\\', \\'institutional_adoption_catalyst\\'], \\'rationale\\': \"The ongoing discussion and potential approval of Bitcoin ETFs by the SEC were critical long-term drivers. ETF approval would provide a regulated and accessible pathway for institutional capital, significantly impacting Bitcoin\\'s price and market structure.\"}, {\\'pick_idx\\': 48, \\'id\\': \\'n4a97e4137406\\', \\'title\\': \\'The Threat of Bitcoin Futures\\', \\'url\\': \\'https://finance.yahoo.com/news/threat-bitcoin-futures-050055739.html\\', \\'summary\\': \\'An article from December 2017 discussed the launch of Bitcoin futures on the CME and CBOE, framing it as a potential \"threat.\" The author, a veteran of corporate finance, suggested that while futures trading could legitimize Bitcoin, it also introduced new risks. The ability for large players to short Bitcoin could exert downward pressure on prices, and the volatility of futures markets could amplify Bitcoin\\\\\\'s own price swings. This perspective highlighted the dual nature of institutional integration.\\', \\'impact_horizon_months\\': 9, \\'direction\\': \\'uncertain\\', \\'magnitude\\': \\'medium\\', \\'confidence\\': 0.6, \\'impact_tags\\': [\\'institutional\\', \\'market_volatility\\'], \\'features_for_model\\': [\\'bitcoin_futures_market\\', \\'shorting_pressure\\', \\'institutional_risk\\'], \\'rationale\\': \"The introduction of Bitcoin futures, while a sign of institutional interest, also presented a potential \\'threat\\' by enabling short selling. This could introduce new price discovery mechanisms and increase volatility, impacting Bitcoin\\'s price trajectory.\"}]\\n\\n\\nBased on this comprehensive multi-dimensional analysis incorporating technical indicators, fundamentals, sentiment, and detailed news analysis, provide your trading decision and 10-day price forecast in the specified JSON format.', 'output': '{\"action\":\"SELL\",\"confidence\":99,\"stop_loss\":10548.72,\"take_profit\":9272.00,\"forecast_10d\":[9170.54, 8830.75, 9174.91, 8277.01, 6955.27, 7754.00, 7621.30, 8265.59, 8736.98, 8621.90]}'}\n"
     ]
    }
   ],
   "source": [
    "# Load the enhanced dataset\n",
    "test_dataset = load_dataset('tahamajs/bitcoin-enhanced-prediction-dataset-with-local-comprehensive-news', split='train')\n",
    "print(f\"Loaded {len(test_dataset)} test samples\")\n",
    "print(\"Sample test data:\")\n",
    "print(test_dataset[0])"
   ]
  },
  {
   "cell_type": "markdown",
   "id": "527f3ec1",
   "metadata": {
    "papermill": {
     "duration": 0.007033,
     "end_time": "2025-09-12T00:00:19.200492",
     "exception": false,
     "start_time": "2025-09-12T00:00:19.193459",
     "status": "completed"
    },
    "tags": []
   },
   "source": [
    "## Utility Functions for Price Analysis"
   ]
  },
  {
   "cell_type": "code",
   "execution_count": 5,
   "id": "139de884",
   "metadata": {
    "execution": {
     "iopub.execute_input": "2025-09-12T00:00:19.216618Z",
     "iopub.status.busy": "2025-09-12T00:00:19.215996Z",
     "iopub.status.idle": "2025-09-12T00:00:19.233080Z",
     "shell.execute_reply": "2025-09-12T00:00:19.232139Z"
    },
    "papermill": {
     "duration": 0.027948,
     "end_time": "2025-09-12T00:00:19.235444",
     "exception": false,
     "start_time": "2025-09-12T00:00:19.207496",
     "status": "completed"
    },
    "tags": []
   },
   "outputs": [
    {
     "name": "stdout",
     "output_type": "stream",
     "text": [
      "Utility functions loaded!\n"
     ]
    }
   ],
   "source": [
    "def extract_prices_from_text(text):\n",
    "    \"\"\"Extract price predictions from model output\"\"\"\n",
    "    # Look for patterns like numbers separated by commas\n",
    "    price_pattern = r'(\\d+(?:\\.\\d+)?(?:,\\s*\\d+(?:\\.\\d+)?)*)'  \n",
    "    matches = re.findall(price_pattern, text)\n",
    "    \n",
    "    if matches:\n",
    "        # Take the first match and split by comma\n",
    "        prices_str = matches[0]\n",
    "        try:\n",
    "            prices = [float(p.strip()) for p in prices_str.split(',')]\n",
    "            return prices\n",
    "        except:\n",
    "            return []\n",
    "    return []\n",
    "\n",
    "def calculate_price_differences(predictions, actual):\n",
    "    \"\"\"Calculate various price difference metrics\"\"\"\n",
    "    if len(predictions) != len(actual):\n",
    "        return None\n",
    "    \n",
    "    predictions = np.array(predictions)\n",
    "    actual = np.array(actual)\n",
    "    \n",
    "    # Absolute differences\n",
    "    abs_diff = np.abs(predictions - actual)\n",
    "    \n",
    "    # Relative differences (percentage)\n",
    "    rel_diff = (predictions - actual) / actual * 100\n",
    "    \n",
    "    # Price direction accuracy (up/down/same)\n",
    "    actual_direction = np.diff(actual)\n",
    "    pred_direction = np.diff(predictions)\n",
    "    \n",
    "    direction_accuracy = 0\n",
    "    if len(actual_direction) > 0:\n",
    "        direction_correct = np.sign(actual_direction) == np.sign(pred_direction)\n",
    "        direction_accuracy = np.mean(direction_correct) * 100\n",
    "    \n",
    "    return {\n",
    "        'absolute_differences': abs_diff,\n",
    "        'relative_differences': rel_diff,\n",
    "        'mean_abs_diff': np.mean(abs_diff),\n",
    "        'max_abs_diff': np.max(abs_diff),\n",
    "        'min_abs_diff': np.min(abs_diff),\n",
    "        'std_abs_diff': np.std(abs_diff),\n",
    "        'mean_rel_diff': np.mean(rel_diff),\n",
    "        'max_rel_diff': np.max(rel_diff),\n",
    "        'min_rel_diff': np.min(rel_diff),\n",
    "        'std_rel_diff': np.std(rel_diff),\n",
    "        'direction_accuracy': direction_accuracy,\n",
    "        'rmse': np.sqrt(np.mean((predictions - actual) ** 2)),\n",
    "        'mae': np.mean(abs_diff),\n",
    "        'mape': np.mean(np.abs(rel_diff))\n",
    "    }\n",
    "\n",
    "def format_input(example):\n",
    "    \"\"\"Format input for the enhanced model\"\"\"\n",
    "    instruction = example.get('instruction', '')\n",
    "    user_input = example.get('input', '')\n",
    "    messages = [\n",
    "        {'role': 'system', 'content': instruction},\n",
    "        {'role': 'user', 'content': user_input}\n",
    "    ]\n",
    "    return tokenizer.apply_chat_template(messages, tokenize=False, add_generation_prompt=True)\n",
    "\n",
    "print(\"Utility functions loaded!\")"
   ]
  },
  {
   "cell_type": "markdown",
   "id": "7a051476",
   "metadata": {
    "papermill": {
     "duration": 0.007009,
     "end_time": "2025-09-12T00:00:19.253781",
     "exception": false,
     "start_time": "2025-09-12T00:00:19.246772",
     "status": "completed"
    },
    "tags": []
   },
   "source": [
    "## Comprehensive Model Evaluation with Price Analysis"
   ]
  },
  {
   "cell_type": "code",
   "execution_count": 6,
   "id": "90ec1166",
   "metadata": {
    "execution": {
     "iopub.execute_input": "2025-09-12T00:00:19.270173Z",
     "iopub.status.busy": "2025-09-12T00:00:19.269498Z",
     "iopub.status.idle": "2025-09-12T00:30:00.799099Z",
     "shell.execute_reply": "2025-09-12T00:30:00.797653Z"
    },
    "papermill": {
     "duration": 1781.552889,
     "end_time": "2025-09-12T00:30:00.813883",
     "exception": false,
     "start_time": "2025-09-12T00:00:19.260994",
     "status": "completed"
    },
    "tags": []
   },
   "outputs": [
    {
     "name": "stderr",
     "output_type": "stream",
     "text": [
      "The following generation flags are not valid and may be ignored: ['temperature', 'top_p', 'top_k']. Set `TRANSFORMERS_VERBOSITY=info` for more details.\n"
     ]
    },
    {
     "name": "stdout",
     "output_type": "stream",
     "text": [
      "Running comprehensive evaluation on 50 samples...\n"
     ]
    },
    {
     "name": "stderr",
     "output_type": "stream",
     "text": [
      "The following generation flags are not valid and may be ignored: ['temperature', 'top_p', 'top_k']. Set `TRANSFORMERS_VERBOSITY=info` for more details.\n"
     ]
    },
    {
     "name": "stderr",
     "output_type": "stream",
     "text": [
      "The following generation flags are not valid and may be ignored: ['temperature', 'top_p', 'top_k']. Set `TRANSFORMERS_VERBOSITY=info` for more details.\n"
     ]
    },
    {
     "name": "stderr",
     "output_type": "stream",
     "text": [
      "The following generation flags are not valid and may be ignored: ['temperature', 'top_p', 'top_k']. Set `TRANSFORMERS_VERBOSITY=info` for more details.\n"
     ]
    },
    {
     "name": "stderr",
     "output_type": "stream",
     "text": [
      "The following generation flags are not valid and may be ignored: ['temperature', 'top_p', 'top_k']. Set `TRANSFORMERS_VERBOSITY=info` for more details.\n"
     ]
    },
    {
     "name": "stderr",
     "output_type": "stream",
     "text": [
      "The following generation flags are not valid and may be ignored: ['temperature', 'top_p', 'top_k']. Set `TRANSFORMERS_VERBOSITY=info` for more details.\n"
     ]
    },
    {
     "name": "stderr",
     "output_type": "stream",
     "text": [
      "The following generation flags are not valid and may be ignored: ['temperature', 'top_p', 'top_k']. Set `TRANSFORMERS_VERBOSITY=info` for more details.\n"
     ]
    },
    {
     "name": "stderr",
     "output_type": "stream",
     "text": [
      "The following generation flags are not valid and may be ignored: ['temperature', 'top_p', 'top_k']. Set `TRANSFORMERS_VERBOSITY=info` for more details.\n"
     ]
    },
    {
     "name": "stderr",
     "output_type": "stream",
     "text": [
      "The following generation flags are not valid and may be ignored: ['temperature', 'top_p', 'top_k']. Set `TRANSFORMERS_VERBOSITY=info` for more details.\n"
     ]
    },
    {
     "name": "stderr",
     "output_type": "stream",
     "text": [
      "The following generation flags are not valid and may be ignored: ['temperature', 'top_p', 'top_k']. Set `TRANSFORMERS_VERBOSITY=info` for more details.\n"
     ]
    },
    {
     "name": "stderr",
     "output_type": "stream",
     "text": [
      "The following generation flags are not valid and may be ignored: ['temperature', 'top_p', 'top_k']. Set `TRANSFORMERS_VERBOSITY=info` for more details.\n"
     ]
    },
    {
     "name": "stderr",
     "output_type": "stream",
     "text": [
      "The following generation flags are not valid and may be ignored: ['temperature', 'top_p', 'top_k']. Set `TRANSFORMERS_VERBOSITY=info` for more details.\n"
     ]
    },
    {
     "name": "stderr",
     "output_type": "stream",
     "text": [
      "The following generation flags are not valid and may be ignored: ['temperature', 'top_p', 'top_k']. Set `TRANSFORMERS_VERBOSITY=info` for more details.\n"
     ]
    },
    {
     "name": "stderr",
     "output_type": "stream",
     "text": [
      "The following generation flags are not valid and may be ignored: ['temperature', 'top_p', 'top_k']. Set `TRANSFORMERS_VERBOSITY=info` for more details.\n"
     ]
    },
    {
     "name": "stderr",
     "output_type": "stream",
     "text": [
      "The following generation flags are not valid and may be ignored: ['temperature', 'top_p', 'top_k']. Set `TRANSFORMERS_VERBOSITY=info` for more details.\n"
     ]
    },
    {
     "name": "stderr",
     "output_type": "stream",
     "text": [
      "The following generation flags are not valid and may be ignored: ['temperature', 'top_p', 'top_k']. Set `TRANSFORMERS_VERBOSITY=info` for more details.\n"
     ]
    },
    {
     "name": "stderr",
     "output_type": "stream",
     "text": [
      "The following generation flags are not valid and may be ignored: ['temperature', 'top_p', 'top_k']. Set `TRANSFORMERS_VERBOSITY=info` for more details.\n"
     ]
    },
    {
     "name": "stderr",
     "output_type": "stream",
     "text": [
      "The following generation flags are not valid and may be ignored: ['temperature', 'top_p', 'top_k']. Set `TRANSFORMERS_VERBOSITY=info` for more details.\n"
     ]
    },
    {
     "name": "stderr",
     "output_type": "stream",
     "text": [
      "The following generation flags are not valid and may be ignored: ['temperature', 'top_p', 'top_k']. Set `TRANSFORMERS_VERBOSITY=info` for more details.\n"
     ]
    },
    {
     "name": "stderr",
     "output_type": "stream",
     "text": [
      "The following generation flags are not valid and may be ignored: ['temperature', 'top_p', 'top_k']. Set `TRANSFORMERS_VERBOSITY=info` for more details.\n"
     ]
    },
    {
     "name": "stderr",
     "output_type": "stream",
     "text": [
      "The following generation flags are not valid and may be ignored: ['temperature', 'top_p', 'top_k']. Set `TRANSFORMERS_VERBOSITY=info` for more details.\n"
     ]
    },
    {
     "name": "stdout",
     "output_type": "stream",
     "text": [
      "Processed 20/50 samples...\n"
     ]
    },
    {
     "name": "stderr",
     "output_type": "stream",
     "text": [
      "The following generation flags are not valid and may be ignored: ['temperature', 'top_p', 'top_k']. Set `TRANSFORMERS_VERBOSITY=info` for more details.\n"
     ]
    },
    {
     "name": "stderr",
     "output_type": "stream",
     "text": [
      "The following generation flags are not valid and may be ignored: ['temperature', 'top_p', 'top_k']. Set `TRANSFORMERS_VERBOSITY=info` for more details.\n"
     ]
    },
    {
     "name": "stderr",
     "output_type": "stream",
     "text": [
      "The following generation flags are not valid and may be ignored: ['temperature', 'top_p', 'top_k']. Set `TRANSFORMERS_VERBOSITY=info` for more details.\n"
     ]
    },
    {
     "name": "stderr",
     "output_type": "stream",
     "text": [
      "The following generation flags are not valid and may be ignored: ['temperature', 'top_p', 'top_k']. Set `TRANSFORMERS_VERBOSITY=info` for more details.\n"
     ]
    },
    {
     "name": "stderr",
     "output_type": "stream",
     "text": [
      "The following generation flags are not valid and may be ignored: ['temperature', 'top_p', 'top_k']. Set `TRANSFORMERS_VERBOSITY=info` for more details.\n"
     ]
    },
    {
     "name": "stderr",
     "output_type": "stream",
     "text": [
      "The following generation flags are not valid and may be ignored: ['temperature', 'top_p', 'top_k']. Set `TRANSFORMERS_VERBOSITY=info` for more details.\n"
     ]
    },
    {
     "name": "stderr",
     "output_type": "stream",
     "text": [
      "The following generation flags are not valid and may be ignored: ['temperature', 'top_p', 'top_k']. Set `TRANSFORMERS_VERBOSITY=info` for more details.\n"
     ]
    },
    {
     "name": "stderr",
     "output_type": "stream",
     "text": [
      "The following generation flags are not valid and may be ignored: ['temperature', 'top_p', 'top_k']. Set `TRANSFORMERS_VERBOSITY=info` for more details.\n"
     ]
    },
    {
     "name": "stderr",
     "output_type": "stream",
     "text": [
      "The following generation flags are not valid and may be ignored: ['temperature', 'top_p', 'top_k']. Set `TRANSFORMERS_VERBOSITY=info` for more details.\n"
     ]
    },
    {
     "name": "stderr",
     "output_type": "stream",
     "text": [
      "The following generation flags are not valid and may be ignored: ['temperature', 'top_p', 'top_k']. Set `TRANSFORMERS_VERBOSITY=info` for more details.\n"
     ]
    },
    {
     "name": "stderr",
     "output_type": "stream",
     "text": [
      "The following generation flags are not valid and may be ignored: ['temperature', 'top_p', 'top_k']. Set `TRANSFORMERS_VERBOSITY=info` for more details.\n"
     ]
    },
    {
     "name": "stderr",
     "output_type": "stream",
     "text": [
      "The following generation flags are not valid and may be ignored: ['temperature', 'top_p', 'top_k']. Set `TRANSFORMERS_VERBOSITY=info` for more details.\n"
     ]
    },
    {
     "name": "stderr",
     "output_type": "stream",
     "text": [
      "The following generation flags are not valid and may be ignored: ['temperature', 'top_p', 'top_k']. Set `TRANSFORMERS_VERBOSITY=info` for more details.\n"
     ]
    },
    {
     "name": "stderr",
     "output_type": "stream",
     "text": [
      "The following generation flags are not valid and may be ignored: ['temperature', 'top_p', 'top_k']. Set `TRANSFORMERS_VERBOSITY=info` for more details.\n"
     ]
    },
    {
     "name": "stderr",
     "output_type": "stream",
     "text": [
      "The following generation flags are not valid and may be ignored: ['temperature', 'top_p', 'top_k']. Set `TRANSFORMERS_VERBOSITY=info` for more details.\n"
     ]
    },
    {
     "name": "stderr",
     "output_type": "stream",
     "text": [
      "The following generation flags are not valid and may be ignored: ['temperature', 'top_p', 'top_k']. Set `TRANSFORMERS_VERBOSITY=info` for more details.\n"
     ]
    },
    {
     "name": "stderr",
     "output_type": "stream",
     "text": [
      "The following generation flags are not valid and may be ignored: ['temperature', 'top_p', 'top_k']. Set `TRANSFORMERS_VERBOSITY=info` for more details.\n"
     ]
    },
    {
     "name": "stderr",
     "output_type": "stream",
     "text": [
      "The following generation flags are not valid and may be ignored: ['temperature', 'top_p', 'top_k']. Set `TRANSFORMERS_VERBOSITY=info` for more details.\n"
     ]
    },
    {
     "name": "stderr",
     "output_type": "stream",
     "text": [
      "The following generation flags are not valid and may be ignored: ['temperature', 'top_p', 'top_k']. Set `TRANSFORMERS_VERBOSITY=info` for more details.\n"
     ]
    },
    {
     "name": "stderr",
     "output_type": "stream",
     "text": [
      "The following generation flags are not valid and may be ignored: ['temperature', 'top_p', 'top_k']. Set `TRANSFORMERS_VERBOSITY=info` for more details.\n"
     ]
    },
    {
     "name": "stdout",
     "output_type": "stream",
     "text": [
      "Processed 40/50 samples...\n"
     ]
    },
    {
     "name": "stderr",
     "output_type": "stream",
     "text": [
      "The following generation flags are not valid and may be ignored: ['temperature', 'top_p', 'top_k']. Set `TRANSFORMERS_VERBOSITY=info` for more details.\n"
     ]
    },
    {
     "name": "stderr",
     "output_type": "stream",
     "text": [
      "The following generation flags are not valid and may be ignored: ['temperature', 'top_p', 'top_k']. Set `TRANSFORMERS_VERBOSITY=info` for more details.\n"
     ]
    },
    {
     "name": "stderr",
     "output_type": "stream",
     "text": [
      "The following generation flags are not valid and may be ignored: ['temperature', 'top_p', 'top_k']. Set `TRANSFORMERS_VERBOSITY=info` for more details.\n"
     ]
    },
    {
     "name": "stderr",
     "output_type": "stream",
     "text": [
      "The following generation flags are not valid and may be ignored: ['temperature', 'top_p', 'top_k']. Set `TRANSFORMERS_VERBOSITY=info` for more details.\n"
     ]
    },
    {
     "name": "stderr",
     "output_type": "stream",
     "text": [
      "The following generation flags are not valid and may be ignored: ['temperature', 'top_p', 'top_k']. Set `TRANSFORMERS_VERBOSITY=info` for more details.\n"
     ]
    },
    {
     "name": "stderr",
     "output_type": "stream",
     "text": [
      "The following generation flags are not valid and may be ignored: ['temperature', 'top_p', 'top_k']. Set `TRANSFORMERS_VERBOSITY=info` for more details.\n"
     ]
    },
    {
     "name": "stderr",
     "output_type": "stream",
     "text": [
      "The following generation flags are not valid and may be ignored: ['temperature', 'top_p', 'top_k']. Set `TRANSFORMERS_VERBOSITY=info` for more details.\n"
     ]
    },
    {
     "name": "stderr",
     "output_type": "stream",
     "text": [
      "The following generation flags are not valid and may be ignored: ['temperature', 'top_p', 'top_k']. Set `TRANSFORMERS_VERBOSITY=info` for more details.\n"
     ]
    },
    {
     "name": "stderr",
     "output_type": "stream",
     "text": [
      "The following generation flags are not valid and may be ignored: ['temperature', 'top_p', 'top_k']. Set `TRANSFORMERS_VERBOSITY=info` for more details.\n"
     ]
    },
    {
     "name": "stdout",
     "output_type": "stream",
     "text": [
      "\n",
      "Evaluation completed! Analyzed 50 valid samples out of 50\n"
     ]
    }
   ],
   "source": [
    "# Run comprehensive evaluation\n",
    "results = []\n",
    "price_analysis_results = []\n",
    "total_samples = min(50, len(test_dataset))  # Test on 100 samples or all if less\n",
    "\n",
    "print(f\"Running comprehensive evaluation on {total_samples} samples...\")\n",
    "\n",
    "for i in range(total_samples):\n",
    "    test_example = test_dataset[i]\n",
    "    test_text = format_input(test_example)\n",
    "    \n",
    "    inputs = tokenizer(test_text, return_tensors='pt', truncation=True, max_length=2048)\n",
    "    inputs = {k: v.to(model.device) for k, v in inputs.items()}\n",
    "    \n",
    "    with torch.no_grad():\n",
    "        outputs = model.generate(\n",
    "            **inputs,\n",
    "            max_new_tokens=256,\n",
    "            do_sample=False,  # Use greedy decoding for consistency\n",
    "            pad_token_id=tokenizer.eos_token_id\n",
    "        )\n",
    "    \n",
    "    generated_text = tokenizer.decode(outputs[0][inputs['input_ids'].shape[1]:], skip_special_tokens=True)\n",
    "    \n",
    "    # Extract predictions and ground truth\n",
    "    predicted_prices = extract_prices_from_text(generated_text)\n",
    "    actual_output = test_example.get('output', '')\n",
    "    actual_prices = extract_prices_from_text(actual_output)\n",
    "    \n",
    "    if predicted_prices and actual_prices:\n",
    "        # Truncate to minimum length for fair comparison\n",
    "        min_len = min(len(predicted_prices), len(actual_prices))\n",
    "        if min_len > 0:\n",
    "            pred_truncated = predicted_prices[:min_len]\n",
    "            actual_truncated = actual_prices[:min_len]\n",
    "            \n",
    "            # Calculate price differences\n",
    "            price_diff_analysis = calculate_price_differences(pred_truncated, actual_truncated)\n",
    "            \n",
    "            if price_diff_analysis:\n",
    "                results.append({\n",
    "                    'sample_id': i,\n",
    "                    'predicted': pred_truncated,\n",
    "                    'actual': actual_truncated,\n",
    "                    'price_analysis': price_diff_analysis\n",
    "                })\n",
    "                \n",
    "                price_analysis_results.append(price_diff_analysis)\n",
    "    \n",
    "    if (i + 1) % 20 == 0:\n",
    "        print(f\"Processed {i + 1}/{total_samples} samples...\")\n",
    "\n",
    "print(f\"\\nEvaluation completed! Analyzed {len(results)} valid samples out of {total_samples}\")"
   ]
  },
  {
   "cell_type": "markdown",
   "id": "2c2d5599",
   "metadata": {
    "papermill": {
     "duration": 0.010953,
     "end_time": "2025-09-12T00:30:00.835691",
     "exception": false,
     "start_time": "2025-09-12T00:30:00.824738",
     "status": "completed"
    },
    "tags": []
   },
   "source": [
    "## Price Difference Analysis Results"
   ]
  },
  {
   "cell_type": "code",
   "execution_count": 7,
   "id": "59ff5cf6",
   "metadata": {
    "execution": {
     "iopub.execute_input": "2025-09-12T00:30:00.858709Z",
     "iopub.status.busy": "2025-09-12T00:30:00.858041Z",
     "iopub.status.idle": "2025-09-12T00:30:00.876186Z",
     "shell.execute_reply": "2025-09-12T00:30:00.875065Z"
    },
    "papermill": {
     "duration": 0.032318,
     "end_time": "2025-09-12T00:30:00.878609",
     "exception": false,
     "start_time": "2025-09-12T00:30:00.846291",
     "status": "completed"
    },
    "tags": []
   },
   "outputs": [
    {
     "name": "stdout",
     "output_type": "stream",
     "text": [
      "================================================================================\n",
      "🔍 ENHANCED MODEL PRICE DIFFERENCE ANALYSIS\n",
      "================================================================================\n",
      "\n",
      "📊 ABSOLUTE PRICE DIFFERENCES:\n",
      "Mean Absolute Difference: $7396569.57\n",
      "Median Absolute Difference: $86.00\n",
      "Max Absolute Difference: $193618625.00\n",
      "Min Absolute Difference: $11.00\n",
      "Std Absolute Difference: $35987844.59\n",
      "\n",
      "📈 RELATIVE PRICE DIFFERENCES (%):\n",
      "Mean Relative Difference: 7480440.34%\n",
      "Median Relative Difference: -86.87%\n",
      "Max Relative Difference: 195574368.69%\n",
      "Min Relative Difference: -100.00%\n",
      "Std Relative Difference: 36349788.96%\n",
      "\n",
      "🎯 PERFORMANCE METRICS:\n",
      "Average Direction Accuracy: 0.00%\n",
      "Average RMSE: 7396569.5660\n",
      "Average MAE: 7396569.57\n",
      "Average MAPE: 7480583.47%\n",
      "\n",
      "📋 PRICE DIFFERENCE DISTRIBUTION:\n",
      "Absolute Differences Percentiles:\n",
      "  10th percentile: $46.80\n",
      "  25th percentile: $68.25\n",
      "  50th percentile: $86.00\n",
      "  75th percentile: $96.00\n",
      "  90th percentile: $1959.30\n",
      "  95th percentile: $1549955.75\n",
      "  99th percentile: $183613920.64\n",
      "\n",
      "Relative Differences Percentiles:\n",
      "  10th percentile: -99.38%\n",
      "  25th percentile: -94.35%\n",
      "  50th percentile: -86.87%\n",
      "  75th percentile: -71.59%\n",
      "  90th percentile: 3370.01%\n",
      "  95th percentile: 1772816.82%\n",
      "  99th percentile: 185468606.71%\n",
      "\n",
      "🔍 SAMPLE PREDICTIONS WITH PRICE ANALYSIS:\n",
      "\n",
      "Sample 1:\n",
      "Predicted: [77.0]\n",
      "Actual:    [99.0]\n",
      "Mean Abs Diff: $22.00\n",
      "Mean Rel Diff: -22.22%\n",
      "Direction Accuracy: 0.0%\n",
      "RMSE: 22.0000\n",
      "\n",
      "Sample 2:\n",
      "Predicted: [7.0]\n",
      "Actual:    [99.0]\n",
      "Mean Abs Diff: $92.00\n",
      "Mean Rel Diff: -92.93%\n",
      "Direction Accuracy: 0.0%\n",
      "RMSE: 92.0000\n",
      "\n",
      "Sample 3:\n",
      "Predicted: [999999.0]\n",
      "Actual:    [68.0]\n",
      "Mean Abs Diff: $999931.00\n",
      "Mean Rel Diff: 1470486.76%\n",
      "Direction Accuracy: 0.0%\n",
      "RMSE: 999931.0000\n",
      "\n",
      "Sample 4:\n",
      "Predicted: [0.0]\n",
      "Actual:    [68.0]\n",
      "Mean Abs Diff: $68.00\n",
      "Mean Rel Diff: -100.00%\n",
      "Direction Accuracy: 0.0%\n",
      "RMSE: 68.0000\n",
      "\n",
      "Sample 5:\n",
      "Predicted: [9.0]\n",
      "Actual:    [78.0]\n",
      "Mean Abs Diff: $69.00\n",
      "Mean Rel Diff: -88.46%\n",
      "Direction Accuracy: 0.0%\n",
      "RMSE: 69.0000\n"
     ]
    }
   ],
   "source": [
    "if results:\n",
    "    # Aggregate price difference statistics\n",
    "    all_abs_diffs = []\n",
    "    all_rel_diffs = []\n",
    "    all_direction_acc = []\n",
    "    all_rmse = []\n",
    "    all_mae = []\n",
    "    all_mape = []\n",
    "    \n",
    "    for analysis in price_analysis_results:\n",
    "        all_abs_diffs.extend(analysis['absolute_differences'])\n",
    "        all_rel_diffs.extend(analysis['relative_differences'])\n",
    "        all_direction_acc.append(analysis['direction_accuracy'])\n",
    "        all_rmse.append(analysis['rmse'])\n",
    "        all_mae.append(analysis['mae'])\n",
    "        all_mape.append(analysis['mape'])\n",
    "    \n",
    "    print(\"=\" * 80)\n",
    "    print(\"🔍 ENHANCED MODEL PRICE DIFFERENCE ANALYSIS\")\n",
    "    print(\"=\" * 80)\n",
    "    \n",
    "    print(f\"\\n📊 ABSOLUTE PRICE DIFFERENCES:\")\n",
    "    print(f\"Mean Absolute Difference: ${np.mean(all_abs_diffs):.2f}\")\n",
    "    print(f\"Median Absolute Difference: ${np.median(all_abs_diffs):.2f}\")\n",
    "    print(f\"Max Absolute Difference: ${np.max(all_abs_diffs):.2f}\")\n",
    "    print(f\"Min Absolute Difference: ${np.min(all_abs_diffs):.2f}\")\n",
    "    print(f\"Std Absolute Difference: ${np.std(all_abs_diffs):.2f}\")\n",
    "    \n",
    "    print(f\"\\n📈 RELATIVE PRICE DIFFERENCES (%):\") \n",
    "    print(f\"Mean Relative Difference: {np.mean(all_rel_diffs):.2f}%\")\n",
    "    print(f\"Median Relative Difference: {np.median(all_rel_diffs):.2f}%\")\n",
    "    print(f\"Max Relative Difference: {np.max(all_rel_diffs):.2f}%\")\n",
    "    print(f\"Min Relative Difference: {np.min(all_rel_diffs):.2f}%\")\n",
    "    print(f\"Std Relative Difference: {np.std(all_rel_diffs):.2f}%\")\n",
    "    \n",
    "    print(f\"\\n🎯 PERFORMANCE METRICS:\")\n",
    "    print(f\"Average Direction Accuracy: {np.mean(all_direction_acc):.2f}%\")\n",
    "    print(f\"Average RMSE: {np.mean(all_rmse):.4f}\")\n",
    "    print(f\"Average MAE: {np.mean(all_mae):.2f}\")\n",
    "    print(f\"Average MAPE: {np.mean(all_mape):.2f}%\")\n",
    "    \n",
    "    # Distribution analysis\n",
    "    print(f\"\\n📋 PRICE DIFFERENCE DISTRIBUTION:\")\n",
    "    percentiles = [10, 25, 50, 75, 90, 95, 99]\n",
    "    print(\"Absolute Differences Percentiles:\")\n",
    "    for p in percentiles:\n",
    "        value = np.percentile(all_abs_diffs, p)\n",
    "        print(f\"  {p}th percentile: ${value:.2f}\")\n",
    "    \n",
    "    print(\"\\nRelative Differences Percentiles:\")\n",
    "    for p in percentiles:\n",
    "        value = np.percentile(all_rel_diffs, p)\n",
    "        print(f\"  {p}th percentile: {value:.2f}%\")\n",
    "    \n",
    "    # Sample predictions\n",
    "    print(f\"\\n🔍 SAMPLE PREDICTIONS WITH PRICE ANALYSIS:\")\n",
    "    for i, result in enumerate(results[:5]):\n",
    "        analysis = result['price_analysis']\n",
    "        print(f\"\\nSample {i+1}:\")\n",
    "        print(f\"Predicted: {result['predicted']}\")\n",
    "        print(f\"Actual:    {result['actual']}\")\n",
    "        print(f\"Mean Abs Diff: ${analysis['mean_abs_diff']:.2f}\")\n",
    "        print(f\"Mean Rel Diff: {analysis['mean_rel_diff']:.2f}%\")\n",
    "        print(f\"Direction Accuracy: {analysis['direction_accuracy']:.1f}%\")\n",
    "        print(f\"RMSE: {analysis['rmse']:.4f}\")\n",
    "\n",
    "else:\n",
    "    print(\"❌ No valid results found for price difference analysis\")"
   ]
  },
  {
   "cell_type": "markdown",
   "id": "f453ebf1",
   "metadata": {
    "papermill": {
     "duration": 0.010755,
     "end_time": "2025-09-12T00:30:00.901968",
     "exception": false,
     "start_time": "2025-09-12T00:30:00.891213",
     "status": "completed"
    },
    "tags": []
   },
   "source": [
    "## Visualizations for Price Difference Analysis"
   ]
  },
  {
   "cell_type": "code",
   "execution_count": 8,
   "id": "86be4ef9",
   "metadata": {
    "execution": {
     "iopub.execute_input": "2025-09-12T00:30:00.925173Z",
     "iopub.status.busy": "2025-09-12T00:30:00.924589Z",
     "iopub.status.idle": "2025-09-12T00:30:04.022422Z",
     "shell.execute_reply": "2025-09-12T00:30:04.019647Z"
    },
    "papermill": {
     "duration": 3.111161,
     "end_time": "2025-09-12T00:30:04.023868",
     "exception": false,
     "start_time": "2025-09-12T00:30:00.912707",
     "status": "completed"
    },
    "tags": []
   },
   "outputs": [
    {
     "data": {
      "image/png": "[encoded data removed]",
      "text/plain": [
       "<Figure size 1800x1200 with 6 Axes>"
      ]
     },
     "metadata": {},
     "output_type": "display_data"
    },
    {
     "name": "stdout",
     "output_type": "stream",
     "text": [
      "📈 Price difference analysis visualization saved as 'enhanced_model_price_difference_analysis.png'\n"
     ]
    }
   ],
   "source": [
    "if results:\n",
    "    plt.style.use('default')\n",
    "    fig, axes = plt.subplots(2, 3, figsize=(18, 12))\n",
    "    fig.suptitle('Enhanced Bitcoin Model - Price Difference Analysis', fontsize=16, fontweight='bold')\n",
    "    \n",
    "    # 1. Absolute differences histogram\n",
    "    axes[0,0].hist(all_abs_diffs, bins=50, alpha=0.7, color='skyblue', edgecolor='black')\n",
    "    axes[0,0].set_title('Distribution of Absolute Price Differences', fontweight='bold')\n",
    "    axes[0,0].set_xlabel('Absolute Difference ($)')\n",
    "    axes[0,0].set_ylabel('Frequency')\n",
    "    axes[0,0].grid(True, alpha=0.3)\n",
    "    \n",
    "    # 2. Relative differences histogram\n",
    "    axes[0,1].hist(all_rel_diffs, bins=50, alpha=0.7, color='lightcoral', edgecolor='black')\n",
    "    axes[0,1].set_title('Distribution of Relative Price Differences', fontweight='bold')\n",
    "    axes[0,1].set_xlabel('Relative Difference (%)')\n",
    "    axes[0,1].set_ylabel('Frequency')\n",
    "    axes[0,1].grid(True, alpha=0.3)\n",
    "    \n",
    "    # 3. Direction accuracy by sample\n",
    "    axes[0,2].plot(all_direction_acc, 'o-', alpha=0.7, color='green')\n",
    "    axes[0,2].set_title('Direction Accuracy by Sample', fontweight='bold')\n",
    "    axes[0,2].set_xlabel('Sample Index')\n",
    "    axes[0,2].set_ylabel('Direction Accuracy (%)')\n",
    "    axes[0,2].grid(True, alpha=0.3)\n",
    "    axes[0,2].axhline(y=50, color='red', linestyle='--', alpha=0.7, label='Random (50%)')\n",
    "    axes[0,2].legend()\n",
    "    \n",
    "    # 4. RMSE distribution\n",
    "    axes[1,0].boxplot(all_rmse)\n",
    "    axes[1,0].set_title('RMSE Distribution', fontweight='bold')\n",
    "    axes[1,0].set_ylabel('RMSE')\n",
    "    axes[1,0].grid(True, alpha=0.3)\n",
    "    \n",
    "    # 5. MAE vs MAPE scatter\n",
    "    axes[1,1].scatter(all_mae, all_mape, alpha=0.6, color='purple')\n",
    "    axes[1,1].set_title('MAE vs MAPE Relationship', fontweight='bold')\n",
    "    axes[1,1].set_xlabel('MAE')\n",
    "    axes[1,1].set_ylabel('MAPE (%)')\n",
    "    axes[1,1].grid(True, alpha=0.3)\n",
    "    \n",
    "    # 6. Cumulative error distribution\n",
    "    sorted_abs_diffs = np.sort(all_abs_diffs)\n",
    "    cumulative = np.arange(1, len(sorted_abs_diffs) + 1) / len(sorted_abs_diffs)\n",
    "    axes[1,2].plot(sorted_abs_diffs, cumulative, linewidth=2, color='orange')\n",
    "    axes[1,2].set_title('Cumulative Distribution of Absolute Errors', fontweight='bold')\n",
    "    axes[1,2].set_xlabel('Absolute Difference ($)')\n",
    "    axes[1,2].set_ylabel('Cumulative Probability')\n",
    "    axes[1,2].grid(True, alpha=0.3)\n",
    "    \n",
    "    plt.tight_layout()\n",
    "    plt.savefig('enhanced_model_price_difference_analysis.png', dpi=300, bbox_inches='tight')\n",
    "    plt.show()\n",
    "    \n",
    "    print(\"📈 Price difference analysis visualization saved as 'enhanced_model_price_difference_analysis.png'\")\n",
    "\n",
    "else:\n",
    "    print(\"❌ Cannot create visualizations - insufficient data\")"
   ]
  },
  {
   "cell_type": "markdown",
   "id": "a2ee1975",
   "metadata": {
    "papermill": {
     "duration": 0.010522,
     "end_time": "2025-09-12T00:30:04.046731",
     "exception": false,
     "start_time": "2025-09-12T00:30:04.036209",
     "status": "completed"
    },
    "tags": []
   },
   "source": [
    "## Comparison with Base Qwen Model"
   ]
  },
  {
   "cell_type": "code",
   "execution_count": 9,
   "id": "8b4761ea",
   "metadata": {
    "execution": {
     "iopub.execute_input": "2025-09-12T00:30:04.067907Z",
     "iopub.status.busy": "2025-09-12T00:30:04.067310Z",
     "iopub.status.idle": "2025-09-12T00:59:16.025875Z",
     "shell.execute_reply": "2025-09-12T00:59:16.024464Z"
    },
    "papermill": {
     "duration": 1751.992508,
     "end_time": "2025-09-12T00:59:16.048894",
     "exception": false,
     "start_time": "2025-09-12T00:30:04.056386",
     "status": "completed"
    },
    "tags": []
   },
   "outputs": [
    {
     "name": "stderr",
     "output_type": "stream",
     "text": [
      "The following generation flags are not valid and may be ignored: ['temperature', 'top_p', 'top_k']. Set `TRANSFORMERS_VERBOSITY=info` for more details.\n"
     ]
    },
    {
     "name": "stdout",
     "output_type": "stream",
     "text": [
      "Evaluating base Qwen model on 50 samples...\n"
     ]
    },
    {
     "name": "stderr",
     "output_type": "stream",
     "text": [
      "The following generation flags are not valid and may be ignored: ['temperature', 'top_p', 'top_k']. Set `TRANSFORMERS_VERBOSITY=info` for more details.\n"
     ]
    },
    {
     "name": "stderr",
     "output_type": "stream",
     "text": [
      "The following generation flags are not valid and may be ignored: ['temperature', 'top_p', 'top_k']. Set `TRANSFORMERS_VERBOSITY=info` for more details.\n"
     ]
    },
    {
     "name": "stderr",
     "output_type": "stream",
     "text": [
      "The following generation flags are not valid and may be ignored: ['temperature', 'top_p', 'top_k']. Set `TRANSFORMERS_VERBOSITY=info` for more details.\n"
     ]
    },
    {
     "name": "stderr",
     "output_type": "stream",
     "text": [
      "The following generation flags are not valid and may be ignored: ['temperature', 'top_p', 'top_k']. Set `TRANSFORMERS_VERBOSITY=info` for more details.\n"
     ]
    },
    {
     "name": "stderr",
     "output_type": "stream",
     "text": [
      "The following generation flags are not valid and may be ignored: ['temperature', 'top_p', 'top_k']. Set `TRANSFORMERS_VERBOSITY=info` for more details.\n"
     ]
    },
    {
     "name": "stderr",
     "output_type": "stream",
     "text": [
      "The following generation flags are not valid and may be ignored: ['temperature', 'top_p', 'top_k']. Set `TRANSFORMERS_VERBOSITY=info` for more details.\n"
     ]
    },
    {
     "name": "stderr",
     "output_type": "stream",
     "text": [
      "The following generation flags are not valid and may be ignored: ['temperature', 'top_p', 'top_k']. Set `TRANSFORMERS_VERBOSITY=info` for more details.\n"
     ]
    },
    {
     "name": "stderr",
     "output_type": "stream",
     "text": [
      "The following generation flags are not valid and may be ignored: ['temperature', 'top_p', 'top_k']. Set `TRANSFORMERS_VERBOSITY=info` for more details.\n"
     ]
    },
    {
     "name": "stderr",
     "output_type": "stream",
     "text": [
      "The following generation flags are not valid and may be ignored: ['temperature', 'top_p', 'top_k']. Set `TRANSFORMERS_VERBOSITY=info` for more details.\n"
     ]
    },
    {
     "name": "stderr",
     "output_type": "stream",
     "text": [
      "The following generation flags are not valid and may be ignored: ['temperature', 'top_p', 'top_k']. Set `TRANSFORMERS_VERBOSITY=info` for more details.\n"
     ]
    },
    {
     "name": "stdout",
     "output_type": "stream",
     "text": [
      "Processed 10/50 samples...\n"
     ]
    },
    {
     "name": "stderr",
     "output_type": "stream",
     "text": [
      "The following generation flags are not valid and may be ignored: ['temperature', 'top_p', 'top_k']. Set `TRANSFORMERS_VERBOSITY=info` for more details.\n"
     ]
    },
    {
     "name": "stderr",
     "output_type": "stream",
     "text": [
      "The following generation flags are not valid and may be ignored: ['temperature', 'top_p', 'top_k']. Set `TRANSFORMERS_VERBOSITY=info` for more details.\n"
     ]
    },
    {
     "name": "stderr",
     "output_type": "stream",
     "text": [
      "The following generation flags are not valid and may be ignored: ['temperature', 'top_p', 'top_k']. Set `TRANSFORMERS_VERBOSITY=info` for more details.\n"
     ]
    },
    {
     "name": "stderr",
     "output_type": "stream",
     "text": [
      "The following generation flags are not valid and may be ignored: ['temperature', 'top_p', 'top_k']. Set `TRANSFORMERS_VERBOSITY=info` for more details.\n"
     ]
    },
    {
     "name": "stderr",
     "output_type": "stream",
     "text": [
      "The following generation flags are not valid and may be ignored: ['temperature', 'top_p', 'top_k']. Set `TRANSFORMERS_VERBOSITY=info` for more details.\n"
     ]
    },
    {
     "name": "stderr",
     "output_type": "stream",
     "text": [
      "The following generation flags are not valid and may be ignored: ['temperature', 'top_p', 'top_k']. Set `TRANSFORMERS_VERBOSITY=info` for more details.\n"
     ]
    },
    {
     "name": "stderr",
     "output_type": "stream",
     "text": [
      "The following generation flags are not valid and may be ignored: ['temperature', 'top_p', 'top_k']. Set `TRANSFORMERS_VERBOSITY=info` for more details.\n"
     ]
    },
    {
     "name": "stderr",
     "output_type": "stream",
     "text": [
      "The following generation flags are not valid and may be ignored: ['temperature', 'top_p', 'top_k']. Set `TRANSFORMERS_VERBOSITY=info` for more details.\n"
     ]
    },
    {
     "name": "stderr",
     "output_type": "stream",
     "text": [
      "The following generation flags are not valid and may be ignored: ['temperature', 'top_p', 'top_k']. Set `TRANSFORMERS_VERBOSITY=info` for more details.\n"
     ]
    },
    {
     "name": "stderr",
     "output_type": "stream",
     "text": [
      "The following generation flags are not valid and may be ignored: ['temperature', 'top_p', 'top_k']. Set `TRANSFORMERS_VERBOSITY=info` for more details.\n"
     ]
    },
    {
     "name": "stdout",
     "output_type": "stream",
     "text": [
      "Processed 20/50 samples...\n"
     ]
    },
    {
     "name": "stderr",
     "output_type": "stream",
     "text": [
      "The following generation flags are not valid and may be ignored: ['temperature', 'top_p', 'top_k']. Set `TRANSFORMERS_VERBOSITY=info` for more details.\n"
     ]
    },
    {
     "name": "stderr",
     "output_type": "stream",
     "text": [
      "The following generation flags are not valid and may be ignored: ['temperature', 'top_p', 'top_k']. Set `TRANSFORMERS_VERBOSITY=info` for more details.\n"
     ]
    },
    {
     "name": "stderr",
     "output_type": "stream",
     "text": [
      "The following generation flags are not valid and may be ignored: ['temperature', 'top_p', 'top_k']. Set `TRANSFORMERS_VERBOSITY=info` for more details.\n"
     ]
    },
    {
     "name": "stderr",
     "output_type": "stream",
     "text": [
      "The following generation flags are not valid and may be ignored: ['temperature', 'top_p', 'top_k']. Set `TRANSFORMERS_VERBOSITY=info` for more details.\n"
     ]
    },
    {
     "name": "stderr",
     "output_type": "stream",
     "text": [
      "The following generation flags are not valid and may be ignored: ['temperature', 'top_p', 'top_k']. Set `TRANSFORMERS_VERBOSITY=info` for more details.\n"
     ]
    },
    {
     "name": "stderr",
     "output_type": "stream",
     "text": [
      "The following generation flags are not valid and may be ignored: ['temperature', 'top_p', 'top_k']. Set `TRANSFORMERS_VERBOSITY=info` for more details.\n"
     ]
    },
    {
     "name": "stderr",
     "output_type": "stream",
     "text": [
      "The following generation flags are not valid and may be ignored: ['temperature', 'top_p', 'top_k']. Set `TRANSFORMERS_VERBOSITY=info` for more details.\n"
     ]
    },
    {
     "name": "stderr",
     "output_type": "stream",
     "text": [
      "The following generation flags are not valid and may be ignored: ['temperature', 'top_p', 'top_k']. Set `TRANSFORMERS_VERBOSITY=info` for more details.\n"
     ]
    },
    {
     "name": "stderr",
     "output_type": "stream",
     "text": [
      "The following generation flags are not valid and may be ignored: ['temperature', 'top_p', 'top_k']. Set `TRANSFORMERS_VERBOSITY=info` for more details.\n"
     ]
    },
    {
     "name": "stderr",
     "output_type": "stream",
     "text": [
      "The following generation flags are not valid and may be ignored: ['temperature', 'top_p', 'top_k']. Set `TRANSFORMERS_VERBOSITY=info` for more details.\n"
     ]
    },
    {
     "name": "stdout",
     "output_type": "stream",
     "text": [
      "Processed 30/50 samples...\n"
     ]
    },
    {
     "name": "stderr",
     "output_type": "stream",
     "text": [
      "The following generation flags are not valid and may be ignored: ['temperature', 'top_p', 'top_k']. Set `TRANSFORMERS_VERBOSITY=info` for more details.\n"
     ]
    },
    {
     "name": "stderr",
     "output_type": "stream",
     "text": [
      "The following generation flags are not valid and may be ignored: ['temperature', 'top_p', 'top_k']. Set `TRANSFORMERS_VERBOSITY=info` for more details.\n"
     ]
    },
    {
     "name": "stderr",
     "output_type": "stream",
     "text": [
      "The following generation flags are not valid and may be ignored: ['temperature', 'top_p', 'top_k']. Set `TRANSFORMERS_VERBOSITY=info` for more details.\n"
     ]
    },
    {
     "name": "stderr",
     "output_type": "stream",
     "text": [
      "The following generation flags are not valid and may be ignored: ['temperature', 'top_p', 'top_k']. Set `TRANSFORMERS_VERBOSITY=info` for more details.\n"
     ]
    },
    {
     "name": "stderr",
     "output_type": "stream",
     "text": [
      "The following generation flags are not valid and may be ignored: ['temperature', 'top_p', 'top_k']. Set `TRANSFORMERS_VERBOSITY=info` for more details.\n"
     ]
    },
    {
     "name": "stderr",
     "output_type": "stream",
     "text": [
      "The following generation flags are not valid and may be ignored: ['temperature', 'top_p', 'top_k']. Set `TRANSFORMERS_VERBOSITY=info` for more details.\n"
     ]
    },
    {
     "name": "stderr",
     "output_type": "stream",
     "text": [
      "The following generation flags are not valid and may be ignored: ['temperature', 'top_p', 'top_k']. Set `TRANSFORMERS_VERBOSITY=info` for more details.\n"
     ]
    },
    {
     "name": "stderr",
     "output_type": "stream",
     "text": [
      "The following generation flags are not valid and may be ignored: ['temperature', 'top_p', 'top_k']. Set `TRANSFORMERS_VERBOSITY=info` for more details.\n"
     ]
    },
    {
     "name": "stderr",
     "output_type": "stream",
     "text": [
      "The following generation flags are not valid and may be ignored: ['temperature', 'top_p', 'top_k']. Set `TRANSFORMERS_VERBOSITY=info` for more details.\n"
     ]
    },
    {
     "name": "stderr",
     "output_type": "stream",
     "text": [
      "The following generation flags are not valid and may be ignored: ['temperature', 'top_p', 'top_k']. Set `TRANSFORMERS_VERBOSITY=info` for more details.\n"
     ]
    },
    {
     "name": "stdout",
     "output_type": "stream",
     "text": [
      "Processed 40/50 samples...\n"
     ]
    },
    {
     "name": "stderr",
     "output_type": "stream",
     "text": [
      "The following generation flags are not valid and may be ignored: ['temperature', 'top_p', 'top_k']. Set `TRANSFORMERS_VERBOSITY=info` for more details.\n"
     ]
    },
    {
     "name": "stderr",
     "output_type": "stream",
     "text": [
      "The following generation flags are not valid and may be ignored: ['temperature', 'top_p', 'top_k']. Set `TRANSFORMERS_VERBOSITY=info` for more details.\n"
     ]
    },
    {
     "name": "stderr",
     "output_type": "stream",
     "text": [
      "The following generation flags are not valid and may be ignored: ['temperature', 'top_p', 'top_k']. Set `TRANSFORMERS_VERBOSITY=info` for more details.\n"
     ]
    },
    {
     "name": "stderr",
     "output_type": "stream",
     "text": [
      "The following generation flags are not valid and may be ignored: ['temperature', 'top_p', 'top_k']. Set `TRANSFORMERS_VERBOSITY=info` for more details.\n"
     ]
    },
    {
     "name": "stderr",
     "output_type": "stream",
     "text": [
      "The following generation flags are not valid and may be ignored: ['temperature', 'top_p', 'top_k']. Set `TRANSFORMERS_VERBOSITY=info` for more details.\n"
     ]
    },
    {
     "name": "stderr",
     "output_type": "stream",
     "text": [
      "The following generation flags are not valid and may be ignored: ['temperature', 'top_p', 'top_k']. Set `TRANSFORMERS_VERBOSITY=info` for more details.\n"
     ]
    },
    {
     "name": "stderr",
     "output_type": "stream",
     "text": [
      "The following generation flags are not valid and may be ignored: ['temperature', 'top_p', 'top_k']. Set `TRANSFORMERS_VERBOSITY=info` for more details.\n"
     ]
    },
    {
     "name": "stderr",
     "output_type": "stream",
     "text": [
      "The following generation flags are not valid and may be ignored: ['temperature', 'top_p', 'top_k']. Set `TRANSFORMERS_VERBOSITY=info` for more details.\n"
     ]
    },
    {
     "name": "stderr",
     "output_type": "stream",
     "text": [
      "The following generation flags are not valid and may be ignored: ['temperature', 'top_p', 'top_k']. Set `TRANSFORMERS_VERBOSITY=info` for more details.\n"
     ]
    },
    {
     "name": "stdout",
     "output_type": "stream",
     "text": [
      "Processed 50/50 samples...\n",
      "\n",
      "Base model evaluation completed! Analyzed 50 valid samples\n"
     ]
    }
   ],
   "source": [
    "# Evaluate base model with price difference analysis\n",
    "def format_input_for_base_model(example):\n",
    "    \"\"\"Format input for base Qwen model with bitcoin prediction task\"\"\"\n",
    "    instruction = example.get('instruction', '')\n",
    "    user_input = example.get('input', '')\n",
    "    \n",
    "    bitcoin_instruction = \"\"\"You are a Bitcoin investment advisor. Based on the provided market data and news, predict the next 10 days of Bitcoin prices. Provide your predictions as comma-separated numbers.\"\"\"\n",
    "    \n",
    "    messages = [\n",
    "        {'role': 'system', 'content': bitcoin_instruction},\n",
    "        {'role': 'user', 'content': f\"{instruction}\\n\\n{user_input}\\n\\nPlease provide 10 Bitcoin price predictions for the next 10 days, separated by commas.\"}\n",
    "    ]\n",
    "    return base_qwen_tokenizer.apply_chat_template(messages, tokenize=False, add_generation_prompt=True)\n",
    "\n",
    "# Run evaluation on base model\n",
    "base_results = []\n",
    "base_price_analysis_results = []\n",
    "comparison_samples = min(50, len(results))  # Use subset for comparison\n",
    "\n",
    "print(f\"Evaluating base Qwen model on {comparison_samples} samples...\")\n",
    "\n",
    "for i in range(comparison_samples):\n",
    "    test_example = test_dataset[i]\n",
    "    test_text = format_input_for_base_model(test_example)\n",
    "    \n",
    "    inputs = base_qwen_tokenizer(test_text, return_tensors='pt', truncation=True, max_length=2048)\n",
    "    inputs = {k: v.to(base_qwen_model.device) for k, v in inputs.items()}\n",
    "    \n",
    "    with torch.no_grad():\n",
    "        outputs = base_qwen_model.generate(\n",
    "            **inputs,\n",
    "            max_new_tokens=256,\n",
    "            do_sample=False,\n",
    "            pad_token_id=base_qwen_tokenizer.eos_token_id\n",
    "        )\n",
    "    \n",
    "    generated_text = base_qwen_tokenizer.decode(outputs[0][inputs['input_ids'].shape[1]:], skip_special_tokens=True)\n",
    "    \n",
    "    predicted_prices = extract_prices_from_text(generated_text)\n",
    "    actual_output = test_example.get('output', '')\n",
    "    actual_prices = extract_prices_from_text(actual_output)\n",
    "    \n",
    "    if predicted_prices and actual_prices:\n",
    "        min_len = min(len(predicted_prices), len(actual_prices))\n",
    "        if min_len > 0:\n",
    "            pred_truncated = predicted_prices[:min_len]\n",
    "            actual_truncated = actual_prices[:min_len]\n",
    "            \n",
    "            price_diff_analysis = calculate_price_differences(pred_truncated, actual_truncated)\n",
    "            \n",
    "            if price_diff_analysis:\n",
    "                base_results.append({\n",
    "                    'sample_id': i,\n",
    "                    'predicted': pred_truncated,\n",
    "                    'actual': actual_truncated,\n",
    "                    'price_analysis': price_diff_analysis\n",
    "                })\n",
    "                \n",
    "                base_price_analysis_results.append(price_diff_analysis)\n",
    "    \n",
    "    if (i + 1) % 10 == 0:\n",
    "        print(f\"Processed {i + 1}/{comparison_samples} samples...\")\n",
    "\n",
    "print(f\"\\nBase model evaluation completed! Analyzed {len(base_results)} valid samples\")"
   ]
  },
  {
   "cell_type": "markdown",
   "id": "b4cebd92",
   "metadata": {
    "papermill": {
     "duration": 0.017538,
     "end_time": "2025-09-12T00:59:16.084569",
     "exception": false,
     "start_time": "2025-09-12T00:59:16.067031",
     "status": "completed"
    },
    "tags": []
   },
   "source": [
    "## Comprehensive Model Comparison with Price Differences"
   ]
  },
  {
   "cell_type": "code",
   "execution_count": 10,
   "id": "fb29582d",
   "metadata": {
    "execution": {
     "iopub.execute_input": "2025-09-12T00:59:16.121768Z",
     "iopub.status.busy": "2025-09-12T00:59:16.121164Z",
     "iopub.status.idle": "2025-09-12T00:59:16.164040Z",
     "shell.execute_reply": "2025-09-12T00:59:16.163254Z"
    },
    "papermill": {
     "duration": 0.064777,
     "end_time": "2025-09-12T00:59:16.166665",
     "exception": false,
     "start_time": "2025-09-12T00:59:16.101888",
     "status": "completed"
    },
    "tags": []
   },
   "outputs": [
    {
     "name": "stdout",
     "output_type": "stream",
     "text": [
      "====================================================================================================\n",
      "🏆 COMPREHENSIVE MODEL COMPARISON - PRICE DIFFERENCE ANALYSIS\n",
      "====================================================================================================\n",
      "                        Metric  Base Qwen Model Enhanced Model Improvement (%)\n",
      "  Mean Absolute Difference ($)   20009999909.44     7396569.57           99.96\n",
      "Median Absolute Difference ($)            84.50          86.00           -1.78\n",
      "  Mean Relative Difference (%)   20212120986.39     7480440.34           99.96\n",
      "Median Relative Difference (%)           -86.87         -86.87            0.00\n",
      "        Direction Accuracy (%)             0.00           0.00             nan\n",
      "                          RMSE 20009999909.4368   7396569.5660           99.96\n",
      "                           MAE   20009999909.44     7396569.57           99.96\n",
      "                      MAPE (%)   20212121130.05     7480583.47           99.96\n",
      "\n",
      "📊 STATISTICAL SIGNIFICANCE TESTS:\n",
      "--------------------------------------------------\n",
      "MAE Wilcoxon test p-value: 0.353481\n",
      "Direction Accuracy Wilcoxon test p-value: nan\n",
      "\n",
      "Significance level: α = 0.05\n",
      "Significant improvement in MAE: NO\n",
      "Significant improvement in Direction Accuracy: NO\n",
      "\n",
      "💾 Comprehensive analysis results saved to 'enhanced_model_comprehensive_analysis.json'\n",
      "\n",
      "📋 RESEARCH PAPER SUMMARY - ENHANCED MODEL:\n",
      "============================================================\n",
      "Enhanced Model Performance:\n",
      "• Price prediction accuracy improved by 99.96% (absolute differences)\n",
      "• Direction prediction accuracy improved by nan%\n",
      "• Overall MAE improved by 99.96%\n",
      "• Mean absolute price difference: $7396569.57\n",
      "• Direction accuracy: 0.0%\n"
     ]
    },
    {
     "name": "stderr",
     "output_type": "stream",
     "text": [
      "/tmp/ipykernel_787134/932398215.py:79: RuntimeWarning: invalid value encountered in scalar divide\n",
      "  f\"{((np.mean(enhanced_direction_acc) - np.mean(base_direction_acc)) / np.mean(base_direction_acc) * 100):.2f}\",\n",
      "/home/moein_salimi/.local/lib/python3.10/site-packages/scipy/stats/_wilcoxon.py:172: RuntimeWarning: invalid value encountered in scalar divide\n",
      "  z = (r_plus - mn) / se\n",
      "/tmp/ipykernel_787134/932398215.py:188: RuntimeWarning: invalid value encountered in scalar divide\n",
      "  direction_improvement = (np.mean(enhanced_direction_acc) - np.mean(base_direction_acc)) / np.mean(base_direction_acc) * 100\n"
     ]
    }
   ],
   "source": [
    "if base_results and results:\n",
    "    # Extract metrics for comparison\n",
    "    enhanced_results_matched = results[:len(base_results)]  # Match sample count\n",
    "    \n",
    "    # Base model metrics\n",
    "    base_abs_diffs = []\n",
    "    base_rel_diffs = []\n",
    "    base_direction_acc = []\n",
    "    base_rmse = []\n",
    "    base_mae = []\n",
    "    base_mape = []\n",
    "    \n",
    "    for analysis in base_price_analysis_results:\n",
    "        base_abs_diffs.extend(analysis['absolute_differences'])\n",
    "        base_rel_diffs.extend(analysis['relative_differences'])\n",
    "        base_direction_acc.append(analysis['direction_accuracy'])\n",
    "        base_rmse.append(analysis['rmse'])\n",
    "        base_mae.append(analysis['mae'])\n",
    "        base_mape.append(analysis['mape'])\n",
    "    \n",
    "    # Enhanced model metrics (matched samples)\n",
    "    enhanced_abs_diffs = []\n",
    "    enhanced_rel_diffs = []\n",
    "    enhanced_direction_acc = []\n",
    "    enhanced_rmse = []\n",
    "    enhanced_mae = []\n",
    "    enhanced_mape = []\n",
    "    \n",
    "    for result in enhanced_results_matched:\n",
    "        analysis = result['price_analysis']\n",
    "        enhanced_abs_diffs.extend(analysis['absolute_differences'])\n",
    "        enhanced_rel_diffs.extend(analysis['relative_differences'])\n",
    "        enhanced_direction_acc.append(analysis['direction_accuracy'])\n",
    "        enhanced_rmse.append(analysis['rmse'])\n",
    "        enhanced_mae.append(analysis['mae'])\n",
    "        enhanced_mape.append(analysis['mape'])\n",
    "    \n",
    "    print(\"=\" * 100)\n",
    "    print(\"🏆 COMPREHENSIVE MODEL COMPARISON - PRICE DIFFERENCE ANALYSIS\")\n",
    "    print(\"=\" * 100)\n",
    "    \n",
    "    # Create detailed comparison table\n",
    "    comparison_metrics = {\n",
    "        'Metric': [\n",
    "            'Mean Absolute Difference ($)',\n",
    "            'Median Absolute Difference ($)',\n",
    "            'Mean Relative Difference (%)',\n",
    "            'Median Relative Difference (%)',\n",
    "            'Direction Accuracy (%)',\n",
    "            'RMSE',\n",
    "            'MAE',\n",
    "            'MAPE (%)'\n",
    "        ],\n",
    "        'Base Qwen Model': [\n",
    "            f\"{np.mean(base_abs_diffs):.2f}\",\n",
    "            f\"{np.median(base_abs_diffs):.2f}\",\n",
    "            f\"{np.mean(base_rel_diffs):.2f}\",\n",
    "            f\"{np.median(base_rel_diffs):.2f}\",\n",
    "            f\"{np.mean(base_direction_acc):.2f}\",\n",
    "            f\"{np.mean(base_rmse):.4f}\",\n",
    "            f\"{np.mean(base_mae):.2f}\",\n",
    "            f\"{np.mean(base_mape):.2f}\"\n",
    "        ],\n",
    "        'Enhanced Model': [\n",
    "            f\"{np.mean(enhanced_abs_diffs):.2f}\",\n",
    "            f\"{np.median(enhanced_abs_diffs):.2f}\",\n",
    "            f\"{np.mean(enhanced_rel_diffs):.2f}\",\n",
    "            f\"{np.median(enhanced_rel_diffs):.2f}\",\n",
    "            f\"{np.mean(enhanced_direction_acc):.2f}\",\n",
    "            f\"{np.mean(enhanced_rmse):.4f}\",\n",
    "            f\"{np.mean(enhanced_mae):.2f}\",\n",
    "            f\"{np.mean(enhanced_mape):.2f}\"\n",
    "        ],\n",
    "        'Improvement (%)': [\n",
    "            f\"{((np.mean(base_abs_diffs) - np.mean(enhanced_abs_diffs)) / np.mean(base_abs_diffs) * 100):.2f}\",\n",
    "            f\"{((np.median(base_abs_diffs) - np.median(enhanced_abs_diffs)) / np.median(base_abs_diffs) * 100):.2f}\",\n",
    "            f\"{((abs(np.mean(base_rel_diffs)) - abs(np.mean(enhanced_rel_diffs))) / abs(np.mean(base_rel_diffs)) * 100):.2f}\",\n",
    "            f\"{((abs(np.median(base_rel_diffs)) - abs(np.median(enhanced_rel_diffs))) / abs(np.median(base_rel_diffs)) * 100):.2f}\",\n",
    "            f\"{((np.mean(enhanced_direction_acc) - np.mean(base_direction_acc)) / np.mean(base_direction_acc) * 100):.2f}\",\n",
    "            f\"{((np.mean(base_rmse) - np.mean(enhanced_rmse)) / np.mean(base_rmse) * 100):.2f}\",\n",
    "            f\"{((np.mean(base_mae) - np.mean(enhanced_mae)) / np.mean(base_mae) * 100):.2f}\",\n",
    "            f\"{((np.mean(base_mape) - np.mean(enhanced_mape)) / np.mean(base_mape) * 100):.2f}\"\n",
    "        ]\n",
    "    }\n",
    "    \n",
    "    df_comparison = pd.DataFrame(comparison_metrics)\n",
    "    print(df_comparison.to_string(index=False))\n",
    "    \n",
    "    # Statistical significance tests\n",
    "    print(f\"\\n📊 STATISTICAL SIGNIFICANCE TESTS:\")\n",
    "    print(\"-\" * 50)\n",
    "    \n",
    "    try:\n",
    "        # Test on sample-level aggregated metrics\n",
    "        base_sample_mae = [analysis['mae'] for analysis in base_price_analysis_results]\n",
    "        enhanced_sample_mae = [result['price_analysis']['mae'] for result in enhanced_results_matched]\n",
    "        \n",
    "        base_sample_direction = [analysis['direction_accuracy'] for analysis in base_price_analysis_results]\n",
    "        enhanced_sample_direction = [result['price_analysis']['direction_accuracy'] for result in enhanced_results_matched]\n",
    "        \n",
    "        mae_stat, mae_pval = wilcoxon(base_sample_mae, enhanced_sample_mae)\n",
    "        direction_stat, direction_pval = wilcoxon(base_sample_direction, enhanced_sample_direction)\n",
    "        \n",
    "        alpha = 0.05\n",
    "        print(f\"MAE Wilcoxon test p-value: {mae_pval:.6f}\")\n",
    "        print(f\"Direction Accuracy Wilcoxon test p-value: {direction_pval:.6f}\")\n",
    "        print(f\"\\nSignificance level: α = {alpha}\")\n",
    "        print(f\"Significant improvement in MAE: {'YES' if mae_pval < alpha else 'NO'}\")\n",
    "        print(f\"Significant improvement in Direction Accuracy: {'YES' if direction_pval < alpha else 'NO'}\")\n",
    "        \n",
    "    except Exception as e:\n",
    "        print(f\"Statistical test error: {e}\")\n",
    "    \n",
    "    # Prepare JSON-serializable detailed results\n",
    "    def make_json_serializable(results_list):\n",
    "        \"\"\"Convert numpy arrays in results to lists for JSON serialization\"\"\"\n",
    "        json_results = []\n",
    "        for result in results_list:\n",
    "            json_result = {\n",
    "                'sample_id': result['sample_id'],\n",
    "                'predicted': [float(x) for x in result['predicted']],\n",
    "                'actual': [float(x) for x in result['actual']],\n",
    "                'price_analysis': {\n",
    "                    'absolute_differences': [float(x) for x in result['price_analysis']['absolute_differences']],\n",
    "                    'relative_differences': [float(x) for x in result['price_analysis']['relative_differences']],\n",
    "                    'mean_abs_diff': float(result['price_analysis']['mean_abs_diff']),\n",
    "                    'max_abs_diff': float(result['price_analysis']['max_abs_diff']),\n",
    "                    'min_abs_diff': float(result['price_analysis']['min_abs_diff']),\n",
    "                    'std_abs_diff': float(result['price_analysis']['std_abs_diff']),\n",
    "                    'mean_rel_diff': float(result['price_analysis']['mean_rel_diff']),\n",
    "                    'max_rel_diff': float(result['price_analysis']['max_rel_diff']),\n",
    "                    'min_rel_diff': float(result['price_analysis']['min_rel_diff']),\n",
    "                    'std_rel_diff': float(result['price_analysis']['std_rel_diff']),\n",
    "                    'direction_accuracy': float(result['price_analysis']['direction_accuracy']),\n",
    "                    'rmse': float(result['price_analysis']['rmse']),\n",
    "                    'mae': float(result['price_analysis']['mae']),\n",
    "                    'mape': float(result['price_analysis']['mape'])\n",
    "                }\n",
    "            }\n",
    "            json_results.append(json_result)\n",
    "        return json_results\n",
    "    \n",
    "    # Save comprehensive results\n",
    "    comprehensive_results = {\n",
    "        'enhanced_model_results': {\n",
    "            'model_id': base_model_id,\n",
    "            'adapter_path': 'tahamajs/my-awesome-model_final_bitcoin-enhanced-prediction-dataset-with-local-comprehensive-news-v2/checkpoint-400',\n",
    "            'dataset': 'bitcoin-enhanced-prediction-dataset-with-local-comprehensive-news',\n",
    "            'samples_analyzed': len(enhanced_results_matched),\n",
    "            'price_difference_metrics': {\n",
    "                'mean_abs_diff': float(np.mean(enhanced_abs_diffs)),\n",
    "                'median_abs_diff': float(np.median(enhanced_abs_diffs)),\n",
    "                'mean_rel_diff': float(np.mean(enhanced_rel_diffs)),\n",
    "                'median_rel_diff': float(np.median(enhanced_rel_diffs)),\n",
    "                'mean_direction_accuracy': float(np.mean(enhanced_direction_acc)),\n",
    "                'mean_rmse': float(np.mean(enhanced_rmse)),\n",
    "                'mean_mae': float(np.mean(enhanced_mae)),\n",
    "                'mean_mape': float(np.mean(enhanced_mape))\n",
    "            }\n",
    "        },\n",
    "        'base_model_results': {\n",
    "            'model_id': 'Qwen/Qwen2.5-8B-Instruct',\n",
    "            'samples_analyzed': len(base_results),\n",
    "            'price_difference_metrics': {\n",
    "                'mean_abs_diff': float(np.mean(base_abs_diffs)),\n",
    "                'median_abs_diff': float(np.median(base_abs_diffs)),\n",
    "                'mean_rel_diff': float(np.mean(base_rel_diffs)),\n",
    "                'median_rel_diff': float(np.median(base_rel_diffs)),\n",
    "                'mean_direction_accuracy': float(np.mean(base_direction_acc)),\n",
    "                'mean_rmse': float(np.mean(base_rmse)),\n",
    "                'mean_mae': float(np.mean(base_mae)),\n",
    "                'mean_mape': float(np.mean(base_mape))\n",
    "            }\n",
    "        },\n",
    "        'detailed_enhanced_results': make_json_serializable(enhanced_results_matched),\n",
    "        'detailed_base_results': make_json_serializable(base_results)\n",
    "    }\n",
    "    \n",
    "    with open('enhanced_model_comprehensive_analysis.json', 'w') as f:\n",
    "        json.dump(comprehensive_results, f, indent=2)\n",
    "    \n",
    "    print(f\"\\n💾 Comprehensive analysis results saved to 'enhanced_model_comprehensive_analysis.json'\")\n",
    "    \n",
    "    # Research paper summary\n",
    "    print(f\"\\n📋 RESEARCH PAPER SUMMARY - ENHANCED MODEL:\")\n",
    "    print(\"=\" * 60)\n",
    "    abs_diff_improvement = (np.mean(base_abs_diffs) - np.mean(enhanced_abs_diffs)) / np.mean(base_abs_diffs) * 100\n",
    "    direction_improvement = (np.mean(enhanced_direction_acc) - np.mean(base_direction_acc)) / np.mean(base_direction_acc) * 100\n",
    "    mae_improvement = (np.mean(base_mae) - np.mean(enhanced_mae)) / np.mean(base_mae) * 100\n",
    "    \n",
    "    print(f\"Enhanced Model Performance:\")\n",
    "    print(f\"• Price prediction accuracy improved by {abs_diff_improvement:.2f}% (absolute differences)\")\n",
    "    print(f\"• Direction prediction accuracy improved by {direction_improvement:.2f}%\")\n",
    "    print(f\"• Overall MAE improved by {mae_improvement:.2f}%\")\n",
    "    print(f\"• Mean absolute price difference: ${np.mean(enhanced_abs_diffs):.2f}\")\n",
    "    print(f\"• Direction accuracy: {np.mean(enhanced_direction_acc):.1f}%\")\n",
    "\n",
    "else:\n",
    "    print(\"❌ Cannot perform comprehensive comparison - insufficient data\")"
   ]
  },
  {
   "cell_type": "markdown",
   "id": "420b04df",
   "metadata": {
    "papermill": {
     "duration": 0.017415,
     "end_time": "2025-09-12T00:59:16.203961",
     "exception": false,
     "start_time": "2025-09-12T00:59:16.186546",
     "status": "completed"
    },
    "tags": []
   },
   "source": [
    "## Final Comparison Visualization"
   ]
  },
  {
   "cell_type": "code",
   "execution_count": 11,
   "id": "b67b0193",
   "metadata": {
    "execution": {
     "iopub.execute_input": "2025-09-12T00:59:16.241452Z",
     "iopub.status.busy": "2025-09-12T00:59:16.240956Z",
     "iopub.status.idle": "2025-09-12T00:59:18.468548Z",
     "shell.execute_reply": "2025-09-12T00:59:18.467542Z"
    },
    "papermill": {
     "duration": 2.249329,
     "end_time": "2025-09-12T00:59:18.471164",
     "exception": false,
     "start_time": "2025-09-12T00:59:16.221835",
     "status": "completed"
    },
    "tags": []
   },
   "outputs": [
    {
     "name": "stderr",
     "output_type": "stream",
     "text": [
      "/tmp/ipykernel_787134/3855951414.py:16: MatplotlibDeprecationWarning: The 'labels' parameter of boxplot() has been renamed 'tick_labels' since Matplotlib 3.9; support for the old name will be dropped in 3.11.\n",
      "  axes[0,1].boxplot([base_direction_acc, enhanced_direction_acc],\n",
      "/tmp/ipykernel_787134/3855951414.py:23: MatplotlibDeprecationWarning: The 'labels' parameter of boxplot() has been renamed 'tick_labels' since Matplotlib 3.9; support for the old name will be dropped in 3.11.\n",
      "  axes[1,0].boxplot([base_mae, enhanced_mae],\n"
     ]
    },
    {
     "name": "stderr",
     "output_type": "stream",
     "text": [
      "/tmp/ipykernel_787134/3855951414.py:33: RuntimeWarning: invalid value encountered in scalar divide\n",
      "  (np.mean(enhanced_direction_acc) - np.mean(base_direction_acc)) / np.mean(base_direction_acc) * 100,\n"
     ]
    },
    {
     "data": {
      "image/png": "[encoded data removed]",
      "text/plain": [
       "<Figure size 1600x1200 with 4 Axes>"
      ]
     },
     "metadata": {},
     "output_type": "display_data"
    },
    {
     "name": "stdout",
     "output_type": "stream",
     "text": [
      "📊 Model comparison visualization saved as 'enhanced_vs_base_model_comparison.png'\n"
     ]
    }
   ],
   "source": [
    "if base_results and results:\n",
    "    # Create side-by-side comparison plots\n",
    "    fig, axes = plt.subplots(2, 2, figsize=(16, 12))\n",
    "    fig.suptitle('Enhanced vs Base Model: Price Difference Comparison', fontsize=16, fontweight='bold')\n",
    "    \n",
    "    # Absolute differences comparison\n",
    "    axes[0,0].hist([base_abs_diffs, enhanced_abs_diffs], bins=30, alpha=0.7, \n",
    "                   label=['Base Qwen', 'Enhanced Model'], color=['red', 'blue'])\n",
    "    axes[0,0].set_title('Absolute Price Differences Distribution', fontweight='bold')\n",
    "    axes[0,0].set_xlabel('Absolute Difference ($)')\n",
    "    axes[0,0].set_ylabel('Frequency')\n",
    "    axes[0,0].legend()\n",
    "    axes[0,0].grid(True, alpha=0.3)\n",
    "    \n",
    "    # Direction accuracy comparison\n",
    "    axes[0,1].boxplot([base_direction_acc, enhanced_direction_acc], \n",
    "                      labels=['Base Qwen', 'Enhanced Model'])\n",
    "    axes[0,1].set_title('Direction Accuracy Comparison', fontweight='bold')\n",
    "    axes[0,1].set_ylabel('Direction Accuracy (%)')\n",
    "    axes[0,1].grid(True, alpha=0.3)\n",
    "    \n",
    "    # MAE comparison\n",
    "    axes[1,0].boxplot([base_mae, enhanced_mae], \n",
    "                      labels=['Base Qwen', 'Enhanced Model'])\n",
    "    axes[1,0].set_title('Mean Absolute Error Comparison', fontweight='bold')\n",
    "    axes[1,0].set_ylabel('MAE')\n",
    "    axes[1,0].grid(True, alpha=0.3)\n",
    "    \n",
    "    # Improvement metrics bar chart\n",
    "    metrics = ['Abs Diff', 'Direction Acc', 'MAE', 'MAPE']\n",
    "    improvements = [\n",
    "        (np.mean(base_abs_diffs) - np.mean(enhanced_abs_diffs)) / np.mean(base_abs_diffs) * 100,\n",
    "        (np.mean(enhanced_direction_acc) - np.mean(base_direction_acc)) / np.mean(base_direction_acc) * 100,\n",
    "        (np.mean(base_mae) - np.mean(enhanced_mae)) / np.mean(base_mae) * 100,\n",
    "        (np.mean(base_mape) - np.mean(enhanced_mape)) / np.mean(base_mape) * 100\n",
    "    ]\n",
    "    \n",
    "    colors = ['green' if imp > 0 else 'red' for imp in improvements]\n",
    "    bars = axes[1,1].bar(metrics, improvements, color=colors, alpha=0.7)\n",
    "    \n",
    "    # Add value labels on bars\n",
    "    for bar, imp in zip(bars, improvements):\n",
    "        height = bar.get_height()\n",
    "        axes[1,1].text(bar.get_x() + bar.get_width()/2., height,\n",
    "                       f'{imp:.1f}%', ha='center', va='bottom' if height > 0 else 'top',\n",
    "                       fontweight='bold')\n",
    "    \n",
    "    axes[1,1].set_title('Performance Improvements', fontweight='bold')\n",
    "    axes[1,1].set_ylabel('Improvement (%)')\n",
    "    axes[1,1].axhline(y=0, color='black', linestyle='-', alpha=0.3)\n",
    "    axes[1,1].grid(True, alpha=0.3)\n",
    "    \n",
    "    plt.tight_layout()\n",
    "    plt.savefig('enhanced_vs_base_model_comparison.png', dpi=300, bbox_inches='tight')\n",
    "    plt.show()\n",
    "    \n",
    "    print(\"📊 Model comparison visualization saved as 'enhanced_vs_base_model_comparison.png'\")\n",
    "\n",
    "else:\n",
    "    print(\"❌ Cannot create comparison visualizations - insufficient data\")"
   ]
  }
 ],
 "metadata": {
  "language_info": {
   "codemirror_mode": {
    "name": "ipython",
    "version": 3
   },
   "file_extension": ".py",
   "mimetype": "text/x-python",
   "name": "python",
   "nbconvert_exporter": "python",
   "pygments_lexer": "ipython3",
   "version": "3.10.12"
  },
  "papermill": {
   "default_parameters": {},
   "duration": 3574.001323,
   "end_time": "2025-09-12T00:59:20.864973",
   "environment_variables": {},
   "exception": null,
   "input_path": "bitcoin_enhanced_model_evaluation_with_price_analysis.ipynb",
   "output_path": "out_bitcoin_enhanced_model_evaluation_with_price_analysis.ipynb",
   "parameters": {},
   "start_time": "2025-09-11T23:59:46.863650",
   "version": "2.6.0"
  },
  "widgets": {
   "application/vnd.jupyter.widget-state+json": {
    "state": {
     "01b531d1852c488fa80f3ab5cbb8076b": {
      "model_module": "@jupyter-widgets/base",
      "model_module_version": "2.0.0",
      "model_name": "LayoutModel",
      "state": {
       "_model_module": "@jupyter-widgets/base",
       "_model_module_version": "2.0.0",
       "_model_name": "LayoutModel",
       "_view_count": null,
       "_view_module": "@jupyter-widgets/base",
       "_view_module_version": "2.0.0",
       "_view_name": "LayoutView",
       "align_content": null,
       "align_items": null,
       "align_self": null,
       "border_bottom": null,
       "border_left": null,
       "border_right": null,
       "border_top": null,
       "bottom": null,
       "display": null,
       "flex": null,
       "flex_flow": null,
       "grid_area": null,
       "grid_auto_columns": null,
       "grid_auto_flow": null,
       "grid_auto_rows": null,
       "grid_column": null,
       "grid_gap": null,
       "grid_row": null,
       "grid_template_areas": null,
       "grid_template_columns": null,
       "grid_template_rows": null,
       "height": null,
       "justify_content": null,
       "justify_items": null,
       "left": null,
       "margin": null,
       "max_height": null,
       "max_width": null,
       "min_height": null,
       "min_width": null,
       "object_fit": null,
       "object_position": null,
       "order": null,
       "overflow": null,
       "padding": null,
       "right": null,
       "top": null,
       "visibility": null,
       "width": null
      }
     },
     "4927fc21c1e24270b4f18f4d392c011c": {
      "model_module": "@jupyter-widgets/base",
      "model_module_version": "2.0.0",
      "model_name": "LayoutModel",
      "state": {
       "_model_module": "@jupyter-widgets/base",
       "_model_module_version": "2.0.0",
       "_model_name": "LayoutModel",
       "_view_count": null,
       "_view_module": "@jupyter-widgets/base",
       "_view_module_version": "2.0.0",
       "_view_name": "LayoutView",
       "align_content": null,
       "align_items": null,
       "align_self": null,
       "border_bottom": null,
       "border_left": null,
       "border_right": null,
       "border_top": null,
       "bottom": null,
       "display": null,
       "flex": null,
       "flex_flow": null,
       "grid_area": null,
       "grid_auto_columns": null,
       "grid_auto_flow": null,
       "grid_auto_rows": null,
       "grid_column": null,
       "grid_gap": null,
       "grid_row": null,
       "grid_template_areas": null,
       "grid_template_columns": null,
       "grid_template_rows": null,
       "height": null,
       "justify_content": null,
       "justify_items": null,
       "left": null,
       "margin": null,
       "max_height": null,
       "max_width": null,
       "min_height": null,
       "min_width": null,
       "object_fit": null,
       "object_position": null,
       "order": null,
       "overflow": null,
       "padding": null,
       "right": null,
       "top": null,
       "visibility": null,
       "width": null
      }
     },
     "63dacc63c5c14276b707745b6a9a1038": {
      "model_module": "@jupyter-widgets/controls",
      "model_module_version": "2.0.0",
      "model_name": "ProgressStyleModel",
      "state": {
       "_model_module": "@jupyter-widgets/controls",
       "_model_module_version": "2.0.0",
       "_model_name": "ProgressStyleModel",
       "_view_count": null,
       "_view_module": "@jupyter-widgets/base",
       "_view_module_version": "2.0.0",
       "_view_name": "StyleView",
       "bar_color": null,
       "description_width": ""
      }
     },
     "77287034adb846fcb4d7a6dcefc656d8": {
      "model_module": "@jupyter-widgets/controls",
      "model_module_version": "2.0.0",
      "model_name": "HTMLStyleModel",
      "state": {
       "_model_module": "@jupyter-widgets/controls",
       "_model_module_version": "2.0.0",
       "_model_name": "HTMLStyleModel",
       "_view_count": null,
       "_view_module": "@jupyter-widgets/base",
       "_view_module_version": "2.0.0",
       "_view_name": "StyleView",
       "background": null,
       "description_width": "",
       "font_size": null,
       "text_color": null
      }
     },
     "7e125a63ec0248638acf000945b25d55": {
      "model_module": "@jupyter-widgets/controls",
      "model_module_version": "2.0.0",
      "model_name": "HTMLStyleModel",
      "state": {
       "_model_module": "@jupyter-widgets/controls",
       "_model_module_version": "2.0.0",
       "_model_name": "HTMLStyleModel",
       "_view_count": null,
       "_view_module": "@jupyter-widgets/base",
       "_view_module_version": "2.0.0",
       "_view_name": "StyleView",
       "background": null,
       "description_width": "",
       "font_size": null,
       "text_color": null
      }
     },
     "8974e24a32494766ab415d9f994e6a67": {
      "model_module": "@jupyter-widgets/controls",
      "model_module_version": "2.0.0",
      "model_name": "FloatProgressModel",
      "state": {
       "_dom_classes": [],
       "_model_module": "@jupyter-widgets/controls",
       "_model_module_version": "2.0.0",
       "_model_name": "FloatProgressModel",
       "_view_count": null,
       "_view_module": "@jupyter-widgets/controls",
       "_view_module_version": "2.0.0",
       "_view_name": "ProgressView",
       "bar_style": "success",
       "description": "",
       "description_allow_html": false,
       "layout": "IPY_MODEL_d7131f88be7b477cb5fb2b1a0bbf8431",
       "max": 5.0,
       "min": 0.0,
       "orientation": "horizontal",
       "style": "IPY_MODEL_63dacc63c5c14276b707745b6a9a1038",
       "tabbable": null,
       "tooltip": null,
       "value": 5.0
      }
     },
     "8d5a8aebe0e54767b87fd71952e5fc03": {
      "model_module": "@jupyter-widgets/controls",
      "model_module_version": "2.0.0",
      "model_name": "HTMLModel",
      "state": {
       "_dom_classes": [],
       "_model_module": "@jupyter-widgets/controls",
       "_model_module_version": "2.0.0",
       "_model_name": "HTMLModel",
       "_view_count": null,
       "_view_module": "@jupyter-widgets/controls",
       "_view_module_version": "2.0.0",
       "_view_name": "HTMLView",
       "description": "",
       "description_allow_html": false,
       "layout": "IPY_MODEL_01b531d1852c488fa80f3ab5cbb8076b",
       "placeholder": "​",
       "style": "IPY_MODEL_7e125a63ec0248638acf000945b25d55",
       "tabbable": null,
       "tooltip": null,
       "value": " 5/5 [00:05&lt;00:00,  1.13it/s]"
      }
     },
     "9418a0f8de6d44ffbaa2a934517c10ef": {
      "model_module": "@jupyter-widgets/base",
      "model_module_version": "2.0.0",
      "model_name": "LayoutModel",
      "state": {
       "_model_module": "@jupyter-widgets/base",
       "_model_module_version": "2.0.0",
       "_model_name": "LayoutModel",
       "_view_count": null,
       "_view_module": "@jupyter-widgets/base",
       "_view_module_version": "2.0.0",
       "_view_name": "LayoutView",
       "align_content": null,
       "align_items": null,
       "align_self": null,
       "border_bottom": null,
       "border_left": null,
       "border_right": null,
       "border_top": null,
       "bottom": null,
       "display": null,
       "flex": null,
       "flex_flow": null,
       "grid_area": null,
       "grid_auto_columns": null,
       "grid_auto_flow": null,
       "grid_auto_rows": null,
       "grid_column": null,
       "grid_gap": null,
       "grid_row": null,
       "grid_template_areas": null,
       "grid_template_columns": null,
       "grid_template_rows": null,
       "height": null,
       "justify_content": null,
       "justify_items": null,
       "left": null,
       "margin": null,
       "max_height": null,
       "max_width": null,
       "min_height": null,
       "min_width": null,
       "object_fit": null,
       "object_position": null,
       "order": null,
       "overflow": null,
       "padding": null,
       "right": null,
       "top": null,
       "visibility": null,
       "width": null
      }
     },
     "be3fa2ac2fc247f79793bce472f678ff": {
      "model_module": "@jupyter-widgets/controls",
      "model_module_version": "2.0.0",
      "model_name": "HTMLModel",
      "state": {
       "_dom_classes": [],
       "_model_module": "@jupyter-widgets/controls",
       "_model_module_version": "2.0.0",
       "_model_name": "HTMLModel",
       "_view_count": null,
       "_view_module": "@jupyter-widgets/controls",
       "_view_module_version": "2.0.0",
       "_view_name": "HTMLView",
       "description": "",
       "description_allow_html": false,
       "layout": "IPY_MODEL_4927fc21c1e24270b4f18f4d392c011c",
       "placeholder": "​",
       "style": "IPY_MODEL_77287034adb846fcb4d7a6dcefc656d8",
       "tabbable": null,
       "tooltip": null,
       "value": "Loading checkpoint shards: 100%"
      }
     },
     "c86734c54cbc49cf8caef1f2fb5aefec": {
      "model_module": "@jupyter-widgets/controls",
      "model_module_version": "2.0.0",
      "model_name": "HBoxModel",
      "state": {
       "_dom_classes": [],
       "_model_module": "@jupyter-widgets/controls",
       "_model_module_version": "2.0.0",
       "_model_name": "HBoxModel",
       "_view_count": null,
       "_view_module": "@jupyter-widgets/controls",
       "_view_module_version": "2.0.0",
       "_view_name": "HBoxView",
       "box_style": "",
       "children": [
        "IPY_MODEL_be3fa2ac2fc247f79793bce472f678ff",
        "IPY_MODEL_8974e24a32494766ab415d9f994e6a67",
        "IPY_MODEL_8d5a8aebe0e54767b87fd71952e5fc03"
       ],
       "layout": "IPY_MODEL_9418a0f8de6d44ffbaa2a934517c10ef",
       "tabbable": null,
       "tooltip": null
      }
     },
     "d7131f88be7b477cb5fb2b1a0bbf8431": {
      "model_module": "@jupyter-widgets/base",
      "model_module_version": "2.0.0",
      "model_name": "LayoutModel",
      "state": {
       "_model_module": "@jupyter-widgets/base",
       "_model_module_version": "2.0.0",
       "_model_name": "LayoutModel",
       "_view_count": null,
       "_view_module": "@jupyter-widgets/base",
       "_view_module_version": "2.0.0",
       "_view_name": "LayoutView",
       "align_content": null,
       "align_items": null,
       "align_self": null,
       "border_bottom": null,
       "border_left": null,
       "border_right": null,
       "border_top": null,
       "bottom": null,
       "display": null,
       "flex": null,
       "flex_flow": null,
       "grid_area": null,
       "grid_auto_columns": null,
       "grid_auto_flow": null,
       "grid_auto_rows": null,
       "grid_column": null,
       "grid_gap": null,
       "grid_row": null,
       "grid_template_areas": null,
       "grid_template_columns": null,
       "grid_template_rows": null,
       "height": null,
       "justify_content": null,
       "justify_items": null,
       "left": null,
       "margin": null,
       "max_height": null,
       "max_width": null,
       "min_height": null,
       "min_width": null,
       "object_fit": null,
       "object_position": null,
       "order": null,
       "overflow": null,
       "padding": null,
       "right": null,
       "top": null,
       "visibility": null,
       "width": null
      }
     }
    },
    "version_major": 2,
    "version_minor": 0
   }
  }
 },
 "nbformat": 4,
 "nbformat_minor": 5
}